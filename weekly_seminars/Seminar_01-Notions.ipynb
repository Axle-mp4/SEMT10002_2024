{
 "cells": [
  {
   "cell_type": "markdown",
   "metadata": {},
   "source": [
    "# Computer programming concepts\n",
    "\n",
    "_This will be brand new to some, old hat to others - but always good to remind and reflect_"
   ]
  },
  {
   "cell_type": "markdown",
   "metadata": {},
   "source": [
    "## What does a computer _really_ do?\n",
    "\n",
    "Manipulates numbers and moves them around!\n",
    "\n",
    "- From input (keyboard, mouse, files, sensors, network,...)\n",
    "- To and from its own memory (binary encoded and located by address)\n",
    "- Add together, difference, multiply, divide, check, ...\n",
    "- To output (screen, files, actuators, network,...)\n",
    "\n",
    "All under the control of a _program_\n",
    "\n",
    "1. Load A from 0xFE62\n",
    "2. Subtract 16 from A\n",
    "3. Skip ahead to step 7 if A negative\n",
    "4. ... \n",
    "\n"
   ]
  },
  {
   "cell_type": "markdown",
   "metadata": {},
   "source": [
    "## Programming languages\n",
    "\n",
    "Writing raw instructions (\"machine code\") is painful, so we write in a higher-level programming language, and let the _interpreter_ or _compiler_ turn our writing into machine code automatically.\n",
    "\n",
    "> We'll be using an interpreter which translates and executes when we hit \"go\".  Some languages require you to do two steps, first compile to a file of machine code, then run that _executable_ file.  The pros and cons of each are for another day.\n",
    "\n",
    "Countless languages are available, suited to different priorities and environments.  Hands up if you've used...\n",
    "- Python\n",
    "- C\n",
    "- C++\n",
    "- Scratch\n",
    "- BASIC\n",
    "- Go\n",
    "- Rust\n",
    "- Pascal\n",
    "\n",
    "We'll be using *Python* because its free, easy to learn (we think) and portable i.e. you can use it on lots of different computers."
   ]
  },
  {
   "cell_type": "markdown",
   "metadata": {},
   "source": [
    "## First Python example\n",
    "\n",
    "Below is a simple three-line Python program.  Afterwards, we'll take it apart in detail."
   ]
  },
  {
   "cell_type": "code",
   "execution_count": 2,
   "metadata": {},
   "outputs": [
    {
     "name": "stdout",
     "output_type": "stream",
     "text": [
      "8\n"
     ]
    }
   ],
   "source": [
    "number_of_robots = 4\n",
    "number_of_arms = 2*number_of_robots\n",
    "print(number_of_arms)"
   ]
  },
  {
   "cell_type": "markdown",
   "metadata": {},
   "source": [
    "Each of the three lines is a _statement_.  In this case, the interpreter works from top to bottom, as you'd expect.  The first line is an _assignment_ statement:\n",
    "\n",
    "```python\n",
    "number_of_robots = 4\n",
    "``` \n",
    "\n",
    "This creates a new _variable_ called `number_of_robots` and assigns it the value 4.\n",
    "\n",
    "> Variables are like labels for locations in the computer memory, to save us remembering what's been stored where.  You can think of it as a label on a box, and here we have put the number 4 in that box.\n",
    "\n",
    "The second line is also an assignment statement\n",
    "\n",
    "```python\n",
    "number_of_arms = 2*number_of_robots\n",
    "```\n",
    "\n",
    "It creates another new variable `number_of_arms` and gives it a value, but this time the right hand side is an _expression_, i.e. something that the computer can calculate given a formula involving constants (`2`), operators (`*` for multiplication) and existing variables (`number_of_robots` from line 1).\n",
    "\n",
    "The final line uses the built-in `print` function to display a value to the screen.\n",
    "\n",
    "```python\n",
    "print(number_of_arms)\n",
    "```\n",
    "\n",
    "In this case, it just prints the value of the variable `number_of_arms` but you could put a more complicated expression in there if you wanted to.\n",
    "\n",
    "> Little bit of computing history: there were printers before there were display screens.  Most languages still use `print` as the keyword for displaying results, even though they're rarely physically printed."
   ]
  },
  {
   "cell_type": "markdown",
   "metadata": {},
   "source": [
    "## A little more\n",
    "\n",
    "Just to look a little further ahead, here are some more complicated examples showing different types of things we can do...  Don't worry about the syntax as we'll come to that, but \n",
    "\n",
    "First, something with real numbers, using built-in function `pi` from the `math` library and a more complicated expression using a power operator (`**`):"
   ]
  },
  {
   "cell_type": "code",
   "execution_count": 5,
   "metadata": {},
   "outputs": [
    {
     "name": "stdout",
     "output_type": "stream",
     "text": [
      "248.84555409084754\n"
     ]
    }
   ],
   "source": [
    "radius_of_circle = 8.9\n",
    "from math import pi\n",
    "area_of_circle = pi*radius_of_circle**2\n",
    "print(area_of_circle)"
   ]
  },
  {
   "cell_type": "markdown",
   "metadata": {},
   "source": [
    "And a little something with text in a variable:"
   ]
  },
  {
   "cell_type": "code",
   "execution_count": 9,
   "metadata": {},
   "outputs": [
    {
     "name": "stdout",
     "output_type": "stream",
     "text": [
      "lamp post\n"
     ]
    }
   ],
   "source": [
    "detected_item = 'lamp post'\n",
    "print(detected_item)"
   ]
  },
  {
   "cell_type": "markdown",
   "metadata": {},
   "source": [
    "### Side note: types\n",
    "\n",
    "As you've just seen, Python can support a variety of types of variable, and figures out the encoding automatically, based on the values involved.  Compared to some languages that are really fussy about defining types (e.g. C) this saves you a lot of work... but can bite you as well.  Sometimes Python can let you get away with stuff that you might rather have stopped.  Consider the following silly example:"
   ]
  },
  {
   "cell_type": "code",
   "execution_count": 10,
   "metadata": {},
   "outputs": [
    {
     "name": "stdout",
     "output_type": "stream",
     "text": [
      "lamp postlamp postlamp post\n"
     ]
    }
   ],
   "source": [
    "print(3*detected_item)"
   ]
  },
  {
   "cell_type": "markdown",
   "metadata": {},
   "source": [
    "and now this one, which tests if you get two when you multiply the square root of two by the square root of two..."
   ]
  },
  {
   "cell_type": "code",
   "execution_count": 11,
   "metadata": {},
   "outputs": [
    {
     "name": "stdout",
     "output_type": "stream",
     "text": [
      "False\n"
     ]
    }
   ],
   "source": [
    "from math import sqrt\n",
    "print(sqrt(2)*sqrt(2)==2)"
   ]
  },
  {
   "cell_type": "markdown",
   "metadata": {},
   "source": [
    "Just remember that everything in a variable is encoded, might lose something in that encoding, and might not be what you expect."
   ]
  },
  {
   "cell_type": "markdown",
   "metadata": {},
   "source": [
    "## That's all folks...?\n",
    "\n",
    "Not quite, obviously, but these are the building blocks on which everything else is built:\n",
    "- *Variables* that represent quantities we calculate and store for future use.  They are like labels for where values are kept in the computer memory.\n",
    "- *Expressions* that are formulas for numbers based on constants, functions and variables.  We have seen them either stored or printed, and we can do more with them.\n",
    "- *Statements* that instruct the computer to do things, like store expression results in memory or print them.  Again, we'll see more of these soon, including those that make the programs jump around instead of just doing one line after the next."
   ]
  },
  {
   "cell_type": "markdown",
   "metadata": {},
   "source": [
    "## What can possibly go wrong?\n",
    "\n",
    "All of us who program will, at some point, develop the feeling of an intelligent being somewhere in the computer, actively trying to prevent us from achieving our goal.  Of course, the opposite is true: there is no sentience inside, and the computer shares none of our rich experience and knows only the instructions it is given.  It cannot fill in the gaps or spot the real intent behind the sketchy code.  In American terms, _Garbage In, Garbage Out (GIGO)_.  If you don't get the code spot-on, your program will go wrong, typically in one of three ways.\n",
    "\n",
    "First is a _syntax error_, where we basically get the language wrong.  The interpreter will be unable to understand us, and will tell us so.  These are generally easy to find and many editors will flag them before you've even run it.  For example, what if we get a name wrong...?"
   ]
  },
  {
   "cell_type": "code",
   "execution_count": 13,
   "metadata": {},
   "outputs": [
    {
     "ename": "NameError",
     "evalue": "name 'number_of_wombats' is not defined",
     "output_type": "error",
     "traceback": [
      "\u001b[1;31m---------------------------------------------------------------------------\u001b[0m",
      "\u001b[1;31mNameError\u001b[0m                                 Traceback (most recent call last)",
      "Cell \u001b[1;32mIn[13], line 2\u001b[0m\n\u001b[0;32m      1\u001b[0m number_of_robots \u001b[38;5;241m=\u001b[39m \u001b[38;5;241m4\u001b[39m\n\u001b[1;32m----> 2\u001b[0m \u001b[38;5;28mprint\u001b[39m(\u001b[43mnumber_of_wombats\u001b[49m)\n",
      "\u001b[1;31mNameError\u001b[0m: name 'number_of_wombats' is not defined"
     ]
    }
   ],
   "source": [
    "number_of_robots = 4\n",
    "print(number_of_wombats)"
   ]
  },
  {
   "cell_type": "markdown",
   "metadata": {},
   "source": [
    "Next is a _runtime error_ where the language is correct but there's something impossible about the calculation.  Here's an example where we ask to divide by zero: "
   ]
  },
  {
   "cell_type": "code",
   "execution_count": 14,
   "metadata": {},
   "outputs": [
    {
     "ename": "ZeroDivisionError",
     "evalue": "division by zero",
     "output_type": "error",
     "traceback": [
      "\u001b[1;31m---------------------------------------------------------------------------\u001b[0m",
      "\u001b[1;31mZeroDivisionError\u001b[0m                         Traceback (most recent call last)",
      "Cell \u001b[1;32mIn[14], line 3\u001b[0m\n\u001b[0;32m      1\u001b[0m number_of_moose \u001b[38;5;241m=\u001b[39m \u001b[38;5;241m0\u001b[39m\n\u001b[0;32m      2\u001b[0m number_of_students \u001b[38;5;241m=\u001b[39m \u001b[38;5;241m63\u001b[39m\n\u001b[1;32m----> 3\u001b[0m students_per_moose \u001b[38;5;241m=\u001b[39m \u001b[43mnumber_of_students\u001b[49m\u001b[38;5;241;43m/\u001b[39;49m\u001b[43mnumber_of_moose\u001b[49m\n",
      "\u001b[1;31mZeroDivisionError\u001b[0m: division by zero"
     ]
    }
   ],
   "source": [
    "number_of_moose = 0\n",
    "number_of_students = 63\n",
    "students_per_moose = number_of_students/number_of_moose"
   ]
  },
  {
   "cell_type": "markdown",
   "metadata": {},
   "source": [
    "Another example where we have unexpected data from some imaginary outside source: "
   ]
  },
  {
   "cell_type": "code",
   "execution_count": 15,
   "metadata": {},
   "outputs": [
    {
     "ename": "TypeError",
     "evalue": "can only concatenate str (not \"int\") to str",
     "output_type": "error",
     "traceback": [
      "\u001b[1;31m---------------------------------------------------------------------------\u001b[0m",
      "\u001b[1;31mTypeError\u001b[0m                                 Traceback (most recent call last)",
      "Cell \u001b[1;32mIn[15], line 2\u001b[0m\n\u001b[0;32m      1\u001b[0m value_you_typed \u001b[38;5;241m=\u001b[39m \u001b[38;5;124m'\u001b[39m\u001b[38;5;124maardvark\u001b[39m\u001b[38;5;124m'\u001b[39m\n\u001b[1;32m----> 2\u001b[0m \u001b[38;5;28mprint\u001b[39m(\u001b[43mvalue_you_typed\u001b[49m\u001b[38;5;241;43m+\u001b[39;49m\u001b[38;5;241;43m3\u001b[39;49m)\n",
      "\u001b[1;31mTypeError\u001b[0m: can only concatenate str (not \"int\") to str"
     ]
    }
   ],
   "source": [
    "value_you_typed = 'aardvark'\n",
    "print(value_you_typed+3)"
   ]
  },
  {
   "cell_type": "markdown",
   "metadata": {},
   "source": [
    "Such errors are harder to find as they may only occur under certain conditions.  Anticipating weird cases is part of the art of programming... and if you're reading data in from outside, part of your job is to validate it before running with it.\n",
    "\n",
    "> In August 2023, flights all across the UK were delayed because of an unexpected combination of waypoints in a flightplan submitted by an airline https://www.caa.co.uk/our-work/publications/documents/content/cap2981/\n",
    "\n",
    "And then there's a third error, which is simpler by far, yet more insidious.  Your program might just be plain wrong, but still run without error."
   ]
  },
  {
   "cell_type": "code",
   "execution_count": 18,
   "metadata": {},
   "outputs": [
    {
     "name": "stdout",
     "output_type": "stream",
     "text": [
      "-14.222222222222221\n"
     ]
    }
   ],
   "source": [
    "temp_in_fahrenheit = 32\n",
    "temp_in_celsius = 5/9*temp_in_fahrenheit-32\n",
    "print(temp_in_celsius)"
   ]
  },
  {
   "cell_type": "markdown",
   "metadata": {},
   "source": [
    "Eh? 32 is freezing point in Fahrenheit, so why is this not zero?  The formula looks right...\n",
    "\n",
    "> In 1999, this kind of error caused the loss on (or near) Mars of a $300M spacecraft https://en.wikipedia.org/wiki/Mars_Climate_Orbiter "
   ]
  },
  {
   "cell_type": "markdown",
   "metadata": {},
   "source": [
    "## The art of programming\n",
    "\n",
    "As your needs and your programs become more complex, your success will depend as much on your _approach_ to programming as on how well you know the language.  Break your problem down into testable steps.  Don't expect to be right first time: invariably, you will proceed by adding, testing, fixing, and refining.  Cut the right corners: maybe your first stab at a program does it the slow way, but at least sets you up for polishing once you understand it better.\n",
    "\n",
    "Place some value on _style_ and _clarity_.  You never get to sit down and do one job start to finish, so these will be vital when you need to come back into a program after a while away.  And a consistent style helps to narrow down the almost infinite design choices you make in any program.\n",
    "\n",
    "Learn more:\n",
    "- https://en.wikipedia.org/wiki/The_Elements_of_Programming_Style\n",
    "- https://peps.python.org/pep-0008/ "
   ]
  }
 ],
 "metadata": {
  "kernelspec": {
   "display_name": "Python 3",
   "language": "python",
   "name": "python3"
  },
  "language_info": {
   "codemirror_mode": {
    "name": "ipython",
    "version": 3
   },
   "file_extension": ".py",
   "mimetype": "text/x-python",
   "name": "python",
   "nbconvert_exporter": "python",
   "pygments_lexer": "ipython3",
   "version": "3.10.11"
  }
 },
 "nbformat": 4,
 "nbformat_minor": 2
}
