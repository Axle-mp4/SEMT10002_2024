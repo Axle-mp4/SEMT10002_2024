{
 "cells": [
  {
   "cell_type": "markdown",
   "metadata": {},
   "source": [
    "# Seminar - debugging _etc._\n",
    "\n",
    "Main topic of this seminar is debugging.  I'll give you some robot code that doesn't work, and I'll ask you to find out why.\n",
    "\n",
    "We'll briefly touch on programming in general, and C!"
   ]
  },
  {
   "cell_type": "markdown",
   "metadata": {},
   "source": [
    "## Getting started\n",
    "\n",
    "Either:\n",
    "\n",
    "- Click [this link](https://colab.research.google.com/github/engmaths/SEMT10002_2024/blob/main/weekly_seminars/Seminar_03_Debugging_etc.ipynb) to open this notebook in Google colab.\n",
    "- You will need to download the simulator library using the cell below.\n",
    "\n",
    "or\n",
    "\n",
    "- Download it to your local computer using `git clone https://github.com/engmaths/SEMT10002_2024` or just use `git pull` to refresh if you've done this already.\n",
    "- Navigate to the subfolder `consolidation_exercises/Week_05_robot` and open the notebook `week_05_consolidation_robots.ipynb`."
   ]
  },
  {
   "cell_type": "code",
   "execution_count": 1,
   "metadata": {},
   "outputs": [],
   "source": [
    "import sys\n",
    "if 'google.colab' in sys.modules:\n",
    "    !wget https://raw.githubusercontent.com/engmaths/SEMT10002_2024/refs/heads/main/consolidation_exercises/Week_05_robot/cpa_robot.py"
   ]
  },
  {
   "cell_type": "markdown",
   "metadata": {},
   "source": [
    "## Debugging challenge\n",
    "\n",
    "The code below is aiming to drive to 50,50. i.e. the centre of the circle, by finding the circle, driving to the top of it, and then driving due \"south\".\n",
    "\n",
    "But there are *five* errors in this code.  I'd like you to find and fix them, *without* plotting the robot path.\n",
    "\n",
    "Top tips\n",
    "\n",
    " - Work by adding `print` statements to check on progress through the code.  What's happening inside?  Is it what you expect?  Which bits of code are running when?\n",
    " - Work from top to bottom.  Early problems may give rise to later consequences, so you can fix the second stage without fixing the first."
   ]
  },
  {
   "cell_type": "code",
   "execution_count": 2,
   "metadata": {},
   "outputs": [
    {
     "ename": "NameError",
     "evalue": "name 'SLOW_DIRVE' is not defined",
     "output_type": "error",
     "traceback": [
      "\u001b[1;31m---------------------------------------------------------------------------\u001b[0m",
      "\u001b[1;31mNameError\u001b[0m                                 Traceback (most recent call last)",
      "Cell \u001b[1;32mIn[2], line 9\u001b[0m\n\u001b[0;32m      7\u001b[0m \u001b[38;5;66;03m# step 1 - drive until on line\u001b[39;00m\n\u001b[0;32m      8\u001b[0m \u001b[38;5;28;01mfor\u001b[39;00m _ \u001b[38;5;129;01min\u001b[39;00m \u001b[38;5;28mrange\u001b[39m(\u001b[38;5;241m60\u001b[39m):\n\u001b[1;32m----> 9\u001b[0m     drive(\u001b[38;5;241m1.1\u001b[39m\u001b[38;5;241m*\u001b[39mSLOW_DRIVE,\u001b[43mSLOW_DIRVE\u001b[49m)\n\u001b[0;32m     10\u001b[0m     \u001b[38;5;28;01mif\u001b[39;00m sensor_left():\n\u001b[0;32m     11\u001b[0m         \u001b[38;5;28;01mbreak\u001b[39;00m\n",
      "\u001b[1;31mNameError\u001b[0m: name 'SLOW_DIRVE' is not defined"
     ]
    }
   ],
   "source": [
    "from cpa_robot import position_x, position_y, orientation, drive, reset_robot, sensor_left, sensor_middle\n",
    "from math import pi\n",
    "reset_robot()\n",
    "\n",
    "NORMAL_DRIVE = 1.0\n",
    "SLOW_DRIVE = 0.5\n",
    "# step 1 - drive until on line\n",
    "for _ in range(60):\n",
    "    drive(1.1*SLOW_DRIVE,SLOW_DIRVE)\n",
    "    if sensor_left():\n",
    "        break\n",
    "# step 2 - follow line to x = 50\n",
    "for _ in range(500):\n",
    "    if position_x() <= 50:\n",
    "        break\n",
    "    if sensor_middle:\n",
    "        drive(NORMAL_DRIVE,SLOW_DRIVE)\n",
    "    elif sensor_left()==False:\n",
    "        drive(SLOW_DRIVE,NORMAL_DRIVE)\n",
    "    else:\n",
    "        drive(NORMAL_DRIVE,NORMAL_DRIVE)\n",
    "# step 3 - turn to face due \"down\"\n",
    "for _ in range(50):\n",
    "    TARGET_ANGLE = 5*pi\n",
    "    error = orientation() - TARGET_ANGLE\n",
    "    K = 0.25\n",
    "    drive(-K*error,K*error)\n",
    "# step 4 - drive to y = 50\n",
    "distance = position_y() - 50\n",
    "drive(distance,distance)\n",
    "print('Aiming for 50,50 and got to',position_x(),position_y())"
   ]
  },
  {
   "cell_type": "markdown",
   "metadata": {},
   "source": [
    "## When shortcuts turn against you\n",
    "\n",
    "Python has some features that can make the language elegant, but can also mask problems.  I always advocate that a few extra lines are a tiny price for confidence and clarity."
   ]
  },
  {
   "cell_type": "code",
   "execution_count": 1,
   "metadata": {},
   "outputs": [
    {
     "name": "stdout",
     "output_type": "stream",
     "text": [
      "what the?\n"
     ]
    }
   ],
   "source": [
    "if '???':\n",
    "    print('what the?')"
   ]
  },
  {
   "cell_type": "markdown",
   "metadata": {},
   "source": [
    "##  Parting thought on programming\n",
    "\n",
    "With the exception of _arrays_ (which Python calls _lists_, among other things) we have now covered the basis of all programming... ever.\n",
    "\n",
    "Here's some code in C.  What does it do?  How do you know?  What's different from Python?"
   ]
  },
  {
   "cell_type": "markdown",
   "metadata": {},
   "source": [
    "```C\n",
    "#include <stdio.h>\n",
    "#include <math.h>\n",
    "\n",
    "int main(){\n",
    "    double M = 1.54;\n",
    "    double e = 0.3;\n",
    "    double E;\n",
    "    double newE;\n",
    "\n",
    "    E=M;\n",
    "    int ii;\n",
    "    for (ii=0; ii<100; ii++) {\n",
    "        printf(\"Iteration %d value of E is %lf\\n\",ii,E);\n",
    "        newE = M + e*sin(E);\n",
    "        if (fabs(newE-E)<1e-9) {\n",
    "            printf(\"Converged\\n\");\n",
    "            break;\n",
    "        }\n",
    "        else {\n",
    "            E = newE;\n",
    "        }\n",
    "    }\n",
    "    return(0);\n",
    "}\n",
    "```\n",
    "\n",
    "You can compile and run this code on Colab using the cell below."
   ]
  },
  {
   "cell_type": "code",
   "execution_count": null,
   "metadata": {},
   "outputs": [],
   "source": [
    "import sys\n",
    "if 'google.colab' in sys.modules:\n",
    "    !wget https://raw.githubusercontent.com/engmaths/SEMT10002_2024/refs/heads/main/weekly_seminars/example.c\n",
    "    !gcc -o example example.c -lm\n",
    "    !./example"
   ]
  }
 ],
 "metadata": {
  "kernelspec": {
   "display_name": "Python 3",
   "language": "python",
   "name": "python3"
  },
  "language_info": {
   "codemirror_mode": {
    "name": "ipython",
    "version": 3
   },
   "file_extension": ".py",
   "mimetype": "text/x-python",
   "name": "python",
   "nbconvert_exporter": "python",
   "pygments_lexer": "ipython3",
   "version": "3.10.11"
  }
 },
 "nbformat": 4,
 "nbformat_minor": 2
}
