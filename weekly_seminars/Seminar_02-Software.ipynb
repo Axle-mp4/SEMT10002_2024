{
 "cells": [
  {
   "cell_type": "markdown",
   "id": "0d67e7fb",
   "metadata": {},
   "source": [
    "# Software development environments\n",
    "\n",
    "There are lots of different ways to run Python code.  You have seen two already - running a notebook on Colab or writing a local file.  In this seminar, we will explore these options thoroughly."
   ]
  },
  {
   "cell_type": "markdown",
   "id": "305d9555",
   "metadata": {},
   "source": [
    "## Your local Python\n",
    "\n",
    "On whatever computer you're on, open up a command prompt or terminal\n",
    "\n",
    "- On Windows, press the Windows key and then type `command prompt`.  You should see an option.\n",
    "- On Linux, you're looking for something called `Terminal`.  Sometimes Ctrl+Alt+T will open one for you.\n",
    "- On Mac, search for `Terminal`.\n",
    "\n",
    "Then, regardless of your computer, type `python -V` (that's a capital V) and see what you get.\n",
    "\n",
    " 1. If you get something like `Python 3.10.11` or any other number beginning with 3, great.\n",
    " 2. If you get a number beginning with 2, you're running a version of Python old enough to make a difference.  Try instead running `python3 -V`.\n",
    "    - If that gets you to an output as in 1. above, you're fine, but use `python3` instead of `python` for the rest\n",
    "    - If you get `not recognized` or a similar error, you need to install Python 3.\n",
    " 3. If you get `not recognized`\n",
    "    - If you think you have installed Python, try to find it and make sure the directory with the `python` executable is on your path.\n",
    "    - Install Python using instructions from [https://www.python.org/downloads/](https://www.python.org/downloads/).  You should install the latest stable version, which is 3.12 at the time of writing.\n",
    "\n",
    "I wish I could give more help for this bit, but different computers and operating systems make this task very variable.  It's a common issue - there are lots of \"easy machine learning tutorial\" websites that start by assuming you have Python and a bunch of libraries installed, and that's rarely easy."
   ]
  },
  {
   "cell_type": "markdown",
   "id": "1eb84fc9",
   "metadata": {},
   "source": [
    "Next up, once you have that sorted, just type `python` and then type in the following.  See what happens after each line.\n",
    "\n",
    "```Python\n",
    "a = 3\n",
    "print(a)\n",
    "if a>2:\n",
    "   print('big a')\n",
    "\n",
    "```\n",
    "\n",
    "You'll need to hit enter twice after the `print('big a')` line as the blank line shows it where the indented block ends.\n",
    "\n",
    "Hopefully you should see this code run as soon as you type each line.  It's not the friendliest but you can use this interactive approach as a quick way of checking syntax for a line or so, or doing a computation.\n",
    "\n",
    "Repeat what you just did by using the up arrow key to recall previous lines.  You can edit them before pressing enter - so try a different value of `a`.\n",
    "\n",
    "Type `exit()` to get out of Python and back to your command prompt - but keep the prompt open as we'll use it again in a minute."
   ]
  },
  {
   "cell_type": "markdown",
   "id": "d173ade8",
   "metadata": {},
   "source": [
    "### Running Python scripts\n",
    "\n",
    "Make a file calle `hello.py` with the following contents.  Use Windows Notepad or Linux nano, or some similar text editor, just to prove you can.  It doesn't matter how you make the file.\n",
    "\n",
    "```Python\n",
    "print('hello world')\n",
    "```\n",
    "\n",
    "Now go to your command prompt/terminal again and type `python hello.py`.  Hopefully it'll print `hello world` for you.\n",
    "\n",
    "Here is your simplest way to run a whole program - just send it to the Python interpreter.  But sometimes we want to change settings or values so the same program can be re-used for different jobs.  Update your file as below:\n",
    "\n",
    "```Python\n",
    "import sys\n",
    "print('hello world')\n",
    "print(sys.argv)\n",
    "```\n",
    "\n",
    "Now run it again and try giving it some arguments, e.g. `python hello.py badgers` and see what comes out.  There will be more on this later, but hopefully you can start to see the route to developing whole applications in Python."
   ]
  },
  {
   "cell_type": "markdown",
   "id": "9c114a16",
   "metadata": {},
   "source": [
    "## Notebooks\n",
    "\n",
    "This document is written in the form of a Jupyter Notebook, typically `something.ipynb`.  These can mix:\n",
    " - instructive text\n",
    " - snippets or _cells_ of Python code that you can run one-by-one\n",
    " \n",
    "You can imagine that there is a Python interpreter running \"out the back\" (Jupyter calls it a _kernel_) and that when you run a cell, it's like typing that same code into the interpreter, as we did above.  Anything you can do in the interpreter, you can do in a notebook, e.g. read and write files, print, show graphics, etc.  \n",
    "\n",
    "Open this notebook (in Colab or locally, perhaps in Visual Studio Code).  Then try the cells below, running each in turn by using the little \"play\" button to one side, or by clicking in it and hitting Ctrl+Enter."
   ]
  },
  {
   "cell_type": "code",
   "execution_count": 1,
   "id": "e85cddec",
   "metadata": {},
   "outputs": [],
   "source": [
    "# step 1\n",
    "a = 4"
   ]
  },
  {
   "cell_type": "code",
   "execution_count": 2,
   "id": "0a5e991c",
   "metadata": {},
   "outputs": [],
   "source": [
    "# step 2\n",
    "twice_a = 2*a"
   ]
  },
  {
   "cell_type": "code",
   "execution_count": 3,
   "id": "d6db8b9f",
   "metadata": {},
   "outputs": [
    {
     "name": "stdout",
     "output_type": "stream",
     "text": [
      "a is 4\n",
      "twice_a is 8\n"
     ]
    }
   ],
   "source": [
    "# step 3\n",
    "print('a is',a)\n",
    "print('twice_a is',twice_a)"
   ]
  },
  {
   "cell_type": "markdown",
   "id": "28ab17dc",
   "metadata": {},
   "source": [
    "Lovely!  Key things to note is that variables are remembered from one cell to the next - each notebook has its own kernel with its own memory.\n",
    "\n",
    "Now, go back and edit \"step 1\" to read `a=4`.  Then run step 1 and step 3 *but not step 2*.  \n",
    "```\n",
    "a is 4\n",
    "twice_a is 6\n",
    "```\n",
    "Eh? What's going on?\n",
    "\n",
    "I've seen this catch people out multiple times.  Maybe you're rushing to produce some results, and you want to skip a few sections of your code to save time because they haven't changed.  But if you skip the wrong bits, your results are wrong!"
   ]
  },
  {
   "cell_type": "markdown",
   "id": "716a7dd5",
   "metadata": {},
   "source": [
    "## Scripts vs Notebooks\n",
    "\n",
    "Scripts are great for whole, finished programs.  You run them, perhaps with some settings, and they do everything they need to do.  But they do everything, every time (unless they break).\n",
    "\n",
    "Notebooks are great for developing, as you can develop a bit at a time, run only the bits you're working on, inspect the outputs easily, and then move on to the next cell when you're done.  It also leaves you with a nice \"trail\" of how you developed the work.\n",
    "\n",
    "Personally, I often find myself starting with a notebook and then copying the contents across to a `.py` script."
   ]
  },
  {
   "cell_type": "markdown",
   "id": "bbe91d71",
   "metadata": {},
   "source": [
    "## Beware the IDEs of...\n",
    "\n",
    "IDE stands for \"Integrated Development Environment\".  Examples include Visual Studio Code, Eclipse, Pycharm, Spyder and others.  Each typically combines:\n",
    "- a text editor with development features like syntax highlighting and autocomplete\n",
    "- some shortcuts for running and/or debugging code and/or notebooks\n",
    "- countless options for customizing and extending itself\n",
    "\n",
    "Personally I have come to like Visual Studio Code for:\n",
    "- hosting Jupyter Notebooks as well as editing scripts\n",
    "- autocomplete\n",
    "- integrated terminal window for quick experiments\n",
    "- cross-platform availability, so life feels similar on Windows or Linux\n",
    "\n",
    "Having said all that, I never use the debugger."
   ]
  },
  {
   "cell_type": "markdown",
   "id": "9b4e3f13",
   "metadata": {},
   "source": [
    "### Notebooks are sort of an IDE\n",
    "\n",
    "Run the cell below..."
   ]
  },
  {
   "cell_type": "code",
   "execution_count": 5,
   "id": "3ac77dca",
   "metadata": {},
   "outputs": [],
   "source": [
    "crazy_variable = 'yes'"
   ]
  },
  {
   "cell_type": "markdown",
   "id": "7e250bbe",
   "metadata": {},
   "source": [
    "Now in the cell below, type `print(cr` and see what happens.  It should suggest the rest of the line for you.  Accept it by pressing the Tab key and then Enter.  I find this saves me a lot of typing."
   ]
  },
  {
   "cell_type": "code",
   "execution_count": null,
   "id": "eb19cf78",
   "metadata": {},
   "outputs": [],
   "source": []
  },
  {
   "cell_type": "markdown",
   "id": "15cba9aa",
   "metadata": {},
   "source": [
    "## Python in the cloud - Colab etc\n",
    "\n",
    "From a Python point of view, a Notebook on [Google Colab](https://colab.research.google.com/) is just another Notebook.  Instead of running on your local computer using the Python you installed, it runs on a Google server somewhere, and you see it through a web browser instead of something else.\n",
    "\n",
    "Advantages:\n",
    "- They do the system admin, with Python all installed for you\n",
    "- They actually do it really well"
   ]
  }
 ],
 "metadata": {
  "celltoolbar": "Slideshow",
  "kernelspec": {
   "display_name": "Python 3 (ipykernel)",
   "language": "python",
   "name": "python3"
  },
  "language_info": {
   "codemirror_mode": {
    "name": "ipython",
    "version": 3
   },
   "file_extension": ".py",
   "mimetype": "text/x-python",
   "name": "python",
   "nbconvert_exporter": "python",
   "pygments_lexer": "ipython3",
   "version": "3.10.11"
  }
 },
 "nbformat": 4,
 "nbformat_minor": 5
}
