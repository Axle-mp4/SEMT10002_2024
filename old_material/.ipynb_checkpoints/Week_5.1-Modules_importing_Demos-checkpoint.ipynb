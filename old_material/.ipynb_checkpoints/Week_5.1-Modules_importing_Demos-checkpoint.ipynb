{
 "cells": [
  {
   "cell_type": "markdown",
   "id": "ec048b2b",
   "metadata": {
    "slideshow": {
     "slide_type": "slide"
    }
   },
   "source": [
    "## Introduction to Computer Programming\n",
    "\n",
    "## Week 5.1: Modules and importing Python files\n",
    "\n",
    "* * *\n",
    "\n",
    "<img src=\"img/full-colour-logo-UoB.png\" alt=\"Bristol\" style=\"width: 300px;\"/>"
   ]
  },
  {
   "cell_type": "markdown",
   "id": "63f2709c",
   "metadata": {
    "slideshow": {
     "slide_type": "slide"
    }
   },
   "source": [
    "So far, we have assumed that our Python code can be written in a single file\n",
    "\n",
    "This lecture will explore how Python code can be split between multiple files using\n",
    "**modules** and **packages**\n",
    "\n",
    "<center>\n",
    "  <img src=\"img/modularity.png\" alt=\"Drawing\" style=\"width: 800px ;\" align=\"center\"/>\n",
    "</center>"
   ]
  },
  {
   "cell_type": "markdown",
   "id": "72f84d24",
   "metadata": {
    "slideshow": {
     "slide_type": "slide"
    }
   },
   "source": [
    "Breaking code into multiple files is good for:\n",
    "* Collaboration\n",
    "* Maintaining and managing your code\n",
    "* Eliminating repetition"
   ]
  },
  {
   "cell_type": "markdown",
   "id": "34e8a9eb",
   "metadata": {
    "slideshow": {
     "slide_type": "slide"
    }
   },
   "source": [
    "# Modules\n",
    "\n",
    "A **module** is a .py file that contains Python definitions and statements.\n",
    "\n",
    "For example, `circle.py` (available on Blackboard) contains code relating to circles:\n",
    "\n",
    "***\n",
    "```python\n",
    "pi = 3.14159\n",
    "\n",
    "def area(radius):\n",
    "    return pi * radius**2\n",
    "\n",
    "def perimeter(radius):\n",
    "    return 2 * pi * radius\n",
    "\n",
    "```\n",
    "***"
   ]
  },
  {
   "cell_type": "markdown",
   "id": "81839af6",
   "metadata": {
    "slideshow": {
     "slide_type": "slide"
    }
   },
   "source": [
    "We load the module into our Python program using the `import` command"
   ]
  },
  {
   "cell_type": "code",
   "execution_count": 1,
   "id": "8ba669f4",
   "metadata": {},
   "outputs": [],
   "source": [
    "# import the circle module\n",
    "import circle"
   ]
  },
  {
   "cell_type": "markdown",
   "id": "4af83d33",
   "metadata": {
    "slideshow": {
     "slide_type": "fragment"
    }
   },
   "source": [
    "For this to work, circle.py must be in the same folder as the Python file which is importing it"
   ]
  },
  {
   "cell_type": "markdown",
   "id": "899abe50",
   "metadata": {
    "slideshow": {
     "slide_type": "slide"
    }
   },
   "source": [
    "We then access the code in the module using dot notation"
   ]
  },
  {
   "cell_type": "code",
   "execution_count": 5,
   "id": "9fb5c68e",
   "metadata": {},
   "outputs": [
    {
     "name": "stdout",
     "output_type": "stream",
     "text": [
      "3.14159\n",
      "12.56636\n"
     ]
    }
   ],
   "source": [
    "# print the value of pi\n",
    "print(circle.pi)\n",
    "\n",
    "# compute the area of a circle of radius 2\n",
    "A = circle.area(2)\n",
    "print(A)"
   ]
  },
  {
   "cell_type": "markdown",
   "id": "94e93b30",
   "metadata": {
    "slideshow": {
     "slide_type": "slide"
    }
   },
   "source": [
    "# Namespaces\n",
    "\n",
    "* Each Python file has a local namespace.  \n",
    "\n",
    "* This is a “symbol table” that contains the names of variable, functions, imported modules, etc.  \n",
    "\n",
    "* When you import a module (e.g. `import M`), only the name after `import` (e.g. `M`) gets added to the local namespace, not the names of the variables/functions/etc contained in the module.\n",
    "\n",
    "* The dot notation tells Python that we are referring to a name in the imported module (e.g. `M`)"
   ]
  },
  {
   "cell_type": "markdown",
   "id": "95794750",
   "metadata": {
    "slideshow": {
     "slide_type": "slide"
    }
   },
   "source": [
    "# Why does Python work this way?\n",
    "\n",
    "To avoid naming clashes and hence bugs.  Consider the example"
   ]
  },
  {
   "cell_type": "code",
   "execution_count": 2,
   "id": "51215f6e",
   "metadata": {},
   "outputs": [],
   "source": [
    "import circle\n",
    "pi = 3"
   ]
  },
  {
   "cell_type": "markdown",
   "id": "878957c1",
   "metadata": {
    "slideshow": {
     "slide_type": "fragment"
    }
   },
   "source": [
    "It might seem like the value of *pi* in `circle.py` has been overwritten, but this is not the case:"
   ]
  },
  {
   "cell_type": "code",
   "execution_count": 3,
   "id": "53c9deb1",
   "metadata": {},
   "outputs": [
    {
     "name": "stdout",
     "output_type": "stream",
     "text": [
      "Printing pi: 3\n",
      "Printing circle.pi: 3.14159\n"
     ]
    }
   ],
   "source": [
    "print('Printing pi:', pi)\n",
    "print('Printing circle.pi:', circle.pi)"
   ]
  },
  {
   "cell_type": "markdown",
   "id": "fb530d75",
   "metadata": {
    "slideshow": {
     "slide_type": "slide"
    }
   },
   "source": [
    "# Simplifying notation\n",
    "\n",
    "The dot notation is helpful, but it can be tiresome when importing modules/packages that \n",
    "have long names\n",
    "***\n",
    "```python\n",
    "import a_module_with_a_long_name\n",
    "\n",
    "a_module_with_a_long_name.function()\n",
    "```\n",
    "***"
   ]
  },
  {
   "cell_type": "markdown",
   "id": "2f6a2c69",
   "metadata": {
    "slideshow": {
     "slide_type": "slide"
    }
   },
   "source": [
    "Instead, we can rename the module when it is imported using a variant of the `import` statement"
   ]
  },
  {
   "cell_type": "code",
   "execution_count": 6,
   "id": "980a9f83",
   "metadata": {},
   "outputs": [
    {
     "name": "stdout",
     "output_type": "stream",
     "text": [
      "3.14159\n"
     ]
    }
   ],
   "source": [
    "import circle as c\n",
    "\n",
    "print(c.pi)"
   ]
  },
  {
   "cell_type": "markdown",
   "id": "b76b9085",
   "metadata": {
    "slideshow": {
     "slide_type": "slide"
    }
   },
   "source": [
    "We can also import specific variables, functions, etc from modules using the `from` keyword:"
   ]
  },
  {
   "cell_type": "code",
   "execution_count": 7,
   "id": "702ff8f3",
   "metadata": {},
   "outputs": [
    {
     "name": "stdout",
     "output_type": "stream",
     "text": [
      "3.14159\n"
     ]
    }
   ],
   "source": [
    "from circle import pi\n",
    "\n",
    "print(pi)"
   ]
  },
  {
   "cell_type": "markdown",
   "id": "7282d921",
   "metadata": {
    "slideshow": {
     "slide_type": "slide"
    }
   },
   "source": [
    "Now consider the following code:"
   ]
  },
  {
   "cell_type": "code",
   "execution_count": 9,
   "id": "31835669",
   "metadata": {},
   "outputs": [],
   "source": [
    "from circle import pi\n",
    "\n",
    "pi = 3"
   ]
  },
  {
   "cell_type": "markdown",
   "id": "3baf9705",
   "metadata": {},
   "source": [
    "What is the value of $pi$?"
   ]
  },
  {
   "cell_type": "code",
   "execution_count": 10,
   "id": "334b194f",
   "metadata": {},
   "outputs": [
    {
     "name": "stdout",
     "output_type": "stream",
     "text": [
      "3\n"
     ]
    }
   ],
   "source": [
    "print(pi)"
   ]
  },
  {
   "cell_type": "markdown",
   "id": "ebe248b7",
   "metadata": {
    "slideshow": {
     "slide_type": "fragment"
    }
   },
   "source": [
    "The value of $pi$ in `circles.py` has been overwritten.  Be careful with this approach!"
   ]
  },
  {
   "cell_type": "markdown",
   "id": "1edc9230",
   "metadata": {
    "slideshow": {
     "slide_type": "slide"
    }
   },
   "source": [
    "Finally, we can import all of the contents in a module using *"
   ]
  },
  {
   "cell_type": "code",
   "execution_count": 11,
   "id": "0bbd377e",
   "metadata": {},
   "outputs": [],
   "source": [
    "from circle import *"
   ]
  },
  {
   "cell_type": "code",
   "execution_count": 12,
   "id": "75061b1b",
   "metadata": {},
   "outputs": [
    {
     "name": "stdout",
     "output_type": "stream",
     "text": [
      "3.14159\n",
      "12.56636\n"
     ]
    }
   ],
   "source": [
    "print(pi)\n",
    "\n",
    "A = area(2)\n",
    "print(A)"
   ]
  },
  {
   "cell_type": "markdown",
   "id": "11420693",
   "metadata": {
    "slideshow": {
     "slide_type": "slide"
    }
   },
   "source": [
    "Be careful when using * to import the contents of a module:\n",
    "* Overwriting the contents of modules is possible\n",
    "* If importing multiple modules/packages, it can be difficut to determine where a name is defined"
   ]
  },
  {
   "cell_type": "markdown",
   "id": "ac0f6a3d",
   "metadata": {
    "slideshow": {
     "slide_type": "slide"
    }
   },
   "source": [
    "# Intro to packages\n",
    "\n",
    "A **package** is a directory (or folder) that contains modules (and other directories)\n",
    "\n",
    "Packages can be imported using `import` just like modules\n",
    "\n",
    "There is a huge number of pre-existing Python packages\n",
    "* `math` - contains mathematical functions (sqrt, log, sin, etc)\n",
    "* `numpy` - for working with numerical data (vectors, matrices, etc)\n",
    "* `scikit-learn` - for machine learning\n",
    "\n"
   ]
  },
  {
   "cell_type": "markdown",
   "id": "b2d60cf8",
   "metadata": {
    "slideshow": {
     "slide_type": "slide"
    }
   },
   "source": [
    "The `math` package is particularly helpful"
   ]
  },
  {
   "cell_type": "code",
   "execution_count": 7,
   "id": "c666766e",
   "metadata": {
    "slideshow": {
     "slide_type": "-"
    }
   },
   "outputs": [
    {
     "name": "stdout",
     "output_type": "stream",
     "text": [
      "3.141592653589793\n",
      "x equals 1.414\n",
      "1.0\n"
     ]
    }
   ],
   "source": [
    "from math import *\n",
    "\n",
    "print(pi)\n",
    "\n",
    "x = sqrt(2)\n",
    "print(f'x equals {x:.3f}')\n",
    "print(sin(pi/2))"
   ]
  },
  {
   "cell_type": "markdown",
   "id": "342aca8a",
   "metadata": {
    "slideshow": {
     "slide_type": "slide"
    }
   },
   "source": [
    "# Scripts\n",
    "\n",
    "A **script** is a top-level Python file that is executed (e.g. in Sypder or a terminal)\n",
    "* The script is not imported\n",
    "* The script imports modules and packages\n",
    "* In this class, scripts will be contained in files called `main.py`\n"
   ]
  },
  {
   "cell_type": "markdown",
   "id": "8bf98f7b",
   "metadata": {
    "slideshow": {
     "slide_type": "slide"
    }
   },
   "source": [
    "A typical folder with Python code will look like:\n",
    "```python\n",
    "current/\n",
    "|--- main.py\n",
    "|--- module1.py\n",
    "|--- module2.py\n",
    "```\n",
    "* `main.py` - the script\n",
    "* `module1.py` - a module with Python commands that is imported in `main.py`\n",
    "* `module2.py` - a second module with more commands that is also imported in `main.py`\n",
    "* etc"
   ]
  },
  {
   "cell_type": "markdown",
   "id": "071866d5",
   "metadata": {
    "slideshow": {
     "slide_type": "slide"
    }
   },
   "source": [
    "# Summary\n",
    "\n",
    "* **Modules** are .py files that contain Python commands\n",
    "* **Packages** are folders the contain modules\n",
    "* **Scripts** are top-level Python files that import modules and packages\n",
    "* There are many different ways of importing modules and packages with/without dot notation"
   ]
  }
 ],
 "metadata": {
  "celltoolbar": "Slideshow",
  "kernelspec": {
   "display_name": "Python 3",
   "language": "python",
   "name": "python3"
  },
  "language_info": {
   "codemirror_mode": {
    "name": "ipython",
    "version": 3
   },
   "file_extension": ".py",
   "mimetype": "text/x-python",
   "name": "python",
   "nbconvert_exporter": "python",
   "pygments_lexer": "ipython3",
   "version": "3.8.8"
  }
 },
 "nbformat": 4,
 "nbformat_minor": 5
}
