{
 "cells": [
  {
   "cell_type": "markdown",
   "id": "524954fb",
   "metadata": {
    "slideshow": {
     "slide_type": "slide"
    }
   },
   "source": [
    "## Introduction to Computer Programming\n",
    "\n",
    "## Week 5.2: Packages and importing from different locations\n",
    "\n",
    "* * *\n",
    "\n",
    "<img src=\"img/full-colour-logo-UoB.png\" alt=\"Bristol\" style=\"width: 300px;\"/>"
   ]
  },
  {
   "cell_type": "markdown",
   "id": "c7147cb4",
   "metadata": {
    "slideshow": {
     "slide_type": "slide"
    }
   },
   "source": [
    "In this lecture, we'll learn how to:\n",
    "\n",
    "* Import files from different locations\n",
    "* Write our own packages\n",
    "\n",
    "<center>\n",
    "  <img src=\"img/modularity.png\" alt=\"Drawing\" style=\"width: 800px ;\" align=\"center\"/>\n",
    "</center>"
   ]
  },
  {
   "cell_type": "markdown",
   "id": "be5708c7",
   "metadata": {
    "slideshow": {
     "slide_type": "slide"
    }
   },
   "source": [
    "# Importing files that are downstream\n",
    "\n",
    "**Downstream** files are those that are contained in folders (and subfolders) that exist in the current directory (the directory with the script `main.py`)\n",
    "\n",
    "```python\n",
    "current/\n",
    "|\n",
    "|--- main.py\n",
    "|--- shapes/\n",
    "        |--- circle.py\n",
    "        \n",
    "```\n",
    "\n",
    "Here, `circle.py` is downstream of the script (`main.py`) because it's contained in the folder called `shapes`"
   ]
  },
  {
   "cell_type": "markdown",
   "id": "5498bb36",
   "metadata": {
    "slideshow": {
     "slide_type": "slide"
    }
   },
   "source": [
    "Dot notation is used to indiate to indicate that a downstream module is contained in a folder (or subfolder):\n",
    "\n",
    "For example:\n",
    "```python\n",
    "import folder.module\n",
    "import folder.subfolder.module\n",
    "```"
   ]
  },
  {
   "cell_type": "markdown",
   "id": "33e70b35",
   "metadata": {
    "slideshow": {
     "slide_type": "slide"
    }
   },
   "source": [
    "We can import the downstream module `circle` into our script as follows:"
   ]
  },
  {
   "cell_type": "code",
   "execution_count": 1,
   "id": "eff70d11",
   "metadata": {},
   "outputs": [],
   "source": [
    "# import the module\n",
    "\n",
    "# print the value of pi\n"
   ]
  },
  {
   "cell_type": "markdown",
   "id": "6147f4a7",
   "metadata": {
    "slideshow": {
     "slide_type": "fragment"
    }
   },
   "source": [
    "Here, the name `shapes.circle` is loaded into the namespace, so an extra dot is needed to access the contents of the module `circle.py`"
   ]
  },
  {
   "cell_type": "markdown",
   "id": "ddaf941b",
   "metadata": {
    "slideshow": {
     "slide_type": "slide"
    }
   },
   "source": [
    "# Simplifying notation\n",
    "\n",
    "We can still rename the downstream module during import to simplify notation:"
   ]
  },
  {
   "cell_type": "code",
   "execution_count": null,
   "id": "c17c917c",
   "metadata": {
    "slideshow": {
     "slide_type": "-"
    }
   },
   "outputs": [],
   "source": []
  },
  {
   "cell_type": "markdown",
   "id": "ad981679",
   "metadata": {
    "slideshow": {
     "slide_type": "slide"
    }
   },
   "source": [
    "# Importing files that are upstream"
   ]
  },
  {
   "cell_type": "markdown",
   "id": "654628f2",
   "metadata": {},
   "source": [
    "**Upstream** files are those that do not exist in the current directory or any of its sub-directories\n",
    "\n",
    "```python\n",
    "ICP_code/\n",
    "|--- fruits.py\n",
    "|--- current/\n",
    "        |--- main.py\n",
    "        |--- colour.py\n",
    "```\n",
    "The module `fruits.py` is upstream of the script (`main.py`)"
   ]
  },
  {
   "cell_type": "markdown",
   "id": "b6645055",
   "metadata": {
    "slideshow": {
     "slide_type": "slide"
    }
   },
   "source": [
    "Modules that are upstream of the script cannot automatically be found by the Python interpreter"
   ]
  },
  {
   "cell_type": "code",
   "execution_count": null,
   "id": "11408bb7",
   "metadata": {},
   "outputs": [],
   "source": []
  },
  {
   "cell_type": "markdown",
   "id": "69868c78",
   "metadata": {
    "slideshow": {
     "slide_type": "slide"
    }
   },
   "source": [
    "Python only looks for modules and files in its **import path**, which includes:\n",
    "* The current directory\n",
    "* Directories in the PYTHONPATH variable\n",
    "* Directories that are set up when Python is installed"
   ]
  },
  {
   "cell_type": "markdown",
   "id": "93045904",
   "metadata": {
    "slideshow": {
     "slide_type": "slide"
    }
   },
   "source": [
    "The import path can be extended using the `sys` package"
   ]
  },
  {
   "cell_type": "code",
   "execution_count": 4,
   "id": "5e68c2b8",
   "metadata": {},
   "outputs": [],
   "source": [
    "import sys"
   ]
  },
  {
   "cell_type": "markdown",
   "id": "4bf902c0",
   "metadata": {
    "slideshow": {
     "slide_type": "fragment"
    }
   },
   "source": [
    "To add the directory one level upstream to Python's import path, we use the command"
   ]
  },
  {
   "cell_type": "code",
   "execution_count": 5,
   "id": "96a809a9",
   "metadata": {},
   "outputs": [],
   "source": [
    "sys.path.append('../')"
   ]
  },
  {
   "cell_type": "markdown",
   "id": "979a569c",
   "metadata": {},
   "source": [
    "Here, ../ means look one level up"
   ]
  },
  {
   "cell_type": "markdown",
   "id": "7c4214f3",
   "metadata": {
    "slideshow": {
     "slide_type": "slide"
    }
   },
   "source": [
    "```python\n",
    "ICP_code/\n",
    "|--- fruits.py\n",
    "|--- current/\n",
    "        |--- main.py\n",
    "        |--- colours.py\n",
    "```\n",
    "We can now import the module `fruits.py`"
   ]
  },
  {
   "cell_type": "code",
   "execution_count": 2,
   "id": "615111a2",
   "metadata": {},
   "outputs": [],
   "source": [
    "# import the package\n",
    "\n",
    "# print the variable apples\n"
   ]
  },
  {
   "cell_type": "markdown",
   "id": "2f743e21",
   "metadata": {
    "slideshow": {
     "slide_type": "slide"
    }
   },
   "source": [
    "# Packages\n",
    "\n",
    "A **package** is a directory (or folder) that contains modules (and other directories)\n",
    "\n",
    "Packages can be imported using `import` just like modules "
   ]
  },
  {
   "cell_type": "markdown",
   "id": "6018ba11",
   "metadata": {
    "slideshow": {
     "slide_type": "slide"
    }
   },
   "source": [
    "# Example - the shapes package\n",
    "\n",
    "Download the file called shapes.zip from Blackboard and extract it in your working directory\n",
    "\n",
    "The folder contains three files:\n",
    "\n",
    "* `__init__.py` - this tells Python the folder is a package\n",
    "* `circle.py` - this contains statements about circles\n",
    "* `square.py` - this contains statments about squares"
   ]
  },
  {
   "cell_type": "markdown",
   "id": "5e7c1151",
   "metadata": {
    "slideshow": {
     "slide_type": "slide"
    }
   },
   "source": [
    "# The `__init__.py` file\n",
    "\n",
    "* This file tells Python that the directory is a package\n",
    "* In the simplest case, this file is empty and contains no Python commands"
   ]
  },
  {
   "cell_type": "markdown",
   "id": "6c943a2e",
   "metadata": {
    "slideshow": {
     "slide_type": "slide"
    }
   },
   "source": [
    "Since the modules in the package are **downstream**, we can import them using dot notation"
   ]
  },
  {
   "cell_type": "code",
   "execution_count": null,
   "id": "348b63bf",
   "metadata": {},
   "outputs": [],
   "source": []
  },
  {
   "cell_type": "markdown",
   "id": "ad08914d",
   "metadata": {
    "slideshow": {
     "slide_type": "slide"
    }
   },
   "source": [
    "# Simplifying package importing\n",
    "\n",
    "Wouldn't it be nice if we could import all of the modules in our package?\n",
    "\n",
    "This can be done by adding the following lines to the  `__init__.py` file\n",
    "\n",
    "***\n",
    "```python\n",
    "from . import circle\n",
    "from . import square\n",
    "```\n",
    "***"
   ]
  },
  {
   "cell_type": "markdown",
   "id": "60924469",
   "metadata": {
    "slideshow": {
     "slide_type": "slide"
    }
   },
   "source": [
    "We can import the package and its modules in one line in our script:"
   ]
  },
  {
   "cell_type": "code",
   "execution_count": null,
   "id": "260a7440",
   "metadata": {},
   "outputs": [],
   "source": []
  },
  {
   "cell_type": "markdown",
   "id": "d7ce34e8",
   "metadata": {
    "slideshow": {
     "slide_type": "fragment"
    }
   },
   "source": [
    "When `shapes` is imported, the commands in `__init__.py` are called, which also loads the modules"
   ]
  },
  {
   "cell_type": "markdown",
   "id": "3257a3be",
   "metadata": {
    "slideshow": {
     "slide_type": "slide"
    }
   },
   "source": [
    "# Summary\n",
    "\n",
    "* Downstream files are contained in folders and subfolders in the current directory.  They can be automatically found by the Python interpreter\n",
    "* Upstream files are not contained in folders and subfolders in the current directory.  They cannot be automatically found by the Python interpreter\n",
    "* The `sys` package allows upstream modules to be found\n",
    "* The `__init__.py` file turns folders into Python packages"
   ]
  }
 ],
 "metadata": {
  "celltoolbar": "Slideshow",
  "kernelspec": {
   "display_name": "Python 3 (ipykernel)",
   "language": "python",
   "name": "python3"
  },
  "language_info": {
   "codemirror_mode": {
    "name": "ipython",
    "version": 3
   },
   "file_extension": ".py",
   "mimetype": "text/x-python",
   "name": "python",
   "nbconvert_exporter": "python",
   "pygments_lexer": "ipython3",
   "version": "3.12.4"
  }
 },
 "nbformat": 4,
 "nbformat_minor": 5
}
