{
 "cells": [
  {
   "cell_type": "markdown",
   "id": "c689d648-dc32-4e8a-9ee3-531b164bf800",
   "metadata": {},
   "source": [
    "# Computer Programming and Algorithms\n",
    "\n",
    "## Style and structure \n",
    "\n",
    "<img src=\"https://github.com/engmaths/EMAT10007_2023/blob/main/weekly_content/img/full-colour-logo-UoB.png?raw=true\" width=\"20%\">\n",
    "</p>"
   ]
  },
  {
   "cell_type": "markdown",
   "id": "13202014-327f-46a2-89ee-2df665a6b575",
   "metadata": {},
   "source": [
    "# Comments \n",
    "A line of code that begins with the hash `#` symbol is a __comment__.\n",
    "\n",
    "Comments are used for two things:\n",
    "\n",
    "1. A line in the code that we don't want to run. \n",
    "\n",
    "1. A human-readable annotation in the code. \n",
    "\n",
    "***\n",
    "```python\n",
    "r = 3       # radius\n",
    "pi = 3.142 \n",
    "\n",
    "# Calculate the area of the circle\n",
    "A = pi * r**2\n",
    "```"
   ]
  },
  {
   "cell_type": "code",
   "execution_count": null,
   "id": "9c3d6349-dafd-4f65-9220-c686612fdbdc",
   "metadata": {},
   "outputs": [],
   "source": []
  }
 ],
 "metadata": {
  "kernelspec": {
   "display_name": "Python 3 (ipykernel)",
   "language": "python",
   "name": "python3"
  },
  "language_info": {
   "codemirror_mode": {
    "name": "ipython",
    "version": 3
   },
   "file_extension": ".py",
   "mimetype": "text/x-python",
   "name": "python",
   "nbconvert_exporter": "python",
   "pygments_lexer": "ipython3",
   "version": "3.12.4"
  }
 },
 "nbformat": 4,
 "nbformat_minor": 5
}
