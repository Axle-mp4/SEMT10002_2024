{
 "cells": [
  {
   "cell_type": "markdown",
   "metadata": {},
   "source": [
    "# Program Flow\n",
    "\n",
    "This week we will do more with `if` statements and related terms.  These influence the _flow_ of our programme, _i.e._ which statements get done and in what order.\n",
    "\n",
    "## Recap\n",
    "\n",
    "From last week, you should recall:\n",
    "\n",
    "- using comparison operators to write logical expressions, _e.g._ `a<b` is `True` if and only if the value of variable `a` is strictly less than the value of variable `b`\n",
    "- using `if` statements to switch on some other statements, marked by an indent, if an expression is `True` _e.g._:"
   ]
  },
  {
   "cell_type": "code",
   "execution_count": 1,
   "metadata": {},
   "outputs": [
    {
     "name": "stdout",
     "output_type": "stream",
     "text": [
      "I will only run this if a is bigger than b\n",
      "This will only be printed if a is bigger than b\n",
      "This will be printed every time, no matter what a and b are.\n"
     ]
    }
   ],
   "source": [
    "a=3\n",
    "b=2\n",
    "if a>b:\n",
    "    print('I will only run this if a is bigger than b')\n",
    "    print('This will only be printed if a is bigger than b')\n",
    "print('This will be printed every time, no matter what a and b are.')"
   ]
  },
  {
   "cell_type": "markdown",
   "metadata": {},
   "source": [
    "## Getting started\n",
    "\n",
    "Either:\n",
    "\n",
    "- Click [this link](https://colab.research.google.com/github/engmaths/SEMT10002_2024/blob/main/weekly_labs/Week_03_Flow/week_03_flow.ipynb) to open this notebook in Google colab.  You'll need to sign in with a Google account before you can run it.  When you do, hit `Ctrl+F9` to check it all runs.\n",
    "\n",
    "or\n",
    "\n",
    "- Download it to your local computer using `git clone https://github.com/engmaths/SEMT10002_2024` or just use `git pull` to refresh if you've done this already.\n",
    "- Navigate to the subfolder `weekly_labs/Week_03_Flow/` and open the notebook `week_03_flow.ipynb`.  For example, in Visual Studio Code, use `Ctrl+K Ctrl+O` to open a folder and select the folder just mentioned.  Then you can open the notebook file by clicking on it in the left hand explorer sidebar.\n",
    "\n",
    "\n",
    "## `if` and `else`\n",
    "\n",
    "You can have an `else` clause after each `if` that only runs its indented statements if the `if` test fails.  Here's an example:"
   ]
  },
  {
   "cell_type": "code",
   "execution_count": 2,
   "metadata": {},
   "outputs": [
    {
     "name": "stdout",
     "output_type": "stream",
     "text": [
      "a is negative: -13.2\n"
     ]
    }
   ],
   "source": [
    "a = -13.2\n",
    "if a>=0:\n",
    "    print('a is positive:', a)\n",
    "else:\n",
    "    print('a is negative:', a)"
   ]
  },
  {
   "cell_type": "markdown",
   "metadata": {},
   "source": [
    "> Extend last week's \"close to\" example with an else clause so it prints \"not close to\"."
   ]
  },
  {
   "cell_type": "code",
   "execution_count": 3,
   "metadata": {},
   "outputs": [
    {
     "name": "stdout",
     "output_type": "stream",
     "text": [
      "a is equal to 100 to within 1%: 99.1\n"
     ]
    }
   ],
   "source": [
    "a = 99.1\n",
    "if (a-100)**2 < 1:\n",
    "    print('a is equal to 100 to within 1%:', a)\n",
    "    '???'"
   ]
  },
  {
   "cell_type": "markdown",
   "metadata": {},
   "source": [
    "## `if` `elif` and `else`\n",
    "\n",
    "`elif` is short for \"else if\"\n",
    "\n",
    "```Python\n",
    "if test1:\n",
    "    # this runs if test 1 passes, _i.e._ test1 is True\n",
    "elif test2:\n",
    "    # this runs if test 1 fails and then test 2 passes\n",
    "else:\n",
    "    # this runs if test 1 fails and then test 2 fails\n",
    "```\n",
    "\n",
    "You can have arbitrary numbers of `elif` statements after an `if`, and the final `else` is optional.  Let's see some examples.\n",
    "\n",
    "> Change the variable settings and see what happens"
   ]
  },
  {
   "cell_type": "code",
   "execution_count": 4,
   "metadata": {},
   "outputs": [
    {
     "name": "stdout",
     "output_type": "stream",
     "text": [
      "Carrying on\n"
     ]
    }
   ],
   "source": [
    "detected_item = 'Mouse' # try also 'Dog' and 'Human'\n",
    "\n",
    "if detected_item=='Human':\n",
    "    print('Human detected: robot safety protocol engaged')\n",
    "elif detected_item=='Dog':\n",
    "    print('Dog detected: pet engagement protocol engaged')\n",
    "\n",
    "print('Carrying on')"
   ]
  },
  {
   "cell_type": "markdown",
   "metadata": {},
   "source": [
    "Next is an example with loads of `elif` statements to capture multiple cases, plus a final `else` to catch anything unexpected, which is good practice.\n",
    "\n",
    "This is an example of a _finite state machine_, which is a handy framework for stitching together different behaviours for some sort of artificial agent."
   ]
  },
  {
   "cell_type": "code",
   "execution_count": 5,
   "metadata": {},
   "outputs": [
    {
     "name": "stdout",
     "output_type": "stream",
     "text": [
      "Going forwards\n"
     ]
    }
   ],
   "source": [
    "mode = 'drive' # try also 'explore', 'drive', 'goal', 'lost', and 'rubbish', or indeed anything else\n",
    "\n",
    "if mode=='avoid':\n",
    "    print('Backing up robot')\n",
    "    mode = 'explore'\n",
    "elif mode=='explore':\n",
    "    print('Random turn')\n",
    "    mode = 'drive'\n",
    "elif mode=='drive':\n",
    "    print('Going forwards')\n",
    "    mode = 'goal'\n",
    "elif mode=='goal':\n",
    "    print('Turning to goal')\n",
    "    mode = 'drive'\n",
    "elif mode=='lost':\n",
    "    print('Stop and reset')\n",
    "    mode = 'explore'\n",
    "else:\n",
    "    print('Unexpected mode:', mode)\n",
    "    raise ValueError('Unexpected mode value')"
   ]
  },
  {
   "cell_type": "markdown",
   "metadata": {},
   "source": [
    "The next two cells show two different ways of achieving the same thing.  The difference is slight, but the second version saves you a bit of computation in some cases.  _Why bother to check if you're two small if you already know you're too big?_"
   ]
  },
  {
   "cell_type": "code",
   "execution_count": 6,
   "metadata": {},
   "outputs": [
    {
     "name": "stdout",
     "output_type": "stream",
     "text": [
      "Too big: 16.5\n"
     ]
    }
   ],
   "source": [
    "q = 16.5 # try numbers between 10 and 20\n",
    "if q > 15.0:\n",
    "    print('Too big:', q)\n",
    "if q < 12.0:\n",
    "    print('Too small:', q)\n"
   ]
  },
  {
   "cell_type": "code",
   "execution_count": 7,
   "metadata": {},
   "outputs": [
    {
     "name": "stdout",
     "output_type": "stream",
     "text": [
      "Too big: 16.5\n"
     ]
    }
   ],
   "source": [
    "q = 16.5 # try numbers between 10 and 20\n",
    "if q > 15.0:\n",
    "    print('Too big:', q)\n",
    "elif q < 12.0:\n",
    "    print('Too small:', q)\n"
   ]
  },
  {
   "cell_type": "markdown",
   "metadata": {},
   "source": [
    "Now another common situation - saturation or clipping.  Suppose we want to ensure that a value is always within a certain range.  If it goes too high, we limit to the upper limit, and if too low, we limit to the lower limit.  This is really common in control where actuators typically have a fixed range of operation, _e.g._ voltage outputs or motor speeds.\n",
    "\n",
    "> Can you make the code below a little more efficient?  How and why?"
   ]
  },
  {
   "cell_type": "code",
   "execution_count": 3,
   "metadata": {},
   "outputs": [
    {
     "name": "stdout",
     "output_type": "stream",
     "text": [
      "Before saturation command is -1.2\n",
      "After saturation command is -1.0\n"
     ]
    }
   ],
   "source": [
    "command = -1.2 # test with values from -2.0 to 2.0\n",
    "print('Before saturation command is', command)\n",
    "\n",
    "if command > 1.0:\n",
    "    command = 1.0\n",
    "if command < -1.0:\n",
    "    command = -1.0\n",
    "\n",
    "print('After saturation command is', command)"
   ]
  },
  {
   "cell_type": "markdown",
   "metadata": {},
   "source": [
    "So far, so good.  But `elif` can sometimes catch you out if you haven't thought through the logic.  With apologies for returning to the touchy subject of grades, can you fix this example?\n",
    "\n",
    "> Eh?  Why is 65 only getting me a '3rd'?  I should get a 2:1 for that..."
   ]
  },
  {
   "cell_type": "code",
   "execution_count": 8,
   "metadata": {},
   "outputs": [
    {
     "name": "stdout",
     "output_type": "stream",
     "text": [
      "3rd\n"
     ]
    }
   ],
   "source": [
    "grade = 65 # try with numbers between 35 and 75\n",
    "\n",
    "if grade>=40:\n",
    "    print('3rd')\n",
    "elif grade>=50:\n",
    "    print('2:2')\n",
    "elif grade>=60:\n",
    "    print('2:1')\n",
    "elif grade>=70:\n",
    "    print('1st')\n",
    "else:\n",
    "    print('Fail')"
   ]
  },
  {
   "cell_type": "markdown",
   "metadata": {},
   "source": [
    "## Nesting\n",
    "\n",
    "Remember that any statements in the indented bit after an `if` only runs if the `if` expression is `True`.  Now we will put more `if` statements in that indented area.\n",
    "\n",
    "```Python\n",
    "if test1:\n",
    "    if test2:\n",
    "        # this runs if test1 is True and test2 is True\n",
    "    else:\n",
    "        # this runs if test1 is True and test2 is False\n",
    "else:\n",
    "    # this runs if test1 is false, without even calculating test2\n",
    "```\n",
    "\n",
    "Hopefully you can start to see the point of the indent - it identifies a _scope_ for each statement, _i.e._ a parent statement that controls its execution, and makes that scope easy to read.\n",
    "\n",
    "An example, again back to grading.\n",
    "\n",
    "> Can you add protection from silly numbers, _i.e._ over 100 or less than zero?"
   ]
  },
  {
   "cell_type": "code",
   "execution_count": 9,
   "metadata": {},
   "outputs": [
    {
     "name": "stdout",
     "output_type": "stream",
     "text": [
      "Pass\n",
      "2:1\n"
     ]
    }
   ],
   "source": [
    "grade = 65 # try from -5 to 105\n",
    "\n",
    "if grade < 40:\n",
    "    print('Fail')\n",
    "else:\n",
    "    print('Pass')\n",
    "    if grade < 50:\n",
    "        print('3rd')\n",
    "    elif grade < 60:\n",
    "        print('2:2')\n",
    "    elif grade < 70:\n",
    "        print('2:1')\n",
    "    else:\n",
    "        print('1st')\n"
   ]
  },
  {
   "cell_type": "markdown",
   "metadata": {},
   "source": [
    "## Exercise: circles\n",
    "\n",
    "<img style=\"float: right;\" width=\"30%\" src=\"../../img/circles.png\" />\n",
    "\n",
    "Suppose we have three circles in the $xy$-plane:\n",
    "\n",
    "- Circle $C_1$ is centred at $(0, 0)$ with radius of length 5.\n",
    "- Circle $C_2$ is centred at $(2, 1)$ and has radius of length 2.\n",
    "- Circle $C_3$ is centred at $(-5, 0)$ and has a radius of length 3. \\n\",\n",
    "\n",
    "> Using conditional statements, write a program which takes in the variables $x$ and $y$ and tells the user which circle(s) the point $(x, y)$ is in.\n",
    "\n",
    "> Think about the order in which your program evaluates the expressions? Is this the most efficient way to structure the code?\n"
   ]
  },
  {
   "cell_type": "code",
   "execution_count": 10,
   "metadata": {},
   "outputs": [
    {
     "name": "stdout",
     "output_type": "stream",
     "text": [
      "In C1\n"
     ]
    },
    {
     "data": {
      "text/plain": [
       "'???'"
      ]
     },
     "execution_count": 10,
     "metadata": {},
     "output_type": "execute_result"
    }
   ],
   "source": [
    "x = 3\n",
    "y = 1\n",
    "\n",
    "'???'\n",
    "if '???':\n",
    "    print('In C1')\n",
    "'???'"
   ]
  },
  {
   "cell_type": "markdown",
   "metadata": {},
   "source": [
    "## Exercise: robot line sensor\n",
    "\n",
    "<img style=\"float: right;\" width=\"30%\" src=\"../../img/robot_numbers.png\" />\n",
    "\n",
    "Lots of robots use light sensors to detect and follow marker lines on the floor.  Sometimes fancier sensors like magnetic detection of guide wires are used, but the principles are the same.  Consider a robot with three sensors, one on the centreline and one on either side.  A sensor returns `True` if it is over a line and `False` otherwise.  The useful combinations are:\n",
    "\n",
    "| Left sensor | Middle sensor | Right sensor | Meaning |\n",
    "| ---- | ---- | ---- | ---- |\n",
    "| False | True | False | Centred on line: drive straight |\n",
    "| True | True | False | Line is slightly to my left: turn left |\n",
    "| False | True | True | Line is slightly to my right: turn right |\n",
    "| True | False | False | Line is far to my left: slow and turn left |\n",
    "| False | False | True | Line is far to my right: slow and turn right |\n",
    "\n",
    "\n",
    "\n",
    "> Implement the control logic for the robot.  _There are lots of ways of doing this._\n",
    "\n",
    "> How many other possible readings are there?  And what might they mean?  Extend your code to handle everything."
   ]
  },
  {
   "cell_type": "code",
   "execution_count": 11,
   "metadata": {},
   "outputs": [
    {
     "data": {
      "text/plain": [
       "'???'"
      ]
     },
     "execution_count": 11,
     "metadata": {},
     "output_type": "execute_result"
    }
   ],
   "source": [
    "left_sensor = False\n",
    "middle_sensor = True\n",
    "right_sensor = True\n",
    "\n",
    "'???'"
   ]
  }
 ],
 "metadata": {
  "kernelspec": {
   "display_name": "Python 3",
   "language": "python",
   "name": "python3"
  },
  "language_info": {
   "codemirror_mode": {
    "name": "ipython",
    "version": 3
   },
   "file_extension": ".py",
   "mimetype": "text/x-python",
   "name": "python",
   "nbconvert_exporter": "python",
   "pygments_lexer": "ipython3",
   "version": "3.9.13"
  }
 },
 "nbformat": 4,
 "nbformat_minor": 2
}
