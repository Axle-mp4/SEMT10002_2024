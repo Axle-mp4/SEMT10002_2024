{
 "cells": [
  {
   "cell_type": "markdown",
   "metadata": {
    "slideshow": {
     "slide_type": "slide"
    }
   },
   "source": [
    "# Computer Programming and Algorithms\n",
    "\n",
    "## Week 8.3: Modules for reading files\n",
    "\n",
    "* * *\n",
    "\n",
    "<img src=\"https://github.com/engmaths/EMAT10007_2023/blob/main/weekly_content/img/full-colour-logo-UoB.png?raw=true\" width=\"20%\">\n",
    "</p>"
   ]
  },
  {
   "cell_type": "markdown",
   "metadata": {
    "slideshow": {
     "slide_type": "slide"
    }
   },
   "source": [
    "If you are opening the notebook in Google Colab, you can import the data files to use with the code cells throughout the notebook by running the code cell below:"
   ]
  },
  {
   "cell_type": "code",
   "execution_count": 1,
   "metadata": {},
   "outputs": [
    {
     "name": "stdout",
     "output_type": "stream",
     "text": [
      "zsh:1: command not found: wget\r\n"
     ]
    }
   ],
   "source": [
    "!wget https://raw.githubusercontent.com/engmaths/SEMT10002_2024/main/weekly_labs/Week_08_Reading_Data/temperature.csv"
   ]
  },
  {
   "cell_type": "markdown",
   "metadata": {
    "slideshow": {
     "slide_type": "slide"
    }
   },
   "source": [
    "# Aims\n",
    "\n",
    "In this video we will:\n",
    "\n",
    "* Read a CSV file using a computer program\n",
    "* Introduce the concept of a module\n",
    "* Introduce the `csv` module\n",
    "* Use the `csv` module to:\n",
    "    - read data stored in a CSV file\n",
    "    - save data to a CSV file"
   ]
  },
  {
   "cell_type": "markdown",
   "metadata": {
    "slideshow": {
     "slide_type": "slide"
    }
   },
   "source": [
    "# CSV file \n",
    "- CSV stands for Comma Separated Value\n",
    "- Text file that stores tabular data.\n",
    "- Each line in a CSV file represents a row in a table.\n",
    "- The values within each row are separated by a specific delimiter, usually a comma (,)."
   ]
  },
  {
   "cell_type": "markdown",
   "metadata": {
    "slideshow": {
     "slide_type": "slide"
    }
   },
   "source": [
    "# Reading a CSV file\n",
    "\n",
    "Text files (containing human-readable data) can be easily read using a computer program\n",
    "\n"
   ]
  },
  {
   "cell_type": "code",
   "execution_count": 89,
   "metadata": {},
   "outputs": [
    {
     "name": "stdout",
     "output_type": "stream",
     "text": [
      "Jan,Feb,Mar,Apr,May,Jun,Jul,Aug,Sep,Oct,Nov,Dec\n",
      "6,5,8,10,13,16,18,18,15,13,8,7\n",
      "\n"
     ]
    }
   ],
   "source": [
    "with open('temperature.csv') as file:\n",
    "    print(file.read())"
   ]
  },
  {
   "cell_type": "markdown",
   "metadata": {
    "slideshow": {
     "slide_type": "slide"
    }
   },
   "source": [
    "The data in the file is a set of numerical temperature values corresponding to the months of the year. \n",
    "\n",
    "It's likely we will want to use the individual numerical values. \n",
    "\n",
    "For example, we may want to perform statistical operations, like finding the mean of the temperature values. \n",
    "\n",
    "```\n",
    "Jan,Feb,Mar,Apr,May,Jun,Jul,Aug,Sep,Oct,Nov,Dec\n",
    "6,5,8,10,13,16,18,18,15,13,8,7\n",
    "```"
   ]
  },
  {
   "cell_type": "markdown",
   "metadata": {
    "slideshow": {
     "slide_type": "slide"
    }
   },
   "source": [
    "We can cast the file object as a list. \n",
    "\n",
    "Each element of the list is a new line of the file\n",
    "\n",
    "What type of data is each line stored as? "
   ]
  },
  {
   "cell_type": "code",
   "execution_count": 376,
   "metadata": {
    "slideshow": {
     "slide_type": "fragment"
    }
   },
   "outputs": [
    {
     "name": "stdout",
     "output_type": "stream",
     "text": [
      "6,5,8,10,13,16,18,18,15,13,8,7\n",
      "\n",
      "<class 'str'>\n"
     ]
    }
   ],
   "source": [
    "with open('temperature.csv') as file:\n",
    "    file = list(file)\n",
    "    print(file[1])\n",
    "    print(type(file[1]))"
   ]
  },
  {
   "cell_type": "markdown",
   "metadata": {
    "slideshow": {
     "slide_type": "slide"
    }
   },
   "source": [
    "The individual numerical values, seperated by commas, are stored as a single string. \n",
    "\n",
    "We can transform this string to numerical data with several operations:\n",
    "1. Convert file object to list\n",
    "2. Access line of file conyaining numerical values\n",
    "3. Convert string to list of values with commas removed\n",
    "4. Remove the new line character from any strings in the list\n",
    "5. Cast all strings as integer values"
   ]
  },
  {
   "cell_type": "code",
   "execution_count": 379,
   "metadata": {},
   "outputs": [
    {
     "name": "stdout",
     "output_type": "stream",
     "text": [
      "[6, 5, 8, 10, 13, 16, 18, 18, 15, 13, 8, 7]\n",
      "11.416666666666666\n"
     ]
    }
   ],
   "source": [
    "with open('temperature.csv') as file:\n",
    "    file = list(file)                   \n",
    "    line = file[1]            \n",
    "    values = line.split(',')   \n",
    "    values = [v.replace('\\n', '') for v in values] \n",
    "    values = [int(v) for v in values]              \n",
    "    print(values)\n",
    "\n",
    "mean = sum(values) / len(values)\n",
    "print(mean)"
   ]
  },
  {
   "cell_type": "markdown",
   "metadata": {
    "slideshow": {
     "slide_type": "slide"
    }
   },
   "source": [
    "This is a lot of work to get the data in a useable form!"
   ]
  },
  {
   "cell_type": "markdown",
   "metadata": {
    "slideshow": {
     "slide_type": "fragment"
    }
   },
   "source": [
    "We can import a *module* to make it easier to read data from this file type.\n",
    "\n",
    "\n"
   ]
  },
  {
   "cell_type": "markdown",
   "metadata": {
    "slideshow": {
     "slide_type": "slide"
    }
   },
   "source": [
    "# What is a module?\n",
    "\n",
    "A module is a source code file that contains some additional variables and functions.\n",
    "\n",
    "As we are using Python, the source code file is a .py file. "
   ]
  },
  {
   "cell_type": "markdown",
   "metadata": {
    "slideshow": {
     "slide_type": "fragment"
    }
   },
   "source": [
    "To use a module:\n",
    "- import the module using the keyword `import` followed by the module name (`import` statements should appear at the beginning of your program)\n",
    "- prefix any functions from the module with the module name followed by a dot/point (`.`)"
   ]
  },
  {
   "cell_type": "markdown",
   "metadata": {
    "slideshow": {
     "slide_type": "slide"
    }
   },
   "source": [
    "# The `csv` module\n",
    "\n",
    "Certain modules were installed on your computer automatically when Python was installed\n",
    "\n",
    "These include a module called `csv` for handling CSV files \n",
    "\n",
    "All functions from the `csv` module are listed here: https://docs.python.org/3/library/csv.html"
   ]
  },
  {
   "cell_type": "markdown",
   "metadata": {
    "slideshow": {
     "slide_type": "slide"
    }
   },
   "source": [
    "Instructions for how to use the functions from a module are given in the documentation for the module. \n",
    "\n",
    "`csv` module documentation: https://docs.python.org/3/library/csv.html"
   ]
  },
  {
   "cell_type": "markdown",
   "metadata": {
    "slideshow": {
     "slide_type": "slide"
    }
   },
   "source": [
    "Let's look at the documentation for `csv.reader`\n",
    "\n",
    "```\n",
    "csv.reader(csvfile, dialect='excel', **fmtparams)\n",
    "```\n",
    "\n",
    "The function takes:\n",
    "\n",
    "__Positional argument__: `csvfile`\n",
    "- Must be entered between parentheses when we use the function\n",
    "\n",
    "__Optional arguments__: `dialect`, `**fmtparams`\n",
    "- Identified by `=` or `**` sign\n",
    "- Only entered between parentheses when using a function, if a different value required"
   ]
  },
  {
   "cell_type": "markdown",
   "metadata": {
    "slideshow": {
     "slide_type": "slide"
    }
   },
   "source": [
    "We are also told:  \n",
    "*If csvfile is a file object, it should be opened with newline=''.*\n",
    "\n",
    "This is so that newline characters are not altered in the imported file which is particularly important where the file was created on a different operating system. \n",
    "\n",
    "`with open('temperature.csv', newline='') as file:`"
   ]
  },
  {
   "cell_type": "markdown",
   "metadata": {
    "slideshow": {
     "slide_type": "slide"
    }
   },
   "source": [
    "# Reading a csv file with the `csv` module\n",
    "\n",
    "\n",
    "The `reader` function is used, (prefixed with module name `csv`) after opening the file. "
   ]
  },
  {
   "cell_type": "code",
   "execution_count": 4,
   "metadata": {
    "slideshow": {
     "slide_type": "fragment"
    }
   },
   "outputs": [
    {
     "name": "stdout",
     "output_type": "stream",
     "text": [
      "Line: ['Jan', 'Feb', 'Mar', 'Apr', 'May', 'Jun', 'Jul', 'Aug', 'Sep', 'Oct', 'Nov', 'Dec']\n",
      "Line: ['6', '5', '8', '10', '13', '16', '18', '18', '15', '13', '8', '7']\n"
     ]
    }
   ],
   "source": [
    "import csv\n",
    "\n",
    "with open('temperature.csv', newline='') as file:\n",
    "    \n",
    "    file = csv.reader(file)\n",
    "    \n",
    "    for value in file:\n",
    "        print('Line:', value)"
   ]
  },
  {
   "cell_type": "markdown",
   "metadata": {
    "slideshow": {
     "slide_type": "slide"
    }
   },
   "source": [
    "\n",
    "Notice the difference in how the data is represented in the output of the function. \n",
    "\n",
    "Each line is now a series of comma seperated string values.\n",
    "\n",
    "This avoids the need to seperate the values manually. "
   ]
  },
  {
   "cell_type": "markdown",
   "metadata": {
    "slideshow": {
     "slide_type": "slide"
    }
   },
   "source": [
    "The `reader` function returns a reader object which, like a file object, is *iterable* but not *subscriptable*.   "
   ]
  },
  {
   "cell_type": "markdown",
   "metadata": {
    "slideshow": {
     "slide_type": "slide"
    }
   },
   "source": [
    "The process of converting the imported data to numerical data requires fewer and less complicated steps than before. \n",
    "\n",
    "1. Convert file object to reader object \n",
    "2. Convert reader object to list (reader object is iterable but not subscriptable)\n",
    "3. Access line of file containing numerical values\n",
    "4. Cast all strings as integer values "
   ]
  },
  {
   "cell_type": "code",
   "execution_count": 424,
   "metadata": {},
   "outputs": [
    {
     "name": "stdout",
     "output_type": "stream",
     "text": [
      "[6, 5, 8, 10, 13, 16, 18, 18, 15, 13, 8, 7]\n"
     ]
    }
   ],
   "source": [
    "import csv\n",
    "\n",
    "with open('temperature.csv') as file:\n",
    "    file = csv.reader(file, delimiter=',', dialect='excel')\n",
    "    file = list(file)                   \n",
    "    values = file[1]            \n",
    "    values = [int(v) for v in values]              \n",
    "    print(values)"
   ]
  },
  {
   "cell_type": "markdown",
   "metadata": {
    "slideshow": {
     "slide_type": "slide"
    }
   },
   "source": [
    "This example illustrates the purpose of importing a module. \n",
    "\n",
    "By importing a module, we can access additional functions, to handle tasks that we are likely to encounter.\n",
    "\n",
    "This can avoid writing longer and more complicated code from scratch.  "
   ]
  },
  {
   "cell_type": "markdown",
   "metadata": {
    "slideshow": {
     "slide_type": "slide"
    }
   },
   "source": [
    "# Saving data to a CSV file using the `csv` module"
   ]
  },
  {
   "cell_type": "markdown",
   "metadata": {},
   "source": [
    "To save data to a file, rather than read it, a second argument, mode `w` should be given when opening the file:\n",
    "\n",
    "```python\n",
    "with open('data.csv', 'w') as file:\n",
    "```\n",
    "\n",
    "- Creates a new file in the current working directory\n",
    "- Indicates that the file is to be written to, rather than read"
   ]
  },
  {
   "cell_type": "markdown",
   "metadata": {
    "slideshow": {
     "slide_type": "slide"
    }
   },
   "source": [
    "The `writer` function is used, (prefixed with module name `csv`) after opening the file. \n",
    "\n",
    "The `writer` function returns a writer object\n",
    "\n",
    "(From `csv` module documentation https://docs.python.org/3/library/csv.html):<br>\n",
    "*If csvfile is a file object, it should be opened with newline=''.*"
   ]
  },
  {
   "cell_type": "code",
   "execution_count": 454,
   "metadata": {},
   "outputs": [],
   "source": [
    "with open('data.csv', 'w', newline = '') as file:\n",
    "    writer = csv.writer(file)"
   ]
  },
  {
   "cell_type": "markdown",
   "metadata": {
    "slideshow": {
     "slide_type": "slide"
    }
   },
   "source": [
    "Like all objects, the writer object type has a specific set of operations that can be used with it.\n",
    "    \n",
    "These are known as **methods**\n",
    "\n",
    "The method is used on a variable by placing the method name after the variable name, seperated by a dot/period/point `.`\n",
    "\n",
    "The section 'Writer Objects' in the `csv` module documentation lists methods that can be used with writer objects\n",
    "\n"
   ]
  },
  {
   "cell_type": "markdown",
   "metadata": {
    "slideshow": {
     "slide_type": "slide"
    }
   },
   "source": [
    "\n",
    "`csvwriter.writerow(row)` \n",
    "\n",
    "Writes the `row` parameter entered within the parentheses to the file we opened.\n",
    "\n",
    "`row` must be an iterable (e.g. list, tuple) of strings or numbers."
   ]
  },
  {
   "cell_type": "code",
   "execution_count": 3,
   "metadata": {},
   "outputs": [],
   "source": [
    "x = list(range(10))\n",
    "\n",
    "with open('x_data.csv', 'w', newline = '') as file:\n",
    "    writer = csv.writer(file)\n",
    "    writer.writerow(x)"
   ]
  },
  {
   "cell_type": "markdown",
   "metadata": {
    "slideshow": {
     "slide_type": "slide"
    }
   },
   "source": [
    "`csvwriter.writerows(rows)`\n",
    "\n",
    "Writes all elements in `rows` (an iterable of row objects as described above) to the file we opened"
   ]
  },
  {
   "cell_type": "code",
   "execution_count": null,
   "metadata": {},
   "outputs": [],
   "source": [
    "x = list(range(10))\n",
    "y = [i**2 for i in x]\n",
    "\n",
    "with open('xy_data.csv', 'w', newline = '') as file:\n",
    "    writer = csv.writer(file)\n",
    "    writer.writerows([x,y])"
   ]
  },
  {
   "cell_type": "markdown",
   "metadata": {
    "slideshow": {
     "slide_type": "slide"
    }
   },
   "source": [
    "# Summary\n",
    "\n",
    "- By importing a module, we can access additional functions, to handle tasks that we are likely to encounter.\n",
    "- This can avoid writing longer and more complicated code from scratch.\n",
    "- Details of the functions associated with a module can be found in the module documentation\n",
    "- The `csv` module provides functions for handling data using CSV files\n",
    "- There are many other modules for easy handling of different file types e.g.:\n",
    "    - `json`: JSON files\n",
    "    - `zipfile`: ZIP files\n",
    "    - `PyPDF2`: PDF files\n",
    "    - `pyxlsb`, `openpyxl`: Excel files\n",
    "    - `Pillow`: image files"
   ]
  },
  {
   "cell_type": "markdown",
   "metadata": {
    "slideshow": {
     "slide_type": "slide"
    }
   },
   "source": [
    "### Need to see some more examples? \n",
    "https://python-adv-web-apps.readthedocs.io/en/latest/csv.html\n",
    "<br>https://www.geeksforgeeks.org/working-csv-files-python/\n",
    "<br>https://realpython.com/python-csv/\n",
    "\n",
    "### Want some more advanced information?\n",
    "https://docs.python.org/3/tutorial/modules.html"
   ]
  }
 ],
 "metadata": {
  "celltoolbar": "Slideshow",
  "kernelspec": {
   "display_name": "Python 3 (ipykernel)",
   "language": "python",
   "name": "python3"
  },
  "language_info": {
   "codemirror_mode": {
    "name": "ipython",
    "version": 3
   },
   "file_extension": ".py",
   "mimetype": "text/x-python",
   "name": "python",
   "nbconvert_exporter": "python",
   "pygments_lexer": "ipython3",
   "version": "3.10.9"
  }
 },
 "nbformat": 4,
 "nbformat_minor": 4
}
