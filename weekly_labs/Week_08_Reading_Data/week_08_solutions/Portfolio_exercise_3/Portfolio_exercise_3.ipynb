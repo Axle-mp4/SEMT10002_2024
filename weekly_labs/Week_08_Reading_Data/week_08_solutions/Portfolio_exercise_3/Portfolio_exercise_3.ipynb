{
 "cells": [
  {
   "cell_type": "markdown",
   "id": "e01781d4",
   "metadata": {},
   "source": [
    "# Portfolio exercise 3\n",
    "\n",
    "Last week, you completed the first part of Portfolio Exercise 3\n",
    "\n",
    "This week, you will finish the Portfolio Exercise and submit your python program containing the first and second parts of the exercise. \n",
    "\n",
    "Copy the contents of the portfolio exercise you completed last week into week_08/Portfolio_exercise_3/save_assigned_grades.py"
   ]
  },
  {
   "cell_type": "markdown",
   "id": "dad65194",
   "metadata": {},
   "source": [
    "### Here's a reminder of last week's exercise...\n",
    "\n",
    "Returning to the student data from the previous question, you already have some code to calculate the average and standard deviation for each question. \n",
    "\n",
    "| Student | Question 1 | Question 2 | Question 3 |\n",
    "| :-: | :-: | :-: | :-: |\n",
    "| Martin | 6 | 1 | 4 | 11\n",
    "| Arthur | 3 | 8 | 4 | 15\n",
    "| Hemma | 7 | 4 | 5 | 16\n",
    "| Josh | 4 | 7 | 3 | 14\n",
    "\n",
    "Now, I'd like to turn these set of marks into a set of overall grades for each student. To do that, I'd like to you to write some code to create a new list containing the total marks achieved by each student. i.e for Martin, this would be a total = 6+1+4 = 11. \n",
    "\n",
    "Next, I'd like you to write some code to calculate the mean and standard deviation of the total marks achieved. Recall that the standard deviation of some data is given by:\n",
    "\n",
    "$\\sigma = \\sqrt {\\sum^i_N \\frac{(x_i-\\mu)^2}{N}}$, where $\\mu$ is the mean.\n",
    "\n",
    "In Python, you can calculate a square root using the function ```math.sqrt()```.\n",
    "\n",
    "Next, you should write some code to normalise the marks by subtracting the mean score from each mark. i.e here the mean mark is 14, so Martin's normalised mark should become 11-14=-3. \n",
    "\n",
    "Finally, I'd like to turn these marks into a grade according to the formula:\n",
    "\n",
    "| Normalised Mark | Grade | \n",
    "| :-: | :-: | \n",
    "| mark < -1 * standard deviation | Fail | \n",
    "| -1 * standard deviation <= mark < 0 | C | \n",
    "| 0 <= mark < 1 * standard deviation | B | \n",
    "| 1 * standard deviation <= mark | A | \n",
    "\n",
    "Write some code to turn the normalised mark into a grade for each student, storing the results in a *dictionary* with the student name as the key and grade as the value.\n"
   ]
  },
  {
   "cell_type": "markdown",
   "id": "4ff81e4b",
   "metadata": {},
   "source": [
    "### This week's exercise...\n",
    "\n",
    "Edit the program you wrote last week so that it saves the table containing student marks, in the format shown below, to a CSV file called `grades.csv`:\n",
    "\n",
    "| Student | Question 1 | Question 2 | Question 3 | Grade |\n",
    "| :-: | :-: | :-: | :-: | :-: |\n",
    "| Martin | 6 | 1 | 4 | ??? |\n",
    "| Arthur | 3 | 8 | 4 | ??? |\n",
    "| Hemma | 7 | 4 | 5 | ??? |\n",
    "| Josh | 4 | 7 | 3 | ??? |"
   ]
  },
  {
   "cell_type": "markdown",
   "id": "b6477c6b",
   "metadata": {
    "slideshow": {
     "slide_type": "slide"
    }
   },
   "source": [
    "Run your program using:\n",
    "- Terminal: `python save_assigned_grades.py` \n",
    "- Colab: `!python save_assigned_grades.py` "
   ]
  },
  {
   "cell_type": "markdown",
   "id": "61d9806e",
   "metadata": {
    "slideshow": {
     "slide_type": "slide"
    }
   },
   "source": [
    "You can use the following to test your program.  \n",
    "- Terminal: `python test_save_assigned_grades.py save_assigned_grades.py` \n",
    "- Colab: `!python test_save_assigned_grades.py save_assigned_grades.py`\n",
    "\n",
    "If you don't get any errors, you're ready to submit your program for marking. Submit only the Python file, not the csv file"
   ]
  },
  {
   "cell_type": "code",
   "execution_count": null,
   "id": "9c9b11b0",
   "metadata": {},
   "outputs": [],
   "source": []
  }
 ],
 "metadata": {
  "kernelspec": {
   "display_name": "Python 3 (ipykernel)",
   "language": "python",
   "name": "python3"
  },
  "language_info": {
   "codemirror_mode": {
    "name": "ipython",
    "version": 3
   },
   "file_extension": ".py",
   "mimetype": "text/x-python",
   "name": "python",
   "nbconvert_exporter": "python",
   "pygments_lexer": "ipython3",
   "version": "3.10.9"
  }
 },
 "nbformat": 4,
 "nbformat_minor": 5
}
