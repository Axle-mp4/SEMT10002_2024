{
 "cells": [
  {
   "cell_type": "markdown",
   "metadata": {
    "slideshow": {
     "slide_type": "slide"
    }
   },
   "source": [
    "# Introduction to Computer Programming\n",
    "\n",
    "## Week 8: Reading and writing data\n",
    "\n",
    "* * *\n",
    "\n",
    "<img src=\"https://github.com/engmaths/EMAT10007_2023/blob/main/weekly_content/img/full-colour-logo-UoB.png?raw=true\" width=\"20%\">\n",
    "</p>"
   ]
  },
  {
   "cell_type": "markdown",
   "metadata": {
    "slideshow": {
     "slide_type": "slide"
    }
   },
   "source": [
    "### Open the Google Colab notebook for this class\n",
    "\n",
    "Either:\n",
    "\n",
    "github.com/engmaths/SEMT10002_2024/blob/main/weekly_labs/Week_08_Reading_Data/week_08-lab.ipynb\n",
    "\n",
    "- Click [this link](https://colab.research.google.com/github/engmaths/SEMT10002_2024/blob/main/weekly_labs/Week_08_Reading_Data/week_08-lab.ipynb) to open this notebook in Google colab.  <br>You'll need to sign in with a Google account before you can run it.  <br>When you do, hit `Ctrl+F9` to check it all runs.\n",
    "\n",
    "or\n",
    "\n",
    "- Download it to your local computer using `git clone https://github.com/engmaths/SEMT10002_2024` or just use `git pull` to refresh if you've done this already.\n",
    "- Navigate to the subfolder `weekly_labs/Week_08_Reading_Data/` and open the notebook `week_08-lab.ipynb`.  For example, in Visual Studio Code, use `Ctrl+K Ctrl+O` to open a folder and select the folder just mentioned.  Then you can open the notebook file by clicking on it in the left hand explorer sidebar."
   ]
  },
  {
   "cell_type": "markdown",
   "metadata": {
    "slideshow": {
     "slide_type": "slide"
    }
   },
   "source": [
    "# Modularity\n",
    "\n",
    "<img src=\"https://github.com/engmaths/SEMT10002_2024/blob/main/img/modularity_overview.png?raw=true\" width=\"80%\">\n",
    "</p>"
   ]
  },
  {
   "cell_type": "markdown",
   "metadata": {
    "slideshow": {
     "slide_type": "slide"
    }
   },
   "source": [
    "# Recap of the videos\n",
    "\n",
    "- We can open a file containing data using the `open` function and the file path \n",
    "```\n",
    "open('data/temperature.csv')\n",
    "```\n",
    "- The data file may be located upstream or downstream of the current working directory\n",
    "- Different types of data file:\n",
    "    - __Text files__: Human-readable data. Bytes represent plain text characters \n",
    "    - __Binary files__: Data that is not intended to be human-readable. Bytes do not represent plain text characters, but other information about the file. \n",
    "- By importing a module, we can access additional functions, to handle tasks that we are likely to encounter.\n",
    "- This can avoid writing longer and more complicated code from scratch.\n",
    "- Details of the functions associated with a module can be found in the module documentation\n",
    "- The `csv` module provides functions for handling data using CSV files"
   ]
  },
  {
   "cell_type": "markdown",
   "metadata": {
    "slideshow": {
     "slide_type": "slide"
    }
   },
   "source": [
    "# Aim \n",
    "\n",
    "To become comfortable with:\n",
    "- Opening files from upstream and downstream locations using the file path\n",
    "- Understanding the importance of *where* we run our program (the __current working directory__)\n",
    "- Opening text files using a computer program and reading the data contained in the file\n",
    "- Importing a module you have seen before (`csv`) and using the functions from this module to read input data and save output data\n",
    "- Looking at documentation for modules for other file types (e.g. JSON files) and finding eqivalent functions for reading and saving data"
   ]
  },
  {
   "cell_type": "markdown",
   "metadata": {
    "slideshow": {
     "slide_type": "slide"
    }
   },
   "source": [
    "There is a set of files for you to download that we will be working with/editing today. "
   ]
  },
  {
   "cell_type": "markdown",
   "metadata": {
    "slideshow": {
     "slide_type": "fragment"
    }
   },
   "source": [
    "You can download these files from the command line/ terminal application. \n",
    "\n",
    "1. Navigate to the directory where you want to download the files using `cd`\n",
    "\n",
    "2. Download the .zip file by running: `curl -O https://raw.githubusercontent.com/engmaths/SEMT10002_2024/main/weekly_labs/Week_08_Reading_Data/week_08.zip`\n",
    "\n",
    "3. Then unzip the file by running: `unzip week_08.zip`"
   ]
  },
  {
   "cell_type": "markdown",
   "metadata": {
    "slideshow": {
     "slide_type": "slide"
    }
   },
   "source": [
    "You can then open the files in VS code IDE, you must open the folder containing both the program and the data. \n",
    "\n",
    "File >> Open >> (Folder to open)<br>\n",
    "(To exit: File >> Close Folder)<br><br>"
   ]
  },
  {
   "cell_type": "markdown",
   "metadata": {
    "slideshow": {
     "slide_type": "slide"
    }
   },
   "source": [
    "You can alternatively open the files and work on them in Google Colab. \n",
    "\n",
    "1. Run the following cell\n"
   ]
  },
  {
   "cell_type": "code",
   "execution_count": 1,
   "metadata": {},
   "outputs": [],
   "source": [
    "import sys\n",
    "if 'google.colab' in sys.modules:\n",
    "    !wget https://raw.githubusercontent.com/engmaths/SEMT10002_2024/main/weekly_labs/Week_08_Reading_Data/week_08.zip\n",
    "    !unzip week_08.zip"
   ]
  },
  {
   "cell_type": "markdown",
   "metadata": {},
   "source": [
    "1. You can view the files in the Files tab in the side bar\n",
    "1. To run a Python file, run `!python <filename>\n",
    "1. To change directory, run `%cd <file_path>` (prefixing with `%` instead of `!` means that it will be effective across all code cells run)"
   ]
  },
  {
   "cell_type": "markdown",
   "metadata": {
    "slideshow": {
     "slide_type": "slide"
    }
   },
   "source": [
    "Fallback option: Files also available to download as zip file (Week_8.zip) on Blackboard, Week 8\n",
    "\n",
    "The files can then be opened in VS Code or uplaoded to Colab and opened. "
   ]
  },
  {
   "cell_type": "markdown",
   "metadata": {
    "slideshow": {
     "slide_type": "slide"
    }
   },
   "source": [
    "# Example: Importing a downstream file\n",
    "\n",
    "Consider the file system below. \n",
    "\n",
    "Open the file `student_marks.csv` using `program_A.py` and read the contents\n",
    "\n",
    "```\n",
    "Week_08/\n",
    "|\n",
    "|--- Example A/\n",
    "        |\n",
    "        |--- program_A.py\n",
    "        |--- student_marks.csv\n",
    "```\n",
    "\n"
   ]
  },
  {
   "cell_type": "markdown",
   "metadata": {
    "slideshow": {
     "slide_type": "slide"
    }
   },
   "source": [
    "# Example: Importing an upstream file\n",
    "\n",
    "Consider the file system below. \n",
    "\n",
    "Open the file `student_marks.csv` using `program_B.py` and read the contents\n",
    "\n",
    "```\n",
    "Week_08/\n",
    "|\n",
    "|--- Example_B/\n",
    "        |\n",
    "        |--- student_marks.csv\n",
    "        |--- my_program/ \n",
    "               |\n",
    "               |--- program_B.py\n",
    "```"
   ]
  },
  {
   "cell_type": "markdown",
   "metadata": {
    "slideshow": {
     "slide_type": "slide"
    }
   },
   "source": [
    "# Example: Using imported numerical data and saving a CSV file\n",
    "\n",
    "Consider the file system below. \n",
    "\n",
    "a) Open the file `student_marks.csv` using `program_C.py` and read the contents<br>\n",
    "b) Find the mean of the student marks \n",
    "\n",
    "```\n",
    "Week_08/\n",
    "|\n",
    "|--- Example_C/\n",
    "        |\n",
    "        |--- my_program/ \n",
    "               |\n",
    "               |--- program_C.py\n",
    "        |--- my_data/ \n",
    "               |\n",
    "               |--- student_marks.csv\n",
    "```"
   ]
  },
  {
   "cell_type": "markdown",
   "metadata": {
    "slideshow": {
     "slide_type": "slide"
    }
   },
   "source": [
    "c) Using the table below, find the grade associated with each student mark.<br>Save the student grades as a row of a new csv file called `student_grades.csv`, in the same directory as `student_marks.csv`\n",
    "\n",
    "| Grade | Range    | \n",
    "| :------: | :---------------:   | \n",
    "| A       | mark $\\geq 70$             | \n",
    "| B       | $70 >$ mark $\\geq 60$             | \n",
    "| C       | $60 >$ mark $\\geq 50$            | \n",
    "| D       | $50 >$ mark $\\geq 40$            | \n",
    "| F       | mark $< 40$             | "
   ]
  },
  {
   "cell_type": "code",
   "execution_count": 296,
   "metadata": {},
   "outputs": [
    {
     "name": "stdout",
     "output_type": "stream",
     "text": [
      "['C', 'A', 'A', 'B', 'D', 'D', 'C', 'B', 'B', 'A', 'B', 'C']\n"
     ]
    }
   ],
   "source": [
    "    grades = []\n",
    "\n",
    "    for m in marks:\n",
    "        if m >= 70:\n",
    "            grades.append('A')\n",
    "        elif m >= 60:\n",
    "            grades.append('B')\n",
    "        elif m >= 50:\n",
    "            grades.append('C')\n",
    "        elif m >= 40:\n",
    "            grades.append('D')\n",
    "        else:\n",
    "            grades.append('E')\n",
    "\n",
    "    print(grades)"
   ]
  },
  {
   "cell_type": "markdown",
   "metadata": {
    "slideshow": {
     "slide_type": "slide"
    }
   },
   "source": [
    "d) Edit `program_C.py` so that it also saves the original data from `student_marks.csv` with a new column containing student grades to `student_marks_updated.csv`, in the same directory as `student_marks.csv`"
   ]
  },
  {
   "cell_type": "markdown",
   "metadata": {
    "slideshow": {
     "slide_type": "slide"
    }
   },
   "source": [
    "# Lab exercises\n",
    "\n",
    "Complete the exercises by working in an IDE and/or the terminal\n",
    "\n",
    "When reading teh contents of a file, if the first item imported begins with `\\ufeff`, we need to include an  additional argument when calling the `open` function to specify the binary encoding used for the file. <br>The additional argument is `encoding='utf-8-sig'`."
   ]
  },
  {
   "cell_type": "markdown",
   "metadata": {
    "slideshow": {
     "slide_type": "slide"
    }
   },
   "source": [
    "# Exercise 1 - Importing data from upstream and downstream locations\n",
    "\n",
    "In the directory, 'Week_08', sub-subdirectory 'Lab_Exercise_1', find and modify the program `program_1.py` to:\n",
    "1. Import the file rainfall.csv and display the contents of the file\n",
    "1. Import the file unit_description.txt and print the third line\n",
    "1. Import the file file xyz_data.csv and print a list containing the sum of x and z for each row in xyz_data.csv"
   ]
  },
  {
   "cell_type": "markdown",
   "metadata": {
    "slideshow": {
     "slide_type": "slide"
    }
   },
   "source": [
    "# Exercise 2 - Importing and using data"
   ]
  },
  {
   "cell_type": "markdown",
   "metadata": {},
   "source": [
    "In the directory, 'Week_08', sub-subdirectory 'Lab_Exercise_2', find and modify the program `program_2.py` to:\n",
    "1. Import the file rainfall.csv.\n",
    "1. Print the mean and standard deviation of the monthly rainfall values. \n",
    "\n",
    "Standard deviation $\\sigma = \\sqrt{\\frac{1}{N} \\sum_{i=1}^{N} (x_i - \\mu)^2}$, where $N$ is the total number data points, $x_i$ is each data point and, $\\mu$ is the mean of all data points. "
   ]
  },
  {
   "cell_type": "markdown",
   "metadata": {
    "slideshow": {
     "slide_type": "slide"
    }
   },
   "source": [
    "# Exercise 3 - Saving data to a file"
   ]
  },
  {
   "cell_type": "markdown",
   "metadata": {},
   "source": [
    "In the directory, 'Week_08', sub-subdirectory 'Lab_Exercise_3', find and modify the program `program_3.py` to:\n",
    "1. Save the list, `cities`, to a csv file `data_1.csv`\n",
    "2. Save `cities` and `populations` to a csv file, `data_2.csv`, where cities is the first *row* and population is the second\n",
    "2. Save `cities` and `populations` to a csv file, `data_3.csv`, where cities is the first *column* and populations is the second"
   ]
  },
  {
   "cell_type": "markdown",
   "metadata": {
    "slideshow": {
     "slide_type": "slide"
    }
   },
   "source": [
    "# Exercise 4: Sensor data processing\n",
    "In the directory, 'Week_8', sub-subdirectory 'Lab_Exercise_4', the file `sensor_data.csv` contains data from 3 sensors mounted on the front of a mobile robot that sense distance to the nearest object in mm, recorded every 100 milli-seconds.\n",
    "\n",
    "<img src=\"https://github.com/engmaths/SEMT10002_2024/blob/main/img/distance_sensor_robot\n",
    ".png?raw=true\" width=\"40%\">\n",
    "</p> \n",
    "\n",
    "Import the data from `sensor_data.csv` to `program_4.py`\n",
    "\n",
    "Sensor data is susceptible to noise and is often filtered to smooth the data, giving a more reliable representation of the parameter being sensed. <br>A simple filtering method is the moving average filter. <br>This computes a filtered value, $y_n$, which is the average value of $N$ data points $(x_n + x_{n-1} + ... + x_{n-(N-1)})$  \n",
    "\n",
    "\n",
    "$$y_n = \\frac{1}{N} \\sum_{i=0}^{N-1}x_{n-i}$$\n",
    "\n",
    "For example, if the number of points to average $N=5$:\n",
    "\n",
    "$y_4 = \\frac{x_4 + x_3 + x_2 + x_1 + x_0}{5}$\n",
    "\n",
    "$y_5 = \\frac{x_5 + x_4 + x_3 + x_2 + x_1}{5}$\n",
    "\n",
    "$y_6 = \\frac{x_6 + x_5 + x_4 + x_3 + x_2}{5}$\n",
    "\n",
    "$...$\n",
    "\n",
    "Assuming $x_0$ is the first data point in our series, we cannot calculate $y_3, y_2, y_1$ or $y_0$ as there aren't enough data points. The filtered data series is therefore shorter than the original data series by $N-1$ values. \n",
    "\n",
    "\n",
    "3. Apply a moving average filter, with window size of $N=5$, to the first sensor data column (Sensor 1). \n",
    "\n",
    "4. Save the filtered sensor data, to a new file `filtered_sensor_data.csv`."
   ]
  },
  {
   "cell_type": "markdown",
   "metadata": {
    "slideshow": {
     "slide_type": "slide"
    }
   },
   "source": [
    "You can use the following to test your program. \n",
    "- terminal: `python test_sensor_data_processing.py program_4.py` \n",
    "- Colab: `!python test_sensor_data_processing.py program_4.py`"
   ]
  },
  {
   "cell_type": "code",
   "execution_count": 1,
   "metadata": {},
   "outputs": [],
   "source": [
    "# Portfolio exercise"
   ]
  },
  {
   "cell_type": "markdown",
   "metadata": {
    "slideshow": {
     "slide_type": "slide"
    }
   },
   "source": [
    "1. Create a new python file in the same directory as `sensor_data.csv` called `sensor_data_processing.py`:\n",
    "<br>In terminal: `touch sensor_data_processing.py` \n",
    "<br>In Colab: `!touch sensor_data_processing.py`\n",
    "\n",
    "#### Test and submit\n",
    "\n",
    "Before submitting, download `test_sensor_data_processing.py`\n",
    "\n",
    "To download locally to the computer you are working on, in the terminal, run:\n",
    "`curl -O https://raw.githubusercontent.com/engmaths/SEMT10002_2024/main/weekly_labs/Week_08_Reading_Data/test_sensor_data_processing.py`\n",
    "\n",
    "\n",
    "\n",
    "To download to Colab:\n",
    "`!wget https://raw.githubusercontent.com/engmaths/SEMT10002_2024/main/weekly_labs/Week_08_Reading_Data/test_sensor_data_processing.py`\n",
    "\n",
    "\n",
    "\n"
   ]
  },
  {
   "cell_type": "markdown",
   "metadata": {
    "slideshow": {
     "slide_type": "slide"
    }
   },
   "source": [
    "Run your program using:\n",
    "- `python sensor_data_processing.py` (terminal)\n",
    "- `!python sensor_data_processing.py` (Colab)"
   ]
  },
  {
   "cell_type": "markdown",
   "metadata": {
    "slideshow": {
     "slide_type": "slide"
    }
   },
   "source": [
    "You can use the following to test your program.  If you don't get any errors, you're ready to submit your program for marking\n",
    "- `python test_sensor_data_processing.py sensor_data_processing.py` (terminal)\n",
    "- `!python test_sensor_data_processing.py sensor_data_processing.py`(Colab)"
   ]
  },
  {
   "cell_type": "markdown",
   "metadata": {
    "slideshow": {
     "slide_type": "slide"
    }
   },
   "source": [
    "# Extension Exercise - Exploring other modules for importing data\n",
    "Read the information about using the `json` module to import JSON files. \n",
    "\n",
    "Exercise 5 is given at the end of this information "
   ]
  },
  {
   "cell_type": "markdown",
   "metadata": {},
   "source": [
    "If you are opening the notebook in Google Colab, you can import the data files to use with the code cells throughout the notebook by running the code cell below:"
   ]
  },
  {
   "cell_type": "code",
   "execution_count": 8,
   "metadata": {},
   "outputs": [
    {
     "ename": "SyntaxError",
     "evalue": "invalid syntax (2109527584.py, line 1)",
     "output_type": "error",
     "traceback": [
      "\u001b[0;36m  Cell \u001b[0;32mIn[8], line 1\u001b[0;36m\u001b[0m\n\u001b[0;31m    wget https://raw.githubusercontent.com/engmaths/SEMT10002_2024/main/weekly_labs/Week_08_Reading_Data/unit_data.json\u001b[0m\n\u001b[0m         ^\u001b[0m\n\u001b[0;31mSyntaxError\u001b[0m\u001b[0;31m:\u001b[0m invalid syntax\n"
     ]
    }
   ],
   "source": [
    "wget https://raw.githubusercontent.com/engmaths/SEMT10002_2024/main/weekly_labs/Week_08_Reading_Data/unit_data.json"
   ]
  },
  {
   "cell_type": "markdown",
   "metadata": {},
   "source": [
    "\n",
    "\n",
    "## JSON files\n",
    "\n",
    "* JSON stands for JavaScript Object Notation\n",
    "* Widely used for data transfer as:\n",
    "     * both human and computer readable\n",
    "     * useable across different programming languages\n",
    "* Used for storing representations of programming objects (e.g. dictionaries, lists, tuples)"
   ]
  },
  {
   "cell_type": "markdown",
   "metadata": {
    "slideshow": {
     "slide_type": "slide"
    }
   },
   "source": [
    "The typical JSON file format looks very similar to a Python Dictionary.\n",
    "\n",
    "- Enclosed in curly braces\n",
    "- Key: Represents a variabale name\n",
    "- Value: Represents a value\n",
    "\n",
    "```\n",
    "{\n",
    "  \"Unit Name\": \"Computer Programming and Algorithms\",\n",
    "  \"Unit Code\": \"SEMT10002\",\n",
    "  \"Student ID\": [\"ab154\", \"fr877\", \"hg897\", \"ke890\", \"fe285\", \"lo730\", \"tr834\", \"ml965\", \"po892\", \"gw002\", \"wz303\", \"yu648\"],\n",
    "  \"Mark\": [56, 72, 74, 66, 43, 47, 57, 65, 62, 71, 62, 55]\n",
    "}\n",
    "```"
   ]
  },
  {
   "cell_type": "markdown",
   "metadata": {
    "slideshow": {
     "slide_type": "slide"
    }
   },
   "source": [
    "Objects can be stored and recalled using a key-value pair.\n",
    "\n",
    "This makes the JSON file a convenient way to store programming objects: \n",
    "- primitaves (e.g. ints, floats, Booleans)\n",
    "- data structures (e.g. lists, tuples, dictionaries)"
   ]
  },
  {
   "cell_type": "markdown",
   "metadata": {
    "slideshow": {
     "slide_type": "slide"
    }
   },
   "source": [
    "# Reading a JSON file\n",
    "\n",
    "Consider the file system below.\n",
    "\n",
    "```\n",
    "Week_8/\n",
    "|\n",
    "|--- Example D/\n",
    "        |\n",
    "        |--- program_D.py\n",
    "        |--- student_marks.json\n",
    "```\n",
    "\n",
    "We can open the file `unit_data.json` using `program_D.py` and read the contents using "
   ]
  },
  {
   "cell_type": "code",
   "execution_count": 9,
   "metadata": {
    "slideshow": {
     "slide_type": "slide"
    }
   },
   "outputs": [
    {
     "name": "stdout",
     "output_type": "stream",
     "text": [
      "{\n",
      "  \"Unit Name\": \"Computer Programming and Algorithms\",\n",
      "  \"Unit Code\": \"SEMT10002\",\n",
      "  \"Student ID\": [\"ab154\", \"fr877\", \"hg897\", \"ke890\", \"fe285\", \"lo730\", \"tr834\", \"ml965\", \"po892\", \"gw002\", \"wz303\", \"yu648\"],\n",
      "  \"Mark\": [56, 72, 74, 66, 43, 47, 57, 65, 62, 71, 62, 55]\n",
      "}\n",
      "\n"
     ]
    }
   ],
   "source": [
    "with open('unit_data.json') as file:\n",
    "    print(file.read())"
   ]
  },
  {
   "cell_type": "markdown",
   "metadata": {
    "slideshow": {
     "slide_type": "slide"
    }
   },
   "source": [
    "As we saw with CSV files the imported data stored is a string for each line in the JSON file\n",
    "\n",
    "Several steps would be required to access each value stored in the file"
   ]
  },
  {
   "cell_type": "code",
   "execution_count": 10,
   "metadata": {
    "slideshow": {
     "slide_type": "slide"
    }
   },
   "outputs": [
    {
     "name": "stdout",
     "output_type": "stream",
     "text": [
      "<class 'str'>\n",
      "<class 'str'>\n",
      "<class 'str'>\n",
      "<class 'str'>\n",
      "<class 'str'>\n",
      "<class 'str'>\n"
     ]
    }
   ],
   "source": [
    "with open('unit_data.json') as file:\n",
    "    file = list(file)\n",
    "    for f in file:\n",
    "        print(type(f))"
   ]
  },
  {
   "cell_type": "markdown",
   "metadata": {
    "slideshow": {
     "slide_type": "slide"
    }
   },
   "source": [
    "# The `json` module\n",
    "\n",
    "Certain modules were installed on your computer automatically when Python was installed\n",
    "\n",
    "These include a module called `json` for handling JSON files \n",
    "\n",
    "All functions from the `json` module are listed here: https://docs.python.org/3/library/json.html\n",
    "\n",
    "The `json` module can be imported using:"
   ]
  },
  {
   "cell_type": "code",
   "execution_count": 12,
   "metadata": {},
   "outputs": [],
   "source": [
    "import json"
   ]
  },
  {
   "cell_type": "markdown",
   "metadata": {
    "slideshow": {
     "slide_type": "slide"
    }
   },
   "source": [
    "# Reading a file using the `json` module\n",
    "\n",
    "The `load` function (prefixed with module name `json`) converts the file object to a dictionary. \n",
    "\n",
    "The key-value pairs can now be accessed as a dictionary object"
   ]
  },
  {
   "cell_type": "code",
   "execution_count": 14,
   "metadata": {},
   "outputs": [
    {
     "name": "stdout",
     "output_type": "stream",
     "text": [
      "<class 'dict'>\n",
      "SEMT10002\n"
     ]
    }
   ],
   "source": [
    "import json\n",
    "\n",
    "with open('unit_data.json') as file:\n",
    "    \n",
    "    dictionary = json.load(file)\n",
    "\n",
    "    print(type(dictionary))\n",
    "\n",
    "    print(dictionary[\"Unit Code\"])"
   ]
  },
  {
   "cell_type": "markdown",
   "metadata": {
    "slideshow": {
     "slide_type": "slide"
    }
   },
   "source": [
    "Let's look at the documentation for `json.load`<br>https://docs.python.org/3/library/json.html\n",
    "\n",
    "```\n",
    "json.load(fp, *, cls=None, object_hook=None,...)\n",
    "```\n",
    "\n",
    "The function takes:\n",
    "- A positional argument `fp`\n",
    "- Several optional arguments idenitifed by `*`, `=` or `**` sign"
   ]
  },
  {
   "cell_type": "markdown",
   "metadata": {
    "slideshow": {
     "slide_type": "slide"
    }
   },
   "source": [
    "# Example: Using imported numerical data\n",
    "\n",
    "Import the data stored in 'unit_data.json' and find the mean of the student marks"
   ]
  },
  {
   "cell_type": "code",
   "execution_count": 15,
   "metadata": {},
   "outputs": [
    {
     "name": "stdout",
     "output_type": "stream",
     "text": [
      "60.833333333333336\n"
     ]
    }
   ],
   "source": [
    "with open('unit_data.json') as file:\n",
    "    \n",
    "    dictionary = json.load(file)\n",
    "\n",
    "    marks = dictionary[\"Mark\"]\n",
    "\n",
    "    print(sum(marks)/len(marks))"
   ]
  },
  {
   "cell_type": "markdown",
   "metadata": {
    "slideshow": {
     "slide_type": "slide"
    }
   },
   "source": [
    "# Saving data to a JSON file using the `json` module"
   ]
  },
  {
   "cell_type": "markdown",
   "metadata": {},
   "source": [
    "To save data to a JSON file, first format the as a dictionary.\n",
    "\n",
    "To create a new file and open it for writing, we use the argument `w` when opening the file\n",
    "\n",
    "We can use the `dump` function (prefixed with module name `json`) to save the dictionary "
   ]
  },
  {
   "cell_type": "code",
   "execution_count": 16,
   "metadata": {},
   "outputs": [],
   "source": [
    "colours = {'red': [1,0,0], \n",
    "           'blue': [0,1,0], \n",
    "           'green': [0,0,1]\n",
    "          }\n",
    "\n",
    "with open('colours.json', 'w') as file:\n",
    "    json.dump(colours, file)"
   ]
  },
  {
   "cell_type": "markdown",
   "metadata": {
    "slideshow": {
     "slide_type": "slide"
    }
   },
   "source": [
    "The `load` function can be used to read the JSON file again"
   ]
  },
  {
   "cell_type": "code",
   "execution_count": 17,
   "metadata": {},
   "outputs": [
    {
     "name": "stdout",
     "output_type": "stream",
     "text": [
      "{'red': [1, 0, 0], 'blue': [0, 1, 0], 'green': [0, 0, 1]}\n"
     ]
    }
   ],
   "source": [
    "with open('colours.json') as file:\n",
    "    colours2 = json.load(file)\n",
    "\n",
    "print(colours2)"
   ]
  },
  {
   "cell_type": "markdown",
   "metadata": {
    "slideshow": {
     "slide_type": "slide"
    }
   },
   "source": [
    "# Example: Using imported numerical data and saving a JSON file\n",
    "\n",
    "Save the student ID number, marks and mean mark as a new JSON file called `student_grades.json`, in the same directory as `unit_data.json`"
   ]
  },
  {
   "cell_type": "code",
   "execution_count": 20,
   "metadata": {},
   "outputs": [],
   "source": [
    "with open('unit_data.json') as file:\n",
    "    \n",
    "    dictionary = json.load(file)\n",
    "\n",
    "    new_dictionary = {\n",
    "                      'Student ID': dictionary['Student ID'],\n",
    "                      'Mark': dictionary['Mark'],\n",
    "                      'Mean mark': sum(marks)/len(marks)\n",
    "                     }\n",
    "    \n",
    "with open('student_grades.json', 'w') as file:\n",
    "\n",
    "    json.dump(new_dictionary, file)\n",
    "\n",
    "    "
   ]
  },
  {
   "cell_type": "markdown",
   "metadata": {
    "slideshow": {
     "slide_type": "slide"
    }
   },
   "source": [
    "# Limitations of `json` module\n",
    "\n",
    "* Saved tuples will be converted into lists\n",
    "* Only a single primitive variable can be saved (a list can be used to group several primitives)\n",
    "* The names of the variables are not saved"
   ]
  },
  {
   "cell_type": "markdown",
   "metadata": {
    "slideshow": {
     "slide_type": "slide"
    }
   },
   "source": [
    "# Practise importing and writing to JSON files\n",
    "In the directory, 'Week_08', sub-subdirectory 'Lab_Exercise_5', the file `sensor_data.json` contains data from multiple sensors installed in a manufacturing plant. <br>Each sensor records its ID, timestamp, and the temperature it measures. Modify `program_5.py` to:\n",
    "1. Import the data from `sensor_data.json` and print the values for each sensor as 3 individual lists \n",
    "2. Calculate the average temperature for each sensor and assign each value to a variable \n",
    "3. Save these values to a new JSON file `mean_sensor_data.json` using keys: `'mean_sensor_1'`, `'mean_sensor_2'` and `'mean_sensor_3'`. "
   ]
  },
  {
   "cell_type": "code",
   "execution_count": null,
   "metadata": {},
   "outputs": [],
   "source": []
  }
 ],
 "metadata": {
  "celltoolbar": "Slideshow",
  "kernelspec": {
   "display_name": "Python 3 (ipykernel)",
   "language": "python",
   "name": "python3"
  },
  "language_info": {
   "codemirror_mode": {
    "name": "ipython",
    "version": 3
   },
   "file_extension": ".py",
   "mimetype": "text/x-python",
   "name": "python",
   "nbconvert_exporter": "python",
   "pygments_lexer": "ipython3",
   "version": "3.10.9"
  },
  "rise": {
   "theme": "white"
  }
 },
 "nbformat": 4,
 "nbformat_minor": 4
}
