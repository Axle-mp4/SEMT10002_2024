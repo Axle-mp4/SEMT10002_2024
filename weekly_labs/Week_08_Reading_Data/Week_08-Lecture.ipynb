{
 "cells": [
  {
   "cell_type": "markdown",
   "metadata": {
    "slideshow": {
     "slide_type": "slide"
    }
   },
   "source": [
    "# Introduction to Computer Programming\n",
    "\n",
    "## Week 8: Reading and writing data\n",
    "\n",
    "* * *\n",
    "\n",
    "<img src=\"https://github.com/engmaths/EMAT10007_2023/blob/main/weekly_content/img/full-colour-logo-UoB.png?raw=true\" width=\"20%\">\n",
    "</p>"
   ]
  },
  {
   "cell_type": "markdown",
   "metadata": {},
   "source": [
    "### Open the Google Colab notebook for this class\n",
    "\n",
    "Go to Google Colab in a web browser https://colab.research.google.com/\n",
    "\n",
    "Select File >> Open Notebook >> Github\n",
    "\n",
    "Under \"Enter a Github URL or search by organisation or user\", paste the link to this week's notebook (on blackboard)"
   ]
  },
  {
   "cell_type": "markdown",
   "metadata": {
    "slideshow": {
     "slide_type": "slide"
    }
   },
   "source": [
    "# Recap of the videos\n",
    "\n",
    "- We can open a file containing data using the `open` function and the file path \n",
    "```\n",
    "open('data/temperature.csv')\n",
    "```\n",
    "- The data file may be located upstream or downstream of the current working directory\n",
    "- Different types of data file:\n",
    "    - __Text files__: Human-readable data. Bytes represent plain text characters \n",
    "    - __Binary files__: Data that is not intended to be human-readable. Bytes do not represent plain text characters, but other information about the file. \n",
    "- By importing a module, we can access additional functions, to handle tasks that we are likely to encounter.\n",
    "- This can avoid writing longer and more complicated code from scratch.\n",
    "- Details of the functions associated with a module can be found in the module documentation\n",
    "- The `csv` module provides functions for handling data using CSV files"
   ]
  },
  {
   "cell_type": "markdown",
   "metadata": {},
   "source": [
    "# Question \n",
    "\n",
    "Consider the file system below\n",
    "\n",
    "```python\n",
    "|--- Question_1/\n",
    "        |\n",
    "        |--- program_1.py\n",
    "        |--- data/ \n",
    "               |\n",
    "               |--- temperature.csv\n",
    "```\n",
    "Is the file `temperature.csv` upstream or downstream of the file `program_1.py`?\n",
    "\n",
    "What command would you use to open the file `temperature.csv` using `program_1.py`?\n",
    "\n",
    "Enter your answer at [Mentimeter](https://menti.com)!"
   ]
  },
  {
   "cell_type": "markdown",
   "metadata": {},
   "source": [
    "# Aim \n",
    "\n",
    "To become comfortable with:\n",
    "- Opening files from up and downstream locations using the file path\n",
    "- Opening text files using a computer program and accessig the data contained in the file\n",
    "- Importing a module you have seen before (`csv`) and using the functions from this module to read and save data\n",
    "- Looking at documentation for modules for other file types (e.g. JSON files) and finding eqivalent functions for reading and saving data"
   ]
  },
  {
   "cell_type": "markdown",
   "metadata": {},
   "source": [
    "# Example: Importing a downstream file\n",
    "\n",
    "Consider the file system below. \n",
    "\n",
    "Open the file `student_marks.csv` using `program_5.py` and read the contents\n",
    "\n",
    "```\n",
    "Week_8/\n",
    "|\n",
    "|--- Example 5/\n",
    "        |\n",
    "        |--- program_5.py\n",
    "        |--- student_marks.csv\n",
    "```"
   ]
  },
  {
   "cell_type": "code",
   "execution_count": null,
   "metadata": {},
   "outputs": [],
   "source": []
  },
  {
   "cell_type": "markdown",
   "metadata": {},
   "source": [
    "# Example: Importing an upstream file\n",
    "\n",
    "Consider the file system below. \n",
    "\n",
    "Open the file `student_marks.csv` using `program_6.py` and read the contents\n",
    "\n",
    "```\n",
    "Week_8/\n",
    "|\n",
    "|--- Example_6/\n",
    "        |\n",
    "        |--- student_marks.csv\n",
    "        |--- my_program/ \n",
    "               |\n",
    "               |--- program_6.py\n",
    "```"
   ]
  },
  {
   "cell_type": "code",
   "execution_count": null,
   "metadata": {},
   "outputs": [],
   "source": []
  },
  {
   "cell_type": "markdown",
   "metadata": {},
   "source": [
    "# Example: Importing a binary file\n",
    "\n",
    "Consider the file system below. \n",
    "\n",
    "Open the file `saturn.jpg` using `program_7.py` and read the contents\n",
    "\n",
    "```\n",
    "Week_8/\n",
    "|\n",
    "|--- Example 7/\n",
    "        |\n",
    "        |--- program_7.py\n",
    "        |--- data/ \n",
    "               |\n",
    "               |--- saturn.jpg\n",
    "```"
   ]
  },
  {
   "cell_type": "code",
   "execution_count": null,
   "metadata": {},
   "outputs": [],
   "source": []
  },
  {
   "cell_type": "markdown",
   "metadata": {},
   "source": [
    "# Example: Using imported numerical data and saving a CSV file\n",
    "\n",
    "Consider the file system below. \n",
    "\n",
    "a) Open the file `student_marks.csv` using `program_8.py` and read the contents<br>\n",
    "b) Find the mean of the student marks \n",
    "\n",
    "```\n",
    "Week_8/\n",
    "|\n",
    "|--- Example_8/\n",
    "        |\n",
    "        |--- my_program/ \n",
    "               |\n",
    "               |--- program_8.py\n",
    "        |--- my_data/ \n",
    "               |\n",
    "               |--- student_marks.csv\n",
    "```"
   ]
  },
  {
   "cell_type": "code",
   "execution_count": null,
   "metadata": {},
   "outputs": [],
   "source": []
  },
  {
   "cell_type": "markdown",
   "metadata": {},
   "source": [
    "c) Using the table below, find the grade associated with each student mark.<br>Save the student ID number, marks and associated grades as a new csv file called `student_grades.csv`, in the same directory as `student_marks.csv`\n",
    "\n",
    "| Grade | Range    | \n",
    "| :------: | :---------------:   | \n",
    "| A       | mark $\\geq 70$             | \n",
    "| B       | $70 >$ mark $\\geq 60$             | \n",
    "| C       | $60 >$ mark $\\geq 50$            | \n",
    "| D       | $50 >$ mark $\\geq 40$            | \n",
    "| F       | mark $< 40$             | "
   ]
  },
  {
   "cell_type": "code",
   "execution_count": 296,
   "metadata": {},
   "outputs": [
    {
     "name": "stdout",
     "output_type": "stream",
     "text": [
      "['C', 'A', 'A', 'B', 'D', 'D', 'C', 'B', 'B', 'A', 'B', 'C']\n"
     ]
    }
   ],
   "source": [
    "    grades = []\n",
    "\n",
    "    for m in marks:\n",
    "        if m >= 70:\n",
    "            grades.append('A')\n",
    "        elif m >= 60:\n",
    "            grades.append('B')\n",
    "        elif m >= 50:\n",
    "            grades.append('C')\n",
    "        elif m >= 40:\n",
    "            grades.append('D')\n",
    "        else:\n",
    "            grades.append('E')\n",
    "\n",
    "    print(grades)"
   ]
  },
  {
   "cell_type": "markdown",
   "metadata": {},
   "source": [
    "# Importing saved data "
   ]
  },
  {
   "cell_type": "markdown",
   "metadata": {},
   "source": [
    "d) Edit `program_8.py` to open the file that you created `student_grades.csv` using `programme_7.py` and read the contents"
   ]
  },
  {
   "cell_type": "markdown",
   "metadata": {},
   "source": [
    "# Lab Exercises"
   ]
  },
  {
   "cell_type": "markdown",
   "metadata": {},
   "source": [
    "# Exercise 1 - Importing data from upstream and downstream locations\n",
    "\n",
    "In the directory, 'Week_8', sub-subdirectory 'Lab_Exercise_1', find and modify the program 'program_10' to:\n",
    "1. Import the file rainfall.csv and display the contents of the file\n",
    "1. Import the file unit_description.txt and display the contents of the file\n",
    "1. Import the file cat.png and display the contents of the file"
   ]
  },
  {
   "cell_type": "markdown",
   "metadata": {},
   "source": [
    "# Exercise 2 - Reading and using data from text files"
   ]
  },
  {
   "cell_type": "markdown",
   "metadata": {},
   "source": [
    "In the directory, 'Week_8', sub-subdirectory 'Lab_Exercise_2', find and modify the program 'program_11' to:\n",
    "1. Import the file rainfall.csv and print the mean and standard deviation of the monthly rainfall values\n",
    "2. Import the file file xyz_data.csv and print a list containing the sum of x and z for each row in xyz_data.csv\n",
    "3. Import the file unit_content.txt and print the third line\n"
   ]
  },
  {
   "cell_type": "markdown",
   "metadata": {},
   "source": [
    "# Exercise 3 - Saving data to a csv file"
   ]
  },
  {
   "cell_type": "markdown",
   "metadata": {},
   "source": [
    "In the directory, 'Week_8', sub-subdirectory 'Lab_Exercise_3', find and modify the program 'program_12' to:\n",
    "1. Save the tuple, `cities`, to a csv file\n",
    "2. Save the nested list `populations` to a csv file, where city is the first *row* and population is the second\n",
    "3. Save the nested list `populations` to a csv file, where city is the first *column* and population is the second\n",
    "4. Import the file file xyz_data.csv, create a list containing the sum of x and z for each row in xyz_data.csv, save columns x and z to a new file, along with a third column containing the values of the list you just created. "
   ]
  },
  {
   "cell_type": "markdown",
   "metadata": {},
   "source": [
    "# Exercise 4 - Real world programming example \n",
    "### Robot ..."
   ]
  },
  {
   "cell_type": "markdown",
   "metadata": {},
   "source": [
    "# Exploring other modules \n",
    "Read the information about using the `json` module to import JSON files. \n",
    "\n",
    "Exercise 5 is given at the end of this information \n",
    "\n",
    "## JSON files\n",
    "\n",
    "* JSON stands for JavaScript Object Notation\n",
    "* Widely used for data transfer as:\n",
    "     * both human and computer readable\n",
    "     * useable across different programming languages\n",
    "* Used for storing representations of programming objects (e.g. dictionaries, lists, tuples)"
   ]
  },
  {
   "cell_type": "markdown",
   "metadata": {},
   "source": [
    "The typical JSON file format looks very similar to a Python Dictionary.\n",
    "\n",
    "- Enclosed in curly braces\n",
    "- Key: Represents a variabale name\n",
    "- Value: Represents a value\n",
    "\n",
    "```\n",
    "{\n",
    "  \"Unit Name\": \"Computer Programming and Algorithms\",\n",
    "  \"Unit Code\": \"SEMT10002\",\n",
    "  \"Student ID\": [\"ab154\", \"fr877\", \"hg897\", \"ke890\", \"fe285\", \"lo730\", \"tr834\", \"ml965\", \"po892\", \"gw002\", \"wz303\", \"yu648\"],\n",
    "  \"Mark\": [56, 72, 74, 66, 43, 47, 57, 65, 62, 71, 62, 55]\n",
    "}\n",
    "```"
   ]
  },
  {
   "cell_type": "markdown",
   "metadata": {},
   "source": [
    "Objects can be stored and recalled using a key-value pair.\n",
    "\n",
    "This makes the JSON file a convenient way to store programming objects: \n",
    "- primitaves (e.g. ints, floats, Booleans)\n",
    "- data structures (e.g. lists, tuples, dictionaries)"
   ]
  },
  {
   "cell_type": "markdown",
   "metadata": {},
   "source": [
    "# Reading a JSON file\n",
    "\n",
    "Consider the file system below.\n",
    "\n",
    "```\n",
    "Week_8/\n",
    "|\n",
    "|--- Example 9/\n",
    "        |\n",
    "        |--- program_9.py\n",
    "        |--- student_marks.json\n",
    "```\n",
    "\n",
    "We can open the file `unit_data.json` using `program_9.py` and read the contents using "
   ]
  },
  {
   "cell_type": "code",
   "execution_count": 430,
   "metadata": {},
   "outputs": [
    {
     "name": "stdout",
     "output_type": "stream",
     "text": [
      "{\n",
      "  \"Unit Name\": \"Computer Programming and Algorithms\",\n",
      "  \"Unit Code\": \"SEMT10002\",\n",
      "  \"Student ID\": [\"ab154\", \"fr877\", \"hg897\", \"ke890\", \"fe285\", \"lo730\", \"tr834\", \"ml965\", \"po892\", \"gw002\", \"wz303\", \"yu648\"],\n",
      "  \"Mark\": [56, 72, 74, 66, 43, 47, 57, 65, 62, 71, 62, 55]\n",
      "}\n",
      "\n"
     ]
    }
   ],
   "source": [
    "with open('unit_data.json') as file:\n",
    "    print(file.read())"
   ]
  },
  {
   "cell_type": "markdown",
   "metadata": {},
   "source": [
    "As we saw with CSV files the imported data stored is a string for each line in the JSON file\n",
    "\n",
    "Several steps would be required to access each value stored in the file"
   ]
  },
  {
   "cell_type": "code",
   "execution_count": 275,
   "metadata": {},
   "outputs": [
    {
     "name": "stdout",
     "output_type": "stream",
     "text": [
      "<class 'str'>\n",
      "<class 'str'>\n",
      "<class 'str'>\n",
      "<class 'str'>\n",
      "<class 'str'>\n",
      "<class 'str'>\n"
     ]
    }
   ],
   "source": [
    "with open('unit_data.json') as file:\n",
    "    file = list(file)\n",
    "    for f in file:\n",
    "        print(type(f))"
   ]
  },
  {
   "cell_type": "markdown",
   "metadata": {},
   "source": [
    "# The `json` module\n",
    "\n",
    "Certain modules were installed on your computer automatically when Python was installed\n",
    "\n",
    "These include a module called `json` for handling JSON files \n",
    "\n",
    "All functions from the `json` module are listed here: https://docs.python.org/3/library/json.html"
   ]
  },
  {
   "cell_type": "markdown",
   "metadata": {},
   "source": [
    "# Reading a file using the `json` module\n",
    "\n",
    "The `load` function (prefixed with module name `json`) converts the file object to a dictionary. \n",
    "\n",
    "The key-value pairs can now be accessed as a dictionary object"
   ]
  },
  {
   "cell_type": "code",
   "execution_count": 279,
   "metadata": {},
   "outputs": [
    {
     "name": "stdout",
     "output_type": "stream",
     "text": [
      "<class 'dict'>\n",
      "SEMT10002\n"
     ]
    }
   ],
   "source": [
    "with open('unit_data.json') as file:\n",
    "    \n",
    "    dictionary = json.load(file)\n",
    "\n",
    "    print(type(dictionary))\n",
    "\n",
    "    print(dictionary[\"Unit Code\"])"
   ]
  },
  {
   "cell_type": "markdown",
   "metadata": {},
   "source": [
    "Let's look at the documentation for `json.load`\n",
    "\n",
    "```\n",
    "json.load(fp, *, cls=None, object_hook=None,...)\n",
    "```\n",
    "\n",
    "The function takes:\n",
    "- A positional argument `fp`\n",
    "- Several optional arguments idenitifed by `*`, `=` or `**` sign"
   ]
  },
  {
   "cell_type": "markdown",
   "metadata": {},
   "source": [
    "# Example: Using imported numerical data\n",
    "\n",
    "Import the data stored in 'unit_data.json' and find the mean of the student marks"
   ]
  },
  {
   "cell_type": "code",
   "execution_count": 283,
   "metadata": {},
   "outputs": [
    {
     "name": "stdout",
     "output_type": "stream",
     "text": [
      "60.833333333333336\n"
     ]
    }
   ],
   "source": [
    "with open('unit_data.json') as file:\n",
    "    \n",
    "    dictionary = json.load(file)\n",
    "\n",
    "    marks = dictionary[\"Mark\"]\n",
    "\n",
    "    print(sum(marks)/len(marks))"
   ]
  },
  {
   "cell_type": "markdown",
   "metadata": {},
   "source": [
    "# Saving data to a JSON file using the `json` module"
   ]
  },
  {
   "cell_type": "markdown",
   "metadata": {},
   "source": [
    "To save data to a JSON file, first format the as a dictionary.\n",
    "\n",
    "To create a new file and open it for writing, we use the argument `w` when opening the file\n",
    "\n",
    "We can use the `dump` function (prefixed with module name `json`) to save the dictionary "
   ]
  },
  {
   "cell_type": "code",
   "execution_count": 412,
   "metadata": {},
   "outputs": [],
   "source": [
    "colours = {'red': [1,0,0], \n",
    "           'blue': [0,1,0], \n",
    "           'green': [0,0,1]\n",
    "          }\n",
    "\n",
    "with open('colours.json', 'w') as file:\n",
    "    json.dump(colours, file)"
   ]
  },
  {
   "cell_type": "markdown",
   "metadata": {},
   "source": [
    "The `load` function can be used to read the JSON file again"
   ]
  },
  {
   "cell_type": "code",
   "execution_count": 410,
   "metadata": {},
   "outputs": [
    {
     "name": "stdout",
     "output_type": "stream",
     "text": [
      "rbg\n"
     ]
    }
   ],
   "source": [
    "with open('colours.json') as file:\n",
    "    colours2 = json.load(file)\n",
    "\n",
    "print(colours2)"
   ]
  },
  {
   "cell_type": "markdown",
   "metadata": {},
   "source": [
    "# Example: Using imported numerical data and saving a JSON file\n",
    "\n",
    "Save the student ID number, marks and mean mark as a new JSON file called `student_grades.json`, in the same directory as `unit_data.json`"
   ]
  },
  {
   "cell_type": "code",
   "execution_count": 414,
   "metadata": {},
   "outputs": [],
   "source": [
    "with open('unit_data.json') as file:\n",
    "    \n",
    "    dictionary = json.load(file)\n",
    "\n",
    "    marks = dictionary[\"Mark\"]\n",
    "\n",
    "    new_dictionary = {\n",
    "                      'Student ID': dictionary['Student ID'],\n",
    "                      'Mark': dictionary['Mark'],\n",
    "                      'Mean mark': sum(marks)/len(marks)\n",
    "                     }\n",
    "    \n",
    "with open('student_grades.json', 'w') as file:\n",
    "\n",
    "    json.dump(new_dictionary, file)\n",
    "\n",
    "    "
   ]
  },
  {
   "cell_type": "markdown",
   "metadata": {},
   "source": [
    "# Limitations of `json` module\n",
    "\n",
    "* Saved tuples will be converted into lists\n",
    "* Only a single primitive variable can be saved (a list can be used to group several primitives)\n",
    "* The names of the variables are not saved"
   ]
  },
  {
   "cell_type": "markdown",
   "metadata": {},
   "source": [
    "# Exercise 5\n",
    "In the directory, 'Week_8', sub-subdirectory 'Lab_Exercise_5', the file `sensor_data.json` contains data from multiple sensors installed in a manufacturing plant. <br>Each sensor records its ID, timestamp, and the temperature it measures. Modify program_14.py to:\n",
    "1. Import the data from `sensor_data.json` and print the values for each sensor as 3 individual lists \n",
    "2. Calculate the average temperature for each sensor and assign each value to a variable \n",
    "3. Save these values to a new JSON file `mean_sensor_data`, so that they can be callable when imported to a program using keys: `mean_sensor_1`, `mean_sensor_2` and `mean_sensor_3`. "
   ]
  }
 ],
 "metadata": {
  "celltoolbar": "Slideshow",
  "kernelspec": {
   "display_name": "Python 3 (ipykernel)",
   "language": "python",
   "name": "python3"
  },
  "language_info": {
   "codemirror_mode": {
    "name": "ipython",
    "version": 3
   },
   "file_extension": ".py",
   "mimetype": "text/x-python",
   "name": "python",
   "nbconvert_exporter": "python",
   "pygments_lexer": "ipython3",
   "version": "3.11.4"
  },
  "rise": {
   "theme": "white"
  }
 },
 "nbformat": 4,
 "nbformat_minor": 4
}
