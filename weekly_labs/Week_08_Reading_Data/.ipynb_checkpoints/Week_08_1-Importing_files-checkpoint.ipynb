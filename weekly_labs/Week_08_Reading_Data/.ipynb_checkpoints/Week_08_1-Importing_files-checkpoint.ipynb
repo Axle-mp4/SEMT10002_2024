{
 "cells": [
  {
   "cell_type": "markdown",
   "metadata": {
    "slideshow": {
     "slide_type": "slide"
    }
   },
   "source": [
    "# Computer Programming and Algorithms\n",
    "\n",
    "## Week 8.1: Importing Files\n",
    "\n",
    "<img src=\"https://github.com/engmaths/SEMT10002_2024/blob/main/img/full-colour-logo-UoB.png?raw=true\" width=\"20%\">\n",
    "</p>"
   ]
  },
  {
   "cell_type": "markdown",
   "metadata": {
    "slideshow": {
     "slide_type": "slide"
    }
   },
   "source": [
    "# Modularity\n",
    "\n",
    "<img src=\"https://github.com/engmaths/SEMT10002_2024/blob/main/img/modularity_overview.png?raw=true\" width=\"80%\">\n",
    "</p>"
   ]
  },
  {
   "cell_type": "markdown",
   "metadata": {
    "slideshow": {
     "slide_type": "slide"
    }
   },
   "source": [
    "# Modularity\n",
    "\n",
    "<img src=\"https://github.com/engmaths/SEMT10002_2024/blob/main/img/modularity_input.png?raw=true\" width=\"80%\">\n",
    "</p>"
   ]
  },
  {
   "cell_type": "markdown",
   "metadata": {
    "slideshow": {
     "slide_type": "slide"
    }
   },
   "source": [
    "# Aims\n",
    "\n",
    "In this video we will learn:\n",
    "\n",
    "* What is a file?\n",
    "* What is a file path?\n",
    "* How to *open* and close a file using a computer program\n",
    "* Next video: How to *read* the contents of a file using a computer program"
   ]
  },
  {
   "cell_type": "markdown",
   "metadata": {
    "slideshow": {
     "slide_type": "slide"
    }
   },
   "source": [
    "# What is a file? \n",
    "\n",
    "A file is a set of bytes (8 bits) used to store data. \n",
    "\n",
    "What the data represents depends on the file type which is represented by the file extension. \n",
    "\n",
    "Examples of file types and file extensions:\n",
    "- unformatted text (.txt, .dat)\n",
    "- formatted text (.docx)\n",
    "- spreadsheet/tabulated data (.xlsx, .csv)\n",
    "- image (.png, .img)\n",
    "\n",
    "(there are hundereds more)"
   ]
  },
  {
   "cell_type": "markdown",
   "metadata": {
    "slideshow": {
     "slide_type": "slide"
    }
   },
   "source": [
    "# What is a File Path?\n",
    "\n",
    "The file path is a string object that represents the location of a file on an operating system. \n",
    "\n",
    "This may include it's location within a series of nested folders. \n",
    "\n",
    "We will refer to folders as __directories__."
   ]
  },
  {
   "cell_type": "markdown",
   "metadata": {
    "slideshow": {
     "slide_type": "slide"
    }
   },
   "source": [
    "# What is a File Path?\n",
    "\n",
    "A file path has three parts:\n",
    "1. <span style=\"color:blue\">__Directory Path__</span>: the location of the directory containing the file, on the file system. Nested directories are separated by a:\n",
    "    - forward slash `/` (Mac/Linux)\n",
    "    - backslash `\\` (Windows)\n",
    "3. <span style=\"color:red\">__File Name__</span>: the name of the file\n",
    "4. <span style=\"color:green\">__File Extension__</span>: used to indicate the file type\n",
    "\n",
    "***"
   ]
  },
  {
   "cell_type": "markdown",
   "metadata": {
    "slideshow": {
     "slide_type": "slide"
    }
   },
   "source": [
    "Examples: <br>File Path to myfile.txt from the root (top-most) directory of the file system. \n",
    "\n",
    "'<span style=\"color:blue\">C:\\Users\\YourUsername\\Documents\\ </span><span style=\"color:red\">myfile</span><span style=\"color:green\">.txt</span>'\n",
    "<br><span style=\"color:black\">(Windows)\n",
    "\n",
    "'<span style=\"color:blue\">/home/YourUsername/Documents/</span><span style=\"color:red\">myfile</span><span style=\"color:green\">.txt</span>'\n",
    "<br><span style=\"color:black\">(Mac/Linux)"
   ]
  },
  {
   "cell_type": "markdown",
   "metadata": {
    "slideshow": {
     "slide_type": "slide"
    }
   },
   "source": [
    "The __root directory__ is the top-most directory of the file system. \n",
    "\n",
    "__Windows__: <br>Each drive has its own root directory:\n",
    "- `C:\\` is the root directory of the C: drive.\n",
    "- `D:\\` is the root directory of the D: drive.\n",
    "\n",
    "__Linux/Mac__: <br>There is a single root directory for the entire file system, denoted by a forward slash `/`"
   ]
  },
  {
   "cell_type": "markdown",
   "metadata": {
    "slideshow": {
     "slide_type": "slide"
    }
   },
   "source": [
    "The file path can be either:\n",
    "- __Global (Absolute):__ The path to a file from the root directory of the file system. \n",
    "- __Local (Relative):__ The path to a file relative to the current *working directory* (the directory where the program is being run) "
   ]
  },
  {
   "cell_type": "markdown",
   "metadata": {
    "slideshow": {
     "slide_type": "slide"
    }
   },
   "source": [
    "Consider the file system below. \n",
    "\n",
    "```python\n",
    "YourUsername/\n",
    "|\n",
    "|--- Documents/\n",
    "        |\n",
    "        |--- main.py\n",
    "        |--- README.txt \n",
    "```\n",
    "\n",
    "We are going to run the programme `main.py` which will use the file path to `README.txt`"
   ]
  },
  {
   "cell_type": "markdown",
   "metadata": {
    "slideshow": {
     "slide_type": "slide"
    }
   },
   "source": [
    "```python\n",
    "YourUsername/\n",
    "|\n",
    "|--- Documents/\n",
    "        |\n",
    "        |--- main.py\n",
    "        |--- README.txt  \n",
    "```\n",
    "***\n",
    "__Global path__ (from root directory to `README.txt`)\n",
    "\n",
    "Windows\n",
    "```\n",
    "'C:\\Users\\YourUsername\\Documents\\README.txt' \n",
    "```\n",
    "\n",
    "Mac/Linux\n",
    "```\n",
    "'/home/YourUsername/Documents/README.txt'\n",
    "```\n",
    "(Assume that the directory `YourUsername` is on the root directory, in a directory called: `Users` (Windows) or `home` (Mac/Linux))\n"
   ]
  },
  {
   "cell_type": "markdown",
   "metadata": {
    "slideshow": {
     "slide_type": "fragment"
    }
   },
   "source": [
    "***\n",
    "\n",
    "__Local path__ (from main.py to README.txt)\n",
    "```\n",
    "'README.txt'\n",
    "```"
   ]
  },
  {
   "cell_type": "markdown",
   "metadata": {
    "slideshow": {
     "slide_type": "slide"
    }
   },
   "source": [
    "Consider the file system below. \n",
    "```python\n",
    "YourUsername/\n",
    "|\n",
    "|--- Documents/\n",
    "        |\n",
    "        |--- main.py\n",
    "        |--- README.txt \n",
    "        |--- data/ \n",
    "               |\n",
    "               |--- temperature.csv\n",
    "```\n",
    "\n",
    "We are going to run the programme `main.py` which will use the file path to `temperature.csv`, which is in subdirectory `data`"
   ]
  },
  {
   "cell_type": "markdown",
   "metadata": {
    "slideshow": {
     "slide_type": "slide"
    }
   },
   "source": [
    "```python\n",
    "YourUsername/\n",
    "|\n",
    "|--- Documents/\n",
    "        |\n",
    "        |--- main.py\n",
    "        |--- README.txt \n",
    "        |--- data/ \n",
    "               |\n",
    "               |--- temperature.csv\n",
    "```\n",
    "***\n",
    "__Global path__ (from root to temperature.csv) \n",
    "\n",
    "Windows\n",
    "```\n",
    "'C:\\Users\\YourUsername\\Documents\\data\\temperature.csv'\n",
    "```\n",
    "\n",
    "Mac/Linux\n",
    "```\n",
    "'/home/YourUsername/Documents/data/temperature.csv'\n",
    "```\n",
    "(Assume that the directory `YourUsername` is on the root directory, in a directory called: `Users` (Windows) or `home` (Mac/Linux))\n",
    "\n",
    "\n",
    "\n",
    "\n"
   ]
  },
  {
   "cell_type": "markdown",
   "metadata": {
    "slideshow": {
     "slide_type": "fragment"
    }
   },
   "source": [
    "\n",
    "***\n",
    "__Local path__ (main.py to temperature.csv)\n",
    "```\n",
    "'data/temperature.csv'\n",
    "```"
   ]
  },
  {
   "cell_type": "markdown",
   "metadata": {
    "slideshow": {
     "slide_type": "slide"
    }
   },
   "source": [
    "In the following examples we will us the __local path__, not the __global path__:\n",
    "- shorter\n",
    "- unchanged by location of files on file system, providing their location relative to each other doesn't change\n"
   ]
  },
  {
   "cell_type": "markdown",
   "metadata": {
    "slideshow": {
     "slide_type": "slide"
    }
   },
   "source": [
    "We will use the notation for Mac/Linux systems (forward slash `/`), so remember to change this to backslash `\\` if you are using Windows"
   ]
  },
  {
   "cell_type": "markdown",
   "metadata": {
    "slideshow": {
     "slide_type": "slide"
    }
   },
   "source": [
    "# How to open and close a file using a computer program"
   ]
  },
  {
   "cell_type": "markdown",
   "metadata": {
    "slideshow": {
     "slide_type": "slide"
    }
   },
   "source": [
    "# Example\n",
    "\n",
    "Consider the file system below\n",
    "\n",
    "```python\n",
    "Week_8/\n",
    "|\n",
    "|--- Example_1/\n",
    "        |\n",
    "        |--- program_1.py\n",
    "        |--- README.txt \n",
    "```\n"
   ]
  },
  {
   "cell_type": "markdown",
   "metadata": {
    "slideshow": {
     "slide_type": "fragment"
    }
   },
   "source": [
    "We can open the file `README.txt` in `program_1.py` using:\n",
    "```python\n",
    "file = open('README.txt')\n",
    "```"
   ]
  },
  {
   "cell_type": "markdown",
   "metadata": {
    "slideshow": {
     "slide_type": "fragment"
    }
   },
   "source": [
    "Before the program exits, the file must be closed:\n",
    "```python\n",
    "file.close()\n",
    "```"
   ]
  },
  {
   "cell_type": "markdown",
   "metadata": {
    "slideshow": {
     "slide_type": "slide"
    }
   },
   "source": [
    "# Example\n",
    "\n",
    "Consider the file system below\n",
    "\n",
    "```python\n",
    "Week_8/\n",
    "|\n",
    "|--- Example_2/\n",
    "        |\n",
    "        |--- program_2.py\n",
    "        |--- README.txt \n",
    "        |--- data/ \n",
    "               |\n",
    "               |--- temperature.csv\n",
    "```"
   ]
  },
  {
   "cell_type": "markdown",
   "metadata": {
    "slideshow": {
     "slide_type": "fragment"
    }
   },
   "source": [
    "We can open the file `temperature.csv` using `program_2.py`:\n",
    "```python\n",
    "file = open('data/temperature.csv')\n",
    "file.close()\n",
    "```\n",
    "The file is then closed"
   ]
  },
  {
   "cell_type": "markdown",
   "metadata": {
    "slideshow": {
     "slide_type": "slide"
    }
   },
   "source": [
    "# Downstream and Upstream files \n",
    "\n",
    "__Downstream files__: <br>Files that exist in the same directory as the current working directory (containing the program), or any of its subdirectories\n",
    "\n",
    "__Upstream files__: <br>Files that exist in a *higher level* directory than the current working directory (containing the program)"
   ]
  },
  {
   "cell_type": "markdown",
   "metadata": {
    "slideshow": {
     "slide_type": "slide"
    }
   },
   "source": [
    "# Example\n",
    "\n",
    "Consider the file system below\n",
    "\n",
    "```python\n",
    "Week_8/\n",
    "|\n",
    "|--- Example_3/\n",
    "        |\n",
    "        |--- rainfall.csv\n",
    "        |--- my_program/ \n",
    "               |\n",
    "               |--- program_3.py\n",
    "```\n",
    "The file `rainfall.csv` is *upstream* of the file `program_3.py`"
   ]
  },
  {
   "cell_type": "markdown",
   "metadata": {
    "slideshow": {
     "slide_type": "fragment"
    }
   },
   "source": [
    "We can open the file `rainfall.csv` using `program_3.py`:\n",
    "```python\n",
    "file = open('../rainfall.csv')\n",
    "file.close()\n",
    "```\n",
    "\n",
    "`../` before `rainfall.csv` in the filepath, indicates one directory upstream"
   ]
  },
  {
   "cell_type": "markdown",
   "metadata": {
    "slideshow": {
     "slide_type": "slide"
    }
   },
   "source": [
    "One directory upstream is denoted by `../`\n",
    "\n",
    "Two directories upstream is denoted by `../../`"
   ]
  },
  {
   "cell_type": "markdown",
   "metadata": {
    "slideshow": {
     "slide_type": "slide"
    }
   },
   "source": [
    "The same process can be used to access directories that are:\n",
    "- downstream of an upstream directory\n",
    "- but not downstream of the current working directory, containig the program"
   ]
  },
  {
   "cell_type": "markdown",
   "metadata": {
    "slideshow": {
     "slide_type": "slide"
    }
   },
   "source": [
    "```python\n",
    "Week_8/\n",
    "|\n",
    "|--- Example_4/\n",
    "        |\n",
    "        |--- my_program/ \n",
    "               |\n",
    "               |--- program_4.py\n",
    "        |--- my_data/ \n",
    "               |\n",
    "               |--- wind_speed.csv\n",
    "```\n",
    "\n",
    "We can open the file `wind_speed.csv` using `programme_4.py`:\n",
    "```python\n",
    "file = open('../my_data/wind_speed.csv')\n",
    "file.close()\n",
    "```\n"
   ]
  },
  {
   "cell_type": "markdown",
   "metadata": {
    "slideshow": {
     "slide_type": "slide"
    }
   },
   "source": [
    "# Summary\n",
    "\n",
    "We have learnt:\n",
    "- Global and local file paths \n",
    "- Functions for opening `open()` and closing `close()` a file using a computer program\n",
    "- Upstream and downstream file paths"
   ]
  },
  {
   "cell_type": "markdown",
   "metadata": {
    "slideshow": {
     "slide_type": "slide"
    }
   },
   "source": [
    "### Need to see some more examples? \n",
    "https://w3schoolsua.github.io/python/python_file_handling_en.html#gsc.tab=0\n",
    "<br>https://www.geeksforgeeks.org/file-handling-python/\n",
    "<br>https://realpython.com/read-write-files-python/#file-paths\n",
    "\n",
    "### Want to take a quiz?\n",
    "https://realpython.com/quizzes/read-write-files-python/\n",
    "<br>https://pynative.com/python-file-handling-quiz/\n",
    "\n",
    "### Want some more advanced information?\n",
    "https://pynative.com/python/file-handling/#:~:text=To%20read%20or%20write%20a,It%20returns%20the%20file%20object."
   ]
  }
 ],
 "metadata": {
  "celltoolbar": "Slideshow",
  "kernelspec": {
   "display_name": "Python 3 (ipykernel)",
   "language": "python",
   "name": "python3"
  },
  "language_info": {
   "codemirror_mode": {
    "name": "ipython",
    "version": 3
   },
   "file_extension": ".py",
   "mimetype": "text/x-python",
   "name": "python",
   "nbconvert_exporter": "python",
   "pygments_lexer": "ipython3",
   "version": "3.10.9"
  }
 },
 "nbformat": 4,
 "nbformat_minor": 4
}
