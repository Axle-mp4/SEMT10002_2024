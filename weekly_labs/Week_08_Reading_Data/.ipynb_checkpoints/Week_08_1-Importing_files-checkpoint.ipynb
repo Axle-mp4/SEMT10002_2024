{
 "cells": [
  {
   "cell_type": "markdown",
   "metadata": {
    "slideshow": {
     "slide_type": "slide"
    }
   },
   "source": [
    "# Computer Programming and Algorithms\n",
    "\n",
    "## Week 8.1: Importing Files\n",
    "\n",
    "<img src=\"https://github.com/engmaths/EMAT10007_2023/blob/main/weekly_content/img/full-colour-logo-UoB.png?raw=true\" width=\"20%\">\n",
    "</p>"
   ]
  },
  {
   "cell_type": "markdown",
   "metadata": {
    "slideshow": {
     "slide_type": "slide"
    }
   },
   "source": [
    "# Aims\n",
    "\n",
    "In this video we will learn:\n",
    "\n",
    "* What is a file?\n",
    "* What is a file path?\n",
    "* How to open a file using a computer program"
   ]
  },
  {
   "cell_type": "markdown",
   "metadata": {
    "slideshow": {
     "slide_type": "slide"
    }
   },
   "source": [
    "# What is a file? \n",
    "\n",
    "A file is a set of bytes (a unit of data that is eight bits long) used to store data. \n",
    "\n",
    "What the data represents depend on the file type which is represented by the file extension. \n",
    "\n",
    "Examples of file types and file extensions (there are hundereds more):\n",
    "- unformatted text (.txt, .dat)\n",
    "- formatted text (.docx)\n",
    "- spreadsheet/tabulated data (.xlsx, .csv)\n",
    "- image (.png, .img)\n",
    "\n",
    " __TODO: table showing this type of data__\n"
   ]
  },
  {
   "cell_type": "markdown",
   "metadata": {
    "slideshow": {
     "slide_type": "slide"
    }
   },
   "source": [
    "# What is a File Path?\n",
    "\n",
    "The file path is a string object that represents the location of a file on an operating system. \n",
    "\n",
    "This may include it's location within a series of nested folders. \n",
    "\n",
    "We will refer to folders as __directories__."
   ]
  },
  {
   "cell_type": "markdown",
   "metadata": {
    "slideshow": {
     "slide_type": "slide"
    }
   },
   "source": [
    "# What is a File Path?\n",
    "\n",
    "A file path has three parts:\n",
    "1. <span style=\"color:blue\">__Directory Path__</span>: the location of the directory on the file system that contains the file. Nested directories are separated by a:\n",
    "    - forward slash `/` (Unix)\n",
    "    - backslash `\\` (Windows)\n",
    "3. <span style=\"color:red\">__File Name__</span>: the name of the file\n",
    "4. <span style=\"color:green\">__File Extension__</span>: the end of the file path pre-pended with a period (.) used to indicate the file type\n",
    "\n",
    "***"
   ]
  },
  {
   "cell_type": "markdown",
   "metadata": {
    "slideshow": {
     "slide_type": "slide"
    }
   },
   "source": [
    "Examples: <br>File Path to myfile.txt from the root (top-most) directory of the file system. \n",
    "\n",
    "'<span style=\"color:blue\">C:\\Users\\YourUsername\\Documents\\ </span><span style=\"color:red\">myfile</span><span style=\"color:green\">.txt</span>'\n",
    "<br><span style=\"color:black\">(Windows)\n",
    "\n",
    "'<span style=\"color:blue\">/home/YourUsername/Documents/</span><span style=\"color:red\">myfile</span><span style=\"color:green\">.txt</span>'\n",
    "<br><span style=\"color:black\">(Unix)"
   ]
  },
  {
   "cell_type": "markdown",
   "metadata": {
    "slideshow": {
     "slide_type": "slide"
    }
   },
   "source": [
    "The __root directory__ is the (top-most) directory of the file system. \n",
    "\n",
    "__Windows__: <br>Each drive has its own root directory:\n",
    "- `C:\\` is the root directory of the C: drive.\n",
    "- `D:\\` is the root directory of the D: drive.\n",
    "\n",
    "__Linux/Unix/Mac__: <br>There is a single root directory for the entire file system, denoted by a forward slash `/`."
   ]
  },
  {
   "cell_type": "markdown",
   "metadata": {
    "slideshow": {
     "slide_type": "slide"
    }
   },
   "source": [
    "The path can be either:\n",
    "- __Global (Absolute):__ The path to a file from the root directory of the file system. \n",
    "- __Local (Relative):__ The path to a file relative to the current *working directory* (the directory where the program is being run) "
   ]
  },
  {
   "cell_type": "markdown",
   "metadata": {
    "slideshow": {
     "slide_type": "slide"
    }
   },
   "source": [
    "Consider the file system below. \n",
    "\n",
    "```python\n",
    "YourUsername/\n",
    "|\n",
    "|--- Documents/\n",
    "        |\n",
    "        |--- main.py\n",
    "        |--- README.txt \n",
    "```\n",
    "\n",
    "We are going to run the programme `main.py` which will use the file path to `README.txt`"
   ]
  },
  {
   "cell_type": "markdown",
   "metadata": {
    "slideshow": {
     "slide_type": "slide"
    }
   },
   "source": [
    "```python\n",
    "YourUsername/\n",
    "|\n",
    "|--- Documents/\n",
    "        |\n",
    "        |--- main.py\n",
    "        |--- README.txt  \n",
    "```\n",
    "***\n",
    "__Global path__ (from root directory to temperature.csv)\n",
    "<br>Assume the directory `YourUsername` is on the root directory, in a directory called `Users` (Windows) or `home` (Unix) \n",
    "```\n",
    "'C:\\Users\\YourUsername\\Documents\\README.txt'\n",
    "\n",
    "'/home/YourUsername/Documents/README.txt'\n",
    "```\n",
    "***"
   ]
  },
  {
   "cell_type": "markdown",
   "metadata": {
    "slideshow": {
     "slide_type": "slide"
    }
   },
   "source": [
    "__Local path__ (from main.py to README.txt)\n",
    "```\n",
    "'README.txt'\n",
    "```"
   ]
  },
  {
   "cell_type": "markdown",
   "metadata": {
    "slideshow": {
     "slide_type": "slide"
    }
   },
   "source": [
    "Consider the file system below. \n",
    "```python\n",
    "YourUsername/\n",
    "|\n",
    "|--- Documents/\n",
    "        |\n",
    "        |--- main.py\n",
    "        |--- README.txt \n",
    "        |--- data/ \n",
    "               |\n",
    "               |--- temperature.csv\n",
    "```\n",
    "\n",
    "We are going to run the programme `main.py` which will use the file path to `temperature.csv`, which is in subdirectory `data`"
   ]
  },
  {
   "cell_type": "markdown",
   "metadata": {
    "slideshow": {
     "slide_type": "slide"
    }
   },
   "source": [
    "```python\n",
    "YourUsername/\n",
    "|\n",
    "|--- Documents/\n",
    "        |\n",
    "        |--- main.py\n",
    "        |--- README.txt \n",
    "        |--- data/ \n",
    "               |\n",
    "               |--- temperature.csv\n",
    "```\n",
    "***\n",
    "__Global path__ (from root to temperature.csv) \n",
    "<br>Assume the directory `YourUsername` is on the root directory, in directory called `Users` (Windows) or `home` (Unix) \n",
    "```\n",
    "'C:\\Users\\YourUsername\\Documents\\data\\temperature.csv'\n",
    "\n",
    "'/home/YourUsername/Documents/data/temperature.csv'\n",
    "```\n",
    "***\n",
    "__Local path__ (main.py to temperature.csv)\n",
    "```\n",
    "'data/temperature.csv'\n",
    "```"
   ]
  },
  {
   "cell_type": "markdown",
   "metadata": {
    "slideshow": {
     "slide_type": "slide"
    }
   },
   "source": [
    "In the following examples we will us the __local path__, not the __global path__:\n",
    "- shorter\n",
    "- unchanged by location of files on file system, providing their location relative to each other doesn't change\n"
   ]
  },
  {
   "cell_type": "markdown",
   "metadata": {
    "slideshow": {
     "slide_type": "slide"
    }
   },
   "source": [
    "We will use the notation for Unix systems (forward slash `/`) so remember to chage this to backslash `\\` if you are using windows"
   ]
  },
  {
   "cell_type": "markdown",
   "metadata": {
    "slideshow": {
     "slide_type": "slide"
    }
   },
   "source": [
    "# How to open a file using a computer program"
   ]
  },
  {
   "cell_type": "markdown",
   "metadata": {
    "slideshow": {
     "slide_type": "slide"
    }
   },
   "source": [
    "# Example\n",
    "\n",
    "Consider the file system below\n",
    "\n",
    "```python\n",
    "Week_8/\n",
    "|\n",
    "|--- Example_1/\n",
    "        |\n",
    "        |--- program_1.py\n",
    "        |--- README.txt \n",
    "```\n"
   ]
  },
  {
   "cell_type": "markdown",
   "metadata": {
    "slideshow": {
     "slide_type": "fragment"
    }
   },
   "source": [
    "We can open the file `README.txt` in `program_1.py` using:\n",
    "```python\n",
    "file = open('README.txt')\n",
    "```"
   ]
  },
  {
   "cell_type": "markdown",
   "metadata": {
    "slideshow": {
     "slide_type": "fragment"
    }
   },
   "source": [
    "Before the program exits, the file must be closed:\n",
    "```python\n",
    "file.close()\n",
    "```"
   ]
  },
  {
   "cell_type": "markdown",
   "metadata": {
    "slideshow": {
     "slide_type": "slide"
    }
   },
   "source": [
    "# Example\n",
    "\n",
    "Consider the file system below\n",
    "\n",
    "```python\n",
    "Week_8/\n",
    "|\n",
    "|--- Example_2/\n",
    "        |\n",
    "        |--- program_2.py\n",
    "        |--- README.txt \n",
    "        |--- data/ \n",
    "               |\n",
    "               |--- temperature.csv\n",
    "```"
   ]
  },
  {
   "cell_type": "markdown",
   "metadata": {
    "slideshow": {
     "slide_type": "slide"
    }
   },
   "source": [
    "We can open the file `temperature.csv` using `program_2.py`:\n",
    "```python\n",
    "file = open('data/temperature.csv')\n",
    "file.close()\n",
    "```\n",
    "The file is then closed"
   ]
  },
  {
   "cell_type": "markdown",
   "metadata": {
    "slideshow": {
     "slide_type": "slide"
    }
   },
   "source": [
    "# Downstream and Upstream files \n",
    "\n",
    "__Downstream files__: Files that exist in the same directory as the current working directory, or any of its subdirectories\n",
    "\n",
    "__Upstream files__: Files that exist in a higher level folder than your current working directory"
   ]
  },
  {
   "cell_type": "markdown",
   "metadata": {
    "slideshow": {
     "slide_type": "fragment"
    }
   },
   "source": [
    "__Import path:__\n",
    "The directories from which a file can be read by a program. \n",
    "- *Includes* downstream directories\n",
    "- *Excludes* upstream directories by default "
   ]
  },
  {
   "cell_type": "markdown",
   "metadata": {
    "slideshow": {
     "slide_type": "slide"
    }
   },
   "source": [
    "We can add an upstream directory by including:\n",
    "```python\n",
    "import sys\n",
    "sys.path.append('../')\n",
    "```\n",
    "at the start of a program. \n",
    "\n"
   ]
  },
  {
   "cell_type": "markdown",
   "metadata": {
    "slideshow": {
     "slide_type": "fragment"
    }
   },
   "source": [
    "One directory upstream is denoted by `../`\n",
    "\n",
    "Two directories upstream is denoted by `../../`"
   ]
  },
  {
   "cell_type": "markdown",
   "metadata": {
    "slideshow": {
     "slide_type": "slide"
    }
   },
   "source": [
    "# Example\n",
    "\n",
    "Consider the file system below\n",
    "\n",
    "```python\n",
    "Week_8/\n",
    "|\n",
    "|--- Example_3/\n",
    "        |\n",
    "        |--- rainfall.csv\n",
    "        |--- my_program/ \n",
    "               |\n",
    "               |--- program_3.py\n",
    "```\n",
    "The file `rainfall.csv` is *upstream* of the file (`program_3.py`)"
   ]
  },
  {
   "cell_type": "markdown",
   "metadata": {
    "slideshow": {
     "slide_type": "slide"
    }
   },
   "source": [
    "We can open the file `rainfall.csv` using `program_3.py`:\n",
    "```python\n",
    "import sys\n",
    "sys.path.append('../')\n",
    "file = open('rainfall.csv')\n",
    "file.close()\n",
    "```"
   ]
  },
  {
   "cell_type": "markdown",
   "metadata": {
    "slideshow": {
     "slide_type": "slide"
    }
   },
   "source": [
    "The same process can be used to access directories that are:\n",
    "- downstream of an upstream directory\n",
    "- but not downstream of the current working directory"
   ]
  },
  {
   "cell_type": "markdown",
   "metadata": {
    "slideshow": {
     "slide_type": "slide"
    }
   },
   "source": [
    "```python\n",
    "Week_8/\n",
    "|\n",
    "|--- Example_4/\n",
    "        |\n",
    "        |--- my_program/ \n",
    "               |\n",
    "               |--- program_4.py\n",
    "        |--- my_data/ \n",
    "               |\n",
    "               |--- wind_speed.csv\n",
    "```\n",
    "\n",
    "We can open the file `wind_speed.csv` using `programme_4.py`:\n",
    "```python\n",
    "import sys\n",
    "sys.path.append('../my_data')\n",
    "file = open('wind_speed.csv')\n",
    "file.close()\n",
    "```\n"
   ]
  },
  {
   "cell_type": "markdown",
   "metadata": {
    "slideshow": {
     "slide_type": "slide"
    }
   },
   "source": [
    "### Need to see some more examples? \n",
    "https://w3schoolsua.github.io/python/python_file_handling_en.html#gsc.tab=0\n",
    "<br>https://www.geeksforgeeks.org/file-handling-python/\n",
    "<br>https://realpython.com/read-write-files-python/#file-paths\n",
    "\n",
    "### Want to take a quiz?\n",
    "https://realpython.com/quizzes/read-write-files-python/\n",
    "<br>https://pynative.com/python-file-handling-quiz/\n",
    "\n",
    "### Want some more advanced information?\n",
    "https://pynative.com/python/file-handling/#:~:text=To%20read%20or%20write%20a,It%20returns%20the%20file%20object."
   ]
  }
 ],
 "metadata": {
  "celltoolbar": "Slideshow",
  "kernelspec": {
   "display_name": "Python 3 (ipykernel)",
   "language": "python",
   "name": "python3"
  },
  "language_info": {
   "codemirror_mode": {
    "name": "ipython",
    "version": 3
   },
   "file_extension": ".py",
   "mimetype": "text/x-python",
   "name": "python",
   "nbconvert_exporter": "python",
   "pygments_lexer": "ipython3",
   "version": "3.10.9"
  }
 },
 "nbformat": 4,
 "nbformat_minor": 4
}
