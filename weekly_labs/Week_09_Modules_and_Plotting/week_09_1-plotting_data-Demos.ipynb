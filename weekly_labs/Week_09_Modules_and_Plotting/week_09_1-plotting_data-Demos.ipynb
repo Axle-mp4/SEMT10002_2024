{
 "cells": [
  {
   "cell_type": "markdown",
   "id": "61f989cb",
   "metadata": {
    "slideshow": {
     "slide_type": "slide"
    }
   },
   "source": [
    "# Introduction to Computer Programming\n",
    "\n",
    "### Week_09_1-Plotting_data-Demos\n",
    "\n",
    "* * *\n",
    "\n",
    "<img src=\"img/full-colour-logo-UoB.png\" alt=\"Bristol\" style=\"width: 300px;\"/>"
   ]
  },
  {
   "cell_type": "markdown",
   "id": "78f4d349",
   "metadata": {
    "slideshow": {
     "slide_type": "slide"
    }
   },
   "source": [
    "<a id='LineScatterPlots'></a>\n",
    "# Line and Scatter Graphs\n",
    "A sample data set: $x$ with corresponding values of $f$:"
   ]
  },
  {
   "cell_type": "code",
   "execution_count": 7,
   "id": "18b3c45f",
   "metadata": {},
   "outputs": [],
   "source": [
    "x = [-1, 3, 4, 8 , 10]\n",
    "y = [-1, -2, 5, 9 , 11]\n"
   ]
  },
  {
   "cell_type": "markdown",
   "id": "77a6f395",
   "metadata": {
    "slideshow": {
     "slide_type": "slide"
    }
   },
   "source": [
    "__Example:__ Line plot of `y` against `x`  "
   ]
  },
  {
   "cell_type": "code",
   "execution_count": null,
   "id": "00c2591b",
   "metadata": {
    "slideshow": {
     "slide_type": "-"
    }
   },
   "outputs": [],
   "source": []
  },
  {
   "cell_type": "markdown",
   "id": "74984e44",
   "metadata": {
    "slideshow": {
     "slide_type": "slide"
    }
   },
   "source": [
    "__Example:__ Use the format string to change the appearance of the plot of y against x. "
   ]
  },
  {
   "cell_type": "code",
   "execution_count": 8,
   "id": "6a466097",
   "metadata": {
    "scrolled": true,
    "slideshow": {
     "slide_type": "-"
    }
   },
   "outputs": [
    {
     "data": {
      "image/png": "[encoded data removed]",
      "text/plain": [
       "<Figure size 432x288 with 1 Axes>"
      ]
     },
     "metadata": {
      "needs_background": "light"
     },
     "output_type": "display_data"
    }
   ],
   "source": [
    "plt.plot(x, y, 'or') # scatter, o markers, red\n",
    "#plt.plot(x, y, '--og')  \n",
    "\n",
    "plt.show()"
   ]
  },
  {
   "cell_type": "markdown",
   "id": "28338b84",
   "metadata": {
    "slideshow": {
     "slide_type": "slide"
    }
   },
   "source": [
    "__Example:__ We can add features like axis labels (`plt.xlabel, plt.ylabel`) and a title (`plt.title`)"
   ]
  },
  {
   "cell_type": "code",
   "execution_count": 2,
   "id": "c179f6d4",
   "metadata": {
    "scrolled": false,
    "slideshow": {
     "slide_type": "-"
    }
   },
   "outputs": [
    {
     "ename": "NameError",
     "evalue": "name 'plt' is not defined",
     "output_type": "error",
     "traceback": [
      "\u001b[0;31m---------------------------------------------------------------------------\u001b[0m",
      "\u001b[0;31mNameError\u001b[0m                                 Traceback (most recent call last)",
      "Cell \u001b[0;32mIn[2], line 1\u001b[0m\n\u001b[0;32m----> 1\u001b[0m \u001b[43mplt\u001b[49m\u001b[38;5;241m.\u001b[39mplot(x, y, \u001b[38;5;124m'\u001b[39m\u001b[38;5;124mk.\u001b[39m\u001b[38;5;124m'\u001b[39m) \n\u001b[1;32m      3\u001b[0m \u001b[38;5;66;03m# Axis labels\u001b[39;00m\n\u001b[1;32m      4\u001b[0m plt\u001b[38;5;241m.\u001b[39mxlabel(\u001b[38;5;124m'\u001b[39m\u001b[38;5;124mx data\u001b[39m\u001b[38;5;124m'\u001b[39m)\n",
      "\u001b[0;31mNameError\u001b[0m: name 'plt' is not defined"
     ]
    }
   ],
   "source": [
    "plt.plot(x, y, 'k.') \n",
    "\n",
    "# Axis labels\n",
    "plt.xlabel('x data')\n",
    "plt.ylabel('y data')\n",
    "\n",
    "# title\n",
    "plt.title('Plot of f against x')\n",
    "\n",
    "plt.show()"
   ]
  },
  {
   "cell_type": "markdown",
   "id": "58ed0bf5",
   "metadata": {},
   "source": [
    "\n",
    "__Example:__ \n",
    "\n",
    "Plot `y` against `x` and `f` against `x` on the same graph.\n",
    "\n",
    "Add a legend to indicate which line shows which relationship.  "
   ]
  },
  {
   "cell_type": "code",
   "execution_count": 3,
   "id": "bfb5cedb",
   "metadata": {
    "scrolled": true,
    "slideshow": {
     "slide_type": "-"
    }
   },
   "outputs": [
    {
     "ename": "NameError",
     "evalue": "name 'plt' is not defined",
     "output_type": "error",
     "traceback": [
      "\u001b[0;31m---------------------------------------------------------------------------\u001b[0m",
      "\u001b[0;31mNameError\u001b[0m                                 Traceback (most recent call last)",
      "Cell \u001b[0;32mIn[3], line 5\u001b[0m\n\u001b[1;32m      2\u001b[0m f \u001b[38;5;241m=\u001b[39m [\u001b[38;5;241m-\u001b[39m\u001b[38;5;241m1\u001b[39m, \u001b[38;5;241m-\u001b[39m\u001b[38;5;241m2\u001b[39m, \u001b[38;5;241m7\u001b[39m, \u001b[38;5;241m13\u001b[39m , \u001b[38;5;241m1\u001b[39m]\n\u001b[1;32m      3\u001b[0m y \u001b[38;5;241m=\u001b[39m [\u001b[38;5;241m6\u001b[39m, \u001b[38;5;241m2\u001b[39m, \u001b[38;5;241m4\u001b[39m, \u001b[38;5;241m5\u001b[39m, \u001b[38;5;241m6\u001b[39m]\n\u001b[0;32m----> 5\u001b[0m \u001b[43mplt\u001b[49m\u001b[38;5;241m.\u001b[39mplot(x, f, \u001b[38;5;124m'\u001b[39m\u001b[38;5;124m-or\u001b[39m\u001b[38;5;124m'\u001b[39m, label\u001b[38;5;241m=\u001b[39m\u001b[38;5;124m'\u001b[39m\u001b[38;5;124mf\u001b[39m\u001b[38;5;124m'\u001b[39m);  \u001b[38;5;66;03m# argument 'label' is used in the legend \u001b[39;00m\n\u001b[1;32m      6\u001b[0m plt\u001b[38;5;241m.\u001b[39mplot(x, y, \u001b[38;5;124m'\u001b[39m\u001b[38;5;124m-og\u001b[39m\u001b[38;5;124m'\u001b[39m, label\u001b[38;5;241m=\u001b[39m\u001b[38;5;124m'\u001b[39m\u001b[38;5;124my\u001b[39m\u001b[38;5;124m'\u001b[39m);\n\u001b[1;32m      8\u001b[0m plt\u001b[38;5;241m.\u001b[39mxlabel(\u001b[38;5;124m'\u001b[39m\u001b[38;5;124mx\u001b[39m\u001b[38;5;124m'\u001b[39m);\n",
      "\u001b[0;31mNameError\u001b[0m: name 'plt' is not defined"
     ]
    }
   ],
   "source": [
    "x = [-1, 3, 4, 8 , 10]\n",
    "f = [-1, -2, 7, 13 , 1]\n",
    "y = [6, 2, 4, 5, 6]\n",
    "\n",
    "plt.plot(x, f, '-or', label='f');  # argument 'label' is used in the legend \n",
    "plt.plot(x, y, '-og', label='y');\n",
    "\n",
    "plt.xlabel('x');\n",
    "\n",
    "plt.legend()                      # must be called to display figure legend\n",
    "\n",
    "plt.show()"
   ]
  },
  {
   "cell_type": "markdown",
   "id": "282571bf",
   "metadata": {},
   "source": [
    "__Example__ Import data from 'sample_data/student_data.csv' and print each line"
   ]
  },
  {
   "cell_type": "code",
   "execution_count": 17,
   "id": "56c3102e",
   "metadata": {
    "scrolled": false,
    "slideshow": {
     "slide_type": "fragment"
    }
   },
   "outputs": [
    {
     "name": "stdout",
     "output_type": "stream",
     "text": [
      "['Student', 'Sex', 'DOB', 'Height', 'Weight', 'BP']\n",
      "['(ID)', 'M/F', 'dd/mm/yy', 'm', 'kg', 'mmHg']\n",
      "['JW-1', 'M', '19/12/1995', '1.82', '92.4', '119/76']\n",
      "['JW-2', 'M', '11/01/1996', '1.77', '80.9', '114/73']\n",
      "['JW-3', 'F', '02/10/1995', '1.68', '69.7', '124/79']\n",
      "['JW-4', 'M', '11/01/1996', '1.77', '80.9', '114/73']\n",
      "['JW-5', 'F', '02/10/1995', '1.68', '69.7', '124/79']\n",
      "['JW-6', 'M', '06/07/1995', '1.72', '75.5', '110/60']\n",
      "['JW-7', 'F', '28/03/1996', '1.66', '72.4', '-']\n",
      "['JW-9', 'F', '11/12/1995', '1.78', '82.1', '115/75']\n",
      "['JW-10', 'F', '07/04/1996', '1.6', '45', '-/-']\n",
      "['JW-11', 'M', '22/08/1995', '1.72', '77.2', '97/63']\n",
      "['JW-12', 'M', '23/05/1996', '1.83', '88.9', '105/70']\n",
      "['JW-14', 'F', '12/01/1996', '1.56', '56.3', '108/72']\n",
      "['JW-15', 'F', '01/06/1996', '1.64', '65', '99/67']\n",
      "['JW-16', 'M', '10/09/1995', '1.63', '73', '131/84']\n",
      "['JW-17', 'M', '17/02/1996', '1.67', '89.8', '101/76']\n",
      "['JW-18', 'M', '31/07/1996', '1.66', '75.1', '-/-']\n",
      "['JW-19', 'F', '30/10/1995', '1.59', '67.3', '103/69']\n",
      "['JW-22', 'F', '09/03/1996', '1.7', '45', '119/80']\n",
      "['JW-23', 'M', '15/05/1995', '1.97', '89.2', '124/82']\n",
      "['JW-24', 'F', '01/12/1995', '1.66', '63.8', '100/78']\n",
      "['JW-25', 'F', '25/10/1995', '1.63', '64.4', '-/-']\n",
      "['JW-26', 'M', '17/04/1996', '1.69', '55', '121/82']\n"
     ]
    }
   ],
   "source": [
    "f = open('sample_data/student_data.csv')\n",
    "\n",
    "r = csv.reader(f)\n",
    "    \n",
    "for line in r:\n",
    "    print(line)\n",
    "    \n",
    "f.close()"
   ]
  },
  {
   "cell_type": "markdown",
   "id": "329bf487",
   "metadata": {
    "slideshow": {
     "slide_type": "fragment"
    }
   },
   "source": [
    "__Example__ <br>Plot a scatter graph of height against weight for each row in file `'sample_data/student_data.csv'`. \n",
    "\n",
    "Note : check about the need to convert strings to floats! "
   ]
  },
  {
   "cell_type": "code",
   "execution_count": 16,
   "id": "ca217fda",
   "metadata": {
    "scrolled": true
   },
   "outputs": [
    {
     "data": {
      "text/plain": [
       "Text(0, 0.5, 'height')"
      ]
     },
     "execution_count": 16,
     "metadata": {},
     "output_type": "execute_result"
    },
    {
     "data": {
      "image/png": "[encoded data removed]",
      "text/plain": [
       "<Figure size 432x288 with 1 Axes>"
      ]
     },
     "metadata": {
      "needs_background": "light"
     },
     "output_type": "display_data"
    }
   ],
   "source": [
    "import csv\n",
    "with open('sample_data/student_data.csv') as f:\n",
    "    \n",
    "    r = csv.reader(f) \n",
    "    \n",
    "    r = list(r)       # convert to a list to make the data subscriptable\n",
    "    \n",
    "    # reader is only available until the file is closed\n",
    "        \n",
    "data = r[2:]      # exclude headers\n",
    "    \n",
    "w = [d[3] for d in data]\n",
    "h = [d[4] for d in data]\n",
    "    \n",
    "plt.plot(w, h, 'o')\n",
    "plt.xlabel('weight')\n",
    "plt.ylabel('height')"
   ]
  },
  {
   "cell_type": "code",
   "execution_count": null,
   "id": "22185365",
   "metadata": {},
   "outputs": [],
   "source": []
  }
 ],
 "metadata": {
  "kernelspec": {
   "display_name": "Python 3 (ipykernel)",
   "language": "python",
   "name": "python3"
  },
  "language_info": {
   "codemirror_mode": {
    "name": "ipython",
    "version": 3
   },
   "file_extension": ".py",
   "mimetype": "text/x-python",
   "name": "python",
   "nbconvert_exporter": "python",
   "pygments_lexer": "ipython3",
   "version": "3.10.9"
  }
 },
 "nbformat": 4,
 "nbformat_minor": 5
}
