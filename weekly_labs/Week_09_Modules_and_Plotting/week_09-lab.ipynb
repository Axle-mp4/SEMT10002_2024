{
 "cells": [
  {
   "cell_type": "markdown",
   "metadata": {
    "slideshow": {
     "slide_type": "slide"
    }
   },
   "source": [
    "# Computer Programming and Algorithms\n",
    "\n",
    "## Week 9: Plotting data and using modules\n",
    "\n",
    "* * *\n",
    "\n",
    "<img src=\"https://github.com/engmaths/EMAT10007_2023/blob/main/weekly_content/img/full-colour-logo-UoB.png?raw=true\" width=\"20%\">\n",
    "</p>"
   ]
  },
  {
   "cell_type": "markdown",
   "metadata": {
    "slideshow": {
     "slide_type": "slide"
    }
   },
   "source": [
    "# Recap of the videos\n",
    "\n",
    "\n",
    "The `matplotlib` package provides a suite of functions for plotting"
   ]
  },
  {
   "cell_type": "markdown",
   "metadata": {
    "slideshow": {
     "slide_type": "slide"
    }
   },
   "source": [
    "# Question \n",
    "\n",
    "What does the third input argument do? \n",
    "\n",
    "`plt.plot(x, y, 'g--')`\n",
    "\n",
    "Enter your answer at [Mentimeter](https://menti.com)!"
   ]
  },
  {
   "cell_type": "markdown",
   "metadata": {
    "slideshow": {
     "slide_type": "slide"
    }
   },
   "source": [
    "# Example \n",
    "\n",
    "Generate a scatter plot of y against x.\n",
    "\n",
    "```\n",
    "x = range(10)\n",
    "y = range(0, 100, 10)\n",
    "```"
   ]
  },
  {
   "cell_type": "code",
   "execution_count": 3,
   "metadata": {},
   "outputs": [
    {
     "data": {
      "text/plain": [
       "[<matplotlib.lines.Line2D at 0x7fa25232b8e0>]"
      ]
     },
     "execution_count": 3,
     "metadata": {},
     "output_type": "execute_result"
    },
    {
     "data": {
      "image/png": "[encoded data removed]",
      "text/plain": [
       "<Figure size 640x480 with 1 Axes>"
      ]
     },
     "metadata": {},
     "output_type": "display_data"
    }
   ],
   "source": [
    "import matplotlib.pyplot as plt\n",
    "x = range(0, 11)\n",
    "y = range(0, 110, 10)\n",
    "plt.plot(x, y)"
   ]
  },
  {
   "cell_type": "markdown",
   "metadata": {
    "slideshow": {
     "slide_type": "slide"
    }
   },
   "source": [
    "# Example: Logistic growth?\n",
    "\n",
    "Example importing data and plotting (simplify logisitic growth)"
   ]
  },
  {
   "cell_type": "markdown",
   "metadata": {
    "slideshow": {
     "slide_type": "slide"
    }
   },
   "source": [
    "* During the Covid-19 pandemic, a city recorded the number of infected individuals for one year\n",
    "* We would like to know whether the number of infected individuals follows a logistic trend\n",
    "* The logistic model of population growth says that the fraction of the total population that is infected is given by\n",
    "$$\n",
    "f(t) = \\frac{f_0 f_\\infty}{f_0 + (f_\\infty - f_0)e^{-rt}}\n",
    "$$\n",
    "* The variables are:\n",
    "    * $t$ is time after the outbreak\n",
    "    * $r$ is the infection rate\n",
    "    * $f$ is the fraction of the population that has been infected\n",
    "    * $f_0$ is the fraction of individuals who are initially infected \n",
    "    * $f_\\infty$ is the final fraction of individuals who become infected"
   ]
  },
  {
   "cell_type": "markdown",
   "metadata": {
    "slideshow": {
     "slide_type": "slide"
    }
   },
   "source": [
    "# Downloading the data\n",
    "\n",
    "* The data is contained in the file `infections.zip` on Blackboard\n",
    "* Download the file and unzip it in your Python working directory\n",
    "    * Your Python working directory is the folder where your main Python (.py) file is\n",
    "* Call your main python file `lecture8.py`"
   ]
  },
  {
   "cell_type": "markdown",
   "metadata": {
    "slideshow": {
     "slide_type": "slide"
    }
   },
   "source": [
    "# Importing packages\n",
    "\n",
    "* We will use the `csv` package to help with importing the data, which has been saved as .csv files\n",
    "* We will also use the `matplotlib.pyplot` package to plot the data\n",
    "* You will also need to import the `exp` function from the `math` package\n",
    "* Import these packages by adding the relevant code to the top of your Python file"
   ]
  },
  {
   "cell_type": "code",
   "execution_count": 2,
   "metadata": {
    "slideshow": {
     "slide_type": "slide"
    }
   },
   "outputs": [],
   "source": [
    "import csv\n",
    "import matplotlib.pyplot as plt\n",
    "from math import exp"
   ]
  },
  {
   "cell_type": "markdown",
   "metadata": {
    "slideshow": {
     "slide_type": "slide"
    }
   },
   "source": [
    "# Importing the data\n",
    "\n",
    "* Use the `with` keyword and the `csv` package to load the data\n",
    "* Create two lists\n",
    "    * One list should contain time data as numerical data\n",
    "    * The second list should contain population data as numerical data"
   ]
  },
  {
   "cell_type": "code",
   "execution_count": 3,
   "metadata": {
    "slideshow": {
     "slide_type": "slide"
    }
   },
   "outputs": [],
   "source": [
    "# load infection data\n",
    "with open('sample_data/infection_data.csv') as file:\n",
    "    reader = csv.reader(file)\n",
    "    infection_data = list(reader)\n",
    "    \n",
    "# create lists\n",
    "time = [int(e[0]) for e in infection_data[1:]]\n",
    "infected = [ int(e[1]) for e in infection_data[1:]]"
   ]
  },
  {
   "cell_type": "code",
   "execution_count": 4,
   "metadata": {
    "slideshow": {
     "slide_type": "slide"
    }
   },
   "outputs": [
    {
     "name": "stdout",
     "output_type": "stream",
     "text": [
      "{'Total population': 250000.0, 'Initial number of infected individuals': 5000.0, 'Final number of infected individuals': 212500.0, 'Infection rate': 0.025}\n"
     ]
    }
   ],
   "source": [
    "# load the city data\n",
    "with open('sample_data/city_info.csv') as file:\n",
    "    reader = csv.reader(file)\n",
    "    city_data = list(reader)\n",
    "    \n",
    "# create dict out of data\n",
    "city_info = {}\n",
    "for e in city_data:\n",
    "    city_info[e[0]] = float(e[1])\n",
    "print(city_info)"
   ]
  },
  {
   "cell_type": "markdown",
   "metadata": {
    "slideshow": {
     "slide_type": "slide"
    }
   },
   "source": [
    "# Post-processing the data\n",
    "\n",
    "* Normalise the population data by dividing it by the total population (which is contained in `city_info.csv`)\n",
    "    * This will provide data for $f$"
   ]
  },
  {
   "cell_type": "code",
   "execution_count": 19,
   "metadata": {
    "slideshow": {
     "slide_type": "fragment"
    }
   },
   "outputs": [],
   "source": [
    "# normalise data\n",
    "f_data = [e / city_info[\"Total population\"] for e in infected]"
   ]
  },
  {
   "cell_type": "markdown",
   "metadata": {
    "slideshow": {
     "slide_type": "slide"
    }
   },
   "source": [
    "# Visualising the data\n",
    "\n",
    "* Now we will\n",
    "    * Plot the data as symbols and the curve as a line on the same axes (using parameter values in `city_info.csv`)\n",
    "    * Add labels to the horizonal and vertical axes\n",
    "    * Add a legend"
   ]
  },
  {
   "cell_type": "code",
   "execution_count": 14,
   "metadata": {
    "slideshow": {
     "slide_type": "slide"
    }
   },
   "outputs": [],
   "source": [
    "# extract parameters\n",
    "N = city_info[\"Total population\"]\n",
    "f_0 = city_info[\"Initial number of infected individuals\"] / N\n",
    "f_inf = city_info[\"Final number of infected individuals\"] / N\n",
    "r = city_info[\"Infection rate\"]\n",
    "\n",
    "# define function for logistic curve\n",
    "def logistic(t, r, f_0, f_inf):\n",
    "    return f_0 * f_inf / (f_0 + (f_inf - f_0) * exp(-r * t))"
   ]
  },
  {
   "cell_type": "code",
   "execution_count": 16,
   "metadata": {
    "slideshow": {
     "slide_type": "slide"
    }
   },
   "outputs": [],
   "source": [
    "# compute the logistic curve\n",
    "f_log = [logistic(t, r, f_0, f_inf) for t in time]"
   ]
  },
  {
   "cell_type": "code",
   "execution_count": 26,
   "metadata": {
    "slideshow": {
     "slide_type": "slide"
    }
   },
   "outputs": [
    {
     "data": {
      "image/png": "[encoded data removed]",
      "text/plain": [
       "<Figure size 432x288 with 1 Axes>"
      ]
     },
     "metadata": {
      "needs_background": "light"
     },
     "output_type": "display_data"
    }
   ],
   "source": [
    "# plot\n",
    "plt.figure()\n",
    "plt.plot(time,  f_data, 'o', label = \"data\")\n",
    "plt.plot(time, f_log, label = \"logistic\")\n",
    "plt.xlabel('Time (days)')\n",
    "plt.ylabel('Fraction of population')\n",
    "plt.legend()\n",
    "plt.show()"
   ]
  },
  {
   "cell_type": "markdown",
   "metadata": {
    "slideshow": {
     "slide_type": "slide"
    }
   },
   "source": [
    "# Figure customisation\n",
    "\n",
    "* Customise your figure by editing the marker size, colours, line width, etc\n",
    "* You might also want to look up how to edit the font sizes, use LaTeX fonts, edit the tick labels\n",
    "    * See https://matplotlib.org/stable/\n",
    "* When you have finished customising your figure, save it as a .png file and upload it to Blackboard\n",
    "    * Discussion >> Lecture 8 figure gallery >> Figure upload point >> Reply\n",
    "* Use this gallery for inspiration when making your next figure!"
   ]
  },
  {
   "cell_type": "markdown",
   "metadata": {},
   "source": [
    "# Lab exercises\n",
    "\n",
    "Complete the exercises by working in an IDE "
   ]
  },
  {
   "cell_type": "markdown",
   "metadata": {},
   "source": [
    "\n",
    "\n",
    "# Exercise 1\n",
    "\n",
    "1. Create three lists of integers named `x`, `y` and `f`, with the following values, and generate a scatter plot of `y` against  `x`<br>**Hint:**\tRemember to use `plt.show()` to display the graph.\n",
    "\n",
    "```\n",
    "    x = [0,2,4,5,8,10,13]\n",
    "    y = [1,3,3,3,4,5,6]\n",
    "    f = [-3,0,1,0,4,6,7]\n",
    "```\n",
    "\n",
    "2. On the same axes, create a line plot of `f` against `x`\n",
    "3. Alter your figure so it has the following:\n",
    "    - The line for `f` vs `x` is red and has thickness 2\n",
    "    - Title: 'Plot of y,f vs x'\n",
    "    - x axis label: `x`\n",
    "    - A legend\n",
    "4. Save your plot as a .pdf file\n",
    "\n"
   ]
  },
  {
   "cell_type": "markdown",
   "metadata": {},
   "source": [
    "# Exercise 2\n",
    "\n",
    "1. Import the data from `hourly_cycle_count_weekend.csv` and plot a line graph of the data with `Time' on the horizontal axis and `Total' on the vertical axis. Label the axes.\n",
    "\n",
    "2. Import the data in file `signal_data.csv`. Plot the data as a scatter graph where the first row is the x (horizontal) data and the second row is the y (vertical) data.}\n",
    "\n",
    "3. Import the data from `temperature_data.txt` and plot the data with the months on the horizontal axis and the temperature on the vertical axis for each city, as three scatter plots on the same graph. Add a figure legend to show which data set is which and label the axes. __Hint:__ this is not a CSV file so you will not be able to use the `csv` module to help with importing this data."
   ]
  },
  {
   "cell_type": "markdown",
   "metadata": {},
   "source": [
    "# Exercise 3\n",
    "\n",
    "Real data is often not in the exact form we want to plot it and some data processing is required before using the data.\n",
    "\n",
    "The file `douglas\\_data.csv` contains a data set of recorded parameters for a sample of wooden beams. <br>Convert the Bend strength to units of Nm$^{-2}$ and produce a scatter plot of bend strength against knot ratio. Label the axes."
   ]
  },
  {
   "cell_type": "markdown",
   "metadata": {},
   "source": [
    "# Exercise 4\n",
    "\n",
    "Import the data file you created in Week 8, Exercise 4 (sense_mm.csv)\n",
    "\n",
    "The sensor data is recorded at regular intervals of 100 milliseconds. \n",
    "\n",
    "Import the data and plot the sensor data for each sensor as a seperate data series on a scatter graph. \n",
    "\n",
    "Include a legend to show which data series corresponds to which sensor. \n"
   ]
  },
  {
   "cell_type": "markdown",
   "metadata": {},
   "source": [
    "# Exercise 5\n",
    "\n",
    "1. Consider a rectangular bar of length $L$ and cross-sectional area $A$. \n",
    "   Hooke's law states that the force needed to stretch a material by an amount $\\lambda$ is given by $F_{H} = 3E A (\\lambda - 1)$.\n",
    "    However, Hooke's law is a simplification and become inaccurate for large values of the stretch $\\lambda$.\n",
    "    \n",
    "    \n",
    "    The neo-Hookean model says that the force is given by \n",
    "    \\begin{align}\n",
    "      F_{nH} = E A (\\lambda - 1 / \\lambda^2)\n",
    "    \\end{align}\n",
    "    whereas the Gent model for the force is\n",
    "    \\begin{align}\n",
    "      F_{G} = \\frac{EA}{1 - \\alpha(\\lambda - 1)}\\,\\left(\\lambda - \\frac{1}{\\lambda^2}\\right),\n",
    "    \\end{align}\n",
    "    \n",
    "    \n",
    "    where $\\alpha \\ll 1$ is a constant. Assuming that $A = 10^{-4}$ m$^2$, $E = 10^{6}$ Pa, $\\alpha = 0.08$, plot $F_H$, $F_{nH}$, and $F_G$  as a function of $\\lambda$.  You can assume that $1 \\leq \\lambda \\leq 10$.\n",
    "    All of the curves should be plotted on the same axes. Make sure the axes are labelled and the figure has a legend.\n",
    "\n",
    "<br>\n",
    "<br>\n",
    "2. Save the data in a .csv file called `force_stretch.csv`.<br>\n",
    "    The data should be arranged in columns so that the first column are values of the stretch $\\lambda$, and the second, third, and fourth columns are the forces $F_H$, $F_{nH}$, and $F_{G}$. The first row of the\n",
    "    .csv file should be text data that describes each column. "
   ]
  },
  {
   "cell_type": "code",
   "execution_count": null,
   "metadata": {},
   "outputs": [],
   "source": []
  }
 ],
 "metadata": {
  "celltoolbar": "Slideshow",
  "kernelspec": {
   "display_name": "Python 3 (ipykernel)",
   "language": "python",
   "name": "python3"
  },
  "language_info": {
   "codemirror_mode": {
    "name": "ipython",
    "version": 3
   },
   "file_extension": ".py",
   "mimetype": "text/x-python",
   "name": "python",
   "nbconvert_exporter": "python",
   "pygments_lexer": "ipython3",
   "version": "3.10.9"
  },
  "rise": {
   "theme": "white"
  }
 },
 "nbformat": 4,
 "nbformat_minor": 4
}
