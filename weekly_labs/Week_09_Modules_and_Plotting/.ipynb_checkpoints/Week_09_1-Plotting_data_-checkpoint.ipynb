{
 "cells": [
  {
   "cell_type": "markdown",
   "metadata": {
    "slideshow": {
     "slide_type": "slide"
    }
   },
   "source": [
    "# Computer Programming and Algorithms\n",
    "\n",
    "## Week 9.1: Plotting data\n",
    "\n",
    "* * *\n",
    "\n",
    "<img src=\"https://github.com/engmaths/EMAT10007_2023/blob/main/weekly_content/img/full-colour-logo-UoB.png?raw=true\" width=\"20%\">\n",
    "</p>"
   ]
  },
  {
   "cell_type": "markdown",
   "metadata": {},
   "source": [
    "Ignore following line of code if opening file in Google Colab:"
   ]
  },
  {
   "cell_type": "code",
   "execution_count": 2,
   "metadata": {},
   "outputs": [],
   "source": [
    "%matplotlib inline"
   ]
  },
  {
   "cell_type": "markdown",
   "metadata": {
    "slideshow": {
     "slide_type": "slide"
    }
   },
   "source": [
    "# Aims\n",
    "\n",
    "In this video we will:\n",
    "\n",
    "* Introduce the `matplotlib` package\n",
    "* Show how to create plots of data using `matplotlib.pyplot`"
   ]
  },
  {
   "cell_type": "markdown",
   "metadata": {
    "slideshow": {
     "slide_type": "slide"
    }
   },
   "source": [
    "# Matplotlib\n",
    "Documentation: https://matplotlib.org/\n",
    "\n",
    "* A comprehensive package for creating static and dynamic visualisations \n",
    "* A package is a collection of modules\n",
    "* There are several modules of Matplotlib that handle different types of visualisation\n",
    "* In this unit, we will We will study a module called `pyplot`, which is for plotting data"
   ]
  },
  {
   "cell_type": "markdown",
   "metadata": {
    "slideshow": {
     "slide_type": "slide"
    }
   },
   "source": [
    "# Importing Matplotlib\n",
    "\n",
    "We can import the module `pyplot` using \n",
    "```python\n",
    "import matplotlib.pyplot\n",
    "```"
   ]
  },
  {
   "cell_type": "markdown",
   "metadata": {},
   "source": [
    "However, `pyplot` is often *renamed* as `plt` on import, as its shorter to type. \n",
    "\n",
    "The `as` keyword is used to create a user-defined name for `matplotlib.pyplot`; in this case, `plt`\n",
    "\n",
    "Any functions from `pyplot` can be used by prepending with `plt`\n",
    "\n",
    "e.g. ` plt.plot()`"
   ]
  },
  {
   "cell_type": "markdown",
   "metadata": {},
   "source": [
    "We will therefore use the code"
   ]
  },
  {
   "cell_type": "code",
   "execution_count": 3,
   "metadata": {},
   "outputs": [],
   "source": [
    "import matplotlib.pyplot as plt"
   ]
  },
  {
   "cell_type": "markdown",
   "metadata": {},
   "source": [
    "This should be placed at the top of your Python file\n",
    "\n"
   ]
  },
  {
   "cell_type": "markdown",
   "id": "f26f96d6",
   "metadata": {
    "slideshow": {
     "slide_type": "slide"
    }
   },
   "source": [
    "\n",
    "\n"
   ]
  },
  {
   "cell_type": "code",
   "execution_count": 4,
   "id": "9a0d0837",
   "metadata": {},
   "outputs": [],
   "source": [
    "import matplotlib.pyplot as plt"
   ]
  },
  {
   "cell_type": "markdown",
   "id": "104bb968",
   "metadata": {
    "slideshow": {
     "slide_type": "-"
    }
   },
   "source": [
    "To display plots when running a .py file (e.g. in Spyder), the following line must appear in the programme *after* generating the plot:"
   ]
  },
  {
   "cell_type": "code",
   "execution_count": 5,
   "id": "8e31fc6b",
   "metadata": {
    "slideshow": {
     "slide_type": "-"
    }
   },
   "outputs": [],
   "source": [
    "plt.show()\n"
   ]
  },
  {
   "cell_type": "markdown",
   "id": "b7950dcd",
   "metadata": {
    "slideshow": {
     "slide_type": "slide"
    }
   },
   "source": [
    "<a id='LineScatterPlots'></a>\n",
    "# Line and Scatter Graphs\n",
    "A sample data set: $x$ with corresponding values of $f$:"
   ]
  },
  {
   "cell_type": "code",
   "execution_count": 6,
   "id": "32131800",
   "metadata": {},
   "outputs": [],
   "source": [
    "x = [-1, 3, 4, 8 , 10]\n",
    "y = [-1, -2, 5, 9 , 11]\n"
   ]
  },
  {
   "cell_type": "markdown",
   "id": "73da402e",
   "metadata": {
    "slideshow": {
     "slide_type": "slide"
    }
   },
   "source": [
    "__Example:__ Line plot of `y` against `x`  "
   ]
  },
  {
   "cell_type": "code",
   "execution_count": null,
   "id": "444fa664",
   "metadata": {
    "slideshow": {
     "slide_type": "-"
    }
   },
   "outputs": [],
   "source": []
  },
  {
   "cell_type": "markdown",
   "id": "951b7e2d",
   "metadata": {
    "slideshow": {
     "slide_type": "slide"
    }
   },
   "source": [
    "__Format string:__ an *optional* way to define basic formatting\n",
    " - the colour of the plot (e.g. `r` = red, `k`= black)<br>https://matplotlib.org/2.0.2/api/colors_api.html <br>\n",
    " - the style of the markers (e.g. `o` = points, `*` = stars)<br>  https://matplotlib.org/api/markers_api.html<br>\n",
    " - the style of the line (e.g. `--` = dashes, `.` = dots) <br>https://matplotlib.org/devdocs/gallery/lines_bars_and_markers/line_styles_reference.html"
   ]
  },
  {
   "cell_type": "markdown",
   "id": "7b12348a",
   "metadata": {
    "slideshow": {
     "slide_type": "slide"
    }
   },
   "source": [
    "__Example:__ Use the format string to change the appearance of the plot of y against x. "
   ]
  },
  {
   "cell_type": "code",
   "execution_count": null,
   "id": "027b7551",
   "metadata": {
    "scrolled": true,
    "slideshow": {
     "slide_type": "-"
    }
   },
   "outputs": [],
   "source": []
  },
  {
   "cell_type": "markdown",
   "id": "23764292",
   "metadata": {
    "slideshow": {
     "slide_type": "slide"
    }
   },
   "source": [
    "__Example:__ We can add features like axis labels (`plt.xlabel, plt.ylabel`) and a title (`plt.title`)"
   ]
  },
  {
   "cell_type": "code",
   "execution_count": null,
   "id": "5f4f120a",
   "metadata": {
    "scrolled": false,
    "slideshow": {
     "slide_type": "-"
    }
   },
   "outputs": [],
   "source": []
  },
  {
   "cell_type": "markdown",
   "id": "93522ce1",
   "metadata": {
    "slideshow": {
     "slide_type": "slide"
    }
   },
   "source": [
    "# Multiple series on the same plot \n",
    "\n",
    "We can give each series of points a name (`plt.label`).\n",
    "\n",
    "This is useful when multiple series' appear on the same graph. \n",
    "\n",
    "We can display a key or legend of the data points using `plt.legend`."
   ]
  },
  {
   "cell_type": "markdown",
   "id": "414aa8e6",
   "metadata": {},
   "source": [
    "\n",
    "__Example:__ \n",
    "\n",
    "Plot `y` against `x` and `f` against `x` on the same graph.\n",
    "\n",
    "Add a legend to indicate which line shows which relationship.  "
   ]
  },
  {
   "cell_type": "code",
   "execution_count": null,
   "id": "d2e9227d",
   "metadata": {
    "scrolled": false,
    "slideshow": {
     "slide_type": "-"
    }
   },
   "outputs": [],
   "source": []
  },
  {
   "cell_type": "markdown",
   "id": "63105b67",
   "metadata": {
    "slideshow": {
     "slide_type": "slide"
    }
   },
   "source": [
    "# Saving plots\n",
    "Plots can be saved in widely used formats (.png, .pdf etc) specified using the file name extension."
   ]
  },
  {
   "cell_type": "code",
   "execution_count": 57,
   "id": "2b760b1a",
   "metadata": {},
   "outputs": [
    {
     "data": {
      "text/plain": [
       "<Figure size 432x288 with 0 Axes>"
      ]
     },
     "metadata": {},
     "output_type": "display_data"
    }
   ],
   "source": [
    "plt.savefig('img/my_plots.png')\n"
   ]
  },
  {
   "cell_type": "markdown",
   "id": "035147f7",
   "metadata": {},
   "source": [
    "`plt.savefig` must appear *before* `plt.show()`"
   ]
  },
  {
   "cell_type": "markdown",
   "metadata": {
    "slideshow": {
     "slide_type": "slide"
    }
   },
   "source": [
    "# Summary\n",
    "\n",
    "* `matplotlib.pyplot` contains functions for plotting data\n",
    "* It is highly customisable, see [the Matplotlib website](https://matplotlib.org/stable/) for full details"
   ]
  }
 ],
 "metadata": {
  "celltoolbar": "Slideshow",
  "kernelspec": {
   "display_name": "Python 3 (ipykernel)",
   "language": "python",
   "name": "python3"
  },
  "language_info": {
   "codemirror_mode": {
    "name": "ipython",
    "version": 3
   },
   "file_extension": ".py",
   "mimetype": "text/x-python",
   "name": "python",
   "nbconvert_exporter": "python",
   "pygments_lexer": "ipython3",
   "version": "3.11.4"
  }
 },
 "nbformat": 4,
 "nbformat_minor": 4
}
