{
 "cells": [
  {
   "cell_type": "markdown",
   "metadata": {
    "slideshow": {
     "slide_type": "slide"
    }
   },
   "source": [
    "# Computer Programming and Algorithms\n",
    "\n",
    "## Week 6.1: Reading files\n",
    "\n",
    "<img src=\"img/full-colour-logo-UoB.png\" alt=\"Bristol\" style=\"width: 300px;\"/>"
   ]
  },
  {
   "cell_type": "markdown",
   "metadata": {
    "slideshow": {
     "slide_type": "slide"
    }
   },
   "source": [
    "# Aims\n",
    "\n",
    "In this video we will learn:\n",
    "\n",
    "* What is a file?\n",
    "* What is a file path?\n",
    "* How to open a file using a computer program"
   ]
  },
  {
   "cell_type": "markdown",
   "metadata": {
    "slideshow": {
     "slide_type": "slide"
    }
   },
   "source": [
    "# What is a file? \n",
    "\n",
    "A file is a set of bytes (a unit of data that is eight binary digits long) used to store data. \n",
    "\n",
    "What the data represents depend on the file type which is represented by the file extension. \n",
    "\n",
    "Examples of file types and file extensions (there are hundereds more):\n",
    "- unformatted text (.txt, .dat)\n",
    "- formatted text (.docx)\n",
    "- spreadsheet/tabulated data (.xlsx, .csv)\n",
    "- image (.png, .img)\n",
    "\n",
    " __TODO: table showing this type of data__\n"
   ]
  },
  {
   "cell_type": "markdown",
   "metadata": {
    "slideshow": {
     "slide_type": "slide"
    }
   },
   "source": [
    "# What is a File Path?\n",
    "\n",
    "The file path is a string object that represents the location of a file on an operating system. \n",
    "\n",
    "This may include it's location within a series of nested folders. \n",
    "\n",
    "We will refer to folders as __directories__."
   ]
  },
  {
   "cell_type": "markdown",
   "metadata": {},
   "source": [
    "# What is a File Path?\n",
    "\n",
    "A file path has three parts:\n",
    "1. <span style=\"color:blue\">__Directory Path__</span>: the location of the directory on the file system that contains the file. Nested directories are separated by a:\n",
    "    - forward slash `/` (Unix)\n",
    "    - backslash `\\` (Windows)\n",
    "3. <span style=\"color:red\">__File Name__</span>: the name of the file\n",
    "4. <span style=\"color:green\">__File Extension__</span>: the end of the file path pre-pended with a period (.) used to indicate the file type\n",
    "\n",
    "***"
   ]
  },
  {
   "cell_type": "markdown",
   "metadata": {},
   "source": [
    "Examples: <br>File Path to myfile.txt from the root (top-most) directory of the file system. \n",
    "\n",
    "'<span style=\"color:blue\">C:\\Users\\YourUsername\\Documents\\ <span style=\"color:red\">myfile</span><span style=\"color:green\">.txt</span>'\n",
    "<br><span style=\"color:black\">(Windows)\n",
    "\n",
    "'<span style=\"color:blue\">/home/YourUsername/Documents/ <span style=\"color:red\">myfile</span><span style=\"color:green\">.txt</span>'\n",
    "<br><span style=\"color:black\">(Unix)"
   ]
  },
  {
   "cell_type": "markdown",
   "metadata": {},
   "source": [
    "The __root directory__ is the (top-most) directory of the file system. \n",
    "\n",
    "__Windows__: <br>Each drive has its own root directory:\n",
    "- `C:\\` is the root directory of the C: drive.\n",
    "- `D:\\` is the root directory of the D: drive.\n",
    "\n",
    "__Linux/Unix/Mac__: <br>There is a single root directory for the entire file system, denoted by a forward slash `/`."
   ]
  },
  {
   "cell_type": "markdown",
   "metadata": {},
   "source": [
    "The path can be either:\n",
    "- __Global (Absolute):__ The path to a file from the root directory of the file system. \n",
    "- __Local (Relative):__ The path to a file relative to the current *working directory* (the directory where the program is being run) "
   ]
  },
  {
   "cell_type": "markdown",
   "metadata": {},
   "source": [
    "Consider the file system below. <br>Assume the directory `YourUsername` is on the root directory:\n",
    "\n",
    "```python\n",
    "YourUsername/\n",
    "|\n",
    "|--- Documents/\n",
    "        |\n",
    "        |--- main.py\n",
    "        |--- README.txt \n",
    "```\n",
    "\n",
    "We are going to run the programme `main.py` which will use the file path to `README.txt`"
   ]
  },
  {
   "cell_type": "markdown",
   "metadata": {},
   "source": [
    "```python\n",
    "YourUsername/\n",
    "|\n",
    "|--- Documents/\n",
    "        |\n",
    "        |--- main.py\n",
    "        |--- README.txt  \n",
    "```\n",
    "***\n",
    "__Global path__ (root to temperature.csv) \n",
    "```\n",
    "'C:\\Users\\YourUsername\\Documents\\README.txt'\n",
    "\n",
    "'/home/YourUsername/Documents/README.txt'\n",
    "```\n",
    "***"
   ]
  },
  {
   "cell_type": "markdown",
   "metadata": {},
   "source": [
    "__Local path__ (main.py to README.txt)\n",
    "```\n",
    "'README.txt'\n",
    "```"
   ]
  },
  {
   "cell_type": "markdown",
   "metadata": {},
   "source": [
    "Consider the file system below. <br> Assume the directory `YourUsername` is on the root directory:\n",
    "\n",
    "```python\n",
    "YourUsername/\n",
    "|\n",
    "|--- Documents/\n",
    "        |\n",
    "        |--- main.py\n",
    "        |--- README.txt \n",
    "        |--- data/ \n",
    "               |\n",
    "               |--- temperature.csv\n",
    "```\n",
    "\n",
    "We are going to run the programme `main.py` which will use the file path to `temperature.csv`, which is in subdirectory `data`"
   ]
  },
  {
   "cell_type": "markdown",
   "metadata": {},
   "source": [
    "```python\n",
    "YourUsername/\n",
    "|\n",
    "|--- Documents/\n",
    "        |\n",
    "        |--- main.py\n",
    "        |--- README.txt \n",
    "        |--- data/ \n",
    "               |\n",
    "               |--- temperature.csv\n",
    "```\n",
    "***\n",
    "__Global path__ (root to temperature.csv) \n",
    "```\n",
    "'C:\\Users\\YourUsername\\Documents\\data\\temperature.csv'\n",
    "\n",
    "'/home/YourUsername/Documents/data/temperature.csv'\n",
    "```\n",
    "***\n",
    "__Local path__ (main.py to temperature.csv)\n",
    "```\n",
    "'data/temperature.csv'\n",
    "```"
   ]
  },
  {
   "cell_type": "markdown",
   "metadata": {},
   "source": [
    "In the following examples we will us the local file path:\n",
    "- shorter\n",
    "- unchanged by location of files on file system, providing their location relative to each other doesn't change\n"
   ]
  },
  {
   "cell_type": "markdown",
   "metadata": {},
   "source": [
    "We will use the notation for Unix systems (forward slash `/`) so remember to chage this to backslash `\\` if you are using windows"
   ]
  },
  {
   "cell_type": "markdown",
   "metadata": {},
   "source": [
    "# How to open a file using a computer program"
   ]
  },
  {
   "cell_type": "markdown",
   "metadata": {},
   "source": [
    "Consider the file system below\n",
    "\n",
    "```python\n",
    "Week_6/\n",
    "|\n",
    "|--- Example_1/\n",
    "        |\n",
    "        |--- program_1.py\n",
    "        |--- README.txt \n",
    "```\n"
   ]
  },
  {
   "cell_type": "markdown",
   "metadata": {
    "slideshow": {
     "slide_type": "slide"
    }
   },
   "source": [
    "We can open the file `README.txt` in `program_1.py` using:\n",
    "```python\n",
    "file = open('README.txt')\n",
    "```"
   ]
  },
  {
   "cell_type": "markdown",
   "metadata": {
    "slideshow": {
     "slide_type": "slide"
    }
   },
   "source": [
    "When you are finished reading in the contents of a file, the file needs to be closed:\n",
    "```python\n",
    "file.close()\n",
    "```"
   ]
  },
  {
   "cell_type": "markdown",
   "metadata": {},
   "source": [
    "Consider the file system below\n",
    "\n",
    "```python\n",
    "Week_6/\n",
    "|\n",
    "|--- Example_1/\n",
    "        |\n",
    "        |--- program_1.py\n",
    "        |--- README.txt \n",
    "        |--- data/ \n",
    "               |\n",
    "               |--- temperature.csv\n",
    "```"
   ]
  },
  {
   "cell_type": "markdown",
   "metadata": {
    "slideshow": {
     "slide_type": "slide"
    }
   },
   "source": [
    "We can open the file `temperature.csv` in `program_1.py` using:\n",
    "```python\n",
    "file = open('data/temperature.csv')\n",
    "file.close()\n",
    "```\n",
    "The file is then closed"
   ]
  },
  {
   "cell_type": "markdown",
   "metadata": {},
   "source": [
    "# Downstream and Upstream files \n",
    "\n",
    "__Downstream files__: Files that exist in the same directory as the current working directory, or any of its subdirectories\n",
    "\n",
    "__Upstream files__: Files that exist in a higher level folder than your current working directory"
   ]
  },
  {
   "cell_type": "markdown",
   "metadata": {},
   "source": [
    "__Import path:__\n",
    "The directories from which a file can be read by a program. \n",
    "- Includes downstream directories\n",
    "- Excludes upstream directories by default "
   ]
  },
  {
   "cell_type": "markdown",
   "metadata": {},
   "source": [
    "We can add an upstream directory using:\n",
    "```python\n",
    "import sys\n",
    "sys.path.append('../')\n",
    "```\n",
    "Where one directory upstream is denoted by "
   ]
  },
  {
   "cell_type": "markdown",
   "metadata": {},
   "source": [
    "Consider the file system below\n",
    "\n",
    "```python\n",
    "Week_6/\n",
    "|\n",
    "|--- Example_2/\n",
    "        |\n",
    "        |--- rainfall.csv\n",
    "        |--- my_program/ \n",
    "               |\n",
    "               |--- program_2.py\n",
    "```\n",
    "The file `rainfall.csv` is *upstream* of the file (`program_2.py`)"
   ]
  },
  {
   "cell_type": "markdown",
   "metadata": {},
   "source": [
    "We can open the file `rainfall.csv` in `programme_2.py` using:\n",
    "```python\n",
    "import sys\n",
    "sys.path.append('../')\n",
    "file = open('rainfall.csv')\n",
    "file.close()\n",
    "```"
   ]
  },
  {
   "cell_type": "markdown",
   "metadata": {},
   "source": [
    "The same process can be used to access directories that are downstream of an upstream directory but not downstream of the current working directory"
   ]
  },
  {
   "cell_type": "markdown",
   "metadata": {},
   "source": [
    "```python\n",
    "Week_6/\n",
    "|\n",
    "|--- Example_2/\n",
    "        |\n",
    "        |--- rainfall.csv\n",
    "        |--- my_program/ \n",
    "               |\n",
    "               |--- program_2.py\n",
    "        |--- my_data/ \n",
    "               |\n",
    "               |--- wind_speed.csv\n",
    "```\n",
    "\n",
    "We can open the file `rainfall.csv` in `programme_2.py` using:\n",
    "```python\n",
    "import sys\n",
    "sys.path.append('../my_data')\n",
    "file = open('wind_speed.csv')\n",
    "file.close()\n",
    "```\n"
   ]
  },
  {
   "cell_type": "markdown",
   "metadata": {},
   "source": [
    "### Need to see some more examples? \n",
    "https://w3schoolsua.github.io/python/python_file_handling_en.html#gsc.tab=0\n",
    "<br>https://www.geeksforgeeks.org/file-handling-python/\n",
    "<br>https://realpython.com/read-write-files-python/#file-paths\n",
    "\n",
    "### Want to take a quiz?\n",
    "https://realpython.com/quizzes/read-write-files-python/\n",
    "<br>https://pynative.com/python-file-handling-quiz/\n",
    "\n",
    "### Want some more advanced information?\n",
    "https://pynative.com/python/file-handling/#:~:text=To%20read%20or%20write%20a,It%20returns%20the%20file%20object."
   ]
  },
  {
   "cell_type": "code",
   "execution_count": null,
   "metadata": {},
   "outputs": [],
   "source": []
  }
 ],
 "metadata": {
  "celltoolbar": "Slideshow",
  "kernelspec": {
   "display_name": "Python 3 (ipykernel)",
   "language": "python",
   "name": "python3"
  },
  "language_info": {
   "codemirror_mode": {
    "name": "ipython",
    "version": 3
   },
   "file_extension": ".py",
   "mimetype": "text/x-python",
   "name": "python",
   "nbconvert_exporter": "python",
   "pygments_lexer": "ipython3",
   "version": "3.12.4"
  }
 },
 "nbformat": 4,
 "nbformat_minor": 4
}
