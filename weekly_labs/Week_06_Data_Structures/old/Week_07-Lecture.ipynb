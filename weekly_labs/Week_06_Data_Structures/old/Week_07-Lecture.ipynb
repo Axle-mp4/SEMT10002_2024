{
 "cells": [
  {
   "cell_type": "markdown",
   "metadata": {
    "slideshow": {
     "slide_type": "slide"
    }
   },
   "source": [
    "# Introduction to Computer Programming\n",
    "\n",
    "## Week 5: Data structures\n",
    "\n",
    "* * *\n",
    "\n",
    "<img src=\"https://github.com/engmaths/EMAT10007_2023/blob/main/weekly_content/img/full-colour-logo-UoB.png?raw=true\" width=\"20%\">\n",
    "</p>\n"
   ]
  },
  {
   "cell_type": "markdown",
   "metadata": {
    "slideshow": {
     "slide_type": "slide"
    }
   },
   "source": [
    "# Recap of the videos\n",
    "\n",
    "Three new data types were introduced that are useful for storing collections of objects\n",
    "\n",
    "* Lists: collections of objects indexed by integers.  Mutable, ordered, iterable\n",
    "* Tuples: collections of objects indexed by integers. Immutable, ordered, iterable\n",
    "* Dictionaries: based on key:value pairs.  Mutable, ordered, iterable"
   ]
  },
  {
   "cell_type": "code",
   "execution_count": 15,
   "metadata": {},
   "outputs": [],
   "source": [
    "L = ['a', 'b', 'c']\n",
    "T = ('a', 'b', 'c')\n",
    "D = {1:'a', 2:'b', 3:'c'}"
   ]
  },
  {
   "cell_type": "markdown",
   "metadata": {
    "slideshow": {
     "slide_type": "slide"
    }
   },
   "source": [
    "# Question\n",
    "\n",
    "Imagine that you are constructing a box with the following dimensions\n",
    "\n",
    "| Dimension | Value |\n",
    "| :-: | :-: |\n",
    "| Length | 1.6 |\n",
    "| Width | 240 |\n",
    "| Height | 2.7 |\n",
    "\n",
    "What is the best data structure to use to store this data?  Enter your answer at [Mentimeter](https://menti.com)!"
   ]
  },
  {
   "cell_type": "markdown",
   "metadata": {
    "slideshow": {
     "slide_type": "slide"
    }
   },
   "source": [
    "Now imagine that you want to associate units with each of these dimensions so the values make sense\n",
    "\n",
    "| Dimension | Value | Unit |\n",
    "| :-: | :-: | :-: |\n",
    "| Length | 1.6 | m |\n",
    "| Width | 240 | cm |\n",
    "| Height | 2.7 | m |\n",
    "\n",
    "How would you store this data?   Enter your answer at [Mentimeter](https://menti.com)!"
   ]
  },
  {
   "cell_type": "markdown",
   "metadata": {
    "slideshow": {
     "slide_type": "slide"
    }
   },
   "source": [
    "# Example\n",
    "\n",
    "Lists are iterable.  By default, only the values are iterated over"
   ]
  },
  {
   "cell_type": "code",
   "execution_count": 12,
   "metadata": {},
   "outputs": [
    {
     "name": "stdout",
     "output_type": "stream",
     "text": [
      "a\n",
      "b\n",
      "c\n",
      "d\n"
     ]
    }
   ],
   "source": [
    "L = ['a', 'b', 'c', 'd']\n",
    "\n",
    "for l in L:\n",
    "    print(l)"
   ]
  },
  {
   "cell_type": "markdown",
   "metadata": {
    "slideshow": {
     "slide_type": "slide"
    }
   },
   "source": [
    "We can use the `enumerate` function to loop over the indices and the values of a list"
   ]
  },
  {
   "cell_type": "code",
   "execution_count": 13,
   "metadata": {},
   "outputs": [
    {
     "name": "stdout",
     "output_type": "stream",
     "text": [
      "0 a\n",
      "1 b\n",
      "2 c\n",
      "3 d\n"
     ]
    }
   ],
   "source": [
    "for n, l in enumerate(L):\n",
    "    print(n, l)"
   ]
  },
  {
   "cell_type": "markdown",
   "metadata": {
    "slideshow": {
     "slide_type": "slide"
    }
   },
   "source": [
    "# Exercise\n",
    "\n",
    "Create a list called colours to store the strings red, blue, yellow, and green.  \n",
    "\n",
    "Then update the strings in the list so the first letter is capitalised.\n",
    "\n",
    "Hint: the `capitalize` method can be used to capitalise the first letter of a string"
   ]
  },
  {
   "cell_type": "code",
   "execution_count": 10,
   "metadata": {},
   "outputs": [
    {
     "name": "stdout",
     "output_type": "stream",
     "text": [
      "Red\n"
     ]
    }
   ],
   "source": [
    "s = 'red'\n",
    "print(s.capitalize())"
   ]
  },
  {
   "cell_type": "markdown",
   "metadata": {
    "slideshow": {
     "slide_type": "slide"
    }
   },
   "source": [
    "**Solution**:"
   ]
  },
  {
   "cell_type": "code",
   "execution_count": 16,
   "metadata": {},
   "outputs": [
    {
     "name": "stdout",
     "output_type": "stream",
     "text": [
      "['Red', 'Blue', 'Yellow', 'Green']\n"
     ]
    }
   ],
   "source": [
    "colours = ['red', 'blue', 'yellow', 'green']\n",
    "\n",
    "for n, c in enumerate(colours):\n",
    "    new_str = c.capitalize()\n",
    "    colours[n] = new_str\n",
    "print(colours)"
   ]
  },
  {
   "cell_type": "markdown",
   "metadata": {
    "slideshow": {
     "slide_type": "slide"
    }
   },
   "source": [
    "# Question\n",
    "\n",
    "Why will this code cause an error? \n",
    "\n",
    "Enter your answer at [Mentimeter](https://menti.com)!"
   ]
  },
  {
   "cell_type": "markdown",
   "metadata": {},
   "source": [
    "```python\n",
    "colours = ('red', 'blue', 'yellow', 'green')\n",
    "for i, c in enumerate(colours):\n",
    "    colours[i] = c.capitalize()\n",
    "```"
   ]
  },
  {
   "cell_type": "markdown",
   "metadata": {},
   "source": [
    "Will this code run?"
   ]
  },
  {
   "cell_type": "markdown",
   "metadata": {
    "slideshow": {
     "slide_type": "slide"
    }
   },
   "source": [
    "# Exercise\n",
    "\n",
    "Create a list that stores the first 20 square numbers starting from 1.\n",
    "\n",
    "Square numbers are defined as the numbers $n^2$ where $n$ is an integer"
   ]
  },
  {
   "cell_type": "markdown",
   "metadata": {
    "slideshow": {
     "slide_type": "slide"
    }
   },
   "source": [
    "**Solution 1**: Create an empty list and then use a for loop along with the `append` method"
   ]
  },
  {
   "cell_type": "code",
   "execution_count": 18,
   "metadata": {},
   "outputs": [
    {
     "name": "stdout",
     "output_type": "stream",
     "text": [
      "[1, 4, 9, 16, 25, 36, 49, 64, 81, 100, 121, 144, 169, 196, 225, 256, 289, 324, 361, 400]\n"
     ]
    }
   ],
   "source": [
    "L = []\n",
    "for n in range(1, 21):\n",
    "    L.append(n**2)\n",
    "print(L)"
   ]
  },
  {
   "cell_type": "markdown",
   "metadata": {
    "slideshow": {
     "slide_type": "slide"
    }
   },
   "source": [
    "**Solution 2**: Using a list comprehension"
   ]
  },
  {
   "cell_type": "code",
   "execution_count": 19,
   "metadata": {},
   "outputs": [
    {
     "name": "stdout",
     "output_type": "stream",
     "text": [
      "[1, 4, 9, 16, 25, 36, 49, 64, 81, 100, 121, 144, 169, 196, 225, 256, 289, 324, 361, 400]\n"
     ]
    }
   ],
   "source": [
    "L = [ n**2 for n in range(1, 21)]\n",
    "print(L)"
   ]
  },
  {
   "cell_type": "markdown",
   "metadata": {
    "slideshow": {
     "slide_type": "slide"
    }
   },
   "source": [
    "# Group activity\n",
    "\n",
    "In the video we saw that the `append` method can be used to add an element to a list.\n",
    "\n",
    "In pairs, explore what the following methods do\n",
    "* `insert`\n",
    "* `index`\n",
    "* `reverse`\n",
    "* `remove`\n",
    "* `sort`\n",
    "* `pop`"
   ]
  },
  {
   "cell_type": "markdown",
   "metadata": {},
   "source": [
    "# Lab exercises"
   ]
  },
  {
   "cell_type": "markdown",
   "metadata": {},
   "source": [
    "# Exercise 1 -  Lists\n",
    "\n",
    "1. Make two lists containing the values {\\tt [1,2]} and {\\tt [3,4]}.\n",
    "1. Change the value 1 to the value 5.\n",
    "1. Make a nested list that contains both lists.\n",
    "1. Use two loops to print out all the values in the nested list (2x2 matrix) one by one.\n",
    "1. Write a program that asks the user to input 5 words (strings) and then creates a list containing each word. Print the list. Print the number\n",
    "    of characters in the last word."
   ]
  },
  {
   "cell_type": "markdown",
   "metadata": {},
   "source": [
    "# Exercise 2 - List operations\n",
    "1. Create a list called \\verb+colours+ that stores the colours\n",
    "    red, green, and blue. What is the result of \\verb+3 * colours+?\n",
    "2. Create the list of Booleans such as \n",
    "    <br>`L = [True, True, False]`\n",
    "    <br>What is the result of `all(L)`? What is the result of\n",
    "    <br>`any(L)`? Now consider the list\n",
    "    <br>`L = [4, 7, -3, 5, 1, 8]`. Write a program that determines whether any element of `L` is negative.\n",
    "3. Using list comprehension, create lists of the following between 0 and 100:\n",
    "    - odd numbers\n",
    "    - multiples of 3\n",
    "    - prime numbers (NB: this is quite tricky)\n",
    "\n",
    "    The answers to the last part is [2, 3, 5, 7, 11, 13, 17, 19, 23, 29, 31, 37, 41, 43, 47, 53, 59, 61, 67, 71, 73, 79, 83, 89, 97].}"
   ]
  },
  {
   "cell_type": "markdown",
   "metadata": {},
   "source": [
    "# Exercise 3 - Tuples and dictionaries\n",
    "\n",
    "Make a tuple named  `fondue_ingredient` containing the values ''gruyere'' and ''vacherin''.\n",
    "  1. Print all the items in the tuple.\n",
    "  1. Change the value ''gruyere'' to the value ''cheddar''. Does it work? Why?\n",
    "  1. Consider the colours red, blue, green, black, and white.  Their RBG values are\n",
    "  (1,0,0), (0,1,0), (0,0,1), (0,0,0), (1,1,1), respectively.  Create a dictionary called `colours` that stores the name of the colours as keys and the RGB values as values.\n",
    "  1. Using the `colours` dictionary, run the following code:\n",
    "     \n",
    "```python\n",
    "  \tfor v in colours:\n",
    "  \t    print(v)\n",
    "\t\\end{minted}\n",
    "\tAre the keys or values printed to the screen?  Now try running the code\n",
    "\t\\begin{minted}{python}\n",
    "  \tfor v in colours.values():\n",
    "  \t    print(v)\n",
    "```\n",
    "What happens in this case?  "
   ]
  },
  {
   "cell_type": "markdown",
   "metadata": {},
   "source": [
    "# Exercise 4\n",
    "    \n",
    "\n",
    "| Planet  | Diameter (km) | Mass  | Rotation period |\n",
    "|-----|-----|-----|-----|\n",
    "|Mercury | 4,878           | 0.06   |58.65 (d) | \n",
    " Venus   | 12,100          | 0.82  | 243 (d) |  \n",
    " Earth   | 12,756         | 1.00  | 23.934 (h) | \n",
    " Mars    | 6,794          | 0.11  | 24.623 (h) | \n",
    " Jupiter | 142,800        | 317.89 | 9.842  (h) | \n",
    " Saturn  | 120,000        | 95.17 | 10.233 (h) | \n",
    " Uranus  | 52,400         | 14.56| 16 (h) | \n",
    " Neptune | 48,400         | 17.24 | 18 (h) | \n",
    " Pluto   | 2,445          | 0.002 | 6.39 (d) | \n",
    "\n",
    "\n",
    "Planet data taken from: https://www.rmg.co.uk/stories/topics/solar-system-data}\n",
    "\n",
    "1. Write a program that identifies and prints the name and density $\\rho$ (in kg m$^{-3}$) of the planet with the lowest density. Density, $\\rho = \\frac{m}{v}$, where $m$ = mass and $v$ = volume. Assume each planet is a perfect sphere\n",
    "\n",
    "1. Write a program that identifies and outputs the names and rotation periods of planets with a rotation period shorter than Earth's.\n"
   ]
  },
  {
   "cell_type": "markdown",
   "metadata": {},
   "source": [
    "# Exercise 5 - Real world programming example\n",
    "\n",
    "TODO: Simulated robot-related question that build on previous week"
   ]
  },
  {
   "cell_type": "code",
   "execution_count": null,
   "metadata": {},
   "outputs": [],
   "source": []
  }
 ],
 "metadata": {
  "celltoolbar": "Slideshow",
  "kernelspec": {
   "display_name": "Python 3 (ipykernel)",
   "language": "python",
   "name": "python3"
  },
  "language_info": {
   "codemirror_mode": {
    "name": "ipython",
    "version": 3
   },
   "file_extension": ".py",
   "mimetype": "text/x-python",
   "name": "python",
   "nbconvert_exporter": "python",
   "pygments_lexer": "ipython3",
   "version": "3.9.10"
  }
 },
 "nbformat": 4,
 "nbformat_minor": 4
}
