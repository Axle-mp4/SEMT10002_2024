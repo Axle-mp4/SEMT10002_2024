{
 "cells": [
  {
   "cell_type": "markdown",
   "id": "6edcf53d-58f2-4352-8a71-89e855968234",
   "metadata": {},
   "source": [
    "# Data Structures - lists, tuples and dicts\n",
    "\n",
    "Previously, we've introduced basic data types such as *int*, *boolean* and *string*. These can be used to store a single piece of information. e.g. We might store some data about a robot by writing\n",
    "\n",
    "```python\n",
    "robot_name = \"Martin\"\n",
    "robot_xpos = 0.0\n",
    "robot_ypos = 0.0\n",
    "```\n",
    "\n",
    "If we want a second robot, we could create some more variables- ```robot_name_2 = \"Hemma\"```, ```robot_name_3 = \"Arthur\"```. This is fine when we have small amounts of each variable- but what if we want to create and name 100 robots? \n",
    "\n",
    "Fortunately, Python has built-in data types for working with *sequences* of data, including *list*, *set*, *tuple* and *dictionary*. We'll look at each of these today, starting with the list."
   ]
  },
  {
   "cell_type": "markdown",
   "id": "a33e3f16-b9b3-4469-94d1-8bd820d824b6",
   "metadata": {},
   "source": [
    "## Lists\n",
    "\n",
    "A list is a *mutable*, *ordered* data structure that can store multiple different data types. We can create an empty list by typing ```my_list =  list() ``` or ```my_list = []```. We can also create a list by simply enclosing a list of objects in square brackets. i.e by writing\n"
   ]
  },
  {
   "cell_type": "code",
   "execution_count": 4,
   "id": "ecbd5fae-0cc2-4abe-8889-6be38916d2f3",
   "metadata": {},
   "outputs": [
    {
     "name": "stdout",
     "output_type": "stream",
     "text": [
      "['Martin', 'Hemma', 'Arthur', 'Josh']\n"
     ]
    },
    {
     "data": {
      "text/plain": [
       "list"
      ]
     },
     "execution_count": 4,
     "metadata": {},
     "output_type": "execute_result"
    }
   ],
   "source": [
    "robot_names = [\"Martin\", \"Hemma\", \"Arthur\", \"Josh\"]\n",
    "print(robot_names)\n",
    "type(robot_names)"
   ]
  },
  {
   "cell_type": "markdown",
   "id": "5701ed13-a860-4fd9-90cb-e9ed7295eb19",
   "metadata": {},
   "source": [
    "Each item in a list is called an element and is associated with an index, which denotes the position of that item in the list. It's important to remember that in Python, the first element in a list is at **index 0, not index 1**. \n",
    "\n",
    "<img src=\"https://github.com/engmaths/EMAT10007_2023/blob/main/weekly_content/img/lists1.png?raw=true\" width=\"20%\">\n",
    "\n",
    "We can access an element in a list by writing the name of the list, followed by square brackets containing the index of the element. i.e To get the first element of our list of robot names, I would write:"
   ]
  },
  {
   "cell_type": "code",
   "execution_count": 5,
   "id": "df754a33-bad2-42ca-a287-d03dc641220a",
   "metadata": {},
   "outputs": [
    {
     "name": "stdout",
     "output_type": "stream",
     "text": [
      "Martin\n"
     ]
    }
   ],
   "source": [
    "first_name = robot_names[0]\n",
    "print(first_name)"
   ]
  },
  {
   "cell_type": "markdown",
   "id": "7e64dacd-4eb1-425c-9b7c-a2d7f2bcfb05",
   "metadata": {},
   "source": [
    "Python also allows us to access the elements of a list in reverse. If we write ```my_list[-1]```, we'll get the last element of the list, while ```my_list[-2]``` will get the second to last element of the list.\n",
    "\n",
    "<img src=\"https://github.com/engmaths/EMAT10007_2023/blob/main/weekly_content/img/lists2.png?raw=true\" width=\"20%\">"
   ]
  },
  {
   "cell_type": "code",
   "execution_count": 7,
   "id": "fb6d3c19-74c5-469b-8093-6d8d10edea88",
   "metadata": {},
   "outputs": [
    {
     "name": "stdout",
     "output_type": "stream",
     "text": [
      "Josh\n"
     ]
    }
   ],
   "source": [
    "last_name = robot_names[-1]\n",
    "print(last_name)"
   ]
  },
  {
   "cell_type": "markdown",
   "id": "1a6fd4f7-da01-4ed3-9156-46768269674b",
   "metadata": {
    "slideshow": {
     "slide_type": "slide"
    }
   },
   "source": [
    "In either case, if we try to access element that does not exist (i.e we try to access element 5 in a list that only has 4 elements), we'll get an error- specifically, an IndexError. "
   ]
  },
  {
   "cell_type": "code",
   "execution_count": 8,
   "id": "0f19d219-b382-4deb-a2a8-fdfd28d1e2a8",
   "metadata": {},
   "outputs": [
    {
     "ename": "IndexError",
     "evalue": "list index out of range",
     "output_type": "error",
     "traceback": [
      "\u001b[0;31m---------------------------------------------------------------------------\u001b[0m",
      "\u001b[0;31mIndexError\u001b[0m                                Traceback (most recent call last)",
      "Input \u001b[0;32mIn [8]\u001b[0m, in \u001b[0;36m<cell line: 1>\u001b[0;34m()\u001b[0m\n\u001b[0;32m----> 1\u001b[0m name \u001b[38;5;241m=\u001b[39m \u001b[43mrobot_names\u001b[49m\u001b[43m[\u001b[49m\u001b[38;5;241;43m5\u001b[39;49m\u001b[43m]\u001b[49m\n",
      "\u001b[0;31mIndexError\u001b[0m: list index out of range"
     ]
    }
   ],
   "source": [
    "name = robot_names[5]"
   ]
  },
  {
   "cell_type": "markdown",
   "id": "a9f62507-30f5-424d-be70-7d366621af17",
   "metadata": {},
   "source": [
    "Just as we can use the index notation to access an element in a list, we can also use it to change the value of that element."
   ]
  },
  {
   "cell_type": "code",
   "execution_count": 27,
   "id": "691b3fa1-0b5e-48a0-b6b1-ff1ccd0fc6b1",
   "metadata": {},
   "outputs": [
    {
     "name": "stdout",
     "output_type": "stream",
     "text": [
      "['Wilbur', 'Hemma', 'Arthur', 'Oscar']\n"
     ]
    }
   ],
   "source": [
    "robot_names[0] = \"Wilbur\"\n",
    "robot_names[-1] = \"Oscar\"\n",
    "print(robot_names)"
   ]
  },
  {
   "cell_type": "markdown",
   "id": "11fa796a-d0b3-4aa1-902a-78d37d0a3018",
   "metadata": {},
   "source": [
    "We can create a sub-list (or slice) from our list by placing a ':' inside the square brackets. For example, to get the first two elements of our list, I would write"
   ]
  },
  {
   "cell_type": "code",
   "execution_count": 28,
   "id": "a89f831e-8f99-4124-bdbd-f3fd30861be3",
   "metadata": {},
   "outputs": [
    {
     "name": "stdout",
     "output_type": "stream",
     "text": [
      "['Wilbur', 'Hemma']\n"
     ]
    },
    {
     "data": {
      "text/plain": [
       "list"
      ]
     },
     "execution_count": 28,
     "metadata": {},
     "output_type": "execute_result"
    }
   ],
   "source": [
    "first_two_names = robot_names[0:2]\n",
    "print(first_two_names)\n",
    "type(first_two_names)"
   ]
  },
  {
   "cell_type": "markdown",
   "id": "caf0df21-7ede-465e-8444-bf7052a24fbf",
   "metadata": {},
   "source": [
    "Again, we need to note something important here- when we slice a list, the first number is the index of the first element we want, but the second number is the index **after** the element we want. When using the slice notation, we don't need to include a first number (Python will default to zero), a last number (Python will default to the end), and can optionally use reverse indices."
   ]
  },
  {
   "cell_type": "code",
   "execution_count": 29,
   "id": "ba6b42f8-e6cb-4b1c-9f9f-ee90d5034e7c",
   "metadata": {},
   "outputs": [
    {
     "name": "stdout",
     "output_type": "stream",
     "text": [
      "['Wilbur', 'Hemma']\n",
      "['Arthur', 'Oscar']\n",
      "['Wilbur', 'Hemma']\n",
      "['Arthur', 'Oscar']\n"
     ]
    }
   ],
   "source": [
    "print(robot_names[:2])   # Print first two names\n",
    "print(robot_names[2:])   # Print names at index two and beyond\n",
    "print(robot_names[:-2])  # Print first two names\n",
    "print(robot_names[-2:])  # Print last two names"
   ]
  },
  {
   "cell_type": "markdown",
   "id": "6fbfad69-34cc-406c-9f98-740914345b0c",
   "metadata": {},
   "source": [
    "# Nested Lists\n",
    "\n",
    "The elements of a list in Python do not have to be the same data type- we could for example, write"
   ]
  },
  {
   "cell_type": "code",
   "execution_count": 15,
   "id": "d9901c0f-5b3e-40b3-a55b-5d040cad92d6",
   "metadata": {},
   "outputs": [
    {
     "name": "stdout",
     "output_type": "stream",
     "text": [
      "['Hello', 1, False]\n",
      "<class 'str'> <class 'int'> <class 'bool'>\n"
     ]
    }
   ],
   "source": [
    "my_list = [\"Hello\", 1, False]\n",
    "print(my_list)\n",
    "print(type(my_list[0]), type(my_list[1]), type(my_list[2]))"
   ]
  },
  {
   "cell_type": "markdown",
   "id": "4010241a-496b-415f-9d0d-bec208544c19",
   "metadata": {},
   "source": [
    "This means that it is possible for one list to contain another list as an element. For example, we can write"
   ]
  },
  {
   "cell_type": "code",
   "execution_count": 17,
   "id": "0ee512de-2f0c-4f38-8b26-f7b8d822c586",
   "metadata": {
    "scrolled": true
   },
   "outputs": [
    {
     "name": "stdout",
     "output_type": "stream",
     "text": [
      "[[1, 2], [3, 4]]\n"
     ]
    }
   ],
   "source": [
    "nested_list = [[1, 2], [3, 4]]\n",
    "print(nested_list)"
   ]
  },
  {
   "cell_type": "markdown",
   "id": "d9373fdc-fd47-4cd6-b622-40a1b9d5b14a",
   "metadata": {},
   "source": [
    "Here, our list contains only two elements, both lists. The first of these elements is the list [1, 2], while the second element is the list [3, 4]. Nested lists are often used to represent matrices- the idea being that the first list ([1, 2]) represents the first row of the matrix, while the second list represents the second row of the matrix (and so on..). I.e our nested list is equivalent to the matrix\n",
    "\n",
    "$\n",
    "\\begin{bmatrix}\n",
    "1 & 2 \\\\\n",
    "3 & 4\n",
    "\\end{bmatrix}\n",
    "$\n",
    "\n",
    "To access an element in the outer list, we use the normal syntax- i.e "
   ]
  },
  {
   "cell_type": "code",
   "execution_count": 21,
   "id": "0b9f3473-b684-481b-818a-527383d03d85",
   "metadata": {},
   "outputs": [
    {
     "name": "stdout",
     "output_type": "stream",
     "text": [
      "First element is [1, 2]\n",
      "Second element is [3, 4]\n"
     ]
    }
   ],
   "source": [
    "print(\"First element is \" + str(nested_list[0]))\n",
    "print(\"Second element is \" + str(nested_list[1]))"
   ]
  },
  {
   "cell_type": "markdown",
   "id": "ea61bb68-1f70-4faa-8056-ef5f0a45d735",
   "metadata": {},
   "source": [
    "To access the elements of these lists directly, we can simply use two sets of square brackets. i.e"
   ]
  },
  {
   "cell_type": "code",
   "execution_count": 23,
   "id": "6b505877-d922-4ed2-8ceb-893b2b14a31c",
   "metadata": {},
   "outputs": [
    {
     "name": "stdout",
     "output_type": "stream",
     "text": [
      "Top left is 1\n",
      "Top right is 2\n"
     ]
    }
   ],
   "source": [
    "print(\"Top left is \" + str(nested_list[0][0]))\n",
    "print(\"Top right is \" + str(nested_list[0][1]))\n",
    "print(\"Bottom left is \" + str(nested_list[1][0]))\n",
    "print(\"Bottom right is \" + str(nested_list[1][1]))"
   ]
  },
  {
   "cell_type": "markdown",
   "id": "0f6854e5-3ecb-4bb0-88e6-6d1713f64dc8",
   "metadata": {},
   "source": [
    "### Exercise 1 - lists\n",
    "\n",
    "1. Make two lists containing the values [1, 4, 9] and [1, 8, 27].\n",
    "2. Double the value of the first element in each list.\n",
    "3. Add the first element of the first list to the last element of the second list.\n",
    "4. Make a nested list that contains both lists."
   ]
  },
  {
   "cell_type": "code",
   "execution_count": 25,
   "id": "67a29cc9-c42e-428b-99f4-aef34e04f79e",
   "metadata": {},
   "outputs": [
    {
     "name": "stdout",
     "output_type": "stream",
     "text": [
      "[[2, 4, 9], [2, 8, 27]]\n"
     ]
    }
   ],
   "source": [
    "\n"
   ]
  },
  {
   "cell_type": "markdown",
   "id": "23f6abdf-233c-475d-9cad-ec104f90f4ab",
   "metadata": {},
   "source": [
    "## Lists and Loops\n",
    "Basic idea\n",
    "range"
   ]
  },
  {
   "cell_type": "markdown",
   "id": "bc0fcedd-1bb9-470e-b155-dc50fae42138",
   "metadata": {},
   "source": [
    "### Exercise 2 - list methods\n",
    "Do something number theoretic here-- generate a list of numbers, find out how long the list is and how many even/odd numbers it contains the in the first / second half of the sequence."
   ]
  },
  {
   "cell_type": "markdown",
   "id": "7543c95d-425c-42f5-b218-afa07a3237c9",
   "metadata": {},
   "source": [
    "## List Methods\n",
    "\n",
    "Python has a number of helpful functions for working with lists. \n",
    "- Len\n",
    "- Append\n",
    "- Remove\n",
    "- +, *\n",
    "- In"
   ]
  },
  {
   "cell_type": "code",
   "execution_count": null,
   "id": "c53e2f4e-6eca-4985-b3b5-18ed061ba8ca",
   "metadata": {},
   "outputs": [],
   "source": []
  },
  {
   "cell_type": "markdown",
   "id": "f980e6c1-50f8-4768-b3fe-feddfc1121ad",
   "metadata": {},
   "source": [
    "### Exercise (short)\n",
    "\n",
    "### Exercise (longer)\n",
    "\n",
    "Printing fun patterns?\n",
    "\n",
    "\n",
    "## Tuples\n",
    "\n",
    "### Exercise\n",
    "\n",
    "Meh?\n",
    "\n",
    "## Dictionaries\n",
    "\n",
    "### Exercise\n",
    "\n",
    "### Portfolio Exercise\n",
    "\n",
    "Note to self- could do with adding a running example to this.\n",
    "\n",
    "### Bonus Exercise"
   ]
  }
 ],
 "metadata": {
  "kernelspec": {
   "display_name": "Python 3 (ipykernel)",
   "language": "python",
   "name": "python3"
  },
  "language_info": {
   "codemirror_mode": {
    "name": "ipython",
    "version": 3
   },
   "file_extension": ".py",
   "mimetype": "text/x-python",
   "name": "python",
   "nbconvert_exporter": "python",
   "pygments_lexer": "ipython3",
   "version": "3.9.10"
  }
 },
 "nbformat": 4,
 "nbformat_minor": 5
}
