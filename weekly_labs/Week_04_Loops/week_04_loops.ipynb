{
 "cells": [
  {
   "cell_type": "markdown",
   "metadata": {},
   "source": [
    "# Loops\n",
    "\n",
    "This week, we will introduce *loops* that enable us to use sections of code repeatedly to perform iterative operations.\n",
    "\n",
    "## Recap\n",
    "\n",
    "From previous weeks, you should recall:\n",
    "\n",
    "- using `if` `elif` and `else` statements to switch sections of code in or out\n",
    "- constucting logical tests for `if` and `elif` statements such as `a>=b`\n",
    "- how the ordering of the tests mattered, for correctness and efficiency\n",
    "- using *indenting* to tell Python which code was connected to the `if` statement\n",
    "\n",
    "Example:"
   ]
  },
  {
   "cell_type": "code",
   "execution_count": 28,
   "metadata": {},
   "outputs": [
    {
     "name": "stdout",
     "output_type": "stream",
     "text": [
      "a is large positive\n"
     ]
    }
   ],
   "source": [
    "a = 45\n",
    "if a>30:\n",
    "    print('a is large positive')\n",
    "elif a>0:\n",
    "    print('a is strictly positive')\n",
    "else:\n",
    "    print('a is negative or zero')"
   ]
  },
  {
   "cell_type": "markdown",
   "metadata": {},
   "source": [
    "## Introducing loops\n",
    "\n",
    "There are basically two types of loops:\n",
    "\n",
    "- `for` loops that repeat some statements for a defined number of times\n",
    "- `while` loops that repeat some statements as long as a given condition is `True`\n",
    "\n",
    "(This is a simplified categorization, as either Python syntax can be used for either purpose with a bit of working around... but it's ugly, and the division above is consistent with standard programming practice, and what you'll find in every language since programming began.)"
   ]
  },
  {
   "cell_type": "markdown",
   "metadata": {},
   "source": [
    "## `for` loops - iterating a fixed number of times\n",
    "\n",
    "Maybe your robot has eight identical range sensors and you need to read each one in turn?  Or you want to run a fixed number of training steps on your neural network.  Typically this is the job of a `for` loop as shown in the example below:"
   ]
  },
  {
   "cell_type": "code",
   "execution_count": 29,
   "metadata": {},
   "outputs": [
    {
     "name": "stdout",
     "output_type": "stream",
     "text": [
      "Step\n",
      "ii is 0\n",
      "Step\n",
      "ii is 1\n",
      "Step\n",
      "ii is 2\n",
      "Step\n",
      "ii is 3\n",
      "Step\n",
      "ii is 4\n",
      "Step\n",
      "ii is 5\n",
      "Step\n",
      "ii is 6\n",
      "Step\n",
      "ii is 7\n",
      "Step\n",
      "ii is 8\n",
      "Step\n",
      "ii is 9\n",
      "Finished\n"
     ]
    }
   ],
   "source": [
    "for ii in range(10):\n",
    "    print('Step')\n",
    "    print('ii is', ii)\n",
    "print('Finished')"
   ]
  },
  {
   "cell_type": "markdown",
   "metadata": {},
   "source": [
    "Comments on the anatomy of a `for `loop:\n",
    " - `ii` is the *loop counter* variable.  It keeps track of which iteration we are on.\n",
    " - The indented bit after the `for` statement identifies the statements that will be repeated.\n",
    " - You can read the loop counter in the loop, but don't change it, as that will mess up the count.\n",
    " - Python always counts from zero, so for 10 iterations, the counter goes from 0 to 9.\n",
    "\n",
    "(For historial reasons I often use `ii` and `jj` _etc._ as loop counters because algorithms are often presented with $i$ as the step index, and I use `ii` to avoid confusion with complex numbers.  You can use any variable name that suits your style.)"
   ]
  },
  {
   "cell_type": "markdown",
   "metadata": {},
   "source": [
    "### Summation example\n",
    "\n",
    "Now let's use a `for` loop to add up all the numbers from 1 to $n$."
   ]
  },
  {
   "cell_type": "code",
   "execution_count": 30,
   "metadata": {},
   "outputs": [
    {
     "name": "stdout",
     "output_type": "stream",
     "text": [
      "Sum from 1 to 20 is 210\n",
      "Formula gives 210.0\n"
     ]
    }
   ],
   "source": [
    "max_num = 20 # change from 1 to 100\n",
    "my_sum = 0\n",
    "for ii in range(max_num):\n",
    "    # counter ii will run 0 to 9\n",
    "    # so for 1 to 10, use ii+1\n",
    "    my_sum = my_sum + (ii+1)\n",
    "print('Sum from',1,'to',max_num,'is',my_sum)\n",
    "\n",
    "# check that with the formula\n",
    "sum_formula = 0.5*max_num*(max_num+1)\n",
    "print('Formula gives', sum_formula)"
   ]
  },
  {
   "cell_type": "markdown",
   "metadata": {},
   "source": [
    "Comments on this example:\n",
    "\n",
    "- No problem making the number of iterations a variable - the number of iterations is still known at the time you begin looping\n",
    "- Notive the new role of the variable `my_sum` which gets updated with each iteration but holds its value over to the next.  Think of this as an accummulator.  Notice you need to _initialize_ it with `my_sum=0` before the loop, so that the first iteration can read from it.  See what happens if you comment out that line?"
   ]
  },
  {
   "cell_type": "markdown",
   "metadata": {},
   "source": [
    "### Fixed point iteration - solving Kepler's Equation with `for`\n",
    "\n",
    "If you're trying to rendezvous with a space station, it helps to know where it is, at any given time.  Sadly that's not straightforward, as it's governed by Kepler's equation:\n",
    "\n",
    "$M = E - e sinE$\n",
    "\n",
    "$M = \\frac{2\\pi(t-t_0)}{T}$ is the _mean anomaly_ that takes time since lowest altitude and coverts it to an angle.  $E$ is the _eccentric anomaly_ that tells you where you actually are on the orbit ellipse... so you need to find $E$ given $M$.  But you can't re-arrange this to anything usable of the form $E=\\ldots$, so it needs solving numerically.\n",
    "\n",
    "Step forward _fixed point iteration_ which aims to find an $x$ such that $f(x)=x$ _i.e._ the fixed point of function $f$, where the \"output\" of $f$ is unchanged from its \"input\".  The algorithm is:\n",
    "1. Guess an $x$\n",
    "2. Calculate $f(x)$\n",
    "3. Set $x$ equal to $f(x)$.\n",
    "4. Repeat from 2.\n",
    "Think about it: if it ever converges such that $x$ stops changing, you have found a fixed point.\n",
    "\n",
    "Here we'll use a `for` loop to iterate for a fixed number of times.\n",
    "\n",
    "> Re-arrange Kepler's equation into the form $E = f(E)$ and implement it over `???` in the code below.  Does it converge?  Does it work?\n",
    "\n",
    "> Play with the number of iterations - what is the effect?\n"
   ]
  },
  {
   "cell_type": "code",
   "execution_count": 31,
   "metadata": {},
   "outputs": [
    {
     "name": "stdout",
     "output_type": "stream",
     "text": [
      "Iteration 0 value of E 1.54\n",
      "Iteration 1 value of E 1.54\n",
      "Iteration 2 value of E 1.54\n",
      "Iteration 3 value of E 1.54\n",
      "Iteration 4 value of E 1.54\n",
      "Iteration 5 value of E 1.54\n",
      "Iteration 6 value of E 1.54\n",
      "Iteration 7 value of E 1.54\n",
      "Iteration 8 value of E 1.54\n",
      "Iteration 9 value of E 1.54\n",
      "Iteration 10 value of E 1.54\n",
      "Iteration 11 value of E 1.54\n",
      "Iteration 12 value of E 1.54\n",
      "Iteration 13 value of E 1.54\n",
      "Iteration 14 value of E 1.54\n",
      "Iteration 15 value of E 1.54\n",
      "Iteration 16 value of E 1.54\n",
      "Iteration 17 value of E 1.54\n",
      "Iteration 18 value of E 1.54\n",
      "Iteration 19 value of E 1.54\n",
      "M is 1.54\n",
      "E - e sin E is 1.2401422508183564\n"
     ]
    }
   ],
   "source": [
    "from math import sin\n",
    "\n",
    "M = 1.54\n",
    "e = 0.3\n",
    "\n",
    "# guess\n",
    "E = M\n",
    "\n",
    "for ii in range(20): # change from 10 to 1000\n",
    "    '???'\n",
    "    print('Iteration',ii,'value of E',E)\n",
    "print('M is',M)\n",
    "print('E - e sin E is', E - e*sin(E))"
   ]
  },
  {
   "cell_type": "markdown",
   "metadata": {},
   "source": [
    "## `while` loops - iterating as long as needed\n",
    "\n",
    "Imagine you're searching for the minimum value of some function or trying to refine an estimate of something to a given precision.  You probably won't know exactly how many iterations that will take.  Instead, you can use a `while` loop to keep going as long as some condition is `True`.\n",
    "\n",
    "(Of course, with this type of loop, we have to worry if that will _ever_ be true - will it finish, or will our code just run forever?  That's quite a big question, but happily with some practical solutions.  Watch this space.)"
   ]
  },
  {
   "cell_type": "markdown",
   "metadata": {},
   "source": [
    "### Simple example\n",
    "\n",
    "Let's multiple by two until we get bigger than a certain size."
   ]
  },
  {
   "cell_type": "code",
   "execution_count": 32,
   "metadata": {},
   "outputs": [
    {
     "name": "stdout",
     "output_type": "stream",
     "text": [
      "0.6\n",
      "1.2\n",
      "2.4\n",
      "4.8\n",
      "9.6\n",
      "19.2\n",
      "38.4\n",
      "76.8\n",
      "153.6\n",
      "307.2\n",
      "614.4\n",
      "1228.8\n",
      "2457.6\n",
      "4915.2\n",
      "9830.4\n",
      "19660.8\n",
      "39321.6\n",
      "78643.2\n",
      "157286.4\n",
      "Finished\n"
     ]
    }
   ],
   "source": [
    "value = 0.3\n",
    "while value<100000: # try changing < for !=\n",
    "    value = value*2\n",
    "    print(value)\n",
    "print('Finished')"
   ]
  },
  {
   "cell_type": "markdown",
   "metadata": {},
   "source": [
    "Comments:\n",
    " - Again the indent defines the stuff to iterate.\n",
    " - We always need something like an accummulator to keep track of progress.  Unlike `for`, `while` doesn't give us a free counter.\n",
    "\n",
    " > Try changing the _less than_ to be _not equal to_ and see what happens.  Use the little button to the left if you need to interrupt the code."
   ]
  },
  {
   "cell_type": "markdown",
   "metadata": {},
   "source": [
    "### Bisection search - finding square roots with `while`\n",
    "\n",
    "Bisection search is a simple way of finding roots of a function~$f(x)=0$ by narrowing down on where the function crosses zero from either side.  To keep the code simple, we'll try and solve $x^2-z=0$ for $x$ given~$z$, which means finding the square root of $z$.  The algorithm is:\n",
    "\n",
    "1. Choose an interval $[L,U]$ such that $L<U$ and $L^2<z<U^2$.  Then the square root $\\sqrt{z}$ is between $L$ and $U$.\n",
    "2. Evaluate new point in the middle of the interval $M=\\frac{1}{2}(L+U)$ and calculate $M^2$.\n",
    "3. - If $M^2>z$ then set $U$ equal to $M$, i.e. $M$ is a better upper bound.\n",
    "   - If $M^2<z$ then set $L$ equal to $M$, i.e. $M$ is a better lower bound.\n",
    "4. Now we have a smaller interval $[L,U]$ such that square root $\\sqrt{z}$ is between $L$ and $U$.  Repeat from 2.\n",
    "\n",
    "Here we'll use a `while` loop to run iterations until the interval is smaller than a given size, meaning that we have found the square root to a specified tolerance."
   ]
  },
  {
   "cell_type": "code",
   "execution_count": 33,
   "metadata": {},
   "outputs": [
    {
     "name": "stdout",
     "output_type": "stream",
     "text": [
      "Interval is [ 0 , 100 ]\n",
      "Interval is [ 0 , 50.0 ]\n",
      "Interval is [ 0 , 25.0 ]\n",
      "Interval is [ 0 , 12.5 ]\n",
      "Interval is [ 0 , 6.25 ]\n",
      "Interval is [ 0 , 3.125 ]\n",
      "Interval is [ 1.5625 , 3.125 ]\n",
      "Interval is [ 2.34375 , 3.125 ]\n",
      "Interval is [ 2.734375 , 3.125 ]\n",
      "Interval is [ 2.9296875 , 3.125 ]\n",
      "Interval is [ 2.9296875 , 3.02734375 ]\n",
      "Interval is [ 2.978515625 , 3.02734375 ]\n",
      "Interval is [ 2.978515625 , 3.0029296875 ]\n",
      "Interval is [ 2.99072265625 , 3.0029296875 ]\n",
      "Interval is [ 2.996826171875 , 3.0029296875 ]\n",
      "Interval is [ 2.9998779296875 , 3.0029296875 ]\n",
      "Interval is [ 2.9998779296875 , 3.00140380859375 ]\n",
      "Interval is [ 2.9998779296875 , 3.000640869140625 ]\n",
      "Interval is [ 2.9998779296875 , 3.0002593994140625 ]\n",
      "Interval is [ 2.9998779296875 , 3.0000686645507812 ]\n",
      "Interval is [ 2.9999732971191406 , 3.0000686645507812 ]\n",
      "Interval is [ 2.9999732971191406 , 3.000020980834961 ]\n",
      "Interval is [ 2.999997138977051 , 3.000020980834961 ]\n",
      "Interval is [ 2.999997138977051 , 3.000009059906006 ]\n",
      "Interval is [ 2.999997138977051 , 3.0000030994415283 ]\n",
      "Interval is [ 2.999997138977051 , 3.0000001192092896 ]\n",
      "Interval is [ 2.99999862909317 , 3.0000001192092896 ]\n"
     ]
    }
   ],
   "source": [
    "z = 9\n",
    "tol = 1e-6\n",
    "\n",
    "# guesses\n",
    "lower_x = 0\n",
    "upper_x = 100\n",
    "\n",
    "while upper_x - lower_x > tol:\n",
    "    print('Interval is [',lower_x,',',upper_x,']')\n",
    "    new_x = 0.5*(upper_x+lower_x)\n",
    "    if new_x**2>z:\n",
    "        upper_x = new_x\n",
    "    else:\n",
    "        lower_x = new_x\n",
    "\n",
    "\n"
   ]
  }
 ],
 "metadata": {
  "kernelspec": {
   "display_name": "base",
   "language": "python",
   "name": "python3"
  },
  "language_info": {
   "codemirror_mode": {
    "name": "ipython",
    "version": 3
   },
   "file_extension": ".py",
   "mimetype": "text/x-python",
   "name": "python",
   "nbconvert_exporter": "python",
   "pygments_lexer": "ipython3",
   "version": "3.10.11"
  }
 },
 "nbformat": 4,
 "nbformat_minor": 2
}
