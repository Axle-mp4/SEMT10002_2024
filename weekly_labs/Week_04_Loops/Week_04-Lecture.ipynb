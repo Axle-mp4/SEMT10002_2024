{
 "cells": [
  {
   "cell_type": "markdown",
   "id": "23bc864e",
   "metadata": {
    "slideshow": {
     "slide_type": "slide"
    }
   },
   "source": [
    "# Introduction to Computer Programming\n",
    "\n",
    "## Control Structures - Loops\n",
    "\n",
    "\n",
    "<img src=\"https://github.com/engmaths/EMAT10007_2023/blob/main/weekly_content/img/full-colour-logo-UoB.png?raw=true\" width=\"20%\">\n",
    "</p>"
   ]
  },
  {
   "cell_type": "markdown",
   "id": "23d8408f",
   "metadata": {
    "slideshow": {
     "slide_type": "slide"
    }
   },
   "source": [
    "### Open the Google Colab notebook for this lecture using the link on Blackboard\n",
    "\n",
    "Fill in the empty cells during the in-class exercises\n"
   ]
  },
  {
   "cell_type": "markdown",
   "id": "3a2114a3-3544-450b-9cc3-f1daf032cef5",
   "metadata": {},
   "source": [
    "# Recap of the videos\n",
    "\n",
    "**Loops** are used to repeatedly execute blocks of code multiple times \n",
    "\n",
    "This eliminates the need to repeatedly explicitly type or copy-and-paste code\n",
    "\n",
    "* `for` loops (Definite iteration): used to execute code a specific number of times\n",
    "* `while` loops (Indefinite iteration): used to execute code until a condition is satisfied\n",
    "* The `break` keyword will terminate a loop (useful for avoiding **infinite loops**!)\n",
    "* The `continue` keyword enables blocks of code to be skipped in a loop\n",
    "* All control structures in Python use indentation to define blocks."
   ]
  },
  {
   "cell_type": "markdown",
   "id": "331fd5e5",
   "metadata": {
    "slideshow": {
     "slide_type": "slide"
    }
   },
   "source": [
    "# Question\n",
    "\n",
    "**Print all positive cubic numbers that are smaller than 100** (A cubic number is an integer of the form $n^3$)\n",
    "\n",
    "<span style=\"color:blue\">What type of loop is most appropriate for this operation? (`while` or `for`)</span>\n",
    "\n",
    "Enter your answer at [Mentimeter](https://menti.com)!\n",
    "\n"
   ]
  },
  {
   "cell_type": "code",
   "execution_count": 1,
   "id": "fdc5f8c0",
   "metadata": {},
   "outputs": [
    {
     "name": "stdout",
     "output_type": "stream",
     "text": [
      "0\n",
      "1\n",
      "8\n",
      "27\n",
      "64\n"
     ]
    }
   ],
   "source": [
    "for i in range(100):\n",
    "    if i**3 < 100:\n",
    "        print(i**3)"
   ]
  },
  {
   "cell_type": "code",
   "execution_count": 2,
   "id": "3c5b7539",
   "metadata": {
    "scrolled": true,
    "slideshow": {
     "slide_type": "slide"
    }
   },
   "outputs": [
    {
     "name": "stdout",
     "output_type": "stream",
     "text": [
      "1\n",
      "8\n",
      "27\n",
      "64\n"
     ]
    }
   ],
   "source": [
    "n = 1\n",
    "\n",
    "while n ** 3 < 100:\n",
    "    print(n ** 3)\n",
    "    n += 1"
   ]
  },
  {
   "cell_type": "markdown",
   "id": "d2f1f7b4-40e8-4075-bcf0-0883e941edbd",
   "metadata": {},
   "source": [
    "# Question\n",
    "\n",
    "What would happen if the code in the previous example did not include the following line?:\n",
    "```python\n",
    "n += 1\n",
    "```\n",
    "Enter your answer at [Mentimeter](https://menti.com)!"
   ]
  },
  {
   "cell_type": "markdown",
   "id": "3a55f025-54f0-4572-bebb-8061f0140a0b",
   "metadata": {
    "slideshow": {
     "slide_type": "slide"
    }
   },
   "source": [
    "# Question\n",
    "\n",
    "Print the numbers from 10 to 0 in descending order. \n",
    "\n",
    "<span style=\"color:blue\">What type of loop is most appropriate? (`while` or `for`)</span>\n"
   ]
  },
  {
   "cell_type": "code",
   "execution_count": 4,
   "id": "80634d38",
   "metadata": {
    "scrolled": true
   },
   "outputs": [
    {
     "name": "stdout",
     "output_type": "stream",
     "text": [
      "10\n",
      "9\n",
      "8\n",
      "7\n",
      "6\n",
      "5\n",
      "4\n",
      "3\n",
      "2\n",
      "1\n",
      "0\n"
     ]
    }
   ],
   "source": [
    "for i in range(10, -1, -1):\n",
    "    print(i)"
   ]
  },
  {
   "cell_type": "markdown",
   "id": "e6eb981b",
   "metadata": {
    "slideshow": {
     "slide_type": "slide"
    }
   },
   "source": [
    "# Example\n",
    "\n",
    "\n",
    "\n",
    "**Print the LARGEST positive cubic numbers that is smaller than 100** \n",
    "\n",
    "(A cubic number is an integer of the form $n^3$)"
   ]
  },
  {
   "cell_type": "code",
   "execution_count": 3,
   "id": "ae4db143",
   "metadata": {},
   "outputs": [
    {
     "name": "stdout",
     "output_type": "stream",
     "text": [
      "64\n"
     ]
    }
   ],
   "source": [
    "n = 1\n",
    "\n",
    "while n ** 3 < 100:\n",
    "    \n",
    "    largest = n ** 3\n",
    "    \n",
    "    n += 1\n",
    "    \n",
    "print(largest)"
   ]
  },
  {
   "cell_type": "markdown",
   "id": "9d9397eb-34fb-40b1-98fb-99e93cfcf2a5",
   "metadata": {
    "slideshow": {
     "slide_type": "slide"
    }
   },
   "source": [
    "# Example: `break`\n",
    "\n",
    "The temperature in degrees C (sequence `temp`) is recorded at 10 time steps (sequence `time`). \n",
    "\n",
    "Print the time step and temperature up to and including when the temperature first exceeds 30 degrees C. \n",
    "\n",
    "```python\n",
    "time = range(10)\n",
    "temp = [22.0, 23.1, 25.7, 27.5, 32.0, 30.6, 31.2, 32.0, 27.8, 29.2]\n",
    "```"
   ]
  },
  {
   "cell_type": "code",
   "execution_count": 61,
   "id": "e5b8a07d",
   "metadata": {
    "slideshow": {
     "slide_type": "-"
    }
   },
   "outputs": [
    {
     "name": "stdout",
     "output_type": "stream",
     "text": [
      "4 32.0\n"
     ]
    }
   ],
   "source": [
    "time = range(10)\n",
    "temp = [22.0, 23.1, 25.7, 27.5, 32.0, 30.6, 31.2, 32.0, 27.8, 29.2]\n",
    "\n",
    "for t, T  in zip(time, temp):\n",
    "    \n",
    "    if T > 30:\n",
    "        print(t, T)\n",
    "        break"
   ]
  },
  {
   "cell_type": "markdown",
   "id": "4a31bbe8-a373-4ca9-85eb-002b1367058e",
   "metadata": {
    "slideshow": {
     "slide_type": "slide"
    }
   },
   "source": [
    "# Example: `break`\n",
    "\n",
    "Write out the following operation using a loop\n",
    "\n",
    "Print positive integers in the range 10 to 20. \n",
    "\n",
    "Terminate the loop without printing if a multiple of 8 is reached.  "
   ]
  },
  {
   "cell_type": "code",
   "execution_count": null,
   "id": "243a8196-aebd-424d-92b7-e14d491930af",
   "metadata": {},
   "outputs": [],
   "source": []
  },
  {
   "cell_type": "markdown",
   "id": "1c7072c8-c195-4f60-ae6d-ef8dcb209c80",
   "metadata": {
    "slideshow": {
     "slide_type": "slide"
    }
   },
   "source": [
    "# Example: `continue`\n",
    "\n",
    "`if...continue` is similar to `if...else` in practise.\n",
    "\n",
    "`continue` can reduce indentation making code neater and easier to manage \n",
    "\n",
    "**For each number in a sequence of integers, print `odd` if the number if odd and `even` if the number is even.** "
   ]
  },
  {
   "cell_type": "code",
   "execution_count": 63,
   "id": "7553dd7c",
   "metadata": {
    "slideshow": {
     "slide_type": "-"
    }
   },
   "outputs": [
    {
     "name": "stdout",
     "output_type": "stream",
     "text": [
      "even\n",
      "odd\n",
      "even\n",
      "even\n"
     ]
    }
   ],
   "source": [
    "sequence = [0, 1, 2, 4]\n",
    "\n",
    "for number in sequence:  \n",
    "    if number % 2:\n",
    "        print('odd')\n",
    "    else:\n",
    "        print('even')"
   ]
  },
  {
   "cell_type": "code",
   "execution_count": 64,
   "id": "3670666b",
   "metadata": {
    "slideshow": {
     "slide_type": "fragment"
    }
   },
   "outputs": [
    {
     "name": "stdout",
     "output_type": "stream",
     "text": [
      "even\n",
      "odd\n",
      "even\n",
      "even\n"
     ]
    }
   ],
   "source": [
    "for number in sequence:  \n",
    "    if number % 2:\n",
    "        print('odd')\n",
    "        continue\n",
    "    print('even')"
   ]
  },
  {
   "cell_type": "markdown",
   "id": "ca0cd58f-bb10-488d-a74e-1721260924a3",
   "metadata": {
    "slideshow": {
     "slide_type": "slide"
    }
   },
   "source": [
    "# For-else\n",
    "A structure using `for` loops and `break` that is less often used but can be useful at times. \n",
    "\n",
    "The indented code after the `else` statement is executed if the `for` loop terminates by exhaustion of the iterable. \n",
    "\n",
    "In other words, if the loop never terminates by running `break`. \n"
   ]
  },
  {
   "cell_type": "code",
   "execution_count": 5,
   "id": "25eab18b",
   "metadata": {},
   "outputs": [
    {
     "name": "stdout",
     "output_type": "stream",
     "text": [
      "Didn't find any odd numbers\n"
     ]
    }
   ],
   "source": [
    "for i in [6, 2, 4]:\n",
    "    if i%2:\n",
    "        print(\"Found odd number\")\n",
    "        break \n",
    "        \n",
    "else:\n",
    "    print(\"Didn't find any odd numbers\") \n"
   ]
  },
  {
   "cell_type": "markdown",
   "id": "377bc3e2",
   "metadata": {},
   "source": [
    "When the loop terminates, the next indented line of code is run"
   ]
  },
  {
   "cell_type": "markdown",
   "id": "7e4a548b-5040-413b-9ec2-2f9d12542134",
   "metadata": {
    "slideshow": {
     "slide_type": "fragment"
    }
   },
   "source": [
    "Note: `break` cannot be replaced with `continue` as the inner loop will still terminate by exhaustion of the iterable. "
   ]
  },
  {
   "cell_type": "markdown",
   "id": "4b4b1c2a",
   "metadata": {
    "slideshow": {
     "slide_type": "slide"
    }
   },
   "source": [
    "# Nested loops\n",
    "Control structures including loops can be nested to arbitrary depth. \n",
    "\n",
    "Nesting refers to a control structure within a control structure\n",
    "\n",
    "In other words, an 'inner' control structure within the indented block of code of an 'outer' control structre\n",
    "\n",
    "This allows more complex repetition in a program. "
   ]
  },
  {
   "cell_type": "markdown",
   "id": "2fd33f04",
   "metadata": {
    "slideshow": {
     "slide_type": "slide"
    }
   },
   "source": [
    "# Example: Nested `for` loops\n",
    "Use nested loops to print a 5 x 5 multiplication table "
   ]
  },
  {
   "cell_type": "code",
   "execution_count": 50,
   "id": "0280ae68",
   "metadata": {},
   "outputs": [
    {
     "name": "stdout",
     "output_type": "stream",
     "text": [
      "1\t2\t3\t4\t5\t\n",
      "2\t4\t6\t8\t10\t\n",
      "3\t6\t9\t12\t15\t\n",
      "4\t8\t12\t16\t20\t\n",
      "5\t10\t15\t20\t25\t\n"
     ]
    }
   ],
   "source": [
    "# outer loop to iterate from 1 to 5\n",
    "for i in range(1, 6):\n",
    "    \n",
    "    # nested loop to iterate from 1 to 5\n",
    "    for j in range(1, 6):\n",
    "        \n",
    "        # print multiplication followed by tab space\n",
    "        print(i * j, end='\\t')\n",
    "        \n",
    "    # New line after inner loop completes\n",
    "    print()"
   ]
  },
  {
   "cell_type": "markdown",
   "id": "39538c63",
   "metadata": {
    "slideshow": {
     "slide_type": "slide"
    }
   },
   "source": [
    "What sequence of events is happening here?\n",
    "\n",
    "1. The outer loop is entered\n",
    "1. The variable `i` is assigned the __first__ value in the sequence (1)\n",
    "1. The inner loop is entered\n",
    "1. The variable `j` is assigned the __first__ value in the sequence (2)\n",
    "1. The inner loop iterates (which prints the first row of the table) until the __inner loop terminates by exhaustion__. <br>Note: During this process, the outer loop retains the same value `i=1`. <br>The tab '\\t' character which:\n",
    "   <br>- prevents the next value being printed on a new row\n",
    "   <br>- gives equal spacing between value in the row\n",
    "1. The variable `i` (outer loop ) is assigned the __next__ entry in the sequence (2)\n",
    "1. Steps 3-6 repeat until the __outer loop terminates by exhaustion__ \n"
   ]
  },
  {
   "cell_type": "markdown",
   "id": "2bcf6260",
   "metadata": {
    "slideshow": {
     "slide_type": "slide"
    }
   },
   "source": [
    "# Example: Nested `for` and `while` loops\n",
    "\n",
    "Write a program for teaching young children about the alphabet\n",
    "\n",
    "Iterate through each letter in the sequence `['a', 'b', 'c']`\n",
    "\n",
    "Ask the word beginning with the letter until a correct answer is given\n"
   ]
  },
  {
   "cell_type": "code",
   "execution_count": 48,
   "id": "c381e8d4",
   "metadata": {},
   "outputs": [
    {
     "name": "stdout",
     "output_type": "stream",
     "text": [
      "Enter a word beginning with a: a\n",
      "Enter a word beginning with b: b\n",
      "Enter a word beginning with c: c\n"
     ]
    }
   ],
   "source": [
    "word = ' ' # Initialise empty word\n",
    "\n",
    "for letter in ['a', 'b', 'c']:\n",
    "    \n",
    "    while word[0] != letter:\n",
    "        \n",
    "        word = input('Enter a word beginning with '+ letter + ': ')\n"
   ]
  },
  {
   "cell_type": "markdown",
   "id": "43403072",
   "metadata": {
    "slideshow": {
     "slide_type": "slide"
    }
   },
   "source": [
    "What sequence of events is happening here?\n",
    "\n",
    "1. The outer `for` loop is entered \n",
    "1. The variable `letter` is assigned the __first__ value in the sequence (a)\n",
    "1. The controlling expression of the `while` loop is evaulated. <br>If the expression evaluates as `True` the inner `while` loop is entered\n",
    "1. The variable `word` is assigned the value input by the user \n",
    "1. The program execution returns to the top of the inner `while` loop and the controlling expression is evaulated.\n",
    "   <br>- `True`: The program execution goes to step 4\n",
    "   <br>- `False` : The __`while` loop terminates__. The variable `letter` (`for` loop) is assigned the next value (`b`)\n",
    "1. Steps 3-5 are repeated until the __`for` loop terminates by exhaustion__"
   ]
  },
  {
   "cell_type": "markdown",
   "id": "88e6fb1e-6a09-4ca9-89ff-760675049dc7",
   "metadata": {
    "slideshow": {
     "slide_type": "slide"
    }
   },
   "source": [
    "# Applications of loops: The Fibonacci sequence \n",
    "The Fibonacci sequence is a sequence of numbers where each number is the sum of the two preceding ones:\n",
    "    $$ f_n = f_{n-1} + f_{n-2} $$\n",
    "    \n",
    "The ratio of the numbers in the sequence is found in many natural forms. \n",
    "\n",
    "<img src=\"https://github.com/engmaths/EMAT10007_2023/blob/main/weekly_content/img/fibonacci.png?raw=true\" width=\"50%\">\n",
    "</p>\n",
    "\n"
   ]
  },
  {
   "cell_type": "markdown",
   "id": "486373a6-91fb-4538-bf4e-735b7c335d50",
   "metadata": {
    "slideshow": {
     "slide_type": "slide"
    }
   },
   "source": [
    "\n",
    "The Fibonacci sequence is a sequence of numbers where each number is the sum of the two preceding ones.\n",
    "$$ f_n = f_{n-1} + f_{n-2} $$\n",
    "\n",
    "To compute the $n$th Fibonacci number, we need to know the Fibonacci numbers $n-1$ and $n-2$\n",
    "  "
   ]
  },
  {
   "cell_type": "markdown",
   "id": "2dcc13d4-4a65-4a6e-afa7-abce0cb04a39",
   "metadata": {
    "slideshow": {
     "slide_type": "fragment"
    }
   },
   "source": [
    "<br>The first two numbers in the Fibonacci sequence are 0 and 1:\n",
    "    <br>$f_0 = 0$\n",
    "    <br> $f_1 = 1$ \n",
    "    \n",
    "<br>The following numbers in the Fibonacci sequence are computed as shown above:\n",
    "    <br>$f_2 = f_1 + f_0 = 1$\n",
    "    <br> $f_3 = f_2 + f_1 = 2$ \n",
    "    \n",
    "\n",
    "    \n",
    "The sequence starts: 0, 1, 1, 2, 3, 5, 8, ..."
   ]
  },
  {
   "cell_type": "markdown",
   "id": "cca6ad24-1325-4de7-8415-41ad731eb11f",
   "metadata": {
    "slideshow": {
     "slide_type": "slide"
    }
   },
   "source": [
    "We can compute the sequence by:"
   ]
  },
  {
   "cell_type": "code",
   "execution_count": 35,
   "id": "a235c1aa",
   "metadata": {
    "slideshow": {
     "slide_type": "-"
    }
   },
   "outputs": [
    {
     "name": "stdout",
     "output_type": "stream",
     "text": [
      "f 0 = 0\n",
      "f 1 = 1\n",
      "f 2 = 1\n"
     ]
    }
   ],
   "source": [
    "a = 0\n",
    "b = 1\n",
    "print('f 0 =', a)\n",
    "print('f 1 =', b)\n",
    "\n",
    "c = a + b \n",
    "print('f 2 =', c)\n",
    "\n",
    "# d = b + c \n",
    "# print('f 3 =', d)\n",
    "\n",
    "# e = c + d \n",
    "# print('f 4 =', e)"
   ]
  },
  {
   "cell_type": "markdown",
   "id": "9fdbb7ff-a546-46bb-9cc9-456cf490c772",
   "metadata": {
    "slideshow": {
     "slide_type": "slide"
    }
   },
   "source": [
    "Instead of creating new variables for each Fibonacci number, we can reuse variables each time we generate a new Fibonacci number. \n",
    "\n",
    "For each computation, we make `a` and `b` the two numbers we want to add"
   ]
  },
  {
   "cell_type": "code",
   "execution_count": 36,
   "id": "2ce1c607",
   "metadata": {},
   "outputs": [
    {
     "name": "stdout",
     "output_type": "stream",
     "text": [
      "f 0 = 0\n",
      "f 1 = 1\n",
      "f 2 = 1\n"
     ]
    }
   ],
   "source": [
    "a = 0\n",
    "b = 1\n",
    "print('f 0 =', a)\n",
    "print('f 1 =', b)\n",
    "\n",
    "c = a + b \n",
    "print('f 2 =', c)"
   ]
  },
  {
   "cell_type": "code",
   "execution_count": 37,
   "id": "e76292fb",
   "metadata": {
    "slideshow": {
     "slide_type": "fragment"
    }
   },
   "outputs": [
    {
     "name": "stdout",
     "output_type": "stream",
     "text": [
      "f 3 = 2\n"
     ]
    }
   ],
   "source": [
    "# Reassign a and b \n",
    "a = b   \n",
    "b = c\n",
    "\n",
    "# Compute next fibonacci \n",
    "c = a + b \n",
    "print('f 3 =', c)"
   ]
  },
  {
   "cell_type": "code",
   "execution_count": 38,
   "id": "34c2d6b3",
   "metadata": {
    "slideshow": {
     "slide_type": "slide"
    }
   },
   "outputs": [
    {
     "name": "stdout",
     "output_type": "stream",
     "text": [
      "f 4 = 3\n"
     ]
    }
   ],
   "source": [
    "# Reassign a and b \n",
    "a = b   \n",
    "b = c\n",
    "\n",
    "# Compute next fibonacci \n",
    "c = a + b \n",
    "print('f 4 =', c)"
   ]
  },
  {
   "cell_type": "markdown",
   "id": "22be9835-12bb-49a9-b331-c6ca9cffcbe5",
   "metadata": {},
   "source": [
    "We can see that the code is becoming quite repetative..."
   ]
  },
  {
   "cell_type": "markdown",
   "id": "61b1a9fa-f3c4-437e-b1f1-bc56e0d7aad0",
   "metadata": {
    "slideshow": {
     "slide_type": "slide"
    }
   },
   "source": [
    "\n",
    "\n",
    "To handle this repetition more efficiently, we can use a `for` loop\n",
    "\n",
    "The code is much shorter\n"
   ]
  },
  {
   "cell_type": "code",
   "execution_count": 39,
   "id": "b7cf0a51",
   "metadata": {},
   "outputs": [
    {
     "name": "stdout",
     "output_type": "stream",
     "text": [
      "f 0 = 0\n",
      "f 1 = 1\n",
      "f 3 = 1\n",
      "f 4 = 2\n",
      "f 5 = 3\n"
     ]
    }
   ],
   "source": [
    "a = 0\n",
    "b = 1\n",
    "print('f', 0, '=', a)\n",
    "print('f', 1, '=', b)\n",
    "\n",
    "for i in range(2, 5):\n",
    "    \n",
    "    # Compute next Fibonacci\n",
    "    c = a + b\n",
    "    print('f', i, '=', c)\n",
    "    \n",
    "    # Reassign a and b\n",
    "    a = b\n",
    "    b = c\n",
    "    "
   ]
  },
  {
   "cell_type": "markdown",
   "id": "fd5000fe-ab76-4f98-a1fc-6359e32fb0e3",
   "metadata": {},
   "source": [
    "# Lab exercises "
   ]
  },
  {
   "cell_type": "markdown",
   "id": "89b32c3d-2ba9-4f84-83e6-dba34bd11c3f",
   "metadata": {
    "slideshow": {
     "slide_type": "slide"
    }
   },
   "source": [
    "# `while` loops with dynamic input\n",
    "\n",
    "`while` loops are used within systems with variables that change value dynamically during the runtime of the programme.\n",
    "\n",
    "Consider the following example:\n",
    "- `while` button is pressed, move conveyor belt\n",
    "- `while` temperature below boiling point, heat kettle\n",
    "- `while` password is incorrect, ask user for password \n",
    "\n",
    "In each case there is some uncertainty in what the external input will be, so we need an indefinite loop"
   ]
  },
  {
   "cell_type": "markdown",
   "id": "335233a1-0548-4d80-817d-065f21d3705e",
   "metadata": {
    "slideshow": {
     "slide_type": "slide"
    }
   },
   "source": [
    "We can use the Python function `input()` to create external inputs to a program\n",
    "\n",
    "`input()`:\n",
    "- displays a string given in the parentheses `()` to the user\n",
    "- accepts typed input from the user\n",
    "- outputs this types input within the program as a string"
   ]
  },
  {
   "cell_type": "code",
   "execution_count": 27,
   "id": "14a1e1a2",
   "metadata": {},
   "outputs": [
    {
     "name": "stdout",
     "output_type": "stream",
     "text": [
      "Enter username: hemma\n"
     ]
    }
   ],
   "source": [
    "username = input('Enter username: ')"
   ]
  },
  {
   "cell_type": "markdown",
   "id": "8245d02b-e6ba-4154-8fe1-eb3b6ad4268b",
   "metadata": {
    "slideshow": {
     "slide_type": "slide"
    }
   },
   "source": [
    "# Example: `while` loop with dynamic input\n",
    "\n",
    "Write a program that prompts the user to guess the value of a whole number until the correct number is guessed\n",
    "\n",
    "The `None` Python keyword is used to define a null or empty value.\n",
    "\n",
    "```python\n",
    "correct_number = 5\n",
    "number = None \n",
    "```"
   ]
  },
  {
   "cell_type": "code",
   "execution_count": 6,
   "id": "d80fd7ee",
   "metadata": {
    "slideshow": {
     "slide_type": "-"
    }
   },
   "outputs": [
    {
     "name": "stdout",
     "output_type": "stream",
     "text": [
      "Enter number: 5\n"
     ]
    }
   ],
   "source": [
    "correct_number = 5\n",
    "number = None \n",
    "\n",
    "while number != correct_number:\n",
    "    \n",
    "    number = input('Enter number: ')\n",
    "    \n",
    "    # Convert string to integer\n",
    "    number = int(number)"
   ]
  },
  {
   "cell_type": "markdown",
   "id": "566160ae-bd31-4df0-878d-22d465be8e1a",
   "metadata": {
    "jp-MarkdownHeadingCollapsed": true,
    "slideshow": {
     "slide_type": "slide"
    }
   },
   "source": [
    "# Example: `while` loop with dynamic input\n",
    "\n",
    "<span style=\"color:blue\">In the Google Colab notebook for this lecture write out the following operation using a loop</span>\n",
    "\n",
    "Write a program that prompts the user for a username until a valid username is given\n",
    "\n",
    "```python\n",
    "valid_username = 'hemma'\n",
    "username = ''\n",
    "```"
   ]
  },
  {
   "cell_type": "markdown",
   "id": "085994b0",
   "metadata": {
    "slideshow": {
     "slide_type": "skip"
    }
   },
   "source": [
    "# Example: `while` loop with dynamic input\n",
    "\n",
    "Use `if...else` inside of the loop to give some clues to the user\n",
    "\n",
    "If the number is less than the correct number, display `'number too big'`\n",
    "\n",
    "If the number is greater than the correct number, display `'number too small'`"
   ]
  },
  {
   "cell_type": "code",
   "execution_count": 27,
   "id": "0bc1f1c2",
   "metadata": {
    "slideshow": {
     "slide_type": "skip"
    }
   },
   "outputs": [
    {
     "name": "stdout",
     "output_type": "stream",
     "text": [
      "Enter number: 4\n",
      "number too small\n",
      "Enter number: 5\n"
     ]
    }
   ],
   "source": [
    "correct_number = 5\n",
    "number = None \n",
    "\n",
    "while number != correct_number:\n",
    "    \n",
    "    number = input('Enter number: ')\n",
    "    \n",
    "    # Convert string to integer\n",
    "    number = int(number)\n",
    "    \n",
    "    if number > correct_number:\n",
    "        print('number too big')\n",
    "        \n",
    "    elif number < correct_number:\n",
    "        print('number too small')"
   ]
  },
  {
   "cell_type": "markdown",
   "id": "48640659-3a78-4bdd-89e3-82ee90d82506",
   "metadata": {},
   "source": [
    "# Lab exercises "
   ]
  },
  {
   "cell_type": "markdown",
   "id": "eb276159-a35d-4075-8ce0-24b757a45b30",
   "metadata": {},
   "source": [
    "# Exercise 1 - for loops\n",
    "1. Use a for loop to cast each value in the sequence [1.5, 1.0, 2.1, 3.8] as an integer and print each integer value.\n",
    "\n",
    "1. Find the mistake(s) in the following program, which is meant to sum the first 10 multiples of 5:\n",
    "```python\n",
    "        total = 0\n",
    "        for i in range(1,10)\n",
    "        total = total + 5 * i\n",
    "```\n",
    "\n",
    "Fix the program so that the final value of `total` is 275, and print the value of `total`.\n",
    "          \n",
    "1. Compute the factorial of 10. Recall that the factorial of an integer $n$ is defined as $n! = n \\times (n-1) \\times (n-2) \\times \\ldots 2 \\times 1$.\n",
    "\n",
    "1. Using a `for` loop and the `break` keyword, determine how many positive cubic numbers are less than 2,000. Recall that cubic number is a number of the form $n^3$ where $n$ is an integer. \n",
    "\n",
    "1. Use the `zip` function to sum each pair of elements, taking one element from sequence a = [1.4, 2.2, 2.1, 3.8] and one element from sequence b = [0.1, 1.1, 2.1, 1.2], in the order that they appear in the sequence, and print the result of each addition.}\n",
    "\n",
    "1. Create a variable and assign it a string value. Using the `zip` function and the `range` function write a loop which prints both each letter and its position in the string. <br> __Hint:__ The Python `len()` function returns the length of a string. <br> __Note:__ The Python function, `enumerate` can be used to achieve this operation and avoids the need to define the range of values needed for the counter <br> https://www.w3schools.com/python/ref\\_func\\_enumerate.asp } <br> Now edit the code to use the `break` keyword to terminate the loop prematurely if the letter is `e` *before* printing the letter and its position"
   ]
  },
  {
   "cell_type": "markdown",
   "id": "74effbe6-41dc-442a-957e-03edc1af3475",
   "metadata": {},
   "source": [
    "# Exercise 2 - while loops\n",
    "\n",
    "`while` loops are used for __indefinite iteration__, the code block repeatedly executes until some condition is met. \n",
    "\n",
    "1. Using a while loop determine how many positive cubic numbers are less than 2,000. Recall that cubic number is a number of the form $n^3$ where $n$ is an integer.\n",
    "1. Write a program that finds the smallest power of 2 that is greater than 100\n",
    "1. The Python function `input()`: \n",
    "    - displays a string given in the parentheses () to the user\n",
    "    - accepts typed input from the user\n",
    "    - outputs this typed input within the program as a string\n",
    "      \n",
    "    <br> Write a program that prompts the user for a password until a value that matches the password {\\tt my\\_password123} is given\n",
    "    \n",
    "\n",
    "1. Find the mistake(s) in the following program, which is meant to Find the greatest power of 4 that is smaller than 200:\t\n",
    "\n",
    "    ```python\n",
    "    power = 4 * exponent\n",
    "    \n",
    "    while power > 200: \n",
    "        result = power\n",
    "        power = 4 * exponent \n",
    "        \n",
    "    print('largest power = ', result) \n",
    "    ```\n",
    "    <br>\n",
    "\n",
    "1. A cubic number is an integer of the form $n^3$.\n",
    " - Write a program that prints the SMALLEST positive cubic numbers that is LARGER than 100. \n",
    " - Find the greatest integer power of 3 that is smaller than 100\n"
   ]
  },
  {
   "cell_type": "markdown",
   "id": "6d02e431-da29-4325-bda8-16437a1d45b8",
   "metadata": {},
   "source": [
    "# Exercise 3 - Choosing an appropriate loop type \n",
    "\n",
    "1. Print the first five positive even integers\n",
    "\n",
    "1. A square number is an integer of the form $n^2$. Print the square numbers, starting from 1, that are smaller than 100.\n",
    "\n",
    "1. Write a program that calculates how many years it would take for the value of a savings account to exceed \\pounds 400, if the initial (and only) deposit made is £ 100 and the annual interest is 5\\%.\n",
    "    \n",
    "1. A ball is dropped (initial velocity $u = 0 ms^{-1}$) and falls towards the ground with acceleration due to gravity of $a = 9.81 ms^{-2}$. It is assumed that no other forces act on the ball so the distance travelled by the ball, $d$ (m), at time $t$ (s), can be found by:\n",
    "    $$d = ut + \\frac{1}{2}at^2$$Print the distance from the start position the ball has fallen at 0.2 s intervals for 2 s, assuming the ball does not reach the ground within this time.}\n",
    "\n",
    "1. The value of $\\pi$ can be approximated using the Leibniz formula:\n",
    "    \\begin{align*}\n",
    "      \\pi_N = \\sum_{n = 0}^{N} \\frac{8}{(4n+1)(4n+3)}\n",
    "    \\end{align*}\n",
    "    where $N$ is a large number.\n",
    "\n",
    "   Taking the limit as $N \\to \\infty$\n",
    "    produces the exact value of $\\pi$, but this requires evaluating an infinite\n",
    "    number of terms, which is impossible on a computer. Therefore, we can\n",
    "    only approximate the value of $\\pi$ by using a finite number of terms\n",
    "    in the sum. Use this formula to compute approximations to $\\pi$\n",
    "    by taking $N = 100$, $N = 1,000$, and $N = 10,000$. \n",
    "\n"
   ]
  },
  {
   "cell_type": "markdown",
   "id": "215b5515-1cf5-42eb-a769-55efe0e0aed3",
   "metadata": {},
   "source": [
    "# Exercsie 4 - Nested loops \n",
    "\n",
    "  1. Use two {\\tt for} loops to compute the double sum\n",
    "    \\begin{align*}\n",
    "      S = \\sum_{i = 1}^{10} \\sum_{j = 0}^{5} j^2(i + j)\n",
    "    \\end{align*}\n",
    "  \n",
    "\n",
    "  1. A prime number is a natural number greater than 1 that is not a product of two smaller natural numbers. In other words, a prime number cannot be written as a product of two natural numbers that are both smaller than it. Write a program that prints all prime numbers between 1 and 150. \\\\ {\\bf Hints:}\n",
    "    - Remember the modulo operato, {\\tt \\%}, gives the remainder when one number is divided by another.\n",
    "    - Use two nested loops to cycle through each value, then cycle through the series of possible factors.\n"
   ]
  },
  {
   "cell_type": "markdown",
   "id": "271927e2-5f9a-4f83-9865-60d273fc2fae",
   "metadata": {},
   "source": [
    "# Exercise 5 - Real world programming example\n",
    "\n",
    "TODO: Simulated robot-related question that build on previous week"
   ]
  },
  {
   "cell_type": "code",
   "execution_count": null,
   "id": "e2d50f60-cbeb-4902-a0dc-fdbd4b5a7dee",
   "metadata": {},
   "outputs": [],
   "source": []
  }
 ],
 "metadata": {
  "celltoolbar": "Slideshow",
  "kernelspec": {
   "display_name": "Python 3 (ipykernel)",
   "language": "python",
   "name": "python3"
  },
  "language_info": {
   "codemirror_mode": {
    "name": "ipython",
    "version": 3
   },
   "file_extension": ".py",
   "mimetype": "text/x-python",
   "name": "python",
   "nbconvert_exporter": "python",
   "pygments_lexer": "ipython3",
   "version": "3.12.4"
  }
 },
 "nbformat": 4,
 "nbformat_minor": 5
}
