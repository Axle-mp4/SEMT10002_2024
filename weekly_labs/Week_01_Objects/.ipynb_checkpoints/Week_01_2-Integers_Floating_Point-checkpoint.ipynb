{
 "cells": [
  {
   "cell_type": "markdown",
   "id": "16c271fd",
   "metadata": {
    "slideshow": {
     "slide_type": "slide"
    }
   },
   "source": [
    "# Introduction to Computer Programming\n",
    "\n",
    "## Variable Types: Integers and Floating Point\n",
    "\n",
    "<img src=\"https://github.com/engmaths/EMAT10007_2023/blob/main/weekly_content/img/full-colour-logo-UoB.png?raw=true\" width=\"20%\">\n",
    "</p>"
   ]
  },
  {
   "cell_type": "markdown",
   "id": "4dc545c5",
   "metadata": {
    "slideshow": {
     "slide_type": "slide"
    }
   },
   "source": [
    "# Integer (`int`)\n",
    "A whole number, with no decimal place"
   ]
  },
  {
   "cell_type": "code",
   "execution_count": 45,
   "id": "fcbe3bea",
   "metadata": {},
   "outputs": [
    {
     "data": {
      "text/plain": [
       "int"
      ]
     },
     "execution_count": 45,
     "metadata": {},
     "output_type": "execute_result"
    }
   ],
   "source": [
    "print(type(1))"
   ]
  },
  {
   "cell_type": "markdown",
   "id": "acc947c4",
   "metadata": {},
   "source": [
    "The function `type()` outputs the type of the object entered between the parentheses `(...)`\n",
    "\n",
    "The function `print()` displays the value entered between the parentheses `(...)` "
   ]
  },
  {
   "cell_type": "code",
   "execution_count": 3,
   "id": "bdfd35fd",
   "metadata": {
    "slideshow": {
     "slide_type": "fragment"
    }
   },
   "outputs": [
    {
     "name": "stdout",
     "output_type": "stream",
     "text": [
      "1\n",
      "<class 'int'>\n"
     ]
    }
   ],
   "source": [
    "a = 1\n",
    "print(a)\n",
    "print(type(a))"
   ]
  },
  {
   "cell_type": "markdown",
   "id": "bdfe0312",
   "metadata": {
    "slideshow": {
     "slide_type": "slide"
    }
   },
   "source": [
    "# Floating point (`float`) \n",
    "A fractional number or a decimal number (consisting of a whole and a fractional part) "
   ]
  },
  {
   "cell_type": "code",
   "execution_count": 22,
   "id": "0a697789",
   "metadata": {},
   "outputs": [
    {
     "data": {
      "text/plain": [
       "float"
      ]
     },
     "execution_count": 22,
     "metadata": {},
     "output_type": "execute_result"
    }
   ],
   "source": [
    "print(type(1.0))"
   ]
  },
  {
   "cell_type": "code",
   "execution_count": 24,
   "id": "dd67d0fc",
   "metadata": {
    "slideshow": {
     "slide_type": "fragment"
    }
   },
   "outputs": [
    {
     "name": "stdout",
     "output_type": "stream",
     "text": [
      "1.0\n",
      "<class 'float'>\n"
     ]
    }
   ],
   "source": [
    "b = 1.0\n",
    "print(b)\n",
    "print(type(b))"
   ]
  },
  {
   "cell_type": "markdown",
   "id": "a1adc563",
   "metadata": {
    "slideshow": {
     "slide_type": "slide"
    }
   },
   "source": [
    "# Numerical value storage\n",
    "\n",
    "### Decimal numbers\n",
    "\n",
    "In daily life we mostly use the **decimal** or **base-10** number system.\n",
    "\n",
    "Each number is formed by finding the sum of base-10 numbers, each multiplied by a factor (0-9).\n",
    "\n",
    "Consider the number 104.02\n",
    "\n",
    "|  **Unit**               |  $10^2$ | $10^1$ | $10^0$  | $10^{-1}$ | $10^{-2}$ | \n",
    "| :----------     | :------ | :----- | :--     | :-----  | :------ |\n",
    "| **Value**| 100     |10      | 1       | 0.1     | 0.01    |    \n",
    "| **Factor**      | 1       | 0      | 4       | 0       | 2       |\n",
    "| **Total**       | 100     | 0      | 4       | 0       | 0.02    |\n",
    "\n",
    "Sum of columns = 100 + 4 + 0.02 = 104.02"
   ]
  },
  {
   "cell_type": "markdown",
   "id": "9db1a313",
   "metadata": {
    "slideshow": {
     "slide_type": "slide"
    }
   },
   "source": [
    "### Binary numbers\n",
    "\n",
    "Numbers are stored on a computer as **binary** or **base-2** numbers.\n",
    "\n",
    "Each number is formed by finding sum of base-2 numbers, each multiplied by a factor **1 or 0**.\n",
    "\n",
    "The factors are like \"on\" (1) and \"off\" (0) switches for the different columns\n",
    "\n",
    "Consider the number 25\n",
    "\n",
    "| **Unit**         |  $2^4$  | $2^3$  | $2^2$   | $2^1$   | $2^0$   | \n",
    "| :----------     | :------ | :----- | :------ | :-----  | :------ |\n",
    "| **Value**| 16      |8       | 4       | 2       | 1       |    \n",
    "| **Factor**      | 1       | 1      | 0       | 0       | 1       |\n",
    "| **Total**       | 16      | 8      | 0       | 0       | 1       |\n",
    "\n",
    "Sum of columns = 16 + 8 + 1 = 25\n",
    "\n",
    "Any whole number can be represented by 1s and 0s providing we have enough columns (binary digits). "
   ]
  },
  {
   "cell_type": "markdown",
   "id": "606dd324-adbb-4370-9794-ee20a8f00bf7",
   "metadata": {},
   "source": [
    "Computers store data by representing values as binary numbers\n",
    "\n",
    "A bit (short for 'binary digit') is the smallest unit of data that a computer can store\n",
    "\n",
    "A bit can have one of two possible values: 0 or 1. "
   ]
  },
  {
   "cell_type": "markdown",
   "id": "9dfe2734",
   "metadata": {
    "slideshow": {
     "slide_type": "slide"
    }
   },
   "source": [
    "# Integer storage \n",
    "\n",
    "Itegers are stored as **signed** binary numbers. \n",
    "\n",
    "**Signed** means we can store both negative and positive values.\n",
    "\n",
    "For a given number of bits, the most significent bit (m.s.b) is negative.\n",
    "\n",
    "\n",
    "\n",
    "Consider the number - 10, represented using 5 columns (bits)\n",
    "\n",
    "| **Unit**        |  $-2^4$  | $2^3$  | $2^2$   | $2^1$   | $2^0$   | \n",
    "| :----------     | :------ | :----- | :------ | :-----  | :------ |\n",
    "| **Value**       | - 16      |8       | 4       | 2       | 1       |    \n",
    "| **Factor**      | 1       | 0      | 1       | 1       | 0       |\n",
    "| **Total**       | -16      | 0      | 4       | 2       | 0       |\n",
    "\n",
    "Sum of columns (bits) = -16 + 4 + 2 = -10\n"
   ]
  },
  {
   "cell_type": "markdown",
   "id": "ec2c4b68",
   "metadata": {
    "slideshow": {
     "slide_type": "slide"
    }
   },
   "source": [
    "\n",
    "\n",
    "Any integer (whole number) can be represented in binary form (if we have enough bits).\n",
    "\n",
    "Integer storage in Python does not place a limit on the number of bits that can be used to store a number. \n",
    "\n",
    "The upper limit on available bits to store an integer is determined by the amount of memory a computer system has."
   ]
  },
  {
   "cell_type": "markdown",
   "id": "4a05ffd7",
   "metadata": {
    "slideshow": {
     "slide_type": "slide"
    }
   },
   "source": [
    "# Fixed point storage\n",
    "\n",
    "To store fractional decimal numbers in binary, base-2 numbers with **negative exponents** are used. \n",
    "\n",
    "Consider the number 4.5 \n",
    "\n",
    "|                 |  $2^2$  | $2^1$  | $2^0$   | $2^{-1}$   | $2^{-2}$   | \n",
    "| :----------     | :------ | :----- | :------ | :-----   | :------  |\n",
    "| **Value**| 4       |2       | 1       | 0.5      | 0.25     |    \n",
    "| **Factor**      | 1       | 0      | 0       | 1        | 0        |\n",
    "| **Total**       | 4       | 0      | 0       | 0.5      | 0        |\n",
    "\n",
    "We can represent 4.5 exactly using the 5 columns shown here (5 bits). \n",
    "<br>Sum of columns = 4 + 0.5 = 4.5\n",
    "\n"
   ]
  },
  {
   "cell_type": "markdown",
   "id": "fa66deb5",
   "metadata": {
    "slideshow": {
     "slide_type": "slide"
    }
   },
   "source": [
    "\n",
    "\n",
    "Now consider the number 4.125\n",
    "\n",
    "|                 |  $2^2$  | $2^1$  | $2^0$   | $2^{-1}$   | $2^{-2}$   | \n",
    "| :----------     | :------ | :----- | :------ | :-----   | :------  |\n",
    "| **Value**| 4       |2       | 1       | 0.5      | 0.25     |    \n",
    "| **Factor**      | 1       | 0      | 0       | 0        | 1        |\n",
    "| **Total**       | 4       | 0      | 0       | 0      | 0.25        |\n",
    "\n",
    "\n",
    "We *can't* represent 4.125 exactly using 5 columns (5 bits) \n",
    "\n",
    "Closest estimate: 4.25 (shown in the table) or 4\n",
    "<br>(each result contains an error of 0.125)\n",
    "\n",
    "If we had an extra column (bit), $2^{-3}$ (0.125), we could represent the number exactly. "
   ]
  },
  {
   "cell_type": "markdown",
   "id": "76e9b7f0",
   "metadata": {
    "slideshow": {
     "slide_type": "slide"
    }
   },
   "source": [
    "The Python programming language does not place a limit on the number of bits that can be used to store an **integer**. \n",
    "\n",
    "However, in Python (and many other programming languages) __fractional numbers__ are stored on a computer using a fixed number of 64 bits\n",
    "\n",
    "This means we must use a *finite* number of bits to try and represent an *infinite* amount of numbers.\n",
    "\n",
    "Therefore many fractional numbers can’t be represented exactly when stored in binary form."
   ]
  },
  {
   "cell_type": "markdown",
   "id": "ab5e5ea0",
   "metadata": {
    "slideshow": {
     "slide_type": "slide"
    }
   },
   "source": [
    "# Floating point numbers\n",
    "\n",
    "**Floating point** number storage:\n",
    "- Allows a greater range of fractional numbers to be stored using a fixed number of bits, compared to fixed point number storage\n",
    "- Is similar to *scientific notation* for decimal (base-10) values. \n",
    "\n",
    "$$ 1.234 \\times 10^0 = 1.234 $$\n",
    "$$ 1.234 \\times 10^1 = 12.34 $$\n",
    "$$ 1.234 \\times 10^2 = 123.4 $$"
   ]
  },
  {
   "cell_type": "markdown",
   "id": "b996d949",
   "metadata": {
    "slideshow": {
     "slide_type": "slide"
    }
   },
   "source": [
    "# Scientific notation\n",
    "The **mantissa** controls the *precision* of a number. \n",
    "<br>(A fixed point number, normalised so that a maximum of 1 significant figure (s.f.) is to the left of the decimal point)\n",
    "\n",
    "The **exponent** controls the *order of magnitude* of the number.\n",
    "<br>This causes the decimal point to *float*, allowing a greater range of values to be represented than using the mantissa alone.\n",
    "\n",
    "$$\n",
    "\\boxed{\\underbrace{M}_{mantissa} \\times \\underbrace{10}_{base}\\overbrace{^E}^{exponent}}\n",
    "$$\n",
    "\n",
    "<img src=\"https://github.com/engmaths/EMAT10007_2023/blob/main/weekly_content/img/denary_float_c.png?raw=true\" width=\"30%\">\n",
    "</p>\n",
    "<img src=\"https://github.com/engmaths/EMAT10007_2023/blob/main/weekly_content/img/denary_float_b.png?raw=true\" width=\"30%\">\n",
    "</p>\n",
    "<img src=\"https://github.com/engmaths/EMAT10007_2023/blob/main/weekly_content/img/denary_float_a.png?raw=true\" width=\"30%\">\n",
    "</p>\n",
    "\n",
    "\n",
    "\n",
    "\n",
    "\n",
    "\n",
    "\n"
   ]
  },
  {
   "cell_type": "markdown",
   "id": "a56aabcf",
   "metadata": {
    "slideshow": {
     "slide_type": "slide"
    }
   },
   "source": [
    "Consider what happens if we limit the number of bits in the mantissa (e.g. 4 bits, positive values) and the number of bits in the exponent (e.g. 1 bit).\n",
    "\n",
    "$$\n",
    "\\boxed{\\underbrace{M}_{mantissa} \\times \\underbrace{10}_{base}\\overbrace{^E}^{exponent}}\n",
    "$$\n",
    "\n",
    "The limitation means there are some numbers we can't represent\n",
    "\n",
    "**Examples**: Not enough bits in the mantissa and/or the exponent to represent the number.\n",
    "\n",
    "$1.5 \\times 10$ $\\color{red}{^{10}}$ &emsp; &emsp; &emsp; &emsp; &emsp; (Exponent can't be represented using 1 bit)\n",
    "\n",
    "$1 \\times 10$  $\\color{red}{^{-4}}$  (or $\\color{red}{0.0001}$)  &emsp; &nbsp; (Exponent can't be represented using 1 bit / mantissa can't be represented using 4 bits)\n",
    "\n",
    "$ \\color{red}{2.3456}$ &emsp; &emsp;  &emsp; &emsp; &emsp; &emsp; &nbsp; &nbsp;(Mantissa can't be represented using 4 bits)\n",
    "\n",
    "$ \\color{red}{123.45678}$ &emsp; &emsp;  &emsp; &emsp; &emsp;  (Mantissa can't be represented using 4 bits)\n",
    "\n",
    " \n",
    "      \n"
   ]
  },
  {
   "cell_type": "markdown",
   "id": "f2309dbf",
   "metadata": {
    "slideshow": {
     "slide_type": "slide"
    }
   },
   "source": [
    "# Floating point numbers\n",
    "\n",
    "Binary **floating point** number storage is similar to *scientific notation* for decimal (base-10) values, but with:\n",
    "- a *binary* **mantissa** (normalised so that a maximum of 1 significant figure (s.f.) is to the left of the decimal point) \n",
    "- a *binary* **exponent** (with no decimal point)\n",
    "- a **base** of 2\n",
    "\n",
    "\n",
    "$$\n",
    "\\boxed{\\underbrace{M}_{mantissa} \\times \\underbrace{2}_{base}\\overbrace{^E}^{exponent}}\n",
    "$$\n",
    "\n",
    "<img src=\"https://github.com/engmaths/EMAT10007_2023/blob/main/weekly_content/img/binary_float_b.png?raw=true\" width=\"40%\">\n",
    "\n",
    "<img src=\"https://github.com/engmaths/EMAT10007_2023/blob/main/weekly_content/img/binary_float_a.png?raw=true\" width=\"40%\">"
   ]
  },
  {
   "cell_type": "markdown",
   "id": "8540a3d3",
   "metadata": {
    "slideshow": {
     "slide_type": "slide"
    }
   },
   "source": [
    "Consider what happens if we limit the number of bits in the mantissa (e.g. 4 bits) and the number of bits in the exponent (e.g. 4 bits).\n",
    "\n",
    "$$\n",
    "\\boxed{\\underbrace{M}_{mantissa} \\times \\underbrace{2}_{base}\\overbrace{^E}^{exponent}}\n",
    "$$\n",
    "\n",
    "The limitation means there are some numbers we can't represent\n",
    "\n",
    "***\n",
    "\n",
    "**Example**:It is not possible to represent the mantissa $-\\frac{1}{16}$ with 4 bits\n",
    "\n",
    "<img src=\"https://github.com/engmaths/EMAT10007_2023/blob/main/weekly_content/img/impossible_mantissa_full.png?raw=true\" width=\"40%\">\n",
    "\n",
    "***\n",
    "\n",
    "**Example**:It is not possible to represent the exponent $-15$ with 4 bits\n",
    "\n",
    "<img src=\"https://github.com/engmaths/EMAT10007_2023/blob/main/weekly_content/img/impossible_exponent_full.png?raw=true\" width=\"40%\">\n",
    "\n",
    "\n",
    "\n",
    "\n",
    "\n",
    "\n",
    "\n",
    "      \n"
   ]
  },
  {
   "cell_type": "markdown",
   "id": "c738e2aa",
   "metadata": {
    "slideshow": {
     "slide_type": "slide"
    }
   },
   "source": [
    "# Floating point error\n",
    "\n",
    "When a fractional number is stored on a computer, a binary floating number is used to represent the value. \n",
    "\n",
    "There may not be enough bits in the mantissa and/or the exponent to represent the number exactly.\n",
    "\n",
    "In Python (and many other programming languages) __fractional numbers__ are stored on a computer using a fixed number of 64 bits <br>(53 bit mantissa, 11 bit exponent)\n",
    "\n",
    "This limited number of bits leads to a small error in the stored representation of a floating point number.  \n"
   ]
  },
  {
   "cell_type": "markdown",
   "id": "0751632b",
   "metadata": {
    "slideshow": {
     "slide_type": "slide"
    }
   },
   "source": [
    "When the function `print()` displays a value, the number of significant figures to which the stored value is rounded before being displayed is set automatically. "
   ]
  },
  {
   "cell_type": "code",
   "execution_count": 52,
   "id": "6eddbd28",
   "metadata": {
    "scrolled": true
   },
   "outputs": [
    {
     "name": "stdout",
     "output_type": "stream",
     "text": [
      "0.1\n"
     ]
    }
   ],
   "source": [
    "a = 0.1\n",
    "print(a)"
   ]
  },
  {
   "cell_type": "markdown",
   "id": "a32efe35-5b11-4ed6-be3a-b27a91143f1f",
   "metadata": {},
   "source": [
    "Remember, we only have 53 bits to store the mantissa. \n",
    "\n",
    "This means the computer will only reliably store the decimal representation of the number precise to 15 significant figures (s.f.)\n",
    "<br>(An equation to calculate this is shown at the end of the notebook file that goes with this video)"
   ]
  },
  {
   "cell_type": "markdown",
   "id": "cb287072-6604-4ea1-9b0e-733e5cf080f7",
   "metadata": {},
   "source": [
    "To check if the number contains floating point error, display the number to more than 15 decimal places (d.p.)"
   ]
  },
  {
   "cell_type": "markdown",
   "id": "e89b35a9",
   "metadata": {
    "slideshow": {
     "slide_type": "fragment"
    }
   },
   "source": [
    "The Python function `format()` displays the first value within the parentheses formatted using the second value within the parentheses. \n",
    "\n",
    "`'.15f'`: displays a floating point number (`f`) to 15 d.p. "
   ]
  },
  {
   "cell_type": "code",
   "execution_count": 133,
   "id": "0167f455-d2cf-4435-a5d5-1e5104353962",
   "metadata": {},
   "outputs": [
    {
     "data": {
      "text/plain": [
       "'0.100000000000000'"
      ]
     },
     "execution_count": 133,
     "metadata": {},
     "output_type": "execute_result"
    }
   ],
   "source": [
    "format(0.1, '.15f') "
   ]
  },
  {
   "cell_type": "markdown",
   "id": "aab5e391-065f-48eb-877b-851300c32e8c",
   "metadata": {},
   "source": [
    "`'.17f'`: displays a floating point number (`f`) to 17 d.p. "
   ]
  },
  {
   "cell_type": "code",
   "execution_count": 136,
   "id": "3d53c023",
   "metadata": {
    "slideshow": {
     "slide_type": "-"
    }
   },
   "outputs": [
    {
     "data": {
      "text/plain": [
       "'0.10000000000000001'"
      ]
     },
     "execution_count": 136,
     "metadata": {},
     "output_type": "execute_result"
    }
   ],
   "source": [
    "format(0.1, '.17f') "
   ]
  },
  {
   "cell_type": "markdown",
   "id": "6fcb440a",
   "metadata": {
    "slideshow": {
     "slide_type": "fragment"
    }
   },
   "source": [
    "We can see that the stored value of `0.1` contains floating point error.  \n",
    "\n",
    "The error is small (in the order of $10^{-17}$ in this example). "
   ]
  },
  {
   "cell_type": "code",
   "execution_count": 7,
   "id": "91bebb8c",
   "metadata": {
    "slideshow": {
     "slide_type": "slide"
    }
   },
   "outputs": [
    {
     "name": "stdout",
     "output_type": "stream",
     "text": [
      "0.2\n"
     ]
    },
    {
     "data": {
      "text/plain": [
       "'0.20000000000000001'"
      ]
     },
     "execution_count": 7,
     "metadata": {},
     "output_type": "execute_result"
    }
   ],
   "source": [
    "print(0.2)\n",
    "\n",
    "format(0.2, '.17f')"
   ]
  },
  {
   "cell_type": "code",
   "execution_count": 62,
   "id": "7a8952aa",
   "metadata": {
    "slideshow": {
     "slide_type": "fragment"
    }
   },
   "outputs": [
    {
     "name": "stdout",
     "output_type": "stream",
     "text": [
      "0.3333333333333333\n"
     ]
    },
    {
     "data": {
      "text/plain": [
       "'0.33333333333333331'"
      ]
     },
     "execution_count": 62,
     "metadata": {},
     "output_type": "execute_result"
    }
   ],
   "source": [
    "print(1/3)\n",
    "\n",
    "format(1/3, '.17f')"
   ]
  },
  {
   "cell_type": "markdown",
   "id": "7dccb5e7-f65a-474d-a04e-b6c2d02b6bcd",
   "metadata": {
    "slideshow": {
     "slide_type": "slide"
    }
   },
   "source": [
    "### Need to see some more examples? \n",
    "https://www.w3schools.com/python/python_variables.asp\n",
    "<br>https://www.geeksforgeeks.org/python-variables/\n",
    "\n",
    "### Want to take a quiz?\n",
    "https://realpython.com/quizzes/python-variables/\n",
    "<br>https://pynative.com/python-variables-and-data-types-quiz/\n",
    "\n",
    "### Want some more advanced information?\n",
    "**Objects and Types** \n",
    "<br>https://realpython.com/python-data-types/\n",
    "<br>https://realpython.com/python-variables/\n",
    "<br>https://pynative.com/python-variables/\n",
    "\n",
    "**Floating point numbers** \n",
    "<br>https://bteccomputing.co.uk/use-of-binary-to-represent-negative-and-floating-point-numbers/\n",
    "<br>https://www.youtube.com/watch?v=L8OYx1I8qNg"
   ]
  },
  {
   "cell_type": "markdown",
   "id": "b238c8ae-0230-494d-8b3c-9632af143fd2",
   "metadata": {},
   "source": [
    "# Estimating Decimal Precision from Binary Precision"
   ]
  },
  {
   "cell_type": "markdown",
   "id": "313775e7-e7fc-4b70-88cf-ff83baa7f4b9",
   "metadata": {},
   "source": [
    "The equation used for estimating decimal precision from binary precision is:\n",
    "$$d \\approx \\log_{10}(2^b)  $$\n",
    "\n",
    "$d$ = the number of decimal digits of precision to which the fractional number can be reliably stored<br>\n",
    "$b$ = the number of bits used for the mantissa in a floating-point number<br>"
   ]
  },
  {
   "cell_type": "markdown",
   "id": "08cff245-944f-4fb1-b271-35fbc58f0e4e",
   "metadata": {},
   "source": [
    "A binary number with $b$ bits can represent $2^b$ different values. \n",
    "\n",
    "To calculate how many decimal digits are needed to represent $2^b$ different values, we can use logarithms to express this range in terms of base-10."
   ]
  },
  {
   "cell_type": "markdown",
   "id": "c7d4d64b-45a7-4a7d-8202-c30985bf2937",
   "metadata": {
    "slideshow": {
     "slide_type": "slide"
    }
   },
   "source": [
    "In Python (and many other programming languages) __fractional numbers__ are stored on a computer using a fixed number of 64 bits <br>(53 bit mantissa, 11 bit exponent)\n"
   ]
  },
  {
   "cell_type": "markdown",
   "id": "f9a18ec0-db87-4b95-a4f4-3e6d55b24d25",
   "metadata": {},
   "source": [
    "\\begin{align*}\n",
    "d &= \\log_{10}(2^b) \\\\\n",
    "  &= \\log_{10}(2^{53}) \\\\\n",
    "  &= 15.95 \\\\\n",
    "\\end{align*}\n",
    "\n",
    "Number of decimal digits must be a whole number, therefore a fractional number can be reliably stored to 15 s.f. using binary precision 53 bits. "
   ]
  },
  {
   "cell_type": "code",
   "execution_count": null,
   "id": "97b7544e-f5eb-4d27-890e-a9eed1c4fce8",
   "metadata": {},
   "outputs": [],
   "source": []
  }
 ],
 "metadata": {
  "celltoolbar": "Slideshow",
  "kernelspec": {
   "display_name": "Python 3 (ipykernel)",
   "language": "python",
   "name": "python3"
  },
  "language_info": {
   "codemirror_mode": {
    "name": "ipython",
    "version": 3
   },
   "file_extension": ".py",
   "mimetype": "text/x-python",
   "name": "python",
   "nbconvert_exporter": "python",
   "pygments_lexer": "ipython3",
   "version": "3.12.4"
  }
 },
 "nbformat": 4,
 "nbformat_minor": 5
}
