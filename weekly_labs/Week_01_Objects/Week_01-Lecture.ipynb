{
 "cells": [
  {
   "cell_type": "markdown",
   "id": "3122cada",
   "metadata": {
    "slideshow": {
     "slide_type": "slide"
    }
   },
   "source": [
    "# Computer Programming and Algorithms\n",
    "\n",
    "## Objects and Variables \n",
    "\n",
    "\n",
    "<img src=\"https://github.com/engmaths/EMAT10007_2023/blob/main/weekly_content/img/full-colour-logo-UoB.png?raw=true\" width=\"20%\">\n",
    "</p>"
   ]
  },
  {
   "cell_type": "markdown",
   "id": "f32e12cb",
   "metadata": {
    "slideshow": {
     "slide_type": "slide"
    }
   },
   "source": [
    "# Welcome!\n",
    "\n",
    "### Terms of engagement \n",
    "\n",
    "- Be respectful of each other (be aware there are different levels of experience in the room)\n",
    "- Be helpful to each other \n",
    "(explaining a concept to someone else is a great way to reinforce your own understanding)\n",
    "- Watch the videos before coming to the in-person lecture each week\n",
    "- Attend \n",
    "    - in-person lecture (weekly) - Sit on the same table each week\n",
    "    - seminar (bi-weekly)\n",
    "    - lab support session (weekly)\n",
    "- Ask questions  \n"
   ]
  },
  {
   "cell_type": "markdown",
   "id": "23d8408f",
   "metadata": {
    "slideshow": {
     "slide_type": "slide"
    }
   },
   "source": [
    "### Open the Google Colab notebook for this class\n",
    "\n",
    "Go to Google Colab in a web browser https://colab.research.google.com/\n",
    "\n",
    "Select File >> Open Notebook >> Github\n",
    "\n",
    "Under \"Enter a Github URL or search by organisation or user\", paste the link to this week's notebook (on blackboard)"
   ]
  },
  {
   "cell_type": "markdown",
   "id": "2d932b91-1852-4d2d-b2ac-1e11cc37b09f",
   "metadata": {},
   "source": [
    "# Aim \n",
    "\n",
    "To become comfortable with:\n",
    "- creating and manipulating objects\n",
    "- writing and running code in different programming environments"
   ]
  },
  {
   "cell_type": "markdown",
   "id": "8121bc5a-a9e2-4bbd-9e62-de2ca3f1b0a3",
   "metadata": {},
   "source": [
    "# Recap of the videos"
   ]
  },
  {
   "cell_type": "markdown",
   "id": "96495c5b-6e73-48af-8755-71314651b196",
   "metadata": {},
   "source": [
    "__Computer Programming:__ <br>Giving instructions to a computer to make it do a task \n",
    "<br>(Store a value, open a file, plot a graph...)\n",
    "\n",
    "We will study how to give instructions to computers to make them do what we want!  "
   ]
  },
  {
   "cell_type": "markdown",
   "id": "bb925694-fe05-446d-87a6-2ffbdf3484ad",
   "metadata": {},
   "source": [
    "__Algorithm:__<br>A set of well-defined instructions or steps to perform a specific task or solve a particular problem. \n",
    "<br>(Approximating the solution to an ODE, finding the shortest path from one location to another, sorting a set of values into an order...)\n",
    "\n",
    "On this unit we will learn how to implement basic algorithms (e.g. for searching or sorting) in computer code."
   ]
  },
  {
   "cell_type": "markdown",
   "id": "569c7716-7228-4c1b-828b-c3258ad79389",
   "metadata": {},
   "source": [
    "__Programming Language__<br>A formal set of instructions and rules used to communicate with a computer. \n",
    "<br>Enables programmers to write programs that can be executed by a computer to perform specific tasks. \n",
    "\n",
    "We will use the Python programming language but the principles we will study can be applied in any programming language "
   ]
  },
  {
   "cell_type": "markdown",
   "id": "5e737924-5405-4c0a-aaa7-cca6ec6769ce",
   "metadata": {},
   "source": [
    "__Objects__ \n",
    "\n",
    "Every item of data (numbers, text characters etc) in a computer program can be described by the term __object__\n",
    "\n",
    "When an object is created, the computer allocates a block of memory to hold the object’s data. "
   ]
  },
  {
   "cell_type": "markdown",
   "id": "82681370-c017-4063-8405-2546f254c0db",
   "metadata": {},
   "source": [
    "__Variables__ \n",
    "\n",
    "A __variable__ is a name that refers (points) to a particular object's location in computer memory\n",
    "\n",
    "By *assigning* an object to a variable, the object's value can be stored and later retrieved and used within a computer program. \n",
    "\n",
    "<img src=\"https://github.com/engmaths/EMAT10007_2023/blob/main/weekly_content/img/assignment_b.png?raw=true\" width=\"20%\">\n",
    "</p>\n",
    "\n"
   ]
  },
  {
   "cell_type": "code",
   "execution_count": 24,
   "id": "3d2d7442-6842-4b32-9ad1-7461d569bf53",
   "metadata": {},
   "outputs": [],
   "source": [
    "b = 4"
   ]
  },
  {
   "cell_type": "markdown",
   "id": "31c4cdea",
   "metadata": {
    "slideshow": {
     "slide_type": "slide"
    }
   },
   "source": [
    "The type of an object determines what properties it has and how it behaves\n",
    " \n",
    " __Basic Object Types__ \n",
    " <br>(not exhaustive)\n",
    " \n",
    "- `int` __integer__: (e.g. 3, 88)\n",
    "- `float` __floating point number__: number with decimal point (e.g. 1.5, 99.9626)\n",
    "- `str` __string__: text data enclosed within quotation marks (e.g. `'hello'` or `\"12\"`)\n",
    "- `bool` __Boolean__: `True` or `False` (first letter capitalised)"
   ]
  },
  {
   "cell_type": "markdown",
   "id": "5ed5ec0c",
   "metadata": {
    "slideshow": {
     "slide_type": "slide"
    }
   },
   "source": [
    "# Question \n",
    "\n",
    "What is the type of each of the following objects?\n",
    "\n",
    "1. `'Programming'`\n",
    "2. `4.5`\n",
    "3. `False`\n",
    "4. `256`\n",
    "\n",
    "Enter your answer at [Mentimeter](https://menti.com)!"
   ]
  },
  {
   "cell_type": "markdown",
   "id": "4ff42900",
   "metadata": {
    "slideshow": {
     "slide_type": "slide"
    }
   },
   "source": [
    "# Type Conversion\n",
    "A variable can be *cast* as a different type using a constructor function. \n",
    "\n",
    "- Constructor function name represents the desired data type.\n",
    "- The variable to be cast is included between the parentheses `(...)`\n",
    "\n",
    "__Example:__ Constructor function `int`"
   ]
  },
  {
   "cell_type": "code",
   "execution_count": 34,
   "id": "aae53998-1c50-4710-b136-9def4f21d258",
   "metadata": {},
   "outputs": [
    {
     "name": "stdout",
     "output_type": "stream",
     "text": [
      "1\n"
     ]
    }
   ],
   "source": [
    "a = 1.0\n",
    "\n",
    "b = int(a)\n",
    "\n",
    "print(b)"
   ]
  },
  {
   "cell_type": "markdown",
   "id": "4311a8fb-c1c9-4276-90b0-c8986f6b06b0",
   "metadata": {
    "slideshow": {
     "slide_type": "fragment"
    }
   },
   "source": [
    "__Object Creation:__ <br>The original object (`1.0`) remains in memory. A new object with value `1` is created in memory.\n",
    "\n",
    "__Reference Assignment:__ <br>The variable name `b` points to the new object. \n"
   ]
  },
  {
   "cell_type": "markdown",
   "id": "8cad495a-7067-4e3a-a97b-30d96870c1f4",
   "metadata": {},
   "source": [
    "__Constructor functions__\n",
    "`int()` - constructs an integer (e.g. from a float (by removing all decimals), or a string (the string must represent an integer)\n",
    "<br>`float()` - constructs a float (e.g. from an integer, or a string (the string must represent a float or an integer)\n",
    "<br>`str()` - constructs a string (e.g. from an integer, float or Boolean)\n",
    "<br>`bool()` - constructs a Boolean (e.g. from an integer, float or string)"
   ]
  },
  {
   "cell_type": "markdown",
   "id": "1fbd7c3c",
   "metadata": {
    "slideshow": {
     "slide_type": "fragment"
    }
   },
   "source": [
    "*A full list of possible type conversions can be found under 'Type Conversion' <br>(https://realpython.com/python-data-types/#type-conversion)*"
   ]
  },
  {
   "cell_type": "markdown",
   "id": "5b8bd015",
   "metadata": {
    "slideshow": {
     "slide_type": "slide"
    }
   },
   "source": [
    "# Example\n",
    "Convert `a` from a float to a) integer b) string"
   ]
  },
  {
   "cell_type": "code",
   "execution_count": 62,
   "id": "51d5b1d8",
   "metadata": {},
   "outputs": [
    {
     "name": "stdout",
     "output_type": "stream",
     "text": [
      "1\n",
      "1.2\n"
     ]
    }
   ],
   "source": [
    "a = 1.2\n",
    "a = int(a)\n",
    "print(a)\n",
    "\n",
    "a = 1.2\n",
    "a = str(a)\n",
    "print(a)\n"
   ]
  },
  {
   "cell_type": "markdown",
   "id": "076a783c",
   "metadata": {
    "slideshow": {
     "slide_type": "slide"
    }
   },
   "source": [
    "# Example\n",
    "\n",
    "Convert `a` from a string to a) integer b) float\n",
    "\n",
    "(Remeber to convert to convert a string to an integer, the string must represent an integer)"
   ]
  },
  {
   "cell_type": "code",
   "execution_count": 65,
   "id": "422bd190",
   "metadata": {},
   "outputs": [
    {
     "name": "stdout",
     "output_type": "stream",
     "text": [
      "1\n",
      "1.2\n"
     ]
    }
   ],
   "source": [
    "a = '1'    \n",
    "a = int(a)\n",
    "print(a)\n",
    "\n",
    "\n",
    "a = '1.2'\n",
    "a = float(a)\n",
    "print(a)\n"
   ]
  },
  {
   "cell_type": "markdown",
   "id": "5a1591d9",
   "metadata": {
    "slideshow": {
     "slide_type": "slide"
    }
   },
   "source": [
    "# Try it yourself\n",
    "Convert `a` from an integer to a) float b) string"
   ]
  },
  {
   "cell_type": "code",
   "execution_count": 68,
   "id": "07de5290",
   "metadata": {},
   "outputs": [
    {
     "name": "stdout",
     "output_type": "stream",
     "text": [
      "1.0\n",
      "1\n"
     ]
    }
   ],
   "source": [
    "a = 1\n",
    "a = float(a)\n",
    "print(a)\n",
    "\n",
    "a = 1\n",
    "a = str(a)\n",
    "print(a)"
   ]
  },
  {
   "cell_type": "markdown",
   "id": "a0db958a",
   "metadata": {
    "slideshow": {
     "slide_type": "slide"
    }
   },
   "source": [
    "# Boolean representations of other object types\n",
    "\n",
    "Outcomes when casting other object types as Boolean values:\n",
    "\n",
    "| Object type    | `True`           | `False`                |  \n",
    "| :--------------- | :--------------- | :---------------       |\n",
    "| `int`            | non-zero         |zero (`0`)              | \n",
    "| `float`          | non-zero         |zero (`0.0`)            |\n",
    "| `string`         | non-empty string |empty string (`''`)     | \n",
    "\n",
    " "
   ]
  },
  {
   "cell_type": "markdown",
   "id": "9b158dee-0405-4e61-8338-e751165687b9",
   "metadata": {
    "slideshow": {
     "slide_type": "slide"
    }
   },
   "source": [
    "# Example\n",
    "Convert a) integer b) float c) string, to Boolean"
   ]
  },
  {
   "cell_type": "code",
   "execution_count": 26,
   "id": "fd91c60c",
   "metadata": {
    "scrolled": true
   },
   "outputs": [
    {
     "name": "stdout",
     "output_type": "stream",
     "text": [
      "True\n"
     ]
    }
   ],
   "source": [
    "a = 1\n",
    "b = 1.0\n",
    "c = '1'\n",
    "\n",
    "d = bool(a)\n",
    "\n",
    "print(d)"
   ]
  },
  {
   "cell_type": "markdown",
   "id": "4eeaebbf",
   "metadata": {
    "slideshow": {
     "slide_type": "slide"
    }
   },
   "source": [
    "### Need to see some more examples? \n",
    "https://www.w3schools.com/python/python_variables.asp\n",
    "<br>https://www.geeksforgeeks.org/python-variables/\n",
    "\n",
    "### Want to take a quiz?\n",
    "https://realpython.com/quizzes/python-variables/\n",
    "<br>https://pynative.com/python-variables-and-data-types-quiz/\n",
    "\n",
    "\n",
    "### Want some more advanced information?\n",
    "https://realpython.com/python-data-types/\n",
    "<br>https://pynative.com/python-variables/\n"
   ]
  },
  {
   "cell_type": "markdown",
   "id": "4c12bef2",
   "metadata": {},
   "source": [
    "# Lab Exercises\n",
    "In these exercises, you will practise what you have learnt by writing and running Python code in two different environments:\n",
    "- Terminal\n",
    "- IDE (Integrated Development Environment)"
   ]
  },
  {
   "cell_type": "markdown",
   "id": "8f85cf9c",
   "metadata": {
    "slideshow": {
     "slide_type": "slide"
    }
   },
   "source": [
    "# Demo - Running code in a terminal\n",
    "\n",
    "A terminal emulator is a software application known as a terminal emulator that allows a user to interact with a computer, to input data and receive output. <br>(e.g. Terminal app on Mac/Linux, Command Prompt or GitBash/PowerShell on Windows)."
   ]
  },
  {
   "cell_type": "markdown",
   "id": "fc9cf877",
   "metadata": {},
   "source": [
    "To open a terminal (instructions for Linux Labs):\n",
    "- Click on 'Activities' (top left of screen)\n",
    "- Select the Terminal application \n",
    "\n",
    "Alternatively, open the Terminal application (Mac/Linux) or Git-bash application (Windows) on your personal computer"
   ]
  },
  {
   "cell_type": "markdown",
   "id": "7f726235",
   "metadata": {},
   "source": [
    "1. In the terminal, type `python3` and press enter to launch Python\n",
    "\n",
    "2. Create a variable `a` and assign it the integer value `1` by typing:\n",
    "\n",
    "```python\n",
    "a = 1\n",
    "```\n",
    "\n",
    "***\n",
    "\n",
    "3. Press enter\n",
    "\n",
    "***\n",
    "\n",
    "4. Now display the value of variable `a` by typing\n",
    "\n",
    "```python\n",
    "print(a)\n",
    "```\n",
    "\n",
    "and pressing enter"
   ]
  },
  {
   "cell_type": "markdown",
   "id": "36e7d916",
   "metadata": {},
   "source": [
    "# Demo - Running code in an IDE\n",
    "\n",
    "An IDE (Integrated Development Environment) is a software application that provides a set of tools for coding, debugging, and building software applications.\n",
    "\n",
    "An IDE includes a graphical interface with menus, toolbars, and panels, within a single environment.\n",
    "\n",
    "There are several IDEs available. \n",
    "\n",
    "We will the Visual Studio (VS) Code IDE"
   ]
  },
  {
   "cell_type": "markdown",
   "id": "7b4be7bb",
   "metadata": {},
   "source": [
    "To open a the VS Code IDE (instructions for Linux Labs):\n",
    "- Click on 'Activities' (top left of screen)\n",
    "- Select the Visual Studio Code application \n",
    "\n",
    "Alternatively open VS Code on your personal computer\n",
    "\n",
    "When opening VS Code for the first time, you may be asked to install a Python extension. Select yes when asked if you want to install this. "
   ]
  },
  {
   "cell_type": "markdown",
   "id": "89036d67",
   "metadata": {},
   "source": [
    "1. Select File >> New file >> Python file \n",
    "2. Select File >> Save\n",
    "3. In the window that opens, give your file a name with no spaces, ending in `.py`. <br>Ensure that you save your file in the 'Documents' folder of your user area. You may want to create a subfolder to store the files you create on this unit.<br>This folder will be accessible from all open-access University Linux computers\n",
    "4. Click save \n",
    "\n",
    "5. In the editor window, create a variable `a` and assign it the integer value `1` by typing:\n",
    "\n",
    "```python\n",
    "a = 1\n",
    "```\n",
    "***\n",
    "\n",
    "2. On the next line type:\n",
    "\n",
    "```python\n",
    "print(a)\n",
    "```\n",
    "***\n",
    "\n",
    "3. Press 'Ctrl' + 'F5' to run the code, and select 'Python Debugger' if prompted. <br>The output will appear in the panel at the bottom of the window\n",
    "\n",
    "***"
   ]
  },
  {
   "cell_type": "markdown",
   "id": "5f370311",
   "metadata": {},
   "source": [
    "# Exercise 1 - Running code in a terminal\n",
    "\n",
    "Repeat the terminal demo by yourself\n",
    "\n",
    "1. In the terminal, type `python3` and press enter to launch Python\n",
    "\n",
    "2. Create a variable `a` and assign it the integer value `1` by typing:\n",
    "\n",
    "```python\n",
    "a = 1\n",
    "```\n",
    "\n",
    "***\n",
    "\n",
    "3. Press enter\n",
    "\n",
    "***\n",
    "\n",
    "4. Now display the value of variable `a` by typing\n",
    "\n",
    "```python\n",
    "print(a)\n",
    "```\n",
    "\n",
    "and pressing enter"
   ]
  },
  {
   "cell_type": "markdown",
   "id": "9cc3db35",
   "metadata": {},
   "source": [
    "# Exercise 2 - Practise using the terminal\n",
    "In the terminal, complete the following:\n",
    "1. Create a variable, `a`, assign an integer value to it and print the value of the variable.\n",
    "1. Create two variables, `b` and `c`, assign a floating point value to each variable and print the value of each variable.\n",
    "1. Create a variable, `d` and assign a string value to it\n",
    "1. Check if the value of `b` or `c` contain floating point error. \n",
    "1. Print the last character in the string value assigned to `d`\n",
    "1. Reassign the variable `a` a new value, 5, and print the new value.\n",
    "1. Cast `c` as integer and print the new value\n",
    "1. Cast `a` as a Boolean and print the new value\n"
   ]
  },
  {
   "cell_type": "markdown",
   "id": "6534bc60",
   "metadata": {},
   "source": [
    "# Exercise 3 - Running code in an IDE\n",
    "\n",
    "Repeat the IDE demo by yourself\n",
    "\n",
    "1. Select File >> New file >> Python file \n",
    "2. Select File >> Save\n",
    "3. In the window that opens, give your file a name with no spaces, ending in `.py`. <br>Ensure that you save your file in the 'Documents' folder of your user area. You may want to create a subfolder to store the files you create on this unit.<br>This folder will be accessible from all open-access University Linux computers\n",
    "4. Click save \n",
    "\n",
    "5. In the editor window, create a variable `a` and assign it the integer value `1` by typing:\n",
    "\n",
    "```python\n",
    "a = 1\n",
    "```\n",
    "***\n",
    "\n",
    "2. On the next line type:\n",
    "\n",
    "```python\n",
    "print(a)\n",
    "```\n",
    "***\n",
    "\n",
    "3. Press 'Ctrl' + 'F5' to run the code, and select 'Python Debugger' if prompted. <br>The output will appear in the panel at the bottom of the window\n",
    "\n",
    "***"
   ]
  },
  {
   "cell_type": "markdown",
   "id": "9ee31b8b",
   "metadata": {},
   "source": [
    "# Exercise 4 - Practise using an IDE\n",
    "\n",
    "In VS Code IDE, complete the following: \n",
    "<br>(The first three questions are the same as Exercise 2 for so you can compare the experience of writing this code in the two different environments):\n",
    "\n",
    "1. Select File >> New file >> Python file \n",
    "1. Select File >> Save\n",
    "1. In the window that opens, give your file a name with no spaces, ending in `.py`. \n",
    "1. Click save \n",
    "1. Create a variable, `a`, assign an integer value to it and print the value of the variable.\n",
    "1. Create two variables, `b` and `c`, assign a floating point value to each variable and print the value of each variable.\n",
    "1. Create a variable, `d` and assign a string value to it\n",
    "1. Print the first 2 characters in the string value assigned to `d`\n",
    "1. Reassign the variable `b` a floating point value and print the new value\n",
    "1. Cast `b` as a string and print the new value\n",
    "1. Cast `a` as a float and print the new value\n",
    "1. Save your work (Select File >> Save)"
   ]
  },
  {
   "cell_type": "markdown",
   "id": "1e7c76a6",
   "metadata": {},
   "source": [
    "# Exercise 5 - Real world programming example\n",
    "## Storing variables to control a robot\n",
    "\n",
    "In VS Code IDE, define a set of variables that will be used to control a (simluated) robot:\n",
    "\n",
    "1. Select File >> New file >> Python file \n",
    "1. Select File >> Save\n",
    "1. In the window that opens, give your file a name with no spaces, ending in `.py`. \n",
    "1. Click save \n",
    "1. Give the robot a name, create a variable `name` and assign it a value. Choose a value and appropriate data type for the robot's name \n",
    "1. Create a variable `velocity_motor_1` and assign it the value 1.5\n",
    "1. Create a variable `velocity_motor_2` and assign it the value 0.5\n",
    "1. Create a variable `time`, representing the time since the start of the simulation in seconds. The value of will be updated every 1 second. Choose a value and appropriate data type to represent the time 10 seconds from the start of the simulation  and assign this value to the variable `time`\n",
    "1. Create a variables `status` and assign it a value. `status` indicates if the robot is powered on or powered off. It can therefore only take one of two possible values. Choose a value and appropriate data type to represent the robot with powered off status and assign this value to the variable `status`\n",
    "1. Save your work (Select File >> Save)\n",
    "\n",
    "<br>Talk to the person sitting next to you and compare the variable types you chose. \n",
    "<br>Discuss why you choose the variable types you used for each question? \n",
    "<br>Did the person next to you do anything differently and why? \n"
   ]
  },
  {
   "cell_type": "code",
   "execution_count": null,
   "id": "755e625c",
   "metadata": {},
   "outputs": [],
   "source": []
  }
 ],
 "metadata": {
  "celltoolbar": "Slideshow",
  "kernelspec": {
   "display_name": "Python 3 (ipykernel)",
   "language": "python",
   "name": "python3"
  },
  "language_info": {
   "codemirror_mode": {
    "name": "ipython",
    "version": 3
   },
   "file_extension": ".py",
   "mimetype": "text/x-python",
   "name": "python",
   "nbconvert_exporter": "python",
   "pygments_lexer": "ipython3",
   "version": "3.10.9"
  }
 },
 "nbformat": 4,
 "nbformat_minor": 5
}
