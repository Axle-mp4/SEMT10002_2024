{
 "cells": [
  {
   "cell_type": "markdown",
   "metadata": {
    "slideshow": {
     "slide_type": "slide"
    }
   },
   "source": [
    "\n",
    "\n",
    "# Computer Programming and Algorithms\n",
    "\n",
    "## Course Introduction\n",
    "\n",
    "<img src=\"https://github.com/engmaths/EMAT10007_2023/blob/main/weekly_content/img/full-colour-logo-UoB.png?raw=true\" width=\"20%\">\n",
    "</p>\n"
   ]
  },
  {
   "cell_type": "markdown",
   "metadata": {
    "slideshow": {
     "slide_type": "slide"
    }
   },
   "source": [
    "# Computer programming\n",
    "\n",
    "Giving instructions to a computer to make it do a task \n",
    "<br>(Store a value, open a file, plot a graph...)\n",
    "\n",
    "We will study how to give instructions to computers to make them do what we want!  "
   ]
  },
  {
   "cell_type": "markdown",
   "metadata": {
    "slideshow": {
     "slide_type": "slide"
    }
   },
   "source": [
    "# Algorithm\n",
    "\n",
    "A set of well-defined instructions or steps to perform a specific task or solve a particular problem. \n",
    "<br>(Approximating the solution to an ODE, finding the shortest path from one location to another, sorting a set of values into an order...)\n",
    "\n",
    "On this unit we will learn how to implement basic algorithms (e.g. for searching or sorting) in computer code."
   ]
  },
  {
   "cell_type": "markdown",
   "metadata": {
    "slideshow": {
     "slide_type": "slide"
    }
   },
   "source": [
    "# Programming Language\n",
    "\n",
    "A formal set of instructions and rules used to communicate with a computer. \n",
    "<br>Enables programmers to write programs that can be executed by a computer to perform specific tasks. \n",
    "\n",
    "We will use the Python programming language but the principles we will study can be applied in any programming language "
   ]
  },
  {
   "cell_type": "markdown",
   "metadata": {
    "slideshow": {
     "slide_type": "slide"
    }
   },
   "source": [
    "# Python\n",
    " - Free and open source\n",
    " - Versatile - both a *scripting* and a *programming* language:\n",
    "    - *scripting* : run in a host application for debugging and viewing output (e.g. a mathematical model)\n",
    "    - *programming* : controls a computer or machine (e.g. a microcontroller on a robot)\n",
    " - Increasingly used in industry and academia\n",
    " - Large and diverse community of users and developers\n",
    " \n",
    " <img src=\"https://github.com/engmaths/EMAT10007_2023/blob/main/weekly_content/img/Python-Symbol.png?raw=true\" width=\"20%\">\n",
    "</p>\n"
   ]
  },
  {
   "cell_type": "markdown",
   "metadata": {
    "slideshow": {
     "slide_type": "slide"
    }
   },
   "source": [
    "# Why study programming?\n",
    "- A tool you can use for your studies (data, calculation, modeling, simulation...). \n",
    "- A growing sector of the jobs market (software engineering, data science, AI, robotics...).\n",
    "- Increasing use of coding within jobs and areas of academia not traditionally related to computing.\n",
    "- Coding is fun! (personal projects, competitions, charity sector...)"
   ]
  },
  {
   "cell_type": "markdown",
   "metadata": {
    "slideshow": {
     "slide_type": "slide"
    }
   },
   "source": [
    "# Learning Objectives\n",
    "\n",
    "We will study:\n",
    "\n",
    "- The fundamentals of programming (e.g., data types, controlling the flow of a computer program, modularising code with functions)\n",
    "- How to read, write, process and visualize data\n",
    "- How to write code that is not only correct, but also understood by others\n",
    "- How to think about and implement basic algorithms (e.g. for searching or sorting)\n",
    "- How to translate a mathematical model or algorithm into a computer program\n"
   ]
  },
  {
   "cell_type": "markdown",
   "metadata": {
    "slideshow": {
     "slide_type": "slide"
    }
   },
   "source": [
    "# Course Entry Level\n",
    "\n",
    "Beginner, no prior programming knowlegde.\n",
    "\n",
    "Suitable for students on engineering degree programmes"
   ]
  },
  {
   "cell_type": "markdown",
   "metadata": {
    "slideshow": {
     "slide_type": "slide"
    }
   },
   "source": [
    "# Lecturers \n",
    "\n",
    "- Dr Martin Garrad [Unit Director] (weeks 7, 13-21)\n",
    "- Dr Hemma Philamore [Unit Director] (weeks 1, 8, 9)\n",
    "- Prof Arthur Richards (weeks 2-5, 10)\n",
    "- Dr Michael Rule (weeks 11-12)"
   ]
  },
  {
   "cell_type": "markdown",
   "metadata": {
    "slideshow": {
     "slide_type": "slide"
    }
   },
   "source": [
    "# Course stucture - TB1\n",
    "\n",
    "| Week    | Lab Topic           | Seminar Topic               |  Assessment                            | \n",
    "| :------ | :---------------    | :---------------            |:---------------                        |\n",
    "| 1       | Objects             | Notional Machine            |                                        |\n",
    "| 2       | Operators           |                             | Portfolio 1  *(formative)*             |\n",
    "| 3       | Conditionals        | Programming Environments    |                                        |\n",
    "| 4       | Loops               |                             | Portfolio 2 *(formative)*              |\n",
    "| 5       | **Consolisation 1** | Debugging 1                 |                                        |\n",
    "| 6       | *Reading Week*      |                             | Consolidation 1 *(formative)*          |\n",
    "| 7       | Data Structures     | Style and structure         |                                        |\n",
    "| 8       | Reading Data        |                             | Portfolio 3  *(formative)*             |\n",
    "| 9       | Modules             | Libraries you should know   |                                        |\n",
    "| 10      | **Consolisation 2** |                             | Consolidation 2 *(formative)*          |\n",
    "| 11      | Functions 1         | Refactoring                 |                                        |\n",
    "| 12      | Functions 2         |                             | Portfolio 4  *(formative)*             |     "
   ]
  },
  {
   "cell_type": "markdown",
   "metadata": {
    "slideshow": {
     "slide_type": "slide"
    }
   },
   "source": [
    "# Course stucture - TB2\n",
    "\n",
    "| Week    | Lab Topic           | Seminar Topic               |  Assessment                            | \n",
    "| :------ | :---------------    | :---------------            |:---------------                        |\n",
    "| 13      | **Consolisation 3** | Algorithms                  |                                        |\n",
    "| 14      | Solving ODEs        |                             | Consolidation 3 *(formative)*          |\n",
    "| 15      | **Consolisation 4** | Algorithmic Complexity      | __Complete Portfolio *(SUMMATIVE 1)*__ |\n",
    "| 16      | Abstract Data Types |                             | Consolidation 4 *(formative)*          |\n",
    "| 17      | **Consolisation 5** | Tesing and AI generated code|                                        |\n",
    "| 18      | *Reading Week*      |                             |  Consolidation 5 *(formative)*         |\n",
    "| 19      | Coursework Support  |                             | [Summative coursework 2 released]      |\n",
    "| 20      | Coursework Support  |                             |                                        |\n",
    "| 21      | Coursework Support  |                             | __Coursework Assignment *(SUMMATIVE 2)*__|\n",
    "| 12      |                     |                             | Vivas                                  |\n",
    "| 23      |                     |                             | Vivas                                  |"
   ]
  },
  {
   "cell_type": "markdown",
   "metadata": {
    "slideshow": {
     "slide_type": "slide"
    }
   },
   "source": [
    "### Lab (Tuesday)\n",
    "- Taught material to build on pre-watch/pre-read content\n",
    "- Code demontrations\n",
    "- Lab exercises: Practise and demonstrate programming fundamentals by completing short and focused programming tasks\n",
    "- Consolidation exercises: Longer activities in which you bring together multiple different programming fundamentals"
   ]
  },
  {
   "cell_type": "markdown",
   "metadata": {
    "slideshow": {
     "slide_type": "slide"
    }
   },
   "source": [
    "### Seminar (Thursday, bi-weekly)\n",
    "- Discussions and group work on high-level concepts of programming and algorithms"
   ]
  },
  {
   "cell_type": "markdown",
   "metadata": {
    "slideshow": {
     "slide_type": "slide"
    }
   },
   "source": [
    "### Drop-in support session (Wednesday + Friday)\n",
    "- An extra session for additional 1-to-1 support\n",
    "- TA-run session"
   ]
  },
  {
   "cell_type": "markdown",
   "metadata": {
    "slideshow": {
     "slide_type": "slide"
    }
   },
   "source": [
    "# Assessment \n",
    "\n",
    "You will submit three assessment exercise types:\n",
    "- __Code Portfolio__: A subset of the weekly lab exercises. \n",
    "- __Consolidation Exercises__: A longer exercise to consolidate your learning from multiple lab sessions\n",
    "- __Coursework Assignment__: A modelling exercise and report, supported by an oral viva\n",
    "\n",
    "### Formative (ungraded) assessment: \n",
    "Submission of consolidation exercises 1-5 / code portfolio section 1-4 __every 2 weeks__  \n",
    "You will recieve verbal feedback from your allocated TA\n",
    "<br>Additionally, you will recieve automatically generated written feedback on code portfolio sections\n",
    "\n",
    "### Summative (graded) assessment: \n",
    "- Complete code portfolio [sections 1-4], __20%__ , week 15\n",
    "- Coursework assignment, __80%__, week 21"
   ]
  },
  {
   "cell_type": "markdown",
   "metadata": {
    "slideshow": {
     "slide_type": "slide"
    }
   },
   "source": [
    "# Course Material \n",
    "\n",
    "The links to **videos and notebooks (containing slides and lab exercises)** are on Blackboard\n",
    "\n",
    "Go to the Blackboard Page for this unit: **Computer Programming and Algorithms 2024**\n",
    "\n",
    "Choose **'Weeks 1 - 6'** from the side panel\n",
    "\n",
    "Click on the week number to view the material for that week"
   ]
  },
  {
   "cell_type": "markdown",
   "metadata": {
    "slideshow": {
     "slide_type": "slide"
    }
   },
   "source": [
    "# Pre-watch/ pre-read material\n",
    "\n",
    "Each week (excluding consolidation weeks) you MUST view the pre-watch/pre-read material coming to the lab class (Tuesday).\n",
    "\n",
    "This content is available as:\n",
    "1) Videos\n",
    "2) Google Colaboratory (Colab) notebook\n",
    "\n",
    "There are 3-4, videos per week, 10-15 minute each\n",
    "\n",
    "The Google Colab notebooks can be used to view and pre-read the text and code instead of, or in addition to, the videos. \n",
    "\n",
    "The recorded material is designed to help you work through the fundamental concepts for the week at your own pace and go over things multiple times if needed. \n"
   ]
  },
  {
   "cell_type": "markdown",
   "metadata": {
    "slideshow": {
     "slide_type": "slide"
    }
   },
   "source": [
    "# Opening Google Colab\n",
    "\n",
    "Go to Google Colab in a web browser https://colab.research.google.com/\n",
    "\n",
    "Select File >> Open Notebook >> Github\n",
    "\n",
    "Under \"Enter a Github URL or search by organisation or user\", paste the link to this week's notebook (on blackboard)"
   ]
  },
  {
   "cell_type": "markdown",
   "metadata": {
    "slideshow": {
     "slide_type": "slide"
    }
   },
   "source": [
    "# Saving a notebook\n",
    "\n",
    "The notebooks contain interactive code cells that you can edit during the class. \n",
    "\n",
    "You may want to save your own copy of your edited notebook. \n",
    "\n",
    "To download the notebook, you can select: File >> Download >> Download .ipynb\n",
    "\n",
    "Next time you want to open the file in Colab, you can select: File >> Upload Notebook >> Browse <br>...and then select your file. "
   ]
  },
  {
   "cell_type": "markdown",
   "metadata": {
    "slideshow": {
     "slide_type": "slide"
    }
   },
   "source": [
    "# Software \n",
    "\n",
    "The software we will use is already installed on the Linux Lab computers. \n",
    "\n",
    "\n",
    "If you want to install the software on your own computer, instructions are given on the blackboard page for the unit.  "
   ]
  },
  {
   "cell_type": "markdown",
   "metadata": {
    "slideshow": {
     "slide_type": "slide"
    }
   },
   "source": [
    "# Need more practise or want some more advanced information?  \n",
    "\n",
    "We understand that you are coming to this course from different backgrounds and with different levels of programming experience. \n",
    "\n",
    "At the end of each video there are mulitple links to:\n",
    "- online examples to help you practise what you have seen\n",
    "- online quizzes to help you to test your understanding \n",
    "- articles with more advanced information in case you are curious to know more"
   ]
  }
 ],
 "metadata": {
  "celltoolbar": "Slideshow",
  "kernelspec": {
   "display_name": "Python 3 (ipykernel)",
   "language": "python",
   "name": "python3"
  },
  "language_info": {
   "codemirror_mode": {
    "name": "ipython",
    "version": 3
   },
   "file_extension": ".py",
   "mimetype": "text/x-python",
   "name": "python",
   "nbconvert_exporter": "python",
   "pygments_lexer": "ipython3",
   "version": "3.10.9"
  }
 },
 "nbformat": 4,
 "nbformat_minor": 4
}
