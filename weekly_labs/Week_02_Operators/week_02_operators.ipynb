{
 "cells": [
  {
   "cell_type": "markdown",
   "metadata": {},
   "source": [
    "# Comparison Operators\n",
    "\n",
    "This week we will introduce operators for comparing values of variables, _e.g._ are two numbers the same?  Is one larger?\n",
    "\n",
    "## Recap\n",
    "\n",
    "From last week, you should recall that a programme is a list of _statements_ such as \"store _expression_ in this _variable_\" or \"print _expression_\" where _expression_ is something to be calculated from constants and variables.  _Variables_ can contain integers, real numbers or text (and many other things... coming up).  _Expressions_ can do things like add, multiply, divide and more.\n",
    "\n",
    "> Fool around with the examples below to remind yourself how this all works."
   ]
  },
  {
   "cell_type": "code",
   "execution_count": 107,
   "metadata": {},
   "outputs": [
    {
     "name": "stdout",
     "output_type": "stream",
     "text": [
      "a is 161.20000000000002\n",
      "s is Hello\n"
     ]
    }
   ],
   "source": [
    "a = 13*12.4\n",
    "print('a is', a)\n",
    "s = 'Hello'\n",
    "print('s is',s)"
   ]
  },
  {
   "cell_type": "markdown",
   "metadata": {},
   "source": [
    "> What's going on with `13*12.4`?  Is that the right answer?  Remember from Seminar 1?\n",
    "\n",
    "## Comparison Operators\n",
    "\n",
    "Comparisons allow us to detect relationships between two expressions.  For example, the expression `a<b` returns True if the value of `a` is strictly less than that of `b`, or False otherwise.  Here are some examples:"
   ]
  },
  {
   "cell_type": "code",
   "execution_count": 108,
   "metadata": {},
   "outputs": [
    {
     "name": "stdout",
     "output_type": "stream",
     "text": [
      "True\n"
     ]
    }
   ],
   "source": [
    "print(2 < 3)"
   ]
  },
  {
   "cell_type": "code",
   "execution_count": 109,
   "metadata": {},
   "outputs": [
    {
     "name": "stdout",
     "output_type": "stream",
     "text": [
      "False\n"
     ]
    }
   ],
   "source": [
    "print(3 < 2)"
   ]
  },
  {
   "cell_type": "markdown",
   "metadata": {},
   "source": [
    "Hopefully we don't need a computer to help us compare 2 and 3, but we can also do it with variables.\n",
    "\n",
    "> Change the values and check the answers. "
   ]
  },
  {
   "cell_type": "code",
   "execution_count": 110,
   "metadata": {},
   "outputs": [
    {
     "name": "stdout",
     "output_type": "stream",
     "text": [
      "True\n"
     ]
    }
   ],
   "source": [
    "u = 13.7\n",
    "v = 19.2\n",
    "print(u < v)"
   ]
  },
  {
   "cell_type": "markdown",
   "metadata": {},
   "source": [
    "More usefully, we can compare two expressions.  Let's see if _p_<sup>2</sup><3 _q_ ."
   ]
  },
  {
   "cell_type": "code",
   "execution_count": 111,
   "metadata": {},
   "outputs": [
    {
     "name": "stdout",
     "output_type": "stream",
     "text": [
      "True\n"
     ]
    }
   ],
   "source": [
    "p = 1.8\n",
    "q = 2.1\n",
    "print(p**2 < 3*q)"
   ]
  },
  {
   "cell_type": "markdown",
   "metadata": {},
   "source": [
    "> Use the cell below to store a number and then check if it is smaller than &radic;2, *without* calling the `sqrt` function."
   ]
  },
  {
   "cell_type": "code",
   "execution_count": 112,
   "metadata": {},
   "outputs": [
    {
     "name": "stdout",
     "output_type": "stream",
     "text": [
      "???\n"
     ]
    }
   ],
   "source": [
    "# edit code below\n",
    "a = '???'\n",
    "print('???')"
   ]
  },
  {
   "cell_type": "markdown",
   "metadata": {},
   "source": [
    "## More operators\n",
    "\n",
    "| Operator | Meaning | Example | Example result |\n",
    "| --- | --- | --- | --- |\n",
    "| < | Strictly less than | `a<b` | True if `a` less than `b` |\n",
    "| > | Strictly greater than | `a>b` | True if `a` greater than `b` |\n",
    "| <= | Less than or equal to | `a<=b` | True if `a` less than or equal to `b` |\n",
    "| >= | Strictly less than | `a>=b` | True if `a` greater than or equal to `b` |\n",
    "| == | Equals | `a==b` | True if `a` equal to `b` |\n",
    "| != | Not equal | `a!=b` | True if `a` not equal to `b` |\n",
    "| --- | --- | --- | --- |\n",
    "\n",
    "Here are some examples, this time just using integers.\n",
    "\n",
    "> Change the numbers and play around"
   ]
  },
  {
   "cell_type": "code",
   "execution_count": 113,
   "metadata": {},
   "outputs": [
    {
     "name": "stdout",
     "output_type": "stream",
     "text": [
      "False\n"
     ]
    }
   ],
   "source": [
    "print(3 < 3)"
   ]
  },
  {
   "cell_type": "code",
   "execution_count": 114,
   "metadata": {},
   "outputs": [
    {
     "name": "stdout",
     "output_type": "stream",
     "text": [
      "True\n"
     ]
    }
   ],
   "source": [
    "print(3 <= 3)"
   ]
  },
  {
   "cell_type": "code",
   "execution_count": 115,
   "metadata": {},
   "outputs": [
    {
     "name": "stdout",
     "output_type": "stream",
     "text": [
      "True\n"
     ]
    }
   ],
   "source": [
    "print(3 == 3)"
   ]
  },
  {
   "cell_type": "code",
   "execution_count": 116,
   "metadata": {},
   "outputs": [
    {
     "name": "stdout",
     "output_type": "stream",
     "text": [
      "False\n"
     ]
    }
   ],
   "source": [
    "print(3 != 3)"
   ]
  },
  {
   "cell_type": "markdown",
   "metadata": {},
   "source": [
    "## Comparisons and `if`\n",
    "\n",
    "Probably the most common use of these comparison operators is within an _`if` statement_.  In general:\n",
    "```python\n",
    "if (test expression):\n",
    "    # something that only gets done if the test expression returns True\n",
    "    # another thing that only happens if it's True\n",
    "# this expression happens anyway, True or False\n",
    "```\n",
    "This is your first sight of the famous python _indent_.  The block of code identified by being _indented_ is the bit that gets switched on or off by the `if`.  This will turn up over and over with different statements.  Let's try an example.\n",
    "\n",
    "> Play with the numbers and see what happens"
   ]
  },
  {
   "cell_type": "code",
   "execution_count": 117,
   "metadata": {},
   "outputs": [
    {
     "name": "stdout",
     "output_type": "stream",
     "text": [
      "a is 5\n",
      "b is 3\n",
      "a is greater than or equal to b\n",
      "Finished\n"
     ]
    }
   ],
   "source": [
    "a = 5\n",
    "b = 3\n",
    "print('a is',a)\n",
    "print('b is',b)\n",
    "if a>=b:\n",
    "    print('a is greater than or equal to b')\n",
    "if a<=b:\n",
    "    print('a is less than or equal to b')\n",
    "print('Finished')"
   ]
  },
  {
   "cell_type": "markdown",
   "metadata": {},
   "source": [
    "## Strings\n",
    "\n",
    "We haven't played with the equal and not equal operators.  Let's use the opportunity to also mess around with text, which we can compare with `==` and `!=`.\n",
    "\n",
    "> Change the text and see what happens."
   ]
  },
  {
   "cell_type": "code",
   "execution_count": 118,
   "metadata": {},
   "outputs": [
    {
     "name": "stdout",
     "output_type": "stream",
     "text": [
      "Login failed\n"
     ]
    }
   ],
   "source": [
    "password = 'LionMug1986$'\n",
    "\n",
    "entered_text = 'LionMug1982%'\n",
    "\n",
    "if password == entered_text:\n",
    "    print('Login success')\n",
    "\n",
    "if password != entered_text:\n",
    "    print('Login failed')"
   ]
  },
  {
   "cell_type": "markdown",
   "metadata": {},
   "source": [
    "## Multiple conditions\n",
    "\n",
    "More on this next week, but we can check multiple conditions using `and` and `or` operators to join different logical expressions together.\n",
    "\n",
    "`a and b` returns True if both `a` and `b` are True\n",
    "\n",
    "`a or b` returns True if either `a` or `b` is True\n",
    "\n",
    "> Extend the example below for a full mark scheme: 40 to pass, 50 for a 2:2, 60 for a 2:1, and 70 for a 1st.\n",
    "\n",
    "> Extend it further to print an error for numbers outside the range 0-100."
   ]
  },
  {
   "cell_type": "code",
   "execution_count": 119,
   "metadata": {},
   "outputs": [
    {
     "name": "stdout",
     "output_type": "stream",
     "text": [
      "Grade is 55.1\n"
     ]
    }
   ],
   "source": [
    "grade = 55.1\n",
    "print('Grade is',grade)\n",
    "if grade>=60 and grade<70:\n",
    "    print('Result is 2:1')"
   ]
  },
  {
   "cell_type": "markdown",
   "metadata": {},
   "source": [
    "## Floating point comparisons\n",
    "\n",
    "As discussed in the week 1 seminar, sometimes things don't go as you'd expect when comparing real numbers.  Consider the following example.\n",
    "\n",
    "> Play around with different calculations for `f` and see what happens."
   ]
  },
  {
   "cell_type": "code",
   "execution_count": 120,
   "metadata": {},
   "outputs": [
    {
     "name": "stdout",
     "output_type": "stream",
     "text": [
      "e is 0.5555555555555556\n",
      "f is 0.5555555555555555\n",
      "e not equal to f\n"
     ]
    }
   ],
   "source": [
    "e = 5/9\n",
    "f = (1/3)*5*(1/3)\n",
    "print('e is', e)\n",
    "print('f is', f)\n",
    "if e == f:\n",
    "    print('e equals f')\n",
    "if e != f:\n",
    "    print('e not equal to f')"
   ]
  },
  {
   "cell_type": "markdown",
   "metadata": {},
   "source": [
    "> Challenge: edit the `'???'` below to check if the values of `e` and `f` are equal to within a specified tolerance, expressed as a percentage of their values. "
   ]
  },
  {
   "cell_type": "code",
   "execution_count": 121,
   "metadata": {},
   "outputs": [
    {
     "name": "stdout",
     "output_type": "stream",
     "text": [
      "e is 0.5555555555555556\n",
      "f is 0.5555555555555555\n",
      "e is within 0.1% of f\n",
      "e not within 0.1% of f\n"
     ]
    }
   ],
   "source": [
    "tol = 1e-3 # tolerance is 0.1%\n",
    "e = 5/9\n",
    "f = (1/3)*5*(1/3)\n",
    "print('e is', e)\n",
    "print('f is', f)\n",
    "if '???' and '???':\n",
    "    print('e is within 0.1% of f')\n",
    "if '???' or '???':\n",
    "    print('e not within 0.1% of f')"
   ]
  },
  {
   "cell_type": "markdown",
   "metadata": {},
   "source": [
    "## Portfolio Assignment: Comparisons\n",
    "\n",
    "1. Edit the code below to print the statements only when they apply.\n",
    "\n",
    "2. Copy the code to a file `compare.py` and test it by running `python test_compare.py compare.py`.\n",
    "\n",
    "3. Submit your `compare.py` file to the week 2 portfolio assignment on Blackboard "
   ]
  },
  {
   "cell_type": "code",
   "execution_count": 122,
   "metadata": {},
   "outputs": [
    {
     "name": "stdout",
     "output_type": "stream",
     "text": [
      "0.7195767195767196 is greater than 1.5867768595041323\n",
      "0.7195767195767196 is less than than 1.5867768595041323\n",
      "0.7195767195767196 is equal to 1.5867768595041323\n",
      "0.7195767195767196 is within 0.1% of 1.5867768595041323\n"
     ]
    }
   ],
   "source": [
    "a = 13.6/18.9\n",
    "b = 19.2/12.1\n",
    "\n",
    "if '???':\n",
    "    print(a,'is greater than',b)\n",
    "if '???':\n",
    "    print(a,'is less than than',b)\n",
    "if '???':\n",
    "    print(a,'is equal to',b)\n",
    "if '???':\n",
    "    print(a,'is within 0.1% of',b)\n"
   ]
  },
  {
   "cell_type": "markdown",
   "metadata": {},
   "source": [
    "## Optional extra\n",
    "\n",
    "Complete the code below such that it tests if point `(x,y)` is within radius `R` of point `(u,v)`.  Try to do it without using a `sqrt` function.  (There is no need to submit this.)"
   ]
  },
  {
   "cell_type": "code",
   "execution_count": 123,
   "metadata": {},
   "outputs": [],
   "source": [
    "x = '???'\n",
    "y = '???'\n",
    "u = '???'\n",
    "v = '???'\n",
    "R = '???'\n"
   ]
  }
 ],
 "metadata": {
  "kernelspec": {
   "display_name": "Python 3",
   "language": "python",
   "name": "python3"
  },
  "language_info": {
   "codemirror_mode": {
    "name": "ipython",
    "version": 3
   },
   "file_extension": ".py",
   "mimetype": "text/x-python",
   "name": "python",
   "nbconvert_exporter": "python",
   "pygments_lexer": "ipython3",
   "version": "3.9.13"
  }
 },
 "nbformat": 4,
 "nbformat_minor": 2
}
