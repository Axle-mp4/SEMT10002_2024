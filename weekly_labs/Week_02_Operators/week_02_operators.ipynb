{
 "cells": [
  {
   "cell_type": "markdown",
   "metadata": {},
   "source": [
    "# Comparison Operators\n",
    "\n",
    "This week we will introduce operators for comparing values of variables, _e.g._ are two numbers the same?  Is one larger?\n",
    "\n",
    "## Recap\n",
    "\n",
    "From last week, you should recall that a programme is a list of _statements_ such as \"store _expression_ in this _variable_\" or \"print _expression_\" where _expression_ is something to be calculated from constants and variables.  _Variables_ can contain integers, real numbers or text (and many other things... coming up).  _Expressions_ can do things like add, multiply, divide and more.\n",
    "\n",
    "> Fool around with the examples below to remind yourself how this all works."
   ]
  },
  {
   "cell_type": "code",
   "execution_count": 30,
   "metadata": {},
   "outputs": [
    {
     "name": "stdout",
     "output_type": "stream",
     "text": [
      "a is 161.20000000000002\n",
      "s is Hello\n"
     ]
    }
   ],
   "source": [
    "a = 13*12.4\n",
    "print('a is', a)\n",
    "s = 'Hello'\n",
    "print('s is',s)"
   ]
  },
  {
   "cell_type": "markdown",
   "metadata": {},
   "source": [
    "> What's going on with `13*12.4`?  Is that the right answer?  Remember from Seminar 1?\n",
    "\n",
    "## Comparison Operators\n",
    "\n",
    "Comparisons allow us to detect relationships between two expressions.  For example, the expression `a<b` returns True if the value of `a` is strictly less than that of `b`, or False otherwise.  Here are some examples:"
   ]
  },
  {
   "cell_type": "code",
   "execution_count": 31,
   "metadata": {},
   "outputs": [
    {
     "name": "stdout",
     "output_type": "stream",
     "text": [
      "True\n"
     ]
    }
   ],
   "source": [
    "print(2 < 3)"
   ]
  },
  {
   "cell_type": "code",
   "execution_count": 32,
   "metadata": {},
   "outputs": [
    {
     "name": "stdout",
     "output_type": "stream",
     "text": [
      "False\n"
     ]
    }
   ],
   "source": [
    "print(3 < 2)"
   ]
  },
  {
   "cell_type": "markdown",
   "metadata": {},
   "source": [
    "Hopefully we don't need a computer to help us compare 2 and 3, but we can also do it with variables.\n",
    "\n",
    "> Change the values and check the answers. "
   ]
  },
  {
   "cell_type": "code",
   "execution_count": 33,
   "metadata": {},
   "outputs": [
    {
     "name": "stdout",
     "output_type": "stream",
     "text": [
      "True\n"
     ]
    }
   ],
   "source": [
    "u = 13.7\n",
    "v = 19.2\n",
    "print(u < v)"
   ]
  },
  {
   "cell_type": "markdown",
   "metadata": {},
   "source": [
    "More usefully, we can compare two expressions.  Let's see if _p_<sup>2</sup><3 _q_ ."
   ]
  },
  {
   "cell_type": "code",
   "execution_count": 34,
   "metadata": {},
   "outputs": [
    {
     "name": "stdout",
     "output_type": "stream",
     "text": [
      "True\n"
     ]
    }
   ],
   "source": [
    "p = 1.8\n",
    "q = 2.1\n",
    "print(p**2 < 3*q)"
   ]
  },
  {
   "cell_type": "markdown",
   "metadata": {},
   "source": [
    "> Use the cell below to store a number and then check if it is smaller than &radic;2, *without* calling the `sqrt` function."
   ]
  },
  {
   "cell_type": "code",
   "execution_count": 35,
   "metadata": {},
   "outputs": [
    {
     "name": "stdout",
     "output_type": "stream",
     "text": [
      "???\n"
     ]
    }
   ],
   "source": [
    "# edit code below\n",
    "a = '???'\n",
    "print('???')"
   ]
  },
  {
   "cell_type": "markdown",
   "metadata": {},
   "source": [
    "## More operators\n",
    "\n",
    "| Operator | Meaning | Example | Example result |\n",
    "| --- | --- | --- | --- |\n",
    "| < | Strictly less than | `a<b` | True if `a` less than `b` |\n",
    "| > | Strictly greater than | `a>b` | True if `a` greater than `b` |\n",
    "| <= | Less than or equal to | `a<=b` | True if `a` less than or equal to `b` |\n",
    "| >= | Strictly less than | `a>=b` | True if `a` greater than or equal to `b` |\n",
    "| == | Equals | `a==b` | True if `a` equal to `b` |\n",
    "| != | Not equal | `a!=b` | True if `a` not equal to `b` |\n",
    "| --- | --- | --- | --- |\n",
    "\n",
    "Here are some examples, this time just using integers.\n",
    "\n",
    "> Change the numbers and play around"
   ]
  },
  {
   "cell_type": "code",
   "execution_count": 36,
   "metadata": {},
   "outputs": [
    {
     "name": "stdout",
     "output_type": "stream",
     "text": [
      "False\n"
     ]
    }
   ],
   "source": [
    "print(3 < 3)"
   ]
  },
  {
   "cell_type": "code",
   "execution_count": 37,
   "metadata": {},
   "outputs": [
    {
     "name": "stdout",
     "output_type": "stream",
     "text": [
      "True\n"
     ]
    }
   ],
   "source": [
    "print(3 <= 3)"
   ]
  },
  {
   "cell_type": "code",
   "execution_count": 38,
   "metadata": {},
   "outputs": [
    {
     "name": "stdout",
     "output_type": "stream",
     "text": [
      "True\n"
     ]
    }
   ],
   "source": [
    "print(3 == 3)"
   ]
  },
  {
   "cell_type": "code",
   "execution_count": 39,
   "metadata": {},
   "outputs": [
    {
     "name": "stdout",
     "output_type": "stream",
     "text": [
      "False\n"
     ]
    }
   ],
   "source": [
    "print(3 != 3)"
   ]
  },
  {
   "cell_type": "markdown",
   "metadata": {},
   "source": [
    "## Comparisons and `if`\n",
    "\n",
    "Probably the most common use of these comparison operators is within an _`if` statement_.  In general:\n",
    "```python\n",
    "if (test expression):\n",
    "    # something that only gets done if the test expression returns True\n",
    "    # another thing that only happens if it's True\n",
    "# this expression happens anyway, True or False\n",
    "```\n",
    "This is your first sight of the famous python _indent_.  The block of code identified by being _indented_ is the bit that gets switched on or off by the `if`.  This will turn up over and over with different statements.  Let's try an example.\n",
    "\n",
    "> Play with the numbers and see what happens"
   ]
  },
  {
   "cell_type": "code",
   "execution_count": 42,
   "metadata": {},
   "outputs": [
    {
     "name": "stdout",
     "output_type": "stream",
     "text": [
      "a is 5\n",
      "b is 3\n",
      "a is greater than or equal to b\n",
      "Finished\n"
     ]
    }
   ],
   "source": [
    "a = 5\n",
    "b = 3\n",
    "print('a is',a)\n",
    "print('b is',b)\n",
    "if a>=b:\n",
    "    print('a is greater than or equal to b')\n",
    "if a<=b:\n",
    "    print('a is less than or equal to b')\n",
    "print('Finished')"
   ]
  },
  {
   "cell_type": "markdown",
   "metadata": {},
   "source": [
    "## Strings\n",
    "\n",
    "We haven't played with the equal and not equal operators.  Let's use the opportunity to also mess around with text, which we can compare with `==` and `!=`.\n",
    "\n",
    "> Change the text and see what happens."
   ]
  },
  {
   "cell_type": "code",
   "execution_count": null,
   "metadata": {},
   "outputs": [],
   "source": []
  },
  {
   "cell_type": "code",
   "execution_count": 43,
   "metadata": {},
   "outputs": [
    {
     "name": "stdout",
     "output_type": "stream",
     "text": [
      "Login failed\n"
     ]
    }
   ],
   "source": [
    "password = 'LionMug1986$'\n",
    "\n",
    "entered_text = 'LionMug1982%'\n",
    "\n",
    "if password == entered_text:\n",
    "    print('Login success')\n",
    "\n",
    "if password != entered_text:\n",
    "    print('Login failed')"
   ]
  },
  {
   "cell_type": "code",
   "execution_count": 51,
   "metadata": {},
   "outputs": [
    {
     "name": "stdout",
     "output_type": "stream",
     "text": [
      "e is 0.5555555555555556\n",
      "f is 0.5555555555555555\n",
      "e not equal to f\n"
     ]
    }
   ],
   "source": [
    "e = 5/9\n",
    "f = (1/3)*5*(1/3)\n",
    "print('e is', e)\n",
    "print('f is', f)\n",
    "if e == f:\n",
    "    print('e equals f')\n",
    "if e != f:\n",
    "    print('e not equal to f')"
   ]
  }
 ],
 "metadata": {
  "kernelspec": {
   "display_name": "Python 3",
   "language": "python",
   "name": "python3"
  },
  "language_info": {
   "codemirror_mode": {
    "name": "ipython",
    "version": 3
   },
   "file_extension": ".py",
   "mimetype": "text/x-python",
   "name": "python",
   "nbconvert_exporter": "python",
   "pygments_lexer": "ipython3",
   "version": "3.9.13"
  }
 },
 "nbformat": 4,
 "nbformat_minor": 2
}
