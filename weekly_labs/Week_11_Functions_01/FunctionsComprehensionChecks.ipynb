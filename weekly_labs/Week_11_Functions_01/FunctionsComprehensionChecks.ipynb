{
 "cells": [
  {
   "cell_type": "markdown",
   "id": "1ccc7c0e-b3aa-49e6-89a4-e800471a2726",
   "metadata": {},
   "source": [
    "The following code snippets are for you to check your understanding of the pre-watch lecture material. For each block of code, first *predict* what the output will be. Note that outputs may include errors or no output. Then run the code and compare your prediction to the output. If they don't match, you can:\n",
    "\n",
    "- Play around with the code to get a better idea of what's happening.\n",
    "- Review the pre-watch videos.\n",
    "- Read the written content in the lab sheet.\n",
    "- Ask someone else in your group.\n",
    "- Ask your TA.\n",
    "\n",
    "## Function Comprehrension Checks"
   ]
  },
  {
   "cell_type": "code",
   "execution_count": 53,
   "id": "0f5a6a73-3032-49c6-adac-8374db60bfdc",
   "metadata": {},
   "outputs": [],
   "source": [
    "def print_with_exclamations(message):\n",
    "    message = message.upper()\n",
    "    print(message + \"!!!\")"
   ]
  },
  {
   "cell_type": "code",
   "execution_count": 54,
   "id": "231370f2-bc73-49a3-b970-a5d1ea873145",
   "metadata": {},
   "outputs": [
    {
     "name": "stdout",
     "output_type": "stream",
     "text": [
      "HELLO!!!\n"
     ]
    }
   ],
   "source": [
    "def print_with_exclamations(message):\n",
    "    message = message.upper()\n",
    "    print(message + \"!!!\")\n",
    "\n",
    "print_with_exclamations(\"Hello\")"
   ]
  },
  {
   "cell_type": "code",
   "execution_count": 80,
   "id": "669357cb-490e-4788-bd62-4c0e6d6c59ff",
   "metadata": {},
   "outputs": [
    {
     "ename": "IndentationError",
     "evalue": "expected an indented block (1537734568.py, line 2)",
     "output_type": "error",
     "traceback": [
      "\u001b[0;36m  Input \u001b[0;32mIn [80]\u001b[0;36m\u001b[0m\n\u001b[0;31m    message = message.upper()\u001b[0m\n\u001b[0m    ^\u001b[0m\n\u001b[0;31mIndentationError\u001b[0m\u001b[0;31m:\u001b[0m expected an indented block\n"
     ]
    }
   ],
   "source": [
    "def print_with_exclamations(message):\n",
    "message = message.upper()\n",
    "print(message + \"!!!\")\n",
    "\n",
    "print_with_exclamations(\"Hello\")"
   ]
  },
  {
   "cell_type": "code",
   "execution_count": 55,
   "id": "29246647-590d-42ab-8a7c-3c3d0512604f",
   "metadata": {},
   "outputs": [
    {
     "name": "stdout",
     "output_type": "stream",
     "text": [
      "hello!!!\n"
     ]
    }
   ],
   "source": [
    "def print_with_exclamations(message):\n",
    "    message = message.upper()\n",
    "print(message + \"!!!\")\n",
    "\n",
    "print_with_exclamations(\"Hello\")"
   ]
  },
  {
   "cell_type": "code",
   "execution_count": 56,
   "id": "e3a0f20a-e4b7-4976-9bbd-ea4e0ab1d141",
   "metadata": {},
   "outputs": [
    {
     "ename": "AttributeError",
     "evalue": "'int' object has no attribute 'upper'",
     "output_type": "error",
     "traceback": [
      "\u001b[0;31m---------------------------------------------------------------------------\u001b[0m",
      "\u001b[0;31mAttributeError\u001b[0m                            Traceback (most recent call last)",
      "Input \u001b[0;32mIn [56]\u001b[0m, in \u001b[0;36m<cell line: 5>\u001b[0;34m()\u001b[0m\n\u001b[1;32m      2\u001b[0m     message \u001b[38;5;241m=\u001b[39m message\u001b[38;5;241m.\u001b[39mupper()\n\u001b[1;32m      3\u001b[0m     \u001b[38;5;28mprint\u001b[39m(message \u001b[38;5;241m+\u001b[39m \u001b[38;5;124m\"\u001b[39m\u001b[38;5;124m!!!\u001b[39m\u001b[38;5;124m\"\u001b[39m)\n\u001b[0;32m----> 5\u001b[0m \u001b[43mprint_with_exclamations\u001b[49m\u001b[43m(\u001b[49m\u001b[38;5;241;43m5\u001b[39;49m\u001b[43m)\u001b[49m\n",
      "Input \u001b[0;32mIn [56]\u001b[0m, in \u001b[0;36mprint_with_exclamations\u001b[0;34m(message)\u001b[0m\n\u001b[1;32m      1\u001b[0m \u001b[38;5;28;01mdef\u001b[39;00m \u001b[38;5;21mprint_with_exclamations\u001b[39m(message):\n\u001b[0;32m----> 2\u001b[0m     message \u001b[38;5;241m=\u001b[39m \u001b[43mmessage\u001b[49m\u001b[38;5;241;43m.\u001b[39;49m\u001b[43mupper\u001b[49m()\n\u001b[1;32m      3\u001b[0m     \u001b[38;5;28mprint\u001b[39m(message \u001b[38;5;241m+\u001b[39m \u001b[38;5;124m\"\u001b[39m\u001b[38;5;124m!!!\u001b[39m\u001b[38;5;124m\"\u001b[39m)\n",
      "\u001b[0;31mAttributeError\u001b[0m: 'int' object has no attribute 'upper'"
     ]
    }
   ],
   "source": [
    "def print_with_exclamations(message):\n",
    "    message = message.upper()\n",
    "    print(message + \"!!!\")\n",
    "\n",
    "print_with_exclamations(5)"
   ]
  },
  {
   "cell_type": "code",
   "execution_count": 57,
   "id": "51d522b6-35f0-4374-94f3-33d56cb50e05",
   "metadata": {},
   "outputs": [
    {
     "ename": "TypeError",
     "evalue": "print_with_exclamations() missing 1 required positional argument: 'message'",
     "output_type": "error",
     "traceback": [
      "\u001b[0;31m---------------------------------------------------------------------------\u001b[0m",
      "\u001b[0;31mTypeError\u001b[0m                                 Traceback (most recent call last)",
      "Input \u001b[0;32mIn [57]\u001b[0m, in \u001b[0;36m<cell line: 5>\u001b[0;34m()\u001b[0m\n\u001b[1;32m      2\u001b[0m     message \u001b[38;5;241m=\u001b[39m message\u001b[38;5;241m.\u001b[39mupper()\n\u001b[1;32m      3\u001b[0m     \u001b[38;5;28mprint\u001b[39m(message \u001b[38;5;241m+\u001b[39m \u001b[38;5;124m\"\u001b[39m\u001b[38;5;124m!!!\u001b[39m\u001b[38;5;124m\"\u001b[39m)\n\u001b[0;32m----> 5\u001b[0m \u001b[43mprint_with_exclamations\u001b[49m\u001b[43m(\u001b[49m\u001b[43m)\u001b[49m\n",
      "\u001b[0;31mTypeError\u001b[0m: print_with_exclamations() missing 1 required positional argument: 'message'"
     ]
    }
   ],
   "source": [
    "def print_with_exclamations(message):\n",
    "    message = message.upper()\n",
    "    print(message + \"!!!\")\n",
    "\n",
    "print_with_exclamations()"
   ]
  },
  {
   "cell_type": "code",
   "execution_count": 58,
   "id": "4a8f3633-a741-43d4-ac40-03bd075a8323",
   "metadata": {},
   "outputs": [
    {
     "name": "stdout",
     "output_type": "stream",
     "text": [
      "HI!!!\n"
     ]
    }
   ],
   "source": [
    "def print_with_exclamations(message=\"Hello\"):\n",
    "    message = message.upper()\n",
    "    print(message + \"!!!\")\n",
    "\n",
    "print_with_exclamations(\"Hi\")"
   ]
  },
  {
   "cell_type": "code",
   "execution_count": 59,
   "id": "ca99b610-5c6a-48a0-9283-7f00f14a2580",
   "metadata": {},
   "outputs": [
    {
     "name": "stdout",
     "output_type": "stream",
     "text": [
      "HELLO!!!\n"
     ]
    }
   ],
   "source": [
    "def print_with_exclamations(message=\"Hello\"):\n",
    "    message = message.upper()\n",
    "    print(message + \"!!!\")\n",
    "\n",
    "print_with_exclamations()"
   ]
  },
  {
   "cell_type": "code",
   "execution_count": 60,
   "id": "8459ace6-4251-403f-9703-ebb83393eae5",
   "metadata": {},
   "outputs": [
    {
     "name": "stdout",
     "output_type": "stream",
     "text": [
      "HI!!\n"
     ]
    }
   ],
   "source": [
    "def print_with_exclamations(message, number):\n",
    "    message = message.upper()\n",
    "    for i in range(number):\n",
    "        message += \"!\"\n",
    "\n",
    "    print(message)\n",
    "    \n",
    "print_with_exclamations(\"Hi\", 2)"
   ]
  },
  {
   "cell_type": "code",
   "execution_count": 61,
   "id": "251b3533-8aa5-4705-81c2-c4a5dd8d5aac",
   "metadata": {},
   "outputs": [
    {
     "data": {
      "text/plain": [
       "-10"
      ]
     },
     "execution_count": 61,
     "metadata": {},
     "output_type": "execute_result"
    }
   ],
   "source": [
    "def calculate_numbers(a, b, c=1, d=4):\n",
    "    return (a*b)-(c*d)\n",
    "\n",
    "calculate_numbers(1, 2, 3, 4)"
   ]
  },
  {
   "cell_type": "code",
   "execution_count": 62,
   "id": "b3f72ec7-6d86-4f33-8e2e-d9d8f01d6ca3",
   "metadata": {},
   "outputs": [
    {
     "ename": "SyntaxError",
     "evalue": "non-default argument follows default argument (3349987589.py, line 1)",
     "output_type": "error",
     "traceback": [
      "\u001b[0;36m  Input \u001b[0;32mIn [62]\u001b[0;36m\u001b[0m\n\u001b[0;31m    def calculate_numbers(a, b, c=1, d):\u001b[0m\n\u001b[0m                                      ^\u001b[0m\n\u001b[0;31mSyntaxError\u001b[0m\u001b[0;31m:\u001b[0m non-default argument follows default argument\n"
     ]
    }
   ],
   "source": [
    "def calculate_numbers(a, b, c=1, d):\n",
    "    return (a*b)-(c*d)\n",
    "\n",
    "calculate_numbers(1, 2, 3, 4)"
   ]
  },
  {
   "cell_type": "code",
   "execution_count": 63,
   "id": "68956ce8-4ede-4efc-b507-8c7a472f8693",
   "metadata": {},
   "outputs": [
    {
     "data": {
      "text/plain": [
       "-10"
      ]
     },
     "execution_count": 63,
     "metadata": {},
     "output_type": "execute_result"
    }
   ],
   "source": [
    "def calculate_numbers(a, b, c=1, d=4):\n",
    "    return (a*b)-(c*d)\n",
    "\n",
    "calculate_numbers(1, 2, 3)"
   ]
  },
  {
   "cell_type": "code",
   "execution_count": 64,
   "id": "92cee185-d2d8-4419-8a1e-14f7b49539e5",
   "metadata": {},
   "outputs": [
    {
     "data": {
      "text/plain": [
       "-2"
      ]
     },
     "execution_count": 64,
     "metadata": {},
     "output_type": "execute_result"
    }
   ],
   "source": [
    "def calculate_numbers(a, b, c=1, d=4):\n",
    "    return (a*b)-(c*d)\n",
    "\n",
    "calculate_numbers(1, 2)"
   ]
  },
  {
   "cell_type": "code",
   "execution_count": 65,
   "id": "cf30005e-a9c0-4b9b-9485-6930141c5dad",
   "metadata": {},
   "outputs": [
    {
     "ename": "TypeError",
     "evalue": "calculate_numbers() missing 1 required positional argument: 'b'",
     "output_type": "error",
     "traceback": [
      "\u001b[0;31m---------------------------------------------------------------------------\u001b[0m",
      "\u001b[0;31mTypeError\u001b[0m                                 Traceback (most recent call last)",
      "Input \u001b[0;32mIn [65]\u001b[0m, in \u001b[0;36m<cell line: 4>\u001b[0;34m()\u001b[0m\n\u001b[1;32m      1\u001b[0m \u001b[38;5;28;01mdef\u001b[39;00m \u001b[38;5;21mcalculate_numbers\u001b[39m(a, b, c\u001b[38;5;241m=\u001b[39m\u001b[38;5;241m1\u001b[39m, d\u001b[38;5;241m=\u001b[39m\u001b[38;5;241m4\u001b[39m):\n\u001b[1;32m      2\u001b[0m     \u001b[38;5;28;01mreturn\u001b[39;00m (a\u001b[38;5;241m*\u001b[39mb)\u001b[38;5;241m-\u001b[39m(c\u001b[38;5;241m*\u001b[39md)\n\u001b[0;32m----> 4\u001b[0m \u001b[43mcalculate_numbers\u001b[49m\u001b[43m(\u001b[49m\u001b[38;5;241;43m1\u001b[39;49m\u001b[43m)\u001b[49m\n",
      "\u001b[0;31mTypeError\u001b[0m: calculate_numbers() missing 1 required positional argument: 'b'"
     ]
    }
   ],
   "source": [
    "def calculate_numbers(a, b, c=1, d=4):\n",
    "    return (a*b)-(c*d)\n",
    "\n",
    "calculate_numbers(1)"
   ]
  },
  {
   "cell_type": "code",
   "execution_count": 66,
   "id": "dae4810a-f5aa-405c-b49b-94845efa35d8",
   "metadata": {},
   "outputs": [
    {
     "data": {
      "text/plain": [
       "-1"
      ]
     },
     "execution_count": 66,
     "metadata": {},
     "output_type": "execute_result"
    }
   ],
   "source": [
    "def calculate_numbers(a, b, c=1, d=4):\n",
    "    return (a*b)-(c*d)\n",
    "\n",
    "calculate_numbers(a=3, b=1)"
   ]
  },
  {
   "cell_type": "code",
   "execution_count": 67,
   "id": "028b1bb2-f5da-4717-a7de-a34b0017e8b1",
   "metadata": {},
   "outputs": [
    {
     "data": {
      "text/plain": [
       "12"
      ]
     },
     "execution_count": 67,
     "metadata": {},
     "output_type": "execute_result"
    }
   ],
   "source": [
    "def calculate_numbers(a, b, c=1, d=4):\n",
    "    return a*b*c*d\n",
    "\n",
    "calculate_numbers(b=3, a=1)"
   ]
  },
  {
   "cell_type": "code",
   "execution_count": 68,
   "id": "a89c5f4b-5e82-4eaa-9823-646bde5f1773",
   "metadata": {},
   "outputs": [
    {
     "name": "stdout",
     "output_type": "stream",
     "text": [
      "12\n"
     ]
    }
   ],
   "source": [
    "def calculate_numbers(a, b, c=1, d=4):\n",
    "    return a*b, c*d, (a*b)-(c*d)\n",
    "\n",
    "print(calculate_numbers(1, 2, 3, 4)[1])"
   ]
  },
  {
   "cell_type": "code",
   "execution_count": 69,
   "id": "2fec6501-26ca-43c9-ae83-34cb7127af2c",
   "metadata": {},
   "outputs": [
    {
     "name": "stdout",
     "output_type": "stream",
     "text": [
      "1.0\n"
     ]
    }
   ],
   "source": [
    "def calculate_numbers(a, b, c=1, d=4):\n",
    "    return a*b, c*d, (a*b)-(c*d)\n",
    "    \n",
    "ans1, ans2, diff = calculate_numbers(1, 2, 3, 4)\n",
    "print((ans1-ans2) / diff)"
   ]
  },
  {
   "cell_type": "code",
   "execution_count": 70,
   "id": "4615b73a-3935-474b-8d5e-4abb3e96e700",
   "metadata": {},
   "outputs": [
    {
     "name": "stdout",
     "output_type": "stream",
     "text": [
      "hello\n"
     ]
    }
   ],
   "source": [
    "message = \"hello\"\n",
    "\n",
    "def capitalise_message(message):\n",
    "    \n",
    "    new_message = message[0].upper()\n",
    "    for letter in message[1:]:\n",
    "        new_message += letter\n",
    "    return message\n",
    "\n",
    "print(capitalise_message(message))"
   ]
  },
  {
   "cell_type": "code",
   "execution_count": 71,
   "id": "010f43dd-ac41-45ce-81f9-e811756162c0",
   "metadata": {},
   "outputs": [
    {
     "name": "stdout",
     "output_type": "stream",
     "text": [
      "Hello\n"
     ]
    }
   ],
   "source": [
    "message = \"hello\"\n",
    "\n",
    "def capitalise_message(message):\n",
    "    \n",
    "    new_message = message[0].upper()\n",
    "    for letter in message[1:]:\n",
    "        new_message += letter\n",
    "    return new_message\n",
    "\n",
    "print(capitalise_message(message))"
   ]
  },
  {
   "cell_type": "code",
   "execution_count": 72,
   "id": "6c9f83e6-2840-46e0-8644-b25b67d663c9",
   "metadata": {},
   "outputs": [
    {
     "ename": "NameError",
     "evalue": "name 'new_message' is not defined",
     "output_type": "error",
     "traceback": [
      "\u001b[0;31m---------------------------------------------------------------------------\u001b[0m",
      "\u001b[0;31mNameError\u001b[0m                                 Traceback (most recent call last)",
      "Input \u001b[0;32mIn [72]\u001b[0m, in \u001b[0;36m<cell line: 11>\u001b[0;34m()\u001b[0m\n\u001b[1;32m      8\u001b[0m     \u001b[38;5;28;01mreturn\u001b[39;00m new_message\n\u001b[1;32m     10\u001b[0m capitalise_message(message)\n\u001b[0;32m---> 11\u001b[0m \u001b[38;5;28mprint\u001b[39m(\u001b[43mnew_message\u001b[49m)\n",
      "\u001b[0;31mNameError\u001b[0m: name 'new_message' is not defined"
     ]
    }
   ],
   "source": [
    "message = \"hello\"\n",
    "\n",
    "def capitalise_message(message):\n",
    "    \n",
    "    new_message = message[0].upper()\n",
    "    for letter in message[1:]:\n",
    "        new_message += letter\n",
    "    return new_message\n",
    "\n",
    "capitalise_message(message)\n",
    "print(new_message)"
   ]
  },
  {
   "cell_type": "code",
   "execution_count": 73,
   "id": "150f5d93-b65b-41c8-8f25-c452f3c18592",
   "metadata": {},
   "outputs": [
    {
     "name": "stdout",
     "output_type": "stream",
     "text": [
      "5\n"
     ]
    }
   ],
   "source": [
    "def negate_number(number):\n",
    "    print(x)\n",
    "    return -number\n",
    "\n",
    "x = 5\n",
    "result = negate_number(10)"
   ]
  },
  {
   "cell_type": "code",
   "execution_count": 74,
   "id": "3254375d-2e02-485d-afc6-70ee1a162aa0",
   "metadata": {},
   "outputs": [
    {
     "name": "stdout",
     "output_type": "stream",
     "text": [
      "6\n"
     ]
    }
   ],
   "source": [
    "def negate_number(number):\n",
    "    print(y)\n",
    "    return -number\n",
    "\n",
    "result = negate_number(10)\n",
    "y = 5"
   ]
  },
  {
   "cell_type": "code",
   "execution_count": 75,
   "id": "c502ea47-f056-45f2-80ed-bc70ec45154f",
   "metadata": {},
   "outputs": [
    {
     "ename": "UnboundLocalError",
     "evalue": "local variable 'y' referenced before assignment",
     "output_type": "error",
     "traceback": [
      "\u001b[0;31m---------------------------------------------------------------------------\u001b[0m",
      "\u001b[0;31mUnboundLocalError\u001b[0m                         Traceback (most recent call last)",
      "Input \u001b[0;32mIn [75]\u001b[0m, in \u001b[0;36m<cell line: 7>\u001b[0;34m()\u001b[0m\n\u001b[1;32m      4\u001b[0m     \u001b[38;5;28;01mreturn\u001b[39;00m \u001b[38;5;241m-\u001b[39mnumber\n\u001b[1;32m      6\u001b[0m y \u001b[38;5;241m=\u001b[39m \u001b[38;5;241m5\u001b[39m\n\u001b[0;32m----> 7\u001b[0m result \u001b[38;5;241m=\u001b[39m \u001b[43mnegate_number\u001b[49m\u001b[43m(\u001b[49m\u001b[38;5;241;43m10\u001b[39;49m\u001b[43m)\u001b[49m\n",
      "Input \u001b[0;32mIn [75]\u001b[0m, in \u001b[0;36mnegate_number\u001b[0;34m(number)\u001b[0m\n\u001b[1;32m      1\u001b[0m \u001b[38;5;28;01mdef\u001b[39;00m \u001b[38;5;21mnegate_number\u001b[39m(number):\n\u001b[0;32m----> 2\u001b[0m     y \u001b[38;5;241m+\u001b[39m\u001b[38;5;241m=\u001b[39m \u001b[38;5;241m1\u001b[39m\n\u001b[1;32m      3\u001b[0m     \u001b[38;5;28mprint\u001b[39m(y)\n\u001b[1;32m      4\u001b[0m     \u001b[38;5;28;01mreturn\u001b[39;00m \u001b[38;5;241m-\u001b[39mnumber\n",
      "\u001b[0;31mUnboundLocalError\u001b[0m: local variable 'y' referenced before assignment"
     ]
    }
   ],
   "source": [
    "def negate_number(number):\n",
    "    y += 1\n",
    "    print(y)\n",
    "    return -number\n",
    "\n",
    "y = 5\n",
    "result = negate_number(10)\n"
   ]
  },
  {
   "cell_type": "code",
   "execution_count": 76,
   "id": "434ba9e6-54a9-46b7-bfc3-41e9274b6575",
   "metadata": {},
   "outputs": [
    {
     "name": "stdout",
     "output_type": "stream",
     "text": [
      "6\n"
     ]
    }
   ],
   "source": [
    "def negate_number(number):\n",
    "    global y\n",
    "    y += 1\n",
    "    print(y)\n",
    "    return -number\n",
    "\n",
    "y = 5\n",
    "result = negate_number(10)"
   ]
  },
  {
   "cell_type": "code",
   "execution_count": 77,
   "id": "ad777da1-9990-4c10-acfc-ff65f1950eac",
   "metadata": {},
   "outputs": [
    {
     "name": "stdout",
     "output_type": "stream",
     "text": [
      "5\n"
     ]
    }
   ],
   "source": [
    "max_number = 10\n",
    "\n",
    "def find_max_number(list_of_numbers):\n",
    "    max_number = 0\n",
    "    for number in list_of_numbers:\n",
    "        if number > max_number:\n",
    "            max_number = number\n",
    "\n",
    "    return max_number\n",
    "\n",
    "list_of_numbers = [1, 3, 5, 6, 10]\n",
    "max_number = find_max_number([1, 3, 5])\n",
    "print(max_number)"
   ]
  },
  {
   "cell_type": "code",
   "execution_count": 78,
   "id": "1acaca84-663f-4b84-96c5-8a3afbabca6f",
   "metadata": {},
   "outputs": [
    {
     "ename": "UnboundLocalError",
     "evalue": "local variable 'max_number' referenced before assignment",
     "output_type": "error",
     "traceback": [
      "\u001b[0;31m---------------------------------------------------------------------------\u001b[0m",
      "\u001b[0;31mUnboundLocalError\u001b[0m                         Traceback (most recent call last)",
      "Input \u001b[0;32mIn [78]\u001b[0m, in \u001b[0;36m<cell line: 13>\u001b[0;34m()\u001b[0m\n\u001b[1;32m     10\u001b[0m     \u001b[38;5;28;01mreturn\u001b[39;00m max_number\n\u001b[1;32m     12\u001b[0m list_of_numbers \u001b[38;5;241m=\u001b[39m [\u001b[38;5;241m1\u001b[39m, \u001b[38;5;241m3\u001b[39m, \u001b[38;5;241m5\u001b[39m, \u001b[38;5;241m6\u001b[39m, \u001b[38;5;241m10\u001b[39m]\n\u001b[0;32m---> 13\u001b[0m max_number \u001b[38;5;241m=\u001b[39m \u001b[43mfind_max_number\u001b[49m\u001b[43m(\u001b[49m\u001b[43m[\u001b[49m\u001b[38;5;241;43m1\u001b[39;49m\u001b[43m,\u001b[49m\u001b[43m \u001b[49m\u001b[38;5;241;43m3\u001b[39;49m\u001b[43m,\u001b[49m\u001b[43m \u001b[49m\u001b[38;5;241;43m5\u001b[39;49m\u001b[43m]\u001b[49m\u001b[43m)\u001b[49m\n\u001b[1;32m     14\u001b[0m \u001b[38;5;28mprint\u001b[39m(max_number)\n",
      "Input \u001b[0;32mIn [78]\u001b[0m, in \u001b[0;36mfind_max_number\u001b[0;34m(list_of_numbers)\u001b[0m\n\u001b[1;32m      3\u001b[0m \u001b[38;5;28;01mdef\u001b[39;00m \u001b[38;5;21mfind_max_number\u001b[39m(list_of_numbers):\n\u001b[0;32m----> 4\u001b[0m     \u001b[38;5;28mprint\u001b[39m(\u001b[43mmax_number\u001b[49m)\n\u001b[1;32m      5\u001b[0m     max_number \u001b[38;5;241m=\u001b[39m \u001b[38;5;241m5\u001b[39m\n\u001b[1;32m      6\u001b[0m     \u001b[38;5;28;01mfor\u001b[39;00m number \u001b[38;5;129;01min\u001b[39;00m list_of_numbers:\n",
      "\u001b[0;31mUnboundLocalError\u001b[0m: local variable 'max_number' referenced before assignment"
     ]
    }
   ],
   "source": [
    "max_number = 10\n",
    "\n",
    "def find_max_number(list_of_numbers):\n",
    "    print(max_number)\n",
    "    max_number = 5\n",
    "    for number in list_of_numbers:\n",
    "        if number > max_number:\n",
    "            max_number = number\n",
    "\n",
    "    return max_number\n",
    "\n",
    "list_of_numbers = [1, 3, 5, 6, 10]\n",
    "max_number = find_max_number([1, 3, 5])\n",
    "print(max_number)"
   ]
  },
  {
   "cell_type": "code",
   "execution_count": 79,
   "id": "665d756f-96e3-445a-a86e-a0e048e61b79",
   "metadata": {},
   "outputs": [
    {
     "name": "stdout",
     "output_type": "stream",
     "text": [
      "10\n",
      "5\n"
     ]
    }
   ],
   "source": [
    "min_number = 10\n",
    "\n",
    "def find_max_number(list_of_numbers):\n",
    "    print(min_number)\n",
    "    max_number = 5\n",
    "    for number in list_of_numbers:\n",
    "        if number > max_number:\n",
    "            max_number = number\n",
    "\n",
    "    return max_number\n",
    "\n",
    "list_of_numbers = [1, 3, 5, 6, 10]\n",
    "max_number = find_max_number([1, 3, 5])\n",
    "print(max_number)"
   ]
  }
 ],
 "metadata": {
  "kernelspec": {
   "display_name": "Python 3 (ipykernel)",
   "language": "python",
   "name": "python3"
  },
  "language_info": {
   "codemirror_mode": {
    "name": "ipython",
    "version": 3
   },
   "file_extension": ".py",
   "mimetype": "text/x-python",
   "name": "python",
   "nbconvert_exporter": "python",
   "pygments_lexer": "ipython3",
   "version": "3.9.10"
  }
 },
 "nbformat": 4,
 "nbformat_minor": 5
}
