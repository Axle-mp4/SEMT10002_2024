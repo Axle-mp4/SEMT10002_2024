{
 "cells": [
  {
   "cell_type": "markdown",
   "id": "23bc864e",
   "metadata": {
    "slideshow": {
     "slide_type": "slide"
    }
   },
   "source": [
    "# Introduction to Computer Programming\n",
    "\n",
    "## Libraries you should know\n",
    "\n",
    "\n",
    "<img src=\"https://github.com/engmaths/EMAT10007_2023/blob/main/weekly_content/img/full-colour-logo-UoB.png?raw=true\" width=\"20%\">\n",
    "</p>\n"
   ]
  },
  {
   "cell_type": "markdown",
   "id": "dfd31d22",
   "metadata": {
    "slideshow": {
     "slide_type": "slide"
    }
   },
   "source": [
    "# Ada Lovelace Day \n",
    "\n",
    "Today is Ada Lovelace Day!\n",
    "\n",
    "  \n",
    "\n",
    "\n",
    "<img src=\"https://github.com/engmaths/EMAT10007_2023/blob/main/weekly_content/img/lovelace.png?raw=true\" width=\"20%\">\n",
    "</p>\n",
    "\n"
   ]
  },
  {
   "cell_type": "markdown",
   "id": "125e7053",
   "metadata": {
    "slideshow": {
     "slide_type": "fragment"
    }
   },
   "source": [
    "Ada Lovelace (1815-1852) was mathematician known for her work on a conceptual computer, the Analytical Engine,  proposed by another mathematician Charles Babbage. \n",
    "\n",
    "While never actually built, Babbage's concept for a general-purpose computer is widely regarded as the first of its kind."
   ]
  },
  {
   "cell_type": "markdown",
   "id": "d8c6891a",
   "metadata": {
    "slideshow": {
     "slide_type": "fragment"
    }
   },
   "source": [
    "\n",
    "Ada Lovelace is celebrated as one of the first 'computer programmers', having developed algorithms to automate complex mathematical processes, even before the machines to run these programs had been invented. "
   ]
  },
  {
   "cell_type": "markdown",
   "id": "7a2e55e5",
   "metadata": {
    "slideshow": {
     "slide_type": "slide"
    }
   },
   "source": [
    "Ada Lovelace's paper, *Note G on the Analytical Engine* (1842) describes an algorithm for generating **Bernoulli numbers** using Babbage's machine.\n",
    "\n",
    "Bernoulli numbers are a sequence of rational numbers which can be used, for example, to compute the sum of the m-th powers of the first n positive integers $$1^m + 2^m + 3^m + ... + n^m$$\n",
    "<br>(see link to Faulhaber's formula on final slide)"
   ]
  },
  {
   "cell_type": "markdown",
   "id": "4fd256e8",
   "metadata": {
    "slideshow": {
     "slide_type": "slide"
    }
   },
   "source": [
    "The sequence of Bernoulli numbers can be generated using the formula: $$B_n = - \\sum_{k=0}^{n-1} \\frac{n!}{(n+1-k)!k!} B_k$$\n",
    "\n",
    "where $n$ factorial, $n!$, is the product of a positive integer, $n$ with all positive integers below it:<br>\n",
    "$n! = n \\times (n-1) \\times ... \\times 1$\n",
    "\n",
    "To compute the $n$th Bernoulli number you need to know the previous $n-1$ Bernoulli numbers.\n",
    "\n"
   ]
  },
  {
   "cell_type": "markdown",
   "id": "025b1606",
   "metadata": {
    "slideshow": {
     "slide_type": "fragment"
    }
   },
   "source": [
    " \n",
    "\n",
    "The first 10 values in the sequence are: \n",
    "\n",
    "| $n$| 0| 1 | 2 | 3 | 4 | 5 | 6| 7 | 8 | 9 | 10 |\n",
    "| :---:| :---:| :---:|:---:|:---:|:---:|:---:|:---:|:---:|:---:|:---:|:---:|\n",
    "| $B_n$| 1| -1/2 | 1/6 | 0 | -1/30 | 0 | 1/42 | 0 | -1/30 | 0 |5/66|\n",
    "|\n",
    "\n",
    "<br>(From $n=3$ odd terms are 0 and all even terms alternate in sign)"
   ]
  },
  {
   "cell_type": "markdown",
   "id": "668f3bd9",
   "metadata": {
    "slideshow": {
     "slide_type": "slide"
    }
   },
   "source": [
    "Functions that require previous values to compute the current value (e.g. Fibonacci series, Bernoulli numbers) are known as *recursive functions* (we will study these later on the unit). \n",
    "\n",
    "The need for previous values makes the $n$th value increasingly time consuming to compute by hand as $n$ gets larger."
   ]
  },
  {
   "cell_type": "markdown",
   "id": "fd83fbe2",
   "metadata": {
    "slideshow": {
     "slide_type": "slide"
    }
   },
   "source": [
    "$$B_n = - \\sum_{k=0}^{n-1} \\frac{n!}{(n+1-k)!k!} B_k$$\n",
    "\n",
    "\n",
    "This implementation is similar to Lovelace's program.\n",
    "\n",
    "It uses (almost!) only the techniques you have studied so far:"
   ]
  },
  {
   "cell_type": "code",
   "execution_count": 44,
   "id": "03da5b74",
   "metadata": {},
   "outputs": [
    {
     "name": "stdout",
     "output_type": "stream",
     "text": [
      "[1, -0.5, 0.16666666666666669, 0, -0.03333333333333338, 0, 0.023809523809524058, 0, -0.033333333333335075, 0, 0.07575757575759257]\n"
     ]
    }
   ],
   "source": [
    "# Import a function to compute factorial \n",
    "from math import factorial \n",
    "\n",
    "# Nth Bernoulli number to calculate\n",
    "N = 10\n",
    "\n",
    "# Sequence to store Bernoulli numbers\n",
    "B = [1]\n",
    "\n",
    "# Loop though each preceding value of N\n",
    "for n in range(1, N+1):\n",
    "    \n",
    "    # Initial value for Bernoulli number\n",
    "    b = 0\n",
    "\n",
    "    # Loop though each value of k to find the sum\n",
    "    for k in range(0, n):\n",
    "        b += factorial(n) / (factorial(n+1-k) * factorial(k)) * B[k]\n",
    "\n",
    "    # Multiply the result by minus 1\n",
    "    b *= -1\n",
    "\n",
    "    # If number is very small, let number = 0 (floating point error) \n",
    "    if abs(b) < 1e-14: \n",
    "        b = 0\n",
    "        \n",
    "    # Add computed Bernoulli number to sequence\n",
    "    B.insert(n, b)\n",
    "\n",
    "# Print sequence\n",
    "print(B)\n"
   ]
  },
  {
   "cell_type": "markdown",
   "id": "7bbdccb7",
   "metadata": {
    "slideshow": {
     "slide_type": "slide"
    }
   },
   "source": [
    "The program contained some of the first demonstrations of variable reassignment and control structures (in the form of nested loops). \n",
    "\n",
    "\n"
   ]
  },
  {
   "cell_type": "markdown",
   "id": "331fa2f1",
   "metadata": {
    "slideshow": {
     "slide_type": "slide"
    }
   },
   "source": [
    "The factorial of $n$:\n",
    "<br>$n! = n \\times (n-1) \\times ... \\times 1$ \n",
    "<br>can also be calculated with a `for` loop:"
   ]
  },
  {
   "cell_type": "code",
   "execution_count": 5,
   "id": "daeb21b6",
   "metadata": {},
   "outputs": [
    {
     "name": "stdout",
     "output_type": "stream",
     "text": [
      "6\n"
     ]
    }
   ],
   "source": [
    "N = 3\n",
    "\n",
    "factorial = 1\n",
    "for i in range(1, N+1):\n",
    "    factorial*=i\n",
    "    \n",
    "print(factorial)"
   ]
  },
  {
   "cell_type": "markdown",
   "id": "e643ca85",
   "metadata": {
    "slideshow": {
     "slide_type": "slide"
    }
   },
   "source": [
    "### Want to learn more about Ada Lovelace's work?\n",
    "https://projectlovelace.net/problems/ada-lovelaces-note-g/#:~:text=Derivation%20of%20Ada%20Lovelace's%20algorithm&text=The%20Bernoulli%20numbers%20B%20n,use%20to%20program%20a%20computer\n",
    "\n",
    "https://twobithistory.org/2018/08/18/ada-lovelace-note-g.html\n",
    "\n",
    "**Bernoulli  numbers**\n",
    "<br>https://en.wikipedia.org/wiki/Bernoulli_number\n",
    "\n",
    "**Faulhaber's formula**\n",
    "<br>https://en.wikipedia.org/wiki/Faulhaber%27s_formula"
   ]
  },
  {
   "cell_type": "code",
   "execution_count": null,
   "id": "20fa2d7e",
   "metadata": {},
   "outputs": [],
   "source": []
  }
 ],
 "metadata": {
  "celltoolbar": "Slideshow",
  "kernelspec": {
   "display_name": "Python 3 (ipykernel)",
   "language": "python",
   "name": "python3"
  },
  "language_info": {
   "codemirror_mode": {
    "name": "ipython",
    "version": 3
   },
   "file_extension": ".py",
   "mimetype": "text/x-python",
   "name": "python",
   "nbconvert_exporter": "python",
   "pygments_lexer": "ipython3",
   "version": "3.12.4"
  }
 },
 "nbformat": 4,
 "nbformat_minor": 5
}
