{
 "cells": [
  {
   "cell_type": "markdown",
   "id": "16c271fd",
   "metadata": {
    "slideshow": {
     "slide_type": "slide"
    }
   },
   "source": [
    "# Introduction to Computer Programming\n",
    "\n",
    "## Variable Types: Integers and Floating Point\n",
    "\n",
    "<img src=\"https://github.com/engmaths/EMAT10007_2023/blob/main/weekly_content/img/full-colour-logo-UoB.png?raw=true\" width=\"20%\">\n",
    "</p>"
   ]
  },
  {
   "cell_type": "markdown",
   "id": "4dc545c5",
   "metadata": {
    "slideshow": {
     "slide_type": "slide"
    }
   },
   "source": [
    "# Integer (`int`)\n",
    "A whole number, with no decimal place"
   ]
  },
  {
   "cell_type": "code",
   "execution_count": 45,
   "id": "fcbe3bea",
   "metadata": {},
   "outputs": [
    {
     "data": {
      "text/plain": [
       "int"
      ]
     },
     "execution_count": 45,
     "metadata": {},
     "output_type": "execute_result"
    }
   ],
   "source": [
    "print(type(1))"
   ]
  },
  {
   "cell_type": "markdown",
   "id": "acc947c4",
   "metadata": {},
   "source": [
    "*The Python function `type()` returns the type of an object, or variable that points to an object, within the parentheses `(...)`*\n",
    "\n",
    "*The Python function `print()` displays whatever is between the parentheses `(...)`*\n",
    " "
   ]
  },
  {
   "cell_type": "code",
   "execution_count": 21,
   "id": "bdfd35fd",
   "metadata": {
    "slideshow": {
     "slide_type": "fragment"
    }
   },
   "outputs": [
    {
     "name": "stdout",
     "output_type": "stream",
     "text": [
      "1\n",
      "<class 'int'>\n"
     ]
    }
   ],
   "source": [
    "a = 1\n",
    "print(a)\n",
    "print(type(a))"
   ]
  },
  {
   "cell_type": "markdown",
   "id": "bdfe0312",
   "metadata": {
    "slideshow": {
     "slide_type": "slide"
    }
   },
   "source": [
    "# Floating point (`float`) \n",
    "A fractional number or a decimal number (consisting of a whole and a fractional part) "
   ]
  },
  {
   "cell_type": "code",
   "execution_count": 22,
   "id": "0a697789",
   "metadata": {},
   "outputs": [
    {
     "data": {
      "text/plain": [
       "float"
      ]
     },
     "execution_count": 22,
     "metadata": {},
     "output_type": "execute_result"
    }
   ],
   "source": [
    "print(type(1.0))"
   ]
  },
  {
   "cell_type": "code",
   "execution_count": 24,
   "id": "dd67d0fc",
   "metadata": {
    "slideshow": {
     "slide_type": "fragment"
    }
   },
   "outputs": [
    {
     "name": "stdout",
     "output_type": "stream",
     "text": [
      "1.0\n",
      "<class 'float'>\n"
     ]
    }
   ],
   "source": [
    "b = 1.0\n",
    "print(b)\n",
    "print(type(b))"
   ]
  },
  {
   "cell_type": "markdown",
   "id": "a1adc563",
   "metadata": {
    "slideshow": {
     "slide_type": "slide"
    }
   },
   "source": [
    "# Numerical value storage\n",
    "\n",
    "### Decimal numbers\n",
    "\n",
    "In daily life we mostly use the **decimal** or **base-10** number system.\n",
    "\n",
    "Each number is formed by finding the sum of base-10 numbers, each multiplied by a factor (0-9).\n",
    "\n",
    "Consider the number 104.02\n",
    "\n",
    "|  **Unit**               |  $10^2$ | $10^1$ | $10^0$  | $10^{-1}$ | $10^{-2}$ | \n",
    "| :----------     | :------ | :----- | :--     | :-----  | :------ |\n",
    "| **Value**| 100     |10      | 1       | 0.1     | 0.01    |    \n",
    "| **Factor**      | 1       | 0      | 4       | 0       | 2       |\n",
    "| **Total**       | 100     | 0      | 4       | 0       | 0.02    |\n",
    "\n",
    "Sum of columns = 100 + 4 + 0.02 = 104.02"
   ]
  },
  {
   "cell_type": "markdown",
   "id": "9db1a313",
   "metadata": {
    "slideshow": {
     "slide_type": "slide"
    }
   },
   "source": [
    "### Binary numbers\n",
    "\n",
    "Numbers are stored on a computer as **binary** or **base-2** numbers.\n",
    "\n",
    "Each number is formed by finding sum of base-2 numbers, each multiplied by a factor **1 or 0**.\n",
    "\n",
    "The factors are like \"on\" (1) and \"off\" (0) switches for the different columns\n",
    "\n",
    "Consider the number 25\n",
    "\n",
    "| **Unit**         |  $2^4$  | $2^3$  | $2^2$   | $2^1$   | $2^0$   | \n",
    "| :----------     | :------ | :----- | :------ | :-----  | :------ |\n",
    "| **Value**| 16      |8       | 4       | 2       | 1       |    \n",
    "| **Factor**      | 1       | 1      | 0       | 0       | 1       |\n",
    "| **Total**       | 16      | 8      | 0       | 0       | 1       |\n",
    "\n",
    "Sum of columns (bits) = 16 + 8 + 1 = 25\n",
    "\n",
    "A bit is the smallest unit of data that a computer can process and store"
   ]
  },
  {
   "cell_type": "markdown",
   "id": "9dfe2734",
   "metadata": {
    "slideshow": {
     "slide_type": "slide"
    }
   },
   "source": [
    "# Integer storage \n",
    "\n",
    "Itegers are stored as **signed** binary numbers. \n",
    "\n",
    "**Signed** means we can store both negative and positive values.\n",
    "\n",
    "For a given number of bits, the most significent bit (m.s.b) is negative.\n",
    "\n",
    "\n",
    "\n",
    "Consider the number - 10, represented using 5 columns (bits)\n",
    "\n",
    "| **Unit**        |  $-2^4$  | $2^3$  | $2^2$   | $2^1$   | $2^0$   | \n",
    "| :----------     | :------ | :----- | :------ | :-----  | :------ |\n",
    "| **Value**       | - 16      |8       | 4       | 2       | 1       |    \n",
    "| **Factor**      | 1       | 0      | 1       | 1       | 0       |\n",
    "| **Total**       | -16      | 0      | 4       | 2       | 0       |\n",
    "\n",
    "Sum of columns (bits) = -16 + 4 + 2 = -10\n"
   ]
  },
  {
   "cell_type": "markdown",
   "id": "ec2c4b68",
   "metadata": {
    "slideshow": {
     "slide_type": "slide"
    }
   },
   "source": [
    "\n",
    "\n",
    "Any integer (whole number) can be represented in binary form (if we have enough units/bits).\n",
    "\n",
    "Integer storage in Python does not place a limit on the number of bits that can be used to store a number. \n",
    "\n",
    "The upper limit on available bits to store an integer is determined by the amount of memory a computer system has."
   ]
  },
  {
   "cell_type": "markdown",
   "id": "4a05ffd7",
   "metadata": {
    "slideshow": {
     "slide_type": "slide"
    }
   },
   "source": [
    "# Fixed point storage\n",
    "\n",
    "To store fractional decimal numbers in binary, base-2 numbers with **negative exponents** are used. \n",
    "\n",
    "Consider the number 4.5 \n",
    "\n",
    "|                 |  $2^2$  | $2^1$  | $2^0$   | $2^{-1}$   | $2^{-2}$   | \n",
    "| :----------     | :------ | :----- | :------ | :-----   | :------  |\n",
    "| **Value**| 4       |2       | 1       | 0.5      | 0.25     |    \n",
    "| **Factor**      | 1       | 0      | 0       | 1        | 0        |\n",
    "| **Total**       | 4       | 0      | 0       | 0.5      | 0        |\n",
    "\n",
    "We can represent 4.5 exactly using the 5 columns shown here (5 bits). \n",
    "<br>Sum of columns = 4 + 0.5 = 4.5\n",
    "\n"
   ]
  },
  {
   "cell_type": "markdown",
   "id": "fa66deb5",
   "metadata": {
    "slideshow": {
     "slide_type": "slide"
    }
   },
   "source": [
    "\n",
    "\n",
    "Now consider the number 4.125\n",
    "\n",
    "|                 |  $2^2$  | $2^1$  | $2^0$   | $2^{-1}$   | $2^{-2}$   | \n",
    "| :----------     | :------ | :----- | :------ | :-----   | :------  |\n",
    "| **Value**| 4       |2       | 1       | 0.5      | 0.25     |    \n",
    "| **Factor**      | 1       | 0      | 0       | 0        | 1        |\n",
    "| **Total**       | 4       | 0      | 0       | 0      | 0.25        |\n",
    "\n",
    "\n",
    "We *can't* represent 4.125 exactly using 5 columns (5 bits) \n",
    "\n",
    "Closest estimate: 4.25 (shown in the table) or 4\n",
    "<br>(each result contains an error of 0.125)\n",
    "\n",
    "If we had an extra column (bit), $2^{-3}$ (0.125), we could represent the number exactly. "
   ]
  },
  {
   "cell_type": "markdown",
   "id": "76e9b7f0",
   "metadata": {
    "slideshow": {
     "slide_type": "slide"
    }
   },
   "source": [
    "Python does not place a limit on the number of bits that can be used to store an **integer**. \n",
    "\n",
    "However, in Python (and many other programming languages) __fractional numbers__ are stored on a computer using a fixed number of 64 bits\n",
    "\n",
    "This means we must use a *finite* number of bits to try and represent an *infinite* amount of numbers.\n",
    "\n",
    "Therefore many fractional floating point numbers can’t be represented exactly when stored in binary form."
   ]
  },
  {
   "cell_type": "markdown",
   "id": "ab5e5ea0",
   "metadata": {
    "slideshow": {
     "slide_type": "slide"
    }
   },
   "source": [
    "# Floating point numbers\n",
    "\n",
    "**Floating point** number storage is:\n",
    "- the system used to store binary numbers on a computer. \n",
    "- similar to *scientific notation* for decimal (base-10) values. \n",
    "\n",
    "$$ 1.234 \\times 10^0 = 1.234 $$\n",
    "$$ 1.234 \\times 10^1 = 12.34 $$\n",
    "$$ 1.234 \\times 10^2 = 123.4 $$"
   ]
  },
  {
   "cell_type": "markdown",
   "id": "b996d949",
   "metadata": {
    "slideshow": {
     "slide_type": "slide"
    }
   },
   "source": [
    "# Scientific notation\n",
    "The **mantissa** controls the *precision* of a number. \n",
    "<br>(normalised so that a maximum of 1 significant figure (s.f.) is to the left of the decimal point)\n",
    "\n",
    "The **exponent** controls the *order of magnitude* of the number.\n",
    "\n",
    "$$\n",
    "\\boxed{\\underbrace{M}_{mantissa} \\times \\underbrace{10}_{base}\\overbrace{^E}^{exponent}}\n",
    "$$\n",
    "\n",
    "<img src=\"https://github.com/engmaths/EMAT10007_2023/blob/main/weekly_content/img/denary_float_c.png?raw=true\" width=\"30%\">\n",
    "</p>\n",
    "<img src=\"https://github.com/engmaths/EMAT10007_2023/blob/main/weekly_content/img/denary_float_b.png?raw=true\" width=\"30%\">\n",
    "</p>\n",
    "<img src=\"https://github.com/engmaths/EMAT10007_2023/blob/main/weekly_content/img/denary_float_a.png?raw=true\" width=\"30%\">\n",
    "</p>\n",
    "\n",
    "\n",
    "\n",
    "\n",
    "\n",
    "\n",
    "\n"
   ]
  },
  {
   "cell_type": "markdown",
   "id": "a56aabcf",
   "metadata": {
    "slideshow": {
     "slide_type": "slide"
    }
   },
   "source": [
    "Consider what happens if we limit the number of bits in the mantissa (e.g. 4 bits, positive values) and the number of bits in the exponent (e.g. 1 bit).\n",
    "\n",
    "$$\n",
    "\\boxed{\\underbrace{M}_{mantissa} \\times \\underbrace{10}_{base}\\overbrace{^E}^{exponent}}\n",
    "$$\n",
    "\n",
    "The limitation means there are some numbers we can't represent\n",
    "\n",
    "**Examples**: Not enough bits in the mantissa and/or the exponent to represent the number.\n",
    "\n",
    "$1.5 \\times 10$ $\\color{red}{^{10}}$ &emsp; &emsp; &emsp; &emsp; &emsp; (Exponent can't be represented using 1 bit)\n",
    "\n",
    "$1 \\times 10$  $\\color{red}{^{-4}}$  (or $\\color{red}{0.0001}$)  &emsp; &nbsp; (Exponent can't be represented using 1 bit / mantissa can't be represented using 4 bits)\n",
    "\n",
    "$ \\color{red}{2.3456}$ &emsp; &emsp;  &emsp; &emsp; &emsp; &emsp; &nbsp; &nbsp;(Mantissa can't be represented using 4 bits)\n",
    "\n",
    "$ \\color{red}{123.45678}$ &emsp; &emsp;  &emsp; &emsp; &emsp;  (Mantissa can't be represented using 4 bits)\n",
    "\n",
    " \n",
    "      \n"
   ]
  },
  {
   "cell_type": "markdown",
   "id": "f2309dbf",
   "metadata": {
    "slideshow": {
     "slide_type": "slide"
    }
   },
   "source": [
    "# Floating point numbers\n",
    "\n",
    "Binary **floating point** number storage is similar to *scientific notation* for decimal (base-10) values, but with:\n",
    "- a *binary* **mantissa** (normalised so that a maximum of 1 significant figure (s.f.) is to the left of the decimal point) \n",
    "- a *binary* **exponent** (with no decimal point)\n",
    "- a **base** of 2\n",
    "\n",
    "\n",
    "$$\n",
    "\\boxed{\\underbrace{M}_{mantissa} \\times \\underbrace{2}_{base}\\overbrace{^E}^{exponent}}\n",
    "$$\n",
    "\n",
    "<img src=\"https://github.com/engmaths/EMAT10007_2023/blob/main/weekly_content/img/binary_float_b.png?raw=true\" width=\"40%\">\n",
    "\n",
    "<img src=\"https://github.com/engmaths/EMAT10007_2023/blob/main/weekly_content/img/binary_float_a.png?raw=true\" width=\"40%\">"
   ]
  },
  {
   "cell_type": "markdown",
   "id": "8540a3d3",
   "metadata": {
    "slideshow": {
     "slide_type": "slide"
    }
   },
   "source": [
    "Consider what happens if we limit the number of bits in the mantissa (e.g. 4 bits) and the number of bits in the exponent (e.g. 4 bits).\n",
    "\n",
    "$$\n",
    "\\boxed{\\underbrace{M}_{mantissa} \\times \\underbrace{2}_{base}\\overbrace{^E}^{exponent}}\n",
    "$$\n",
    "\n",
    "The limitation means there are some numbers we can't represent\n",
    "\n",
    "**Examples**: Not enough bits in the mantissa and/or the exponent to represent the number. \n",
    "\n",
    "<img src=\"https://github.com/engmaths/EMAT10007_2023/blob/main/weekly_content/img/impossible_mantissa_full.png?raw=true\" width=\"40%\">\n",
    "\n",
    "<img src=\"https://github.com/engmaths/EMAT10007_2023/blob/main/weekly_content/img/impossible_exponent_full.png?raw=true\" width=\"40%\">\n",
    "\n",
    "\n",
    "\n",
    "\n",
    "\n",
    "\n",
    "\n",
    "      \n"
   ]
  },
  {
   "cell_type": "markdown",
   "id": "5d76c875",
   "metadata": {
    "slideshow": {
     "slide_type": "slide"
    }
   },
   "source": [
    "Python `float` values are represented in 64-bit 'double-precision' format.\n",
    "\n",
    "In this format 53 bits are used for the mantissa and 11 bits for the exponent. \n",
    "\n",
    "(If you are curious, there is a link with more information about binary floating point numbers on the final slide)"
   ]
  },
  {
   "cell_type": "markdown",
   "id": "c738e2aa",
   "metadata": {
    "slideshow": {
     "slide_type": "slide"
    }
   },
   "source": [
    "# Floating point error\n",
    "\n",
    "The main concept to grasp:\n",
    "\n",
    "A limited number of bits leads to error in the stored represetation of a floating point number if there are not enough bits in the mantissa and/or the exponent to represent the number exactly.\n",
    " \n",
    "\n"
   ]
  },
  {
   "cell_type": "markdown",
   "id": "c1aea12e",
   "metadata": {
    "slideshow": {
     "slide_type": "slide"
    }
   },
   "source": [
    "# What does 'floating point' mean?\n",
    "\n",
    "\n",
    "$$\n",
    "\\boxed{\\underbrace{M}_{mantissa} \\times \\underbrace{10}_{base}\\overbrace{^E}^{exponent}}\n",
    "$$\n",
    "\n",
    "$$ 1.234 \\times 10^0 = 1.234 $$\n",
    "$$ 1.234 \\times 10^1 = 12.34 $$\n",
    "$$ 1.234 \\times 10^2 = 123.4 $$\n",
    "\n",
    "The exponent means that the decimal point can 'float' to different positions within the number, which is where the term 'floating point' comes from.  \n",
    "\n",
    "\n",
    "\n"
   ]
  },
  {
   "cell_type": "markdown",
   "id": "0751632b",
   "metadata": {
    "slideshow": {
     "slide_type": "slide"
    }
   },
   "source": [
    "When the Python function `print()` displays a value, the number of decimal places used to display the number is determined by number of decimal places used when the number is entered within the parentheses.\n"
   ]
  },
  {
   "cell_type": "code",
   "execution_count": 6,
   "id": "6eddbd28",
   "metadata": {
    "scrolled": true
   },
   "outputs": [
    {
     "name": "stdout",
     "output_type": "stream",
     "text": [
      "0.1\n"
     ]
    }
   ],
   "source": [
    "print(0.1)"
   ]
  },
  {
   "cell_type": "markdown",
   "id": "a32efe35-5b11-4ed6-be3a-b27a91143f1f",
   "metadata": {},
   "source": [
    "Remember, we only have 64 bits to store the number. This means our number can only be accurate to 17 d.p.\n",
    "\n",
    "To check how the number is stored in computer memory, we should display the number to 17 decimal places. "
   ]
  },
  {
   "cell_type": "markdown",
   "id": "e89b35a9",
   "metadata": {
    "slideshow": {
     "slide_type": "fragment"
    }
   },
   "source": [
    "The Python function `format()` displays the first value within the parentheses formatted using the second value within the parentheses. <br>`'.17f'`: displays a floating point number (`f`) to 17 decimal places (`.17f`)."
   ]
  },
  {
   "cell_type": "code",
   "execution_count": 26,
   "id": "3d53c023",
   "metadata": {
    "slideshow": {
     "slide_type": "-"
    }
   },
   "outputs": [
    {
     "data": {
      "text/plain": [
       "'0.10000000000000001'"
      ]
     },
     "execution_count": 26,
     "metadata": {},
     "output_type": "execute_result"
    }
   ],
   "source": [
    "format(0.1, '.17f') # value to 17 dp"
   ]
  },
  {
   "cell_type": "markdown",
   "id": "6fcb440a",
   "metadata": {
    "slideshow": {
     "slide_type": "fragment"
    }
   },
   "source": [
    "We can see that the stored value of `0.1` contains an error, which we refer to as **floating point error**.  \n",
    "\n",
    "However, because we have 64 bits to store the number, the difference between the true value and the stored value of the floating point number is small (in the order of 17 d.p. in this example). "
   ]
  },
  {
   "cell_type": "code",
   "execution_count": 7,
   "id": "91bebb8c",
   "metadata": {
    "slideshow": {
     "slide_type": "slide"
    }
   },
   "outputs": [
    {
     "name": "stdout",
     "output_type": "stream",
     "text": [
      "0.2\n"
     ]
    },
    {
     "data": {
      "text/plain": [
       "'0.20000000000000001'"
      ]
     },
     "execution_count": 7,
     "metadata": {},
     "output_type": "execute_result"
    }
   ],
   "source": [
    "print(0.2)\n",
    "\n",
    "format(0.2, '.17f')"
   ]
  },
  {
   "cell_type": "code",
   "execution_count": 29,
   "id": "7a8952aa",
   "metadata": {
    "slideshow": {
     "slide_type": "fragment"
    }
   },
   "outputs": [
    {
     "name": "stdout",
     "output_type": "stream",
     "text": [
      "0.3\n"
     ]
    },
    {
     "data": {
      "text/plain": [
       "'0.29999999999999999'"
      ]
     },
     "execution_count": 29,
     "metadata": {},
     "output_type": "execute_result"
    }
   ],
   "source": [
    "print(0.3)\n",
    "\n",
    "format(0.3, '.17f')"
   ]
  },
  {
   "cell_type": "markdown",
   "id": "2e0352ad",
   "metadata": {
    "slideshow": {
     "slide_type": "slide"
    }
   },
   "source": [
    "### Need to see some more examples? \n",
    "https://www.w3schools.com/python/python_variables.asp\n",
    "<br>https://www.geeksforgeeks.org/python-variables/\n",
    "\n",
    "### Want to take a quiz?\n",
    "https://realpython.com/quizzes/python-variables/\n",
    "<br>https://pynative.com/python-variables-and-data-types-quiz/\n",
    "\n",
    "### Want some more advanced information?\n",
    "**Objects and Types** \n",
    "<br>https://realpython.com/python-data-types/\n",
    "<br>https://realpython.com/python-variables/\n",
    "<br>https://pynative.com/python-variables/\n",
    "\n",
    "**Floating point numbers** \n",
    "<br>https://bteccomputing.co.uk/use-of-binary-to-represent-negative-and-floating-point-numbers/\n",
    "<br>https://www.youtube.com/watch?v=L8OYx1I8qNg"
   ]
  },
  {
   "cell_type": "code",
   "execution_count": null,
   "id": "6aef9984",
   "metadata": {},
   "outputs": [],
   "source": []
  }
 ],
 "metadata": {
  "celltoolbar": "Slideshow",
  "kernelspec": {
   "display_name": "Python 3 (ipykernel)",
   "language": "python",
   "name": "python3"
  },
  "language_info": {
   "codemirror_mode": {
    "name": "ipython",
    "version": 3
   },
   "file_extension": ".py",
   "mimetype": "text/x-python",
   "name": "python",
   "nbconvert_exporter": "python",
   "pygments_lexer": "ipython3",
   "version": "3.12.4"
  }
 },
 "nbformat": 4,
 "nbformat_minor": 5
}
