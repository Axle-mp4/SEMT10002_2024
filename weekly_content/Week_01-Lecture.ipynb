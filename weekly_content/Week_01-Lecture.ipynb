{
 "cells": [
  {
   "cell_type": "markdown",
   "id": "3122cada",
   "metadata": {
    "slideshow": {
     "slide_type": "slide"
    }
   },
   "source": [
    "# Computer Programming and Algorithms\n",
    "\n",
    "## Objects and Variables \n",
    "\n",
    "\n",
    "<img src=\"https://github.com/engmaths/EMAT10007_2023/blob/main/weekly_content/img/full-colour-logo-UoB.png?raw=true\" width=\"20%\">\n",
    "</p>"
   ]
  },
  {
   "cell_type": "markdown",
   "id": "f32e12cb",
   "metadata": {
    "slideshow": {
     "slide_type": "slide"
    }
   },
   "source": [
    "# Welcome!\n",
    "\n",
    "### Terms of engagement \n",
    "\n",
    "- Be respectful of each other (be aware there are different levels of experience in the room)\n",
    "- Be helpful to each other \n",
    "(explaining a concept to someone else is a great way to reinforce your own understanding)\n",
    "- Watch the videos before coming to the in-person lecture each week\n",
    "- Ask questions  \n",
    "- Attend \n",
    "    - in-person lecture\n",
    "    - lab\n",
    "    - lab support session \n",
    "- Sit in the same seat to help the TAs monitor your progress"
   ]
  },
  {
   "cell_type": "markdown",
   "id": "23d8408f",
   "metadata": {
    "slideshow": {
     "slide_type": "slide"
    }
   },
   "source": [
    "### Open the Google Colab notebook for this class\n",
    "\n",
    "Go to Google Colab in a web browser https://colab.research.google.com/\n",
    "\n",
    "Select File >> Open Notebook >> Github\n",
    "\n",
    "Under \"Enter a Github URL or search by organisation or user\", paste the link to this week's notebook (on blackboard)\n",
    "\n",
    "Fill in the empty cells during the in-class exercises\n"
   ]
  },
  {
   "cell_type": "markdown",
   "id": "31c4cdea",
   "metadata": {
    "slideshow": {
     "slide_type": "slide"
    }
   },
   "source": [
    "# Objects \n",
    " - Every item of data (numbers, text characters etc) in a Python program can be described by the term __object__\n",
    " - The type of an object determines what properties it has and how it can be used in the Python program"
   ]
  },
  {
   "cell_type": "code",
   "execution_count": 2,
   "id": "1e9bfdad",
   "metadata": {},
   "outputs": [
    {
     "data": {
      "text/plain": [
       "1.2"
      ]
     },
     "execution_count": 2,
     "metadata": {},
     "output_type": "execute_result"
    }
   ],
   "source": [
    "30\n",
    "'Python'\n",
    "1.2"
   ]
  },
  {
   "cell_type": "markdown",
   "id": "5ed5ec0c",
   "metadata": {
    "slideshow": {
     "slide_type": "slide"
    }
   },
   "source": [
    "# Variables and Variable Assignment\n",
    " - A variable is a name that refers or points to a particular object\n",
    " - By *assigning* an object to a variable, we allow it to be manipulated within the program, using the variable name\n",
    "- To create a variable, we simply assign it a value\n",
    "- Assignment is achieved with a single equals sign (`=`)\n",
    "\n",
    "<img src=\"https://github.com/engmaths/EMAT10007_2023/blob/main/weekly_content/img/assignment_b.png?raw=true\" width=\"20%\">\n",
    "</p>"
   ]
  },
  {
   "cell_type": "code",
   "execution_count": 17,
   "id": "3758c6fc",
   "metadata": {
    "scrolled": true
   },
   "outputs": [
    {
     "name": "stdout",
     "output_type": "stream",
     "text": [
      "4\n"
     ]
    }
   ],
   "source": [
    "b = 4\n",
    "\n",
    "print(b)"
   ]
  },
  {
   "cell_type": "markdown",
   "id": "5310d9cb",
   "metadata": {},
   "source": [
    "*The Python function `print()` displays whatever is between the parentheses `(...)`*"
   ]
  },
  {
   "cell_type": "markdown",
   "id": "4ff42900",
   "metadata": {
    "slideshow": {
     "slide_type": "slide"
    }
   },
   "source": [
    "# Type Conversion \n",
    "The value assigned a variable can be specified or converted by *casting* \n",
    "\n",
    "**Constructor functions** are used for casting. \n",
    "<br>The function name represents the desired data type.\n",
    "<br>The variable to be cast is included between the parentheses `()`\n",
    "\n",
    "\n",
    "\n",
    "\n"
   ]
  },
  {
   "cell_type": "markdown",
   "id": "ba5f404a",
   "metadata": {
    "slideshow": {
     "slide_type": "fragment"
    }
   },
   "source": [
    "***\n",
    "- `int()` - constructs an integer (e.g. from a float (by removing all decimals), or a string (the string must represent a whole number)\n",
    "- `float()` - constructs a float (e.g. from an integer, or a string (the string must represent a float or an integer)\n",
    "- `str()` - constructs a string (e.g. from an integer, float or Boolean)\n",
    "- `bool()` - constructs a Boolean (e.g. from an integer, float or string)"
   ]
  },
  {
   "cell_type": "markdown",
   "id": "1fbd7c3c",
   "metadata": {
    "slideshow": {
     "slide_type": "fragment"
    }
   },
   "source": [
    "***\n",
    "*A full list of possible type conversions can be found under 'Type Conversion' <br>(https://realpython.com/python-data-types/#type-conversion)*"
   ]
  },
  {
   "cell_type": "markdown",
   "id": "5b8bd015",
   "metadata": {
    "slideshow": {
     "slide_type": "slide"
    }
   },
   "source": [
    "# Example\n",
    "Convert a float to a) integer b) string"
   ]
  },
  {
   "cell_type": "code",
   "execution_count": 15,
   "id": "51d5b1d8",
   "metadata": {},
   "outputs": [
    {
     "name": "stdout",
     "output_type": "stream",
     "text": [
      "1\n",
      "1.2\n"
     ]
    }
   ],
   "source": [
    "a = 1.2\n",
    "\n",
    "b = int(a)\n",
    "print(b)\n",
    "\n",
    "c = str(a)\n",
    "print(c)\n"
   ]
  },
  {
   "cell_type": "markdown",
   "id": "076a783c",
   "metadata": {
    "slideshow": {
     "slide_type": "slide"
    }
   },
   "source": [
    "# Example\n",
    "\n",
    "Convert a string to a) integer b) float"
   ]
  },
  {
   "cell_type": "code",
   "execution_count": 23,
   "id": "422bd190",
   "metadata": {},
   "outputs": [
    {
     "name": "stdout",
     "output_type": "stream",
     "text": [
      "1\n",
      "1.2\n"
     ]
    }
   ],
   "source": [
    "a = '1'    # Note float string e.g. 1.2 can't convert to int \n",
    "b = int(a)\n",
    "print(b)\n",
    "\n",
    "\n",
    "a = '1.2'\n",
    "b = float(a)\n",
    "print(b)\n"
   ]
  },
  {
   "cell_type": "markdown",
   "id": "5a1591d9",
   "metadata": {
    "slideshow": {
     "slide_type": "slide"
    }
   },
   "source": [
    "# Example\n",
    "Convert from an integer to a) float b) string"
   ]
  },
  {
   "cell_type": "code",
   "execution_count": 25,
   "id": "07de5290",
   "metadata": {},
   "outputs": [
    {
     "name": "stdout",
     "output_type": "stream",
     "text": [
      "1.0\n",
      "1\n"
     ]
    }
   ],
   "source": [
    "a = 1\n",
    "\n",
    "b = float(a)\n",
    "print(b)\n",
    "\n",
    "c = str(a)\n",
    "print(c)"
   ]
  },
  {
   "cell_type": "markdown",
   "id": "8248978e",
   "metadata": {
    "slideshow": {
     "slide_type": "slide"
    }
   },
   "source": [
    "# Example\n",
    "Convert a) integer b) float c) string, to Boolean"
   ]
  },
  {
   "cell_type": "code",
   "execution_count": 26,
   "id": "fd91c60c",
   "metadata": {
    "scrolled": true
   },
   "outputs": [
    {
     "name": "stdout",
     "output_type": "stream",
     "text": [
      "True\n"
     ]
    }
   ],
   "source": [
    "a = 1\n",
    "b = 1.0\n",
    "c = '1'\n",
    "\n",
    "d = bool(a)\n",
    "\n",
    "print(d)"
   ]
  },
  {
   "cell_type": "markdown",
   "id": "a7696d1f",
   "metadata": {
    "slideshow": {
     "slide_type": "slide"
    }
   },
   "source": [
    "# Limits of floating point numbers\n",
    "\n",
    "The smallest positive nonzero number can be to stored as a floating point number is approximately 5.0 ⨉ 10-324. \n",
    "\n",
    "Values closer to zero are stored as zero.\n"
   ]
  },
  {
   "cell_type": "code",
   "execution_count": 10,
   "id": "d6ce3e59",
   "metadata": {},
   "outputs": [
    {
     "name": "stdout",
     "output_type": "stream",
     "text": [
      "5e-324\n",
      "5e-324\n",
      "0.0\n",
      "0.0\n"
     ]
    }
   ],
   "source": [
    "print(5e-324)\n",
    "print(3e-324)\n",
    "print(2e-324)\n",
    "print(1e-325)"
   ]
  },
  {
   "cell_type": "markdown",
   "id": "8e8cd753",
   "metadata": {
    "slideshow": {
     "slide_type": "fragment"
    }
   },
   "source": [
    "\n",
    "So the Boolean value of a number that is smaller than 5.0 ⨉ 10-324 is `False`"
   ]
  },
  {
   "cell_type": "code",
   "execution_count": 14,
   "id": "7abf6357",
   "metadata": {},
   "outputs": [
    {
     "name": "stdout",
     "output_type": "stream",
     "text": [
      "True\n",
      "False\n"
     ]
    }
   ],
   "source": [
    "print(bool(5e-324))\n",
    "print(bool(1e-325))"
   ]
  },
  {
   "cell_type": "markdown",
   "id": "a0db958a",
   "metadata": {
    "slideshow": {
     "slide_type": "slide"
    }
   },
   "source": [
    "# Boolean representations of other object types\n",
    "\n",
    "Outcomes when casting other object types as Boolean values:\n",
    "\n",
    "| Object type    | `True`           | `False`                |  \n",
    "| :--------------- | :--------------- | :---------------       |\n",
    "| `int`            | non-zero         |zero (`0`)              | \n",
    "| `float`          | non-zero         |zero (`0.0`)            |\n",
    "| `string`         | non-empty string |empty string (`''`)     | \n",
    "\n",
    " "
   ]
  },
  {
   "cell_type": "markdown",
   "id": "9fc1cb85",
   "metadata": {
    "slideshow": {
     "slide_type": "slide"
    }
   },
   "source": [
    "# Summary\n",
    " - Every __object__ has a type (`int`, `float`, `string`....).\n",
    " - A __variable__ is a name that refers or points to a particular object\n",
    " "
   ]
  },
  {
   "cell_type": "markdown",
   "id": "4eeaebbf",
   "metadata": {
    "slideshow": {
     "slide_type": "slide"
    }
   },
   "source": [
    "### Need to see some more examples? \n",
    "https://www.w3schools.com/python/python_variables.asp\n",
    "<br>https://www.geeksforgeeks.org/python-variables/\n",
    "\n",
    "### Want to take a quiz?\n",
    "https://realpython.com/quizzes/python-variables/\n",
    "<br>https://pynative.com/python-variables-and-data-types-quiz/\n",
    "\n",
    "\n",
    "### Want some more advanced information?\n",
    "https://realpython.com/python-data-types/\n",
    "<br>https://pynative.com/python-variables/\n"
   ]
  },
  {
   "cell_type": "markdown",
   "id": "14b08787",
   "metadata": {},
   "source": [
    "# Lab Exercises\n",
    "In these exercises, you will practise what you have learnt by writing and running Python code in two different environments"
   ]
  },
  {
   "cell_type": "markdown",
   "id": "05927a0d",
   "metadata": {},
   "source": [
    "Open a terminal \n",
    "\n",
    "<span style=\"color:red\">TODO: Instructions to open temrinal in Linux labs</span>"
   ]
  },
  {
   "cell_type": "markdown",
   "id": "5f370311",
   "metadata": {},
   "source": [
    "# Exercise 1 - Running code in a terminal\n",
    "\n",
    "In the terminal, create a variable `a` and assign it the integer value `1` by typing \n",
    "\n",
    "```python\n",
    "a = 1\n",
    "```\n",
    "\n",
    "Press enter\n",
    "\n",
    "***\n",
    "\n",
    "Now display the value of variable `a` by typing\n",
    "\n",
    "```python\n",
    "print(a)\n",
    "```\n",
    "\n",
    "and pressing enter"
   ]
  },
  {
   "cell_type": "markdown",
   "id": "9cc3db35",
   "metadata": {},
   "source": [
    "# Exercise 2 - Practise using the terminal\n",
    "In the terminal, complete the following:\n",
    "1. Create two variables, `a` and `b`, assign an integer value to each variable and print the value of each variable.\n",
    "1. Create two variables, `c` and `d`, assign a floating point value to each variable and print the value of each variable.\n",
    "1. Create a new variable, `e` and assign a string value to it\n",
    "1. Cast `c` as an integer and print the new value\n",
    "1. Cast `b` as a string and print the new value\n",
    "1. Cast `a` as a Boolean and print the new value\n",
    "1. Print the last character in the string value assigned to `e`"
   ]
  },
  {
   "cell_type": "markdown",
   "id": "64bf23ee",
   "metadata": {},
   "source": [
    "Open Sublime IDE \n",
    "\n",
    "<span style=\"color:red\">TODO: Instructions to open a new file in Sublime in Linux labs</span>"
   ]
  },
  {
   "cell_type": "markdown",
   "id": "6534bc60",
   "metadata": {},
   "source": [
    "# Exercise 3 - Running code in an IDE\n",
    "\n",
    "In the terminal, create a variable `a` and assign it the integer value `1` by typing \n",
    "\n",
    "```python\n",
    "a = 1\n",
    "```\n",
    "\n",
    "Press enter\n",
    "\n",
    "***\n",
    "\n",
    "Now display the value of variable `a` by typing\n",
    "\n",
    "```python\n",
    "print(a)\n",
    "```\n",
    "\n",
    "and pressing enter"
   ]
  },
  {
   "cell_type": "markdown",
   "id": "9ee31b8b",
   "metadata": {},
   "source": [
    "# Exercise 4 - Practise using an IDE\n",
    "\n",
    "In Sublime IDE, complete the following: \n",
    "<br>(the first three questions are the same as Exercise 2 for so you can compare the experience of writing this code in the two different environments):\n",
    "\n",
    "1. Create two variables, `a` and `b`, assign an integer value to each variable and print the value of each variable.\n",
    "1. Create two variables, `c` and `d`, assign a floating point value to each variable and print the value of each variable.\n",
    "1. Create a new variable, `e` and assign a string value to it\n",
    "1. Overwrite the value of `a` with the value 5 and print the new value \n",
    "1. Overwrite the value of `b` with a floating point value and print the new value\n",
    "1. Overwrite the value of `c` with a string value and print the new value  \n",
    "1. Print the first 2 characters in the string value assigned to `e`"
   ]
  },
  {
   "cell_type": "markdown",
   "id": "1e7c76a6",
   "metadata": {},
   "source": [
    "# Exercise 5 - Real world programming example\n",
    "## Storing variables to control a robot\n",
    "\n",
    "In Sublime IDE, define a set of variables that will be used to control a (simluated) robot \n",
    "\n",
    "1. Give the robot a name. Create a variable `name` and assign it a value. Choose a value and appropriate data type for the robot's name \n",
    "1. Create a variable `velocity_motor_1` and assign it the value 1.5\n",
    "1. Create a variable `velocity_motor_2` and assign it the value 0.5\n",
    "1. Create a variable `time`, representing the time since the start of the simulation in seconds. The value of will be updated every 1 second. Choose a value and appropriate data type to represent the time 10 seconds from the start of the simulation  and assign this value to the variable `time`\n",
    "1. Create a variables `status` and assign it a value. `status` indicates if the robot is powered on or powered off. It can therefore only take one of two possible values. Choose a value and appropriate data type to represent the robot with powered off status and assign this value to the variable `status`\n",
    "\n",
    "Comapre the variable types you chose with the person sitting next to you. \n",
    "<br>Why did you choose the variable types you used for each question? \n",
    "<br>Did the person next to you do anything differently and why? \n"
   ]
  },
  {
   "cell_type": "code",
   "execution_count": null,
   "id": "6fbf5659",
   "metadata": {},
   "outputs": [],
   "source": []
  }
 ],
 "metadata": {
  "celltoolbar": "Slideshow",
  "kernelspec": {
   "display_name": "Python 3 (ipykernel)",
   "language": "python",
   "name": "python3"
  },
  "language_info": {
   "codemirror_mode": {
    "name": "ipython",
    "version": 3
   },
   "file_extension": ".py",
   "mimetype": "text/x-python",
   "name": "python",
   "nbconvert_exporter": "python",
   "pygments_lexer": "ipython3",
   "version": "3.12.4"
  }
 },
 "nbformat": 4,
 "nbformat_minor": 5
}
