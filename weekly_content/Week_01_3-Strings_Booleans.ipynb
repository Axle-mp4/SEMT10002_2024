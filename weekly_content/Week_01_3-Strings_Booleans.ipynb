{
 "cells": [
  {
   "cell_type": "markdown",
   "id": "16c271fd",
   "metadata": {
    "slideshow": {
     "slide_type": "slide"
    }
   },
   "source": [
    "# Introduction to Computer Programming\n",
    "\n",
    "## Variable Types: Strings and Booleans\n",
    "\n",
    "<img src=\"https://github.com/engmaths/EMAT10007_2023/blob/main/weekly_content/img/full-colour-logo-UoB.png?raw=true\" width=\"20%\">\n",
    "</p>"
   ]
  },
  {
   "cell_type": "markdown",
   "id": "27ee123f",
   "metadata": {
    "slideshow": {
     "slide_type": "slide"
    }
   },
   "source": [
    "# String (`str`)\n",
    "A collection of characters (alphabetical, numerical, or other e.g. punctuation)"
   ]
  },
  {
   "cell_type": "code",
   "execution_count": 30,
   "id": "a1b53375",
   "metadata": {
    "slideshow": {
     "slide_type": "-"
    }
   },
   "outputs": [
    {
     "name": "stdout",
     "output_type": "stream",
     "text": [
      "<class 'str'>\n",
      "<class 'str'>\n",
      "<class 'str'>\n"
     ]
    }
   ],
   "source": [
    "c = \"10\"\n",
    "d = 'python 3'\n",
    "e = 'hello world!'\n",
    "\n",
    "print(type(c))\n",
    "print(type(d))\n",
    "print(type(e))"
   ]
  },
  {
   "cell_type": "markdown",
   "id": "22f4d2d2",
   "metadata": {
    "slideshow": {
     "slide_type": "fragment"
    }
   },
   "source": [
    "A collection of characters is a string if it is enclosed within single (`'...'`) or double (`\"...\"`) quotation marks.  "
   ]
  },
  {
   "cell_type": "markdown",
   "id": "fc04d9b8",
   "metadata": {
    "slideshow": {
     "slide_type": "slide"
    }
   },
   "source": [
    "Unlike numerical data, `strings` are **subscriptable**\n",
    "\n",
    "This means that each character of the string has an **index** that can be used to access it \n",
    "\n",
    "Characters are **indexed** with integer values, starting from 0\n",
    "\n",
    "We can return the Nth character of a string with `string_name[N]`\n",
    "\n",
    "We can return the characters between element N and element M with `string_name[N:M]`"
   ]
  },
  {
   "cell_type": "markdown",
   "id": "05630558",
   "metadata": {
    "slideshow": {
     "slide_type": "slide"
    }
   },
   "source": [
    "Print the first letter of x\n"
   ]
  },
  {
   "cell_type": "code",
   "execution_count": 31,
   "id": "6a76bc1f",
   "metadata": {},
   "outputs": [
    {
     "name": "stdout",
     "output_type": "stream",
     "text": [
      "H\n"
     ]
    }
   ],
   "source": [
    "x = 'Hello'\n",
    "\n",
    "print(x[0])"
   ]
  },
  {
   "cell_type": "markdown",
   "id": "8b5d814f",
   "metadata": {
    "slideshow": {
     "slide_type": "fragment"
    }
   },
   "source": [
    "Print the last letter of x\n"
   ]
  },
  {
   "cell_type": "code",
   "execution_count": 34,
   "id": "2b89d945",
   "metadata": {
    "slideshow": {
     "slide_type": "-"
    }
   },
   "outputs": [
    {
     "name": "stdout",
     "output_type": "stream",
     "text": [
      "o\n",
      "o\n"
     ]
    }
   ],
   "source": [
    "print(x[4])\n",
    "print(x[-1])"
   ]
  },
  {
   "cell_type": "markdown",
   "id": "12ba6d14",
   "metadata": {
    "slideshow": {
     "slide_type": "slide"
    }
   },
   "source": [
    "\n",
    "Print the first 3 letters of x"
   ]
  },
  {
   "cell_type": "code",
   "execution_count": 37,
   "id": "10f3168a",
   "metadata": {
    "slideshow": {
     "slide_type": "-"
    }
   },
   "outputs": [
    {
     "name": "stdout",
     "output_type": "stream",
     "text": [
      "Hel\n",
      "Hel\n"
     ]
    }
   ],
   "source": [
    "x = 'Hello'\n",
    "print(x[0:3])\n",
    "print(x[:3])\n"
   ]
  },
  {
   "cell_type": "markdown",
   "id": "0118975e",
   "metadata": {
    "slideshow": {
     "slide_type": "fragment"
    }
   },
   "source": [
    "\n",
    "Print the last 3 letters of x"
   ]
  },
  {
   "cell_type": "code",
   "execution_count": 44,
   "id": "fc497c48",
   "metadata": {
    "slideshow": {
     "slide_type": "-"
    }
   },
   "outputs": [
    {
     "name": "stdout",
     "output_type": "stream",
     "text": [
      "llo\n",
      "llo\n"
     ]
    }
   ],
   "source": [
    "print(x[2:5])\n",
    "print(x[-3:])"
   ]
  },
  {
   "cell_type": "markdown",
   "id": "8e86403b",
   "metadata": {
    "slideshow": {
     "slide_type": "slide"
    }
   },
   "source": [
    "There are a number of operations that can be performed on a `string`\n",
    "\n",
    "These are known as **methods**\n",
    "\n",
    "The method is used on a variable by placing the method name after the variable name, seperated by a dot/period/point `.`\n",
    "\n",
    "A full list of string methods can be found here:\n",
    "https://www.w3schools.com/python/python_ref_string.asp\n",
    "\n",
    "Examples:\n",
    " - `upper` (converts string to upper case letters)\n",
    " - `find` (finds index of first ocurance of a specific character)\n",
    "\n"
   ]
  },
  {
   "cell_type": "code",
   "execution_count": 42,
   "id": "c828c8a6",
   "metadata": {},
   "outputs": [
    {
     "name": "stdout",
     "output_type": "stream",
     "text": [
      "HELLO\n"
     ]
    }
   ],
   "source": [
    "x = 'hello'\n",
    "y = x.upper()\n",
    "print(y)"
   ]
  },
  {
   "cell_type": "code",
   "execution_count": 43,
   "id": "dda72fac",
   "metadata": {},
   "outputs": [
    {
     "name": "stdout",
     "output_type": "stream",
     "text": [
      "2\n"
     ]
    }
   ],
   "source": [
    "z = x.find('l')\n",
    "print(z)"
   ]
  },
  {
   "cell_type": "markdown",
   "id": "cf40bd53",
   "metadata": {
    "slideshow": {
     "slide_type": "slide"
    }
   },
   "source": [
    "# Boolean (`bool`)\n",
    "Binary True or False values "
   ]
  },
  {
   "cell_type": "code",
   "execution_count": 4,
   "id": "9ffc41b1",
   "metadata": {
    "slideshow": {
     "slide_type": "-"
    }
   },
   "outputs": [
    {
     "name": "stdout",
     "output_type": "stream",
     "text": [
      "True <class 'bool'>\n"
     ]
    }
   ],
   "source": [
    "f = True\n",
    "g = False\n",
    "\n",
    "print(type(f))\n",
    "print(type(g))"
   ]
  },
  {
   "cell_type": "markdown",
   "id": "2e0352ad",
   "metadata": {
    "slideshow": {
     "slide_type": "slide"
    }
   },
   "source": [
    "### Need to see some more examples? \n",
    "https://www.w3schools.com/python/python_variables.asp\n",
    "<br>https://www.geeksforgeeks.org/python-variables/\n",
    "\n",
    "### Want to take a quiz?\n",
    "https://realpython.com/quizzes/python-variables/\n",
    "<br>https://pynative.com/python-variables-and-data-types-quiz/\n",
    "\n",
    "### Want some more advanced information?\n",
    "**Objects and Types** \n",
    "<br>https://realpython.com/python-data-types/\n",
    "<br>https://realpython.com/python-variables/\n",
    "<br>https://pynative.com/python-variables/\n",
    "\n",
    "**Floating point numbers** \n",
    "<br>https://bteccomputing.co.uk/use-of-binary-to-represent-negative-and-floating-point-numbers/\n",
    "<br>https://www.youtube.com/watch?v=L8OYx1I8qNg"
   ]
  },
  {
   "cell_type": "code",
   "execution_count": null,
   "id": "6aef9984",
   "metadata": {},
   "outputs": [],
   "source": []
  }
 ],
 "metadata": {
  "celltoolbar": "Slideshow",
  "kernelspec": {
   "display_name": "Python 3 (ipykernel)",
   "language": "python",
   "name": "python3"
  },
  "language_info": {
   "codemirror_mode": {
    "name": "ipython",
    "version": 3
   },
   "file_extension": ".py",
   "mimetype": "text/x-python",
   "name": "python",
   "nbconvert_exporter": "python",
   "pygments_lexer": "ipython3",
   "version": "3.11.4"
  }
 },
 "nbformat": 4,
 "nbformat_minor": 5
}
